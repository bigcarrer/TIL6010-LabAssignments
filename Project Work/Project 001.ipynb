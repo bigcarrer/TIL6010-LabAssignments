{
 "cells": [
  {
   "cell_type": "markdown",
   "metadata": {},
   "source": [
    "1. The comparison between emission/person produced by commercial flight and private jet\n",
    "2. The effect of Russo-Ukrainian war to whatever\n",
    "3. The comparison between hosuing supply and demand in The Netherlands\n",
    "4. The last-mile delivery emission\n",
    "5. The impact of joining EU\n",
    "6. The impact of brexit the the national trade between EU the U\n"
   ]
  },
  {
   "cell_type": "code",
   "execution_count": null,
   "metadata": {},
   "outputs": [],
   "source": [
    "import pandas as pd"
   ]
  },
  {
   "cell_type": "code",
   "execution_count": null,
   "metadata": {},
   "outputs": [],
   "source": [
    "df = pd.read_csv(\"ITF_INV-MTN_DATA-2020-1-EN-20210306T100042.csv\")\n",
    "df"
   ]
  }
 ],
 "metadata": {
  "kernelspec": {
   "display_name": "Python 3.10.6 64-bit",
   "language": "python",
   "name": "python3"
  },
  "language_info": {
   "name": "python",
   "version": "3.10.6"
  },
  "orig_nbformat": 4,
  "vscode": {
   "interpreter": {
    "hash": "2e94868d36255604da0ad9f4a90b329c92e619afb04c3f6e88cdd24cf582b2dc"
   }
  }
 },
 "nbformat": 4,
 "nbformat_minor": 2
}
