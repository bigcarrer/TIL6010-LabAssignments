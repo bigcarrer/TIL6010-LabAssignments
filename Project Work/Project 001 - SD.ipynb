{
 "cells": [
  {
   "cell_type": "markdown",
   "metadata": {},
   "source": [
    "1. The comparison between emission/person produced by commercial flight and private jet\n",
    "2. The effect of Russo-Ukrainian war to whatever\n",
    "3. The comparison between hosuing supply and demand in The Netherlands\n",
    "4. The last-mile delivery emission\n",
    "5. The impact of joining EU\n",
    "6. The impact of brexit the the national trade between EU the U\n"
   ]
  },
  {
   "cell_type": "code",
   "execution_count": null,
   "metadata": {},
   "outputs": [],
   "source": [
    "import pandas as pd"
   ]
  },
  {
   "cell_type": "code",
   "execution_count": null,
   "metadata": {},
   "outputs": [],
   "source": [
    "# import\n",
    "df = pd.read_csv(\"ITF_INV-MTN_DATA-2020-1-EN-20210306T100042.csv\")\n",
    "\n",
    "\n"
   ]
  },
  {
   "cell_type": "code",
   "execution_count": null,
   "metadata": {},
   "outputs": [],
   "source": [
    "file_path = 'C:/Users/alain/Desktop/TIL Programming Project/ITF_INDICATORS-2021-1-EN-20220628T114635.csv'\n",
    "df = pd.read_csv(file_path, sep=',', encoding='latin-1')\n",
    "df\n",
    "\n",
    "KPI = df['Indicator'].unique()\n",
    "KPI"
   ]
  }
 ],
 "metadata": {
  "kernelspec": {
   "display_name": "Python 3.7.13 ('TIL6022')",
   "language": "python",
   "name": "python3"
  },
  "language_info": {
   "name": "python",
   "version": "3.7.13"
  },
  "orig_nbformat": 4,
  "vscode": {
   "interpreter": {
    "hash": "7984eb9597c020d7c73bc8ce70897106b9ed8dd2aa3c22da9a4fb373233bfeb9"
   }
  }
 },
 "nbformat": 4,
 "nbformat_minor": 2
}
