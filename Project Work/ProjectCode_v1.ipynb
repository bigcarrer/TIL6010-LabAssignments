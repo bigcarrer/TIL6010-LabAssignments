{
 "cells": [
  {
   "cell_type": "code",
   "execution_count": 1,
   "metadata": {},
   "outputs": [],
   "source": [
    "import pandas as pd"
   ]
  },
  {
   "cell_type": "code",
   "execution_count": 6,
   "metadata": {},
   "outputs": [
    {
     "data": {
      "text/plain": [
       "array(['Density of rail lines (km per one hundred sq. km)',\n",
       "       'Airports per one hundred thousand sq. km',\n",
       "       'Airports per one million inhabitants',\n",
       "       'Total inland transport infrastructure investment per GDP',\n",
       "       'Rail infrastructure investment per GDP',\n",
       "       'Road infrastructure investment per GDP',\n",
       "       'Inland waterways infrastructure investment per GDP',\n",
       "       'Total inland transport infrastructure investment in constant USD per inhabitant',\n",
       "       'Rail transport infrastructure investment in constant USD per inhabitant',\n",
       "       'Road transport infrastructure investment in constant USD per inhabitant',\n",
       "       'Inland waterways transport infrastructure investment in constant USD per inhabitant',\n",
       "       'Share of rail infrastructure investment in total inland transport infrastructure investment',\n",
       "       'Share of road infrastructure investment in total inland transport infrastructure investment',\n",
       "       'Share of inland waterways infrastructure investment in total inland transport infrastructure investment',\n",
       "       'Share of road infrastructure maintenance in total road infrastructure spending',\n",
       "       'Rail freight loading capacity per one million units of current USD GDP',\n",
       "       'Rail freight loading capacity per one thousand inhabitants',\n",
       "       'Available seat capacity for scheduled flight per one thousand units of current USD GDP',\n",
       "       'Available seat capacity for scheduled flight per one thousand inhabitants',\n",
       "       'Total inland freight transport in tonne-km per one thousand units of current USD GDP',\n",
       "       'Rail freight transport in tonne-km per one thousand units of current USD GDP',\n",
       "       'Road freight transport in tonne-km per one thousand units of current USD GDP',\n",
       "       'Inland waterways freight transport in tonne-km per one thousand units of current USD GDP',\n",
       "       'Pipeline transport in tonne-km per one thousand units of current USD GDP',\n",
       "       'Share of rail freight transport in total inland freight transport',\n",
       "       'Share of road freight transport in total inland freight transport',\n",
       "       'Share of inland waterways freight transport in total inland freight transport',\n",
       "       'Share of pipeline transport in total inland freight transport',\n",
       "       'Air freight transport in tonne-km per one thousand units of current USD GDP',\n",
       "       'Total inland passenger transport in passenger-km per one thousand units of current USD GDP',\n",
       "       'Rail passenger transport in passenger-km per one thousand units of current USD GDP',\n",
       "       'Road passenger transport in passenger-km per one thousand units of current USD GDP',\n",
       "       'Share of rail passenger transport in total inland passenger transport',\n",
       "       'Share of road passenger transport in total inland passenger transport',\n",
       "       'Share of passenger transport by passenger car in total road passenger transport',\n",
       "       'Air passenger transport per one thousand units of current USD GDP',\n",
       "       'Share of value added by the transport sector',\n",
       "       'Road fatalities per one million inhabitants',\n",
       "       'CO2 emissions from transport in tonnes per one million units of current USD GDP',\n",
       "       'CO2 emissions from transport in tonnes per inhabitant',\n",
       "       'Share of CO2 emissions from transport in total CO2 emissions',\n",
       "       'Share of CO2 emissions from road in total CO2 emissions from transport',\n",
       "       'Share of CO2 emissions from rail in total CO2 emissions from transport',\n",
       "       'Share of CO2 emissions from international maritime bunkers in total CO2 emissions',\n",
       "       'Share of CO2 emissions from international aviation bunkers in total CO2 emissions',\n",
       "       'Share of electrified rail lines in total rail network',\n",
       "       'Motor fuel deliveries in tonnes per one million units of current USD GDP',\n",
       "       'Motor fuel deliveries in tonnes per inhabitant',\n",
       "       'Density of road (km per one hundred sq. km)',\n",
       "       'Share of urban roads in total road network',\n",
       "       'Road motor vehicles per one million units of current USD GDP',\n",
       "       'Passenger cars per one million units of current USD GDP',\n",
       "       'Motorcycles per one million units of current USD GDP',\n",
       "       'Goods road motor vehicles per one million units of current USD GDP',\n",
       "       'Road motor vehicles per one thousand inhabitants',\n",
       "       'Passenger cars per one thousand inhabitants',\n",
       "       'Motorcycles per one thousand inhabitants',\n",
       "       'Goods road motor vehicles per one thousand inhabitants',\n",
       "       'Share of passenger cars in total road motor vehicles',\n",
       "       'Share of motorcycles in total road motor vehicles',\n",
       "       'Share of goods road motor vehicles in total road motor vehicles',\n",
       "       'First registrations of brand new road vehicles per one million units of current USD GDP',\n",
       "       'First registrations of brand new passenger cars per one million units of current USD GDP',\n",
       "       'First registrations of brand new goods vehicles per one million units of current USD GDP',\n",
       "       'First registrations of brand new road vehicles per one thousand inhabitants',\n",
       "       'First registrations of brand new passenger cars per one thousand inhabitants',\n",
       "       'First registrations of brand new goods vehicles per one thousand inhabitants',\n",
       "       'Share of first registrations of brand new passenger cars in first registration of brand new road vehicles',\n",
       "       'Share of first registrations of brand new goods vehicles in first registration of brand new road vehicles',\n",
       "       'Road traffic in vehicle-km per one thousand units of current USD GDP',\n",
       "       'Road traffic in thousand vehicle-km per road motor vehicle',\n",
       "       'Share of household expenditure for transport in total household expenditure',\n",
       "       'Share of household expenditure for purchase of vehicles in total household expenditure for transport',\n",
       "       'Share of household expenditure for operation of personal transport equipment in total household expenditure for transport',\n",
       "       'Share of household expenditure for transport services in total household expenditure for transport',\n",
       "       'Share of employment in the transport sector',\n",
       "       'Road fatalities per one million road motor vehicles',\n",
       "       'Road fatalities per one million vehicle-km',\n",
       "       'Share of CO2 emissions from domestic aviation in total CO2 emissions from transport',\n",
       "       'Share of CO2 emissions from pipeline transport in total CO2 emissions from transport',\n",
       "       'Motor fuel deliveries in tonnes per road motor vehicle',\n",
       "       'Share of motorways in total road network',\n",
       "       'Share of high-speed rail lines in total rail network',\n",
       "       'Share of international seats-km in total seats-km',\n",
       "       'Domestic seats-km per one thousand units of current USD GDP',\n",
       "       'International seats-km per one thousand units of current USD GDP',\n",
       "       'Share of CO2 emissions from navigation in total CO2 emissions from transport'],\n",
       "      dtype=object)"
      ]
     },
     "execution_count": 6,
     "metadata": {},
     "output_type": "execute_result"
    }
   ],
   "source": [
    "# import\n",
    "file_path = 'C:/Users/alain/Desktop/TIL Programming Project/ITF_INDICATORS-2021-1-EN-20220628T114635.csv'\n",
    "df = pd.read_csv(file_path, sep=',', encoding='latin-1')\n",
    "df\n",
    "\n",
    "KPI = df['Indicator'].unique()\n",
    "KPI\n",
    "\n"
   ]
  }
 ],
 "metadata": {
  "kernelspec": {
   "display_name": "Python 3.7.13 ('TIL6022')",
   "language": "python",
   "name": "python3"
  },
  "language_info": {
   "codemirror_mode": {
    "name": "ipython",
    "version": 3
   },
   "file_extension": ".py",
   "mimetype": "text/x-python",
   "name": "python",
   "nbconvert_exporter": "python",
   "pygments_lexer": "ipython3",
   "version": "3.7.13"
  },
  "orig_nbformat": 4,
  "vscode": {
   "interpreter": {
    "hash": "7984eb9597c020d7c73bc8ce70897106b9ed8dd2aa3c22da9a4fb373233bfeb9"
   }
  }
 },
 "nbformat": 4,
 "nbformat_minor": 2
}
