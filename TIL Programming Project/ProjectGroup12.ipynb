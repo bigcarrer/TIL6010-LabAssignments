{
 "cells": [
  {
   "cell_type": "markdown",
   "metadata": {},
   "source": [
    "# Project Group - 12\n",
    "\n",
    "Members: Inez / Muhammad Satrya Dewantara / Mateo Menoury / Lia Kondova / Alain Carrer \n",
    "\n",
    "Student numbers: 5736412 / 4861159 / 5839505 / 5838185 / 5851416"
   ]
  },
  {
   "cell_type": "markdown",
   "metadata": {},
   "source": [
    "# Research Objective\n",
    "\n",
    "*Requires data modeling and quantitative research in Transport, Infrastructure & Logistics*"
   ]
  },
  {
   "cell_type": "markdown",
   "metadata": {},
   "source": [
    "Reveal relationship between the Brexit and the international trade between the EU and the UK"
   ]
  },
  {
   "cell_type": "markdown",
   "metadata": {},
   "source": [
    "# Scale\n",
    "\n",
    "Time scale : 2013 - 2021\n",
    "\n",
    "Spatial scale : The United Kingdom and the European Union countries"
   ]
  },
  {
   "cell_type": "markdown",
   "metadata": {},
   "source": [
    "# Contribution Statement\n",
    "\n",
    "*Be specific. Some of the tasks can be coding (expect everyone to do this), background research, conceptualisation, visualisation, data analysis, data modelling*"
   ]
  },
  {
   "cell_type": "markdown",
   "metadata": {},
   "source": [
    "**Author 1**:\n",
    "\n",
    "**Author 2**:\n",
    "\n",
    "**Author 3**:"
   ]
  },
  {
   "cell_type": "markdown",
   "metadata": {},
   "source": [
    "# Data Used"
   ]
  },
  {
   "cell_type": "markdown",
   "metadata": {},
   "source": [
    "International goods transport: \n",
    "\n",
    "https://www.oecd-ilibrary.org/transport/data/itf-transport-statistics/goods-transport_g2g5557d-en?parentId=http%3A%2F%2Finstance.metastore.ingenta.com%2Fcontent%2Fcollection%2Ftrsprt-data-en\n",
    "\n",
    "Transport performance indicators:\n",
    "\n",
    "https://www.oecd-ilibrary.org/transport/data/itf-transport-statistics/transport-performance-indicators-edition-2021_c777466a-en \n",
    "\n",
    "Extra-EU trade by partner:\n",
    "\n",
    "https://ec.europa.eu/eurostat/databrowser/view/ext_lt_maineu/default/table?lang=en\n",
    "\n",
    "Waterborne Freight Data: \n",
    "\n",
    "https://www.gov.uk/government/statistical-data-sets/port-and-domestic-waterborne-freight-statistics-port\n"
   ]
  },
  {
   "cell_type": "markdown",
   "metadata": {},
   "source": [
    "# Data Pipeline"
   ]
  },
  {
   "cell_type": "markdown",
   "metadata": {},
   "source": []
  }
 ],
 "metadata": {
  "kernelspec": {
   "display_name": "Python 3.7.13 ('TIL6022')",
   "language": "python",
   "name": "python3"
  },
  "language_info": {
   "name": "python",
   "version": "3.7.13"
  },
  "orig_nbformat": 4,
  "vscode": {
   "interpreter": {
    "hash": "7984eb9597c020d7c73bc8ce70897106b9ed8dd2aa3c22da9a4fb373233bfeb9"
   }
  }
 },
 "nbformat": 4,
 "nbformat_minor": 2
}
