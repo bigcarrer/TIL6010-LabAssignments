{
 "cells": [
  {
   "cell_type": "markdown",
   "metadata": {},
   "source": [
    "# 0. Project Group - 12\n",
    "\n",
    "Members & student number: \n",
    "\n",
    "Alain Carrer - 5851416 \n",
    "\n",
    "Inez - 5736412\n",
    "\n",
    "Lia Kondova - 5838185\n",
    "\n",
    "Mateo Menoury - 5839505\n",
    "\n",
    "Muhammad Satrya Dewantara - 4861159"
   ]
  },
  {
   "cell_type": "markdown",
   "metadata": {},
   "source": [
    "# 1. Research Objective\n",
    "\n",
    "The project's objective is to reveal the relationship and effect of Brexit to international trade between Eurpean Union countries and United Kingdom with timescale from 2013 to 2021. "
   ]
  },
  {
   "cell_type": "markdown",
   "metadata": {},
   "source": [
    "# 2. Research Questions\n",
    "\n",
    "**Main research question:**\n",
    "How does Brexit affect the international trade between the United Kingdom and European Union?\n",
    "\n",
    "**Sub research questions:**\n",
    "1. How does Brexit affect UK's sea trade with EU?\n",
    "2. How does Brexit affect UK's railway trade with EU?\n"
   ]
  },
  {
   "cell_type": "markdown",
   "metadata": {},
   "source": [
    "# 3. Contribution Statement\n",
    "\n",
    "*Be specific. Some of the tasks can be coding (expect everyone to do this), background research, conceptualisation, visualisation, data analysis, data modelling*"
   ]
  },
  {
   "cell_type": "markdown",
   "metadata": {},
   "source": [
    "**Alain Carrer**: Trade of goods by railway (data extraction and visualization)\n",
    "\n",
    "**Inez**: Different effect of Covid and Brexit in international trade\n",
    "\n",
    "**Lia Kondova**: Background research on the different effects Brexit has on transporting goods between the UK and EU via different transport modes; conceptualization; research on relevant data sources that could be used (also finding one of the main ones used for this project); partial report writing and editing\n",
    "\n",
    "**Matéo Ménoury**: Part 7 - Interactive map of trade balance between the UK and EU countries\n",
    "\n",
    "**Muhammad Satrya Dewantara**: UK sea trade, Trades between UK and EU, UK trade growth rate, UK trade proportion, UK-EU trade by cargo group"
   ]
  },
  {
   "cell_type": "markdown",
   "metadata": {},
   "source": [
    "# 4. Data Used"
   ]
  },
  {
   "cell_type": "markdown",
   "metadata": {},
   "source": [
    "Data source to analyse the different effect of covid and brexit in international trade of goods: The data contains import and export of each country in percentage change compared to the previous period. The data of trade percentage of United Kingdom per year is compared to the average trade percentage of all countries. The data source can be found at:\n",
    "https://data.oecd.org/trade/trade-in-goods.htm\n",
    "\n",
    "\n",
    "The data used for the part 7 are from the British Office for National Statistics. They provide the annual, quarterly and monthly goods export and import figures for all countries with the UK. The data source can be found at:\n",
    "https://www.ons.gov.uk/economy/nationalaccounts/balanceofpayments/datasets/uktradeallcountriesseasonallyadjusted\n",
    "\n"
   ]
  },
  {
   "cell_type": "markdown",
   "metadata": {},
   "source": [
    "# 5. Data Pipeline"
   ]
  },
  {
   "cell_type": "markdown",
   "metadata": {},
   "source": [
    "Britain Exit or generally known as Brexit refers to the withdrawal of the United Kingdom (UK) from the European Union (EU), which happened on 31st January 2020 at 23:00 GMT. \n",
    "\n",
    "This exit from the EU had tremendous consequences for the UK in terms of the trade of goods, among other aspects. Such a consequence was the \"steep decline\" in the number of trading relationships Britain has with the EU block. This was a particularly serious consequence for smaller companies, as they struggled to absorb custom controls, VAT and regulatory red tape. In other words - smaller firms did not have the money, time or logistical capacity to set up within the EU, and were therefore hit the hardest. Moreover, it even appeared that after 2021, the UK just stopped selling a lot of porducts to smaller countries in the EU (https://www.ft.com/content/b0860ee6-e06e-4fc4-bd87-d56dcc7ee946).\n",
    "\n",
    "Overall, the exports from UK to the EU declined by nearly 14% in 2021, compared with 2020 (https://www.theguardian.com/politics/2022/jun/30/brexit-uk-exports-fall-eu-goods-services#:~:text=The%20UK's%20decision%20to%20choose,%E2%80%93%20a%20drop%20of%2013.6%25). The count of UK exporters and importers also started declining after 2020 (https://assets.publishing.service.gov.uk/government/uploads/system/uploads/attachment_data/file/1033099/IDBR_OTS_2020.pdf).\n",
    "\n"
   ]
  },
  {
   "cell_type": "markdown",
   "metadata": {},
   "source": [
    "However, at the same time when the Brexit was issued, the Covid-19 virus was speading fast worldwide. It affected every part of \"normal life\", including the trade of goods internationally. And since Brexit and Covid-19 were happening alsmost simultaneously, analysing the change of trade before and after Brexit might have a bias due to the influence of Covid-19.\n",
    "\n",
    "Therefore, it is important to determine whether there is any difference in international trade due to Brexit and Covid-19. The difference is analysed by taking the average of the world's international trade percentage and comparing it with UK's trade percentage. Such approach is chosen because Covid-19 has affected the whole world while Brexit has mainly affect UK's trade. If there is any difference observed, it can be concluded that Brexit has influence in the trade.\n",
    "\n",
    "Further, since there are many transport modes, a choice about the direction of the research had to be made in order to make it more specific. The trade of goods by railway was selected, as railway transportation is the \"backbone\" of the British economy, as it employs around 240 000 people, and it moves over 85 million tonnes of freight each year, thus spreading wealth to each part of the country. Moreover, railway is the only physical link between the UK and Europe, thus providing a smoother flow of goods between the UK and the EU, which flow is critical for the transport secctor (https://www.raildeliverygroup.com/about-us/publications/archive/125-2018-03-brexit-policy-asks/file.html).\n",
    "\n",
    "The second transportation mode chosen for this research was the maritime transportation, as it posseses physical properties, such as buoyancy and limited friction, thus making it the most effective mode of moving large quantities of cargo over long distances, worldwide (https://transportgeography.org/contents/chapter5/transportation-modes-modal-competition-modal-shift/#:~:text=Maritime%20transportation,of%20cargo%20over%20long%20distances).Moreover, this mode was chosen, as at the end of 2020 not only the third pandemix wave was starting, but also the Brexit-deal was announced last-minute, meaning that borders closed just days before Christmas. All of this caused unforseen chaos and uncertainty for many industries, including the maritime goods transportation industry (https://www.container-xchange.com/blog/shipping-brexit-and-covid-19/#the_future_of_the_shipping_industry_in_the_uk_and_europe).\n",
    "\n",
    "For the aforementioned reasons, we decided that it would be interesting to research what effect Brexit specifically had on the railway and maritime goods transportation industries. And as Brexit and Covid-19 were happening simultaneously, it is important to note that in this research, we are trying to isolate the effects oof Covid-19 and get to the bottom of the actual effects Brexit alone had on the two industries."
   ]
  },
  {
   "cell_type": "markdown",
   "metadata": {},
   "source": [
    "# 6. Effect differenciation of Brexit and Covid-19 on the international trade of United Kingdom\n",
    "\n",
    "\n",
    "After conducting research, we had a theoretical answer to our question, whether Brexit had an effect on  the trade between the UK and the EU will be investigated. However, as some of the resources might have been speculating about the effects on trade, it is important to analyse the database that was found, as it is from the website of the government, and make concrete conclusions, based on it.\n",
    "\n",
    "Since Brexit and Covid-19 are happening during the same period of time, the data gathered should be analysed whether the trade change is caused by Brexit or Covid-19. In order to determine the differences, UK's trade is compared with the average of world's trade of all countries. Such approach is taken because the whole world is affected by Covid-19 while Brexit is mainly affecting the UK. Thus, by comparing both values, it can be observed whether UK's trade has any change apart from the Covid-19 effect. "
   ]
  },
  {
   "cell_type": "code",
   "execution_count": 2,
   "metadata": {},
   "outputs": [],
   "source": [
    "#import packages\n",
    "\n",
    "import pandas as pd\n",
    "import seaborn as sns\n",
    "import plotly.express as px\n",
    "import plotly.graph_objects as go\n",
    "from plotly.subplots import make_subplots\n",
    "import matplotlib.pyplot as plt"
   ]
  },
  {
   "cell_type": "code",
   "execution_count": 3,
   "metadata": {},
   "outputs": [],
   "source": [
    "#read the dataframes\n",
    "\n",
    "ex_percent_all = 'DataBases/export_percent_all.csv'\n",
    "df_ex_percent_all = pd.read_csv(ex_percent_all , sep=',')\n",
    "\n",
    "ex_percent_eu = 'DataBases/export_percent_eu.csv'\n",
    "df_ex_percent_eu = pd.read_csv(ex_percent_eu , sep=',')\n",
    "\n",
    "im_percent_all = 'DataBases/import_percent_all.csv'\n",
    "df_im_percent_all = pd.read_csv(im_percent_all , sep=',')\n",
    "\n",
    "im_percent_eu = 'DataBases/import_percent_eu.csv'\n",
    "df_im_percent_eu = pd.read_csv(im_percent_eu , sep=',')"
   ]
  },
  {
   "cell_type": "code",
   "execution_count": 4,
   "metadata": {},
   "outputs": [
    {
     "data": {
      "application/vnd.plotly.v1+json": {
       "config": {
        "plotlyServerURL": "https://plot.ly"
       },
       "data": [
        {
         "hovertemplate": "variable=All countries except UK<br>TIME=%{x}<br>value=%{y}<extra></extra>",
         "legendgroup": "All countries except UK",
         "line": {
          "color": "#636efa",
          "dash": "solid"
         },
         "marker": {
          "symbol": "circle"
         },
         "mode": "markers+lines",
         "name": "All countries except UK",
         "orientation": "v",
         "showlegend": true,
         "type": "scatter",
         "x": [
          2008,
          2009,
          2010,
          2011,
          2012,
          2013,
          2014,
          2015,
          2016,
          2017,
          2018,
          2019,
          2020
         ],
         "xaxis": "x",
         "y": [
          15.587378126,
          -21.57748122,
          18.8720431,
          21.05683652,
          -1.6330144786,
          2.014419282,
          0.4882611234000001,
          -14.37439852,
          -1.6731551042000001,
          11.698765550000001,
          10.35918946,
          -2.556290908,
          -7.1020527200000005
         ],
         "yaxis": "y"
        },
        {
         "mode": "lines+markers",
         "name": "UK",
         "type": "scatter",
         "x": [
          2008,
          2009,
          2010,
          2011,
          2012,
          2013,
          2014,
          2015,
          2016,
          2017,
          2018,
          2019,
          2020
         ],
         "y": [
          3.540254,
          -22.24608,
          13.76733,
          16.86197,
          -1.477315,
          -0.5819942,
          1.532207,
          -9.887542,
          -6.413045,
          7.361871,
          7.022233,
          -2.385511,
          -14.74717
         ]
        }
       ],
       "layout": {
        "autosize": false,
        "legend": {
         "title": {
          "text": "variable"
         },
         "tracegroupgap": 0
        },
        "template": {},
        "title": {
         "text": "Export of all countries vs UK"
        },
        "xaxis": {
         "anchor": "y",
         "domain": [
          0,
          1
         ],
         "title": {
          "text": "TIME"
         }
        },
        "yaxis": {
         "anchor": "x",
         "domain": [
          0,
          1
         ],
         "title": {
          "text": "value"
         }
        }
       }
      }
     },
     "metadata": {},
     "output_type": "display_data"
    }
   ],
   "source": [
    "#dataframe: export all countries vs UK in percentage change compared to previous period\n",
    "\n",
    "df_ex_all_gbr = df_ex_percent_all[(df_ex_percent_all.LOCATION == 'GBR')]    # only value of UK\n",
    "df_ex_all_other = df_ex_percent_all[(df_ex_percent_all.LOCATION != 'GBR')]  # value of all countries except UK\n",
    "\n",
    "#take the yearly average value of all other countries except UK\n",
    "df_ex_all_avg = df_ex_all_other.groupby('TIME').mean()\n",
    "df_ex_all_avg = df_ex_all_avg.rename(columns={'Value': 'All countries except UK'})\n",
    "\n",
    "#plotting\n",
    "fig_ex_base_all = px.line(df_ex_all_avg, title='Export of all countries vs UK', markers=True)\n",
    "fig_ex_base_all.add_scatter(x=df_ex_all_gbr['TIME'], y=df_ex_all_gbr['Value'], mode='lines+markers', name='UK')\n",
    "fig_ex_base_all.update_layout(template=None, autosize=False)\n",
    "\n",
    "fig_ex_base_all.show()"
   ]
  },
  {
   "cell_type": "code",
   "execution_count": 5,
   "metadata": {},
   "outputs": [
    {
     "data": {
      "application/vnd.plotly.v1+json": {
       "config": {
        "plotlyServerURL": "https://plot.ly"
       },
       "data": [
        {
         "hovertemplate": "variable=All countries except UK<br>TIME=%{x}<br>value=%{y}<extra></extra>",
         "legendgroup": "All countries except UK",
         "line": {
          "color": "#636efa",
          "dash": "solid"
         },
         "marker": {
          "symbol": "circle"
         },
         "mode": "markers+lines",
         "name": "All countries except UK",
         "orientation": "v",
         "showlegend": true,
         "type": "scatter",
         "x": [
          2008,
          2009,
          2010,
          2011,
          2012,
          2013,
          2014,
          2015,
          2016,
          2017,
          2018,
          2019,
          2020
         ],
         "xaxis": "x",
         "y": [
          14.192093590909092,
          -22.587424318181817,
          12.583095863636363,
          20.561039045454546,
          -3.3731463181818184,
          3.8867062727272725,
          1.9027011895454544,
          -13.797307318181817,
          0.40404701818181815,
          11.43680925,
          11.224796863636364,
          -1.9929291727272727,
          -4.654270772727273
         ],
         "yaxis": "y"
        },
        {
         "mode": "lines+markers",
         "name": "UK",
         "type": "scatter",
         "x": [
          2008,
          2009,
          2010,
          2011,
          2012,
          2013,
          2014,
          2015,
          2016,
          2017,
          2018,
          2019,
          2020
         ],
         "y": [
          3.540254,
          -22.24608,
          13.76733,
          16.86197,
          -1.477315,
          -0.5819942,
          1.532207,
          -9.887542,
          -6.413045,
          7.361871,
          7.022233,
          -2.385511,
          -14.74717
         ]
        }
       ],
       "layout": {
        "autosize": false,
        "legend": {
         "title": {
          "text": "variable"
         },
         "tracegroupgap": 0
        },
        "template": {},
        "title": {
         "text": "Export of EU countries vs UK"
        },
        "xaxis": {
         "anchor": "y",
         "domain": [
          0,
          1
         ],
         "title": {
          "text": "TIME"
         }
        },
        "yaxis": {
         "anchor": "x",
         "domain": [
          0,
          1
         ],
         "title": {
          "text": "value"
         }
        }
       }
      }
     },
     "metadata": {},
     "output_type": "display_data"
    }
   ],
   "source": [
    "#dataframe: export EU countries vs UK in percentage change, previous period\n",
    "\n",
    "df_ex_eu_gbr = df_ex_percent_eu[(df_ex_percent_eu.LOCATION == 'GBR')]      # only value of UK\n",
    "df_ex_eu_other = df_ex_percent_eu[(df_ex_percent_eu.LOCATION != 'GBR')]    # value of all countries except UK\n",
    "\n",
    "#take the yearly average value of all other countries except UK\n",
    "df_ex_eu_avg = df_ex_eu_other.groupby('TIME').mean()\n",
    "df_ex_eu_avg = df_ex_eu_avg.rename(columns={'Value': 'All countries except UK'})\n",
    "\n",
    "#plotting\n",
    "fig_ex_base_eu = px.line(df_ex_eu_avg['All countries except UK'], title='Export of EU countries vs UK', markers=True)\n",
    "fig_ex_base_eu.add_scatter(x=df_ex_eu_gbr['TIME'], y=df_ex_eu_gbr['Value'], mode='lines+markers', name='UK')\n",
    "fig_ex_base_eu.update_layout(template=None, autosize=False)\n",
    "\n",
    "fig_ex_base_eu.show()"
   ]
  },
  {
   "cell_type": "code",
   "execution_count": 6,
   "metadata": {},
   "outputs": [
    {
     "data": {
      "application/vnd.plotly.v1+json": {
       "config": {
        "plotlyServerURL": "https://plot.ly"
       },
       "data": [
        {
         "hovertemplate": "variable=All countries except UK<br>TIME=%{x}<br>value=%{y}<extra></extra>",
         "legendgroup": "All countries except UK",
         "line": {
          "color": "#636efa",
          "dash": "solid"
         },
         "marker": {
          "symbol": "circle"
         },
         "mode": "markers+lines",
         "name": "All countries except UK",
         "orientation": "v",
         "showlegend": true,
         "type": "scatter",
         "x": [
          2008,
          2009,
          2010,
          2011,
          2012,
          2013,
          2014,
          2015,
          2016,
          2017,
          2018,
          2019,
          2020
         ],
         "xaxis": "x",
         "y": [
          17.005928834,
          -25.9184926,
          19.541548902,
          21.98608802,
          -1.539639166,
          1.8049771039999998,
          0.737241062,
          -13.879468291999999,
          -2.4422887699999998,
          12.48244496,
          10.750138300000001,
          -3.4838812818000005,
          -8.898997178
         ],
         "yaxis": "y"
        },
        {
         "mode": "lines+markers",
         "name": "UK",
         "type": "scatter",
         "x": [
          2008,
          2009,
          2010,
          2011,
          2012,
          2013,
          2014,
          2015,
          2016,
          2017,
          2018,
          2019,
          2020
         ],
         "y": [
          1.268023,
          -23.50657,
          14.47745,
          14.78984,
          0.2599008,
          1.189889,
          4.068292,
          -9.437264,
          -4.765817,
          5.286441,
          6.293955,
          -3.208022,
          -12.62175
         ]
        }
       ],
       "layout": {
        "autosize": false,
        "legend": {
         "title": {
          "text": "variable"
         },
         "tracegroupgap": 0
        },
        "template": {},
        "title": {
         "text": "Import of all countries vs UK"
        },
        "xaxis": {
         "anchor": "y",
         "domain": [
          0,
          1
         ],
         "title": {
          "text": "TIME"
         }
        },
        "yaxis": {
         "anchor": "x",
         "domain": [
          0,
          1
         ],
         "title": {
          "text": "value"
         }
        }
       }
      }
     },
     "metadata": {},
     "output_type": "display_data"
    }
   ],
   "source": [
    "#dataframe: import all countries vs UK in percentage change, previous period\n",
    "\n",
    "df_im_all_gbr = df_im_percent_all[(df_im_percent_all.LOCATION == 'GBR')]    #only data of UK\n",
    "df_im_all_other = df_im_percent_all[(df_im_percent_all.LOCATION != 'GBR')]  #data of all countries except UK\n",
    "\n",
    "#take the yearly average value of all other countries except UK\n",
    "df_im_all_avg = df_im_all_other.groupby('TIME').mean()\n",
    "df_im_all_avg = df_im_all_avg.rename(columns={'Value': 'All countries except UK'})\n",
    "\n",
    "#plotting\n",
    "fig_im_base_all = px.line(df_im_all_avg, title='Import of all countries vs UK', markers=True)\n",
    "fig_im_base_all.add_scatter(x=df_im_all_gbr['TIME'], y=df_im_all_gbr['Value'], mode='lines+markers', name='UK')\n",
    "fig_im_base_all.update_layout(template=None, autosize=False)\n",
    "\n",
    "fig_im_base_all.show()"
   ]
  },
  {
   "cell_type": "code",
   "execution_count": 7,
   "metadata": {},
   "outputs": [
    {
     "data": {
      "application/vnd.plotly.v1+json": {
       "config": {
        "plotlyServerURL": "https://plot.ly"
       },
       "data": [
        {
         "hovertemplate": "variable=All countries except UK<br>TIME=%{x}<br>value=%{y}<extra></extra>",
         "legendgroup": "All countries except UK",
         "line": {
          "color": "#636efa",
          "dash": "solid"
         },
         "marker": {
          "symbol": "circle"
         },
         "mode": "markers+lines",
         "name": "All countries except UK",
         "orientation": "v",
         "showlegend": true,
         "type": "scatter",
         "x": [
          2008,
          2009,
          2010,
          2011,
          2012,
          2013,
          2014,
          2015,
          2016,
          2017,
          2018,
          2019,
          2020
         ],
         "xaxis": "x",
         "y": [
          13.846650259090909,
          -27.42772318181818,
          12.201633413636364,
          20.038183681818182,
          -5.494093886363636,
          2.47438525,
          1.9492657545454544,
          -14.713192772727274,
          0.41586695909090904,
          13.058260272727273,
          12.516659454545454,
          -3.1706653322727276,
          -6.727734845454545
         ],
         "yaxis": "y"
        },
        {
         "mode": "lines+markers",
         "name": "UK",
         "type": "scatter",
         "x": [
          2008,
          2009,
          2010,
          2011,
          2012,
          2013,
          2014,
          2015,
          2016,
          2017,
          2018,
          2019,
          2020
         ],
         "y": [
          1.268023,
          -23.50657,
          14.47745,
          14.78984,
          0.2599008,
          1.189889,
          4.068292,
          -9.437264,
          -4.765817,
          5.286441,
          6.293955,
          -3.208022,
          -12.62175
         ]
        }
       ],
       "layout": {
        "autosize": false,
        "legend": {
         "title": {
          "text": "variable"
         },
         "tracegroupgap": 0
        },
        "template": {},
        "title": {
         "text": "Import of EU countries vs UK"
        },
        "xaxis": {
         "anchor": "y",
         "domain": [
          0,
          1
         ],
         "title": {
          "text": "TIME"
         }
        },
        "yaxis": {
         "anchor": "x",
         "domain": [
          0,
          1
         ],
         "title": {
          "text": "value"
         }
        }
       }
      }
     },
     "metadata": {},
     "output_type": "display_data"
    }
   ],
   "source": [
    "#dataframe: import all countries vs UK in percentage change, previous period\n",
    "\n",
    "df_im_eu_gbr = df_im_percent_eu[(df_im_percent_eu.LOCATION == 'GBR')]       # only data of UK\n",
    "df_im_eu_other = df_im_percent_eu[(df_im_percent_eu.LOCATION != 'GBR')]     # data of other countries except UK\n",
    "\n",
    "#take the yearly average value of all other countries except UK\n",
    "df_im_eu_avg = df_im_eu_other.groupby('TIME').mean()\n",
    "df_im_eu_avg = df_im_eu_avg.rename(columns={'Value': 'All countries except UK'})\n",
    "\n",
    "#plotting\n",
    "fig_im_base_eu = px.line(df_im_eu_avg['All countries except UK'], title='Import of EU countries vs UK', markers=True)\n",
    "fig_im_base_eu.add_scatter(x=df_im_eu_gbr['TIME'], y=df_im_eu_gbr['Value'], mode='lines+markers', name='UK')\n",
    "fig_im_base_eu.update_layout(template=None, autosize=False)\n",
    "\n",
    "fig_im_base_eu.show()"
   ]
  },
  {
   "cell_type": "markdown",
   "metadata": {},
   "source": [
    "Based on the generated graph, the import and export of UK and other countries shows similar pattern. Moreover, it can be observed that in 2019, UK's trade is on the average of all countries' trade combined. However, by the end of 2020, UK's trade decreased more. Such results show that Brexit has some effect in UK's trade, apart from the Covid-19 that is affecting the whole world. This finding has proved that due to Brexit, the UK experienced some decrease in their international trade, both globally and with EU. "
   ]
  },
  {
   "cell_type": "markdown",
   "metadata": {},
   "source": [
    "Further, now we are going to dive deeper into the research by trying to answer the sub research questions, that were formulated earlier. Moreover, we will also answer any speciying questions that might be necessary for answering the sub research questions."
   ]
  },
  {
   "cell_type": "markdown",
   "metadata": {},
   "source": [
    "# 7. Evolution of trade balance between the UK and EU countries\n",
    "\n",
    "After studying the global effect Brexit between the UK and the EU, we are going to have a look closer to the different EU countries. Indeed, this might reveal some differences between countries, and we will see which EU countries take advatage / suffer of the Brexit. We will here define the trade balance as the value of exports minus the value of imports (in million pounds). "
   ]
  },
  {
   "cell_type": "code",
   "execution_count": 8,
   "metadata": {},
   "outputs": [],
   "source": [
    "#Data importation\n",
    "import_uk = pd.read_csv('DataBases/import_map.csv', encoding='latin-1')\n",
    "export_uk = pd.read_csv('DataBases/export_map.csv', encoding='latin-1')\n",
    "\n",
    "#list of countries of the EU after Brexit\n",
    "list_countries_eu = ['Austria', 'Belgium', 'Bulgaria', 'Croatia', 'Cyprus', 'Czechia', 'Denmark', 'Estonia', 'Finland', 'France', 'Germany',\n",
    "                     'Greece', 'Hungary', 'Ireland', 'Italy', 'Latvia', 'Lithuania', 'Luxembourg', 'Malta', 'Netherlands', 'Poland', 'Portugal',\n",
    "                     'Romania', 'Slovakia', 'Slovenia', 'Spain', 'Sweden']\n",
    "\n",
    "#Data processing\n",
    "    #selection of EU countries\n",
    "import_uk = import_uk.loc[import_uk['Country Name'].isin(list_countries_eu),:].drop(columns = 'Country Code')\n",
    "export_uk = export_uk.loc[export_uk['Country Name'].isin(list_countries_eu),:].drop(columns = 'Country Code')\n",
    "    #data formatting\n",
    "import_uk = import_uk.melt(id_vars=[\"Country Name\"], \n",
    "        var_name=\"Year\", \n",
    "        value_name=\"Imports\")\n",
    "export_uk = export_uk.melt(id_vars=[\"Country Name\"], \n",
    "        var_name=\"Year\", \n",
    "        value_name=\"Exports\")\n",
    "    #convertion of \"Year\" column in a int type column\n",
    "export_uk['Year'] = export_uk['Year'].astype(int)\n",
    "import_uk['Year'] = import_uk['Year'].astype(int)\n",
    "    #we only keep data after 2010\n",
    "import_uk = import_uk.loc[import_uk['Year']> 2010,:]\n",
    "export_uk = export_uk.loc[export_uk['Year']> 2010,:]\n",
    "    #balance trade\n",
    "data = pd.merge(import_uk, export_uk,  how='left', left_on=['Country Name', 'Year'], right_on = ['Country Name', 'Year']) #we merge both table into one table\n",
    "data['Balance of trade'] = data['Exports'] - data['Imports']"
   ]
  },
  {
   "cell_type": "code",
   "execution_count": 9,
   "metadata": {},
   "outputs": [
    {
     "data": {
      "application/vnd.plotly.v1+json": {
       "config": {
        "plotlyServerURL": "https://plot.ly"
       },
       "data": [
        {
         "coloraxis": "coloraxis",
         "geo": "geo",
         "hovertemplate": "<b>%{hovertext}</b><br><br>Year=2011<br>iso_alpha=%{location}<br>Balance of trade=%{z}<extra></extra>",
         "hovertext": [
          "Austria",
          "Belgium",
          "Bulgaria",
          "Croatia",
          "Denmark",
          "Finland",
          "France",
          "Germany",
          "Greece",
          "Hungary",
          "Ireland",
          "Italy",
          "Netherlands",
          "Poland",
          "Portugal",
          "Romania",
          "Slovenia",
          "Spain",
          "Sweden"
         ],
         "locations": [
          "AUT",
          "BEL",
          "BGR",
          "HRV",
          "DNK",
          "FIN",
          "FRA",
          "DEU",
          "GRC",
          "HUN",
          "IRL",
          "ITA",
          "NLD",
          "POL",
          "PRT",
          "ROU",
          "SVN",
          "ESP",
          "SWE"
         ],
         "name": "",
         "type": "choropleth",
         "z": [
          -1268,
          -3592,
          48,
          20,
          -3063,
          -730,
          -2345,
          -16547,
          539,
          -1892,
          4820,
          -4428,
          -4694,
          -2725,
          -47,
          -316,
          -114,
          -3052,
          -1488
         ]
        }
       ],
       "frames": [
        {
         "data": [
          {
           "coloraxis": "coloraxis",
           "geo": "geo",
           "hovertemplate": "<b>%{hovertext}</b><br><br>Year=2011<br>iso_alpha=%{location}<br>Balance of trade=%{z}<extra></extra>",
           "hovertext": [
            "Austria",
            "Belgium",
            "Bulgaria",
            "Croatia",
            "Denmark",
            "Finland",
            "France",
            "Germany",
            "Greece",
            "Hungary",
            "Ireland",
            "Italy",
            "Netherlands",
            "Poland",
            "Portugal",
            "Romania",
            "Slovenia",
            "Spain",
            "Sweden"
           ],
           "locations": [
            "AUT",
            "BEL",
            "BGR",
            "HRV",
            "DNK",
            "FIN",
            "FRA",
            "DEU",
            "GRC",
            "HUN",
            "IRL",
            "ITA",
            "NLD",
            "POL",
            "PRT",
            "ROU",
            "SVN",
            "ESP",
            "SWE"
           ],
           "name": "",
           "type": "choropleth",
           "z": [
            -1268,
            -3592,
            48,
            20,
            -3063,
            -730,
            -2345,
            -16547,
            539,
            -1892,
            4820,
            -4428,
            -4694,
            -2725,
            -47,
            -316,
            -114,
            -3052,
            -1488
           ]
          }
         ],
         "name": "2011"
        },
        {
         "data": [
          {
           "coloraxis": "coloraxis",
           "geo": "geo",
           "hovertemplate": "<b>%{hovertext}</b><br><br>Year=2012<br>iso_alpha=%{location}<br>Balance of trade=%{z}<extra></extra>",
           "hovertext": [
            "Austria",
            "Belgium",
            "Bulgaria",
            "Croatia",
            "Denmark",
            "Finland",
            "France",
            "Germany",
            "Greece",
            "Hungary",
            "Ireland",
            "Italy",
            "Netherlands",
            "Poland",
            "Portugal",
            "Romania",
            "Slovenia",
            "Spain",
            "Sweden"
           ],
           "locations": [
            "AUT",
            "BEL",
            "BGR",
            "HRV",
            "DNK",
            "FIN",
            "FRA",
            "DEU",
            "GRC",
            "HUN",
            "IRL",
            "ITA",
            "NLD",
            "POL",
            "PRT",
            "ROU",
            "SVN",
            "ESP",
            "SWE"
           ],
           "name": "",
           "type": "choropleth",
           "z": [
            -1082,
            -4416,
            20,
            57,
            -3046,
            -720,
            -2865,
            -20040,
            190,
            -1532,
            4483,
            -6752,
            -7020,
            -3883,
            -366,
            -311,
            -122,
            -3708,
            -3616
           ]
          }
         ],
         "name": "2012"
        },
        {
         "data": [
          {
           "coloraxis": "coloraxis",
           "geo": "geo",
           "hovertemplate": "<b>%{hovertext}</b><br><br>Year=2013<br>iso_alpha=%{location}<br>Balance of trade=%{z}<extra></extra>",
           "hovertext": [
            "Austria",
            "Belgium",
            "Bulgaria",
            "Croatia",
            "Denmark",
            "Finland",
            "France",
            "Germany",
            "Greece",
            "Hungary",
            "Ireland",
            "Italy",
            "Netherlands",
            "Poland",
            "Portugal",
            "Romania",
            "Slovenia",
            "Spain",
            "Sweden"
           ],
           "locations": [
            "AUT",
            "BEL",
            "BGR",
            "HRV",
            "DNK",
            "FIN",
            "FRA",
            "DEU",
            "GRC",
            "HUN",
            "IRL",
            "ITA",
            "NLD",
            "POL",
            "PRT",
            "ROU",
            "SVN",
            "ESP",
            "SWE"
           ],
           "name": "",
           "type": "choropleth",
           "z": [
            -1206,
            -7444,
            32,
            -62,
            -2635,
            -932,
            -3901,
            -26261,
            478,
            -1343,
            6889,
            -6558,
            -9996,
            -4087,
            -578,
            -431,
            -116,
            -5269,
            -1785
           ]
          }
         ],
         "name": "2013"
        },
        {
         "data": [
          {
           "coloraxis": "coloraxis",
           "geo": "geo",
           "hovertemplate": "<b>%{hovertext}</b><br><br>Year=2014<br>iso_alpha=%{location}<br>Balance of trade=%{z}<extra></extra>",
           "hovertext": [
            "Austria",
            "Belgium",
            "Bulgaria",
            "Croatia",
            "Denmark",
            "Finland",
            "France",
            "Germany",
            "Greece",
            "Hungary",
            "Ireland",
            "Italy",
            "Netherlands",
            "Poland",
            "Portugal",
            "Romania",
            "Slovenia",
            "Spain",
            "Sweden"
           ],
           "locations": [
            "AUT",
            "BEL",
            "BGR",
            "HRV",
            "DNK",
            "FIN",
            "FRA",
            "DEU",
            "GRC",
            "HUN",
            "IRL",
            "ITA",
            "NLD",
            "POL",
            "PRT",
            "ROU",
            "SVN",
            "ESP",
            "SWE"
           ],
           "name": "",
           "type": "choropleth",
           "z": [
            -1354,
            -9726,
            103,
            80,
            -1563,
            -778,
            -6345,
            -28887,
            1192,
            -1186,
            6359,
            -7590,
            -9935,
            -3981,
            -887,
            -513,
            -67,
            -5441,
            -2196
           ]
          }
         ],
         "name": "2014"
        },
        {
         "data": [
          {
           "coloraxis": "coloraxis",
           "geo": "geo",
           "hovertemplate": "<b>%{hovertext}</b><br><br>Year=2015<br>iso_alpha=%{location}<br>Balance of trade=%{z}<extra></extra>",
           "hovertext": [
            "Austria",
            "Belgium",
            "Bulgaria",
            "Croatia",
            "Denmark",
            "Finland",
            "France",
            "Germany",
            "Greece",
            "Hungary",
            "Ireland",
            "Italy",
            "Netherlands",
            "Poland",
            "Portugal",
            "Romania",
            "Slovenia",
            "Spain",
            "Sweden"
           ],
           "locations": [
            "AUT",
            "BEL",
            "BGR",
            "HRV",
            "DNK",
            "FIN",
            "FRA",
            "DEU",
            "GRC",
            "HUN",
            "IRL",
            "ITA",
            "NLD",
            "POL",
            "PRT",
            "ROU",
            "SVN",
            "ESP",
            "SWE"
           ],
           "name": "",
           "type": "choropleth",
           "z": [
            -1416,
            -9902,
            -17,
            43,
            -1123,
            -741,
            -6790,
            -30171,
            246,
            -1217,
            4095,
            -7661,
            -13878,
            -4415,
            -1075,
            -547,
            -119,
            -6154,
            -2578
           ]
          }
         ],
         "name": "2015"
        },
        {
         "data": [
          {
           "coloraxis": "coloraxis",
           "geo": "geo",
           "hovertemplate": "<b>%{hovertext}</b><br><br>Year=2016<br>iso_alpha=%{location}<br>Balance of trade=%{z}<extra></extra>",
           "hovertext": [
            "Austria",
            "Belgium",
            "Bulgaria",
            "Croatia",
            "Denmark",
            "Finland",
            "France",
            "Germany",
            "Greece",
            "Hungary",
            "Ireland",
            "Italy",
            "Netherlands",
            "Poland",
            "Portugal",
            "Romania",
            "Slovenia",
            "Spain",
            "Sweden"
           ],
           "locations": [
            "AUT",
            "BEL",
            "BGR",
            "HRV",
            "DNK",
            "FIN",
            "FRA",
            "DEU",
            "GRC",
            "HUN",
            "IRL",
            "ITA",
            "NLD",
            "POL",
            "PRT",
            "ROU",
            "SVN",
            "ESP",
            "SWE"
           ],
           "name": "",
           "type": "choropleth",
           "z": [
            -1381,
            -12739,
            83,
            65,
            -1455,
            -876,
            -5877,
            -31433,
            97,
            -1316,
            4019,
            -7749,
            -16230,
            -4914,
            -1215,
            -668,
            -152,
            -6959,
            -1747
           ]
          }
         ],
         "name": "2016"
        },
        {
         "data": [
          {
           "coloraxis": "coloraxis",
           "geo": "geo",
           "hovertemplate": "<b>%{hovertext}</b><br><br>Year=2017<br>iso_alpha=%{location}<br>Balance of trade=%{z}<extra></extra>",
           "hovertext": [
            "Austria",
            "Belgium",
            "Bulgaria",
            "Croatia",
            "Denmark",
            "Finland",
            "France",
            "Germany",
            "Greece",
            "Hungary",
            "Ireland",
            "Italy",
            "Netherlands",
            "Poland",
            "Portugal",
            "Romania",
            "Slovenia",
            "Spain",
            "Sweden"
           ],
           "locations": [
            "AUT",
            "BEL",
            "BGR",
            "HRV",
            "DNK",
            "FIN",
            "FRA",
            "DEU",
            "GRC",
            "HUN",
            "IRL",
            "ITA",
            "NLD",
            "POL",
            "PRT",
            "ROU",
            "SVN",
            "ESP",
            "SWE"
           ],
           "name": "",
           "type": "choropleth",
           "z": [
            -1428,
            -12186,
            9,
            40,
            -2165,
            -992,
            -4144,
            -32017,
            215,
            -1292,
            5276,
            -8284,
            -17632,
            -5466,
            -1435,
            -736,
            -139,
            -6359,
            -1647
           ]
          }
         ],
         "name": "2017"
        },
        {
         "data": [
          {
           "coloraxis": "coloraxis",
           "geo": "geo",
           "hovertemplate": "<b>%{hovertext}</b><br><br>Year=2018<br>iso_alpha=%{location}<br>Balance of trade=%{z}<extra></extra>",
           "hovertext": [
            "Austria",
            "Belgium",
            "Bulgaria",
            "Croatia",
            "Denmark",
            "Finland",
            "France",
            "Germany",
            "Greece",
            "Hungary",
            "Ireland",
            "Italy",
            "Netherlands",
            "Poland",
            "Portugal",
            "Romania",
            "Slovenia",
            "Spain",
            "Sweden"
           ],
           "locations": [
            "AUT",
            "BEL",
            "BGR",
            "HRV",
            "DNK",
            "FIN",
            "FRA",
            "DEU",
            "GRC",
            "HUN",
            "IRL",
            "ITA",
            "NLD",
            "POL",
            "PRT",
            "ROU",
            "SVN",
            "ESP",
            "SWE"
           ],
           "name": "",
           "type": "choropleth",
           "z": [
            -1768,
            -12423,
            -65,
            112,
            -3867,
            -1060,
            -4923,
            -31824,
            616,
            -1314,
            7691,
            -8975,
            -16101,
            -5322,
            -1490,
            -1061,
            -85,
            -5908,
            -1613
           ]
          }
         ],
         "name": "2018"
        },
        {
         "data": [
          {
           "coloraxis": "coloraxis",
           "geo": "geo",
           "hovertemplate": "<b>%{hovertext}</b><br><br>Year=2019<br>iso_alpha=%{location}<br>Balance of trade=%{z}<extra></extra>",
           "hovertext": [
            "Austria",
            "Belgium",
            "Bulgaria",
            "Croatia",
            "Denmark",
            "Finland",
            "France",
            "Germany",
            "Greece",
            "Hungary",
            "Ireland",
            "Italy",
            "Netherlands",
            "Poland",
            "Portugal",
            "Romania",
            "Slovenia",
            "Spain",
            "Sweden"
           ],
           "locations": [
            "AUT",
            "BEL",
            "BGR",
            "HRV",
            "DNK",
            "FIN",
            "FRA",
            "DEU",
            "GRC",
            "HUN",
            "IRL",
            "ITA",
            "NLD",
            "POL",
            "PRT",
            "ROU",
            "SVN",
            "ESP",
            "SWE"
           ],
           "name": "",
           "type": "choropleth",
           "z": [
            -1963,
            -13239,
            -219,
            -144,
            -3835,
            -1088,
            -6634,
            -28928,
            80,
            -1654,
            8250,
            -9968,
            -18456,
            -5660,
            -1576,
            -703,
            -147,
            -6683,
            -1437
           ]
          }
         ],
         "name": "2019"
        },
        {
         "data": [
          {
           "coloraxis": "coloraxis",
           "geo": "geo",
           "hovertemplate": "<b>%{hovertext}</b><br><br>Year=2020<br>iso_alpha=%{location}<br>Balance of trade=%{z}<extra></extra>",
           "hovertext": [
            "Austria",
            "Belgium",
            "Bulgaria",
            "Croatia",
            "Denmark",
            "Finland",
            "France",
            "Germany",
            "Greece",
            "Hungary",
            "Ireland",
            "Italy",
            "Netherlands",
            "Poland",
            "Portugal",
            "Romania",
            "Slovenia",
            "Spain",
            "Sweden"
           ],
           "locations": [
            "AUT",
            "BEL",
            "BGR",
            "HRV",
            "DNK",
            "FIN",
            "FRA",
            "DEU",
            "GRC",
            "HUN",
            "IRL",
            "ITA",
            "NLD",
            "POL",
            "PRT",
            "ROU",
            "SVN",
            "ESP",
            "SWE"
           ],
           "name": "",
           "type": "choropleth",
           "z": [
            -1694,
            -12760,
            -104,
            18,
            -2466,
            -1601,
            -5640,
            -24369,
            33,
            -1372,
            8426,
            -8875,
            -16392,
            -6050,
            -922,
            -358,
            -123,
            -6859,
            -1099
           ]
          }
         ],
         "name": "2020"
        },
        {
         "data": [
          {
           "coloraxis": "coloraxis",
           "geo": "geo",
           "hovertemplate": "<b>%{hovertext}</b><br><br>Year=2021<br>iso_alpha=%{location}<br>Balance of trade=%{z}<extra></extra>",
           "hovertext": [
            "Austria",
            "Belgium",
            "Bulgaria",
            "Croatia",
            "Denmark",
            "Finland",
            "France",
            "Germany",
            "Greece",
            "Hungary",
            "Ireland",
            "Italy",
            "Netherlands",
            "Poland",
            "Portugal",
            "Romania",
            "Slovenia",
            "Spain",
            "Sweden"
           ],
           "locations": [
            "AUT",
            "BEL",
            "BGR",
            "HRV",
            "DNK",
            "FIN",
            "FRA",
            "DEU",
            "GRC",
            "HUN",
            "IRL",
            "ITA",
            "NLD",
            "POL",
            "PRT",
            "ROU",
            "SVN",
            "ESP",
            "SWE"
           ],
           "name": "",
           "type": "choropleth",
           "z": [
            -1793,
            -8468,
            -178,
            3,
            -2293,
            -1048,
            -3380,
            -24121,
            -111,
            -1010,
            7980,
            -8450,
            -2276,
            -5887,
            -1371,
            -1300,
            -171,
            -6690,
            -1467
           ]
          }
         ],
         "name": "2021"
        }
       ],
       "layout": {
        "coloraxis": {
         "cmax": 35000,
         "cmid": 0,
         "cmin": -35000,
         "colorbar": {
          "title": {
           "text": "Balance of trade"
          }
         },
         "colorscale": [
          [
           0,
           "rgb(165,0,38)"
          ],
          [
           0.1,
           "rgb(215,48,39)"
          ],
          [
           0.2,
           "rgb(244,109,67)"
          ],
          [
           0.3,
           "rgb(253,174,97)"
          ],
          [
           0.4,
           "rgb(254,224,139)"
          ],
          [
           0.5,
           "rgb(255,255,191)"
          ],
          [
           0.6,
           "rgb(217,239,139)"
          ],
          [
           0.7,
           "rgb(166,217,106)"
          ],
          [
           0.8,
           "rgb(102,189,99)"
          ],
          [
           0.9,
           "rgb(26,152,80)"
          ],
          [
           1,
           "rgb(0,104,55)"
          ]
         ]
        },
        "geo": {
         "center": {},
         "domain": {
          "x": [
           0,
           1
          ],
          "y": [
           0,
           1
          ]
         },
         "projection": {
          "type": "azimuthal equidistant"
         },
         "scope": "europe"
        },
        "height": 800,
        "legend": {
         "tracegroupgap": 0
        },
        "sliders": [
         {
          "active": 0,
          "currentvalue": {
           "prefix": "Year="
          },
          "len": 0.9,
          "pad": {
           "b": 10,
           "t": 60
          },
          "steps": [
           {
            "args": [
             [
              "2011"
             ],
             {
              "frame": {
               "duration": 0,
               "redraw": true
              },
              "fromcurrent": true,
              "mode": "immediate",
              "transition": {
               "duration": 0,
               "easing": "linear"
              }
             }
            ],
            "label": "2011",
            "method": "animate"
           },
           {
            "args": [
             [
              "2012"
             ],
             {
              "frame": {
               "duration": 0,
               "redraw": true
              },
              "fromcurrent": true,
              "mode": "immediate",
              "transition": {
               "duration": 0,
               "easing": "linear"
              }
             }
            ],
            "label": "2012",
            "method": "animate"
           },
           {
            "args": [
             [
              "2013"
             ],
             {
              "frame": {
               "duration": 0,
               "redraw": true
              },
              "fromcurrent": true,
              "mode": "immediate",
              "transition": {
               "duration": 0,
               "easing": "linear"
              }
             }
            ],
            "label": "2013",
            "method": "animate"
           },
           {
            "args": [
             [
              "2014"
             ],
             {
              "frame": {
               "duration": 0,
               "redraw": true
              },
              "fromcurrent": true,
              "mode": "immediate",
              "transition": {
               "duration": 0,
               "easing": "linear"
              }
             }
            ],
            "label": "2014",
            "method": "animate"
           },
           {
            "args": [
             [
              "2015"
             ],
             {
              "frame": {
               "duration": 0,
               "redraw": true
              },
              "fromcurrent": true,
              "mode": "immediate",
              "transition": {
               "duration": 0,
               "easing": "linear"
              }
             }
            ],
            "label": "2015",
            "method": "animate"
           },
           {
            "args": [
             [
              "2016"
             ],
             {
              "frame": {
               "duration": 0,
               "redraw": true
              },
              "fromcurrent": true,
              "mode": "immediate",
              "transition": {
               "duration": 0,
               "easing": "linear"
              }
             }
            ],
            "label": "2016",
            "method": "animate"
           },
           {
            "args": [
             [
              "2017"
             ],
             {
              "frame": {
               "duration": 0,
               "redraw": true
              },
              "fromcurrent": true,
              "mode": "immediate",
              "transition": {
               "duration": 0,
               "easing": "linear"
              }
             }
            ],
            "label": "2017",
            "method": "animate"
           },
           {
            "args": [
             [
              "2018"
             ],
             {
              "frame": {
               "duration": 0,
               "redraw": true
              },
              "fromcurrent": true,
              "mode": "immediate",
              "transition": {
               "duration": 0,
               "easing": "linear"
              }
             }
            ],
            "label": "2018",
            "method": "animate"
           },
           {
            "args": [
             [
              "2019"
             ],
             {
              "frame": {
               "duration": 0,
               "redraw": true
              },
              "fromcurrent": true,
              "mode": "immediate",
              "transition": {
               "duration": 0,
               "easing": "linear"
              }
             }
            ],
            "label": "2019",
            "method": "animate"
           },
           {
            "args": [
             [
              "2020"
             ],
             {
              "frame": {
               "duration": 0,
               "redraw": true
              },
              "fromcurrent": true,
              "mode": "immediate",
              "transition": {
               "duration": 0,
               "easing": "linear"
              }
             }
            ],
            "label": "2020",
            "method": "animate"
           },
           {
            "args": [
             [
              "2021"
             ],
             {
              "frame": {
               "duration": 0,
               "redraw": true
              },
              "fromcurrent": true,
              "mode": "immediate",
              "transition": {
               "duration": 0,
               "easing": "linear"
              }
             }
            ],
            "label": "2021",
            "method": "animate"
           }
          ],
          "x": 0.1,
          "xanchor": "left",
          "y": 0,
          "yanchor": "top"
         }
        ],
        "template": {
         "data": {
          "bar": [
           {
            "error_x": {
             "color": "#2a3f5f"
            },
            "error_y": {
             "color": "#2a3f5f"
            },
            "marker": {
             "line": {
              "color": "#E5ECF6",
              "width": 0.5
             },
             "pattern": {
              "fillmode": "overlay",
              "size": 10,
              "solidity": 0.2
             }
            },
            "type": "bar"
           }
          ],
          "barpolar": [
           {
            "marker": {
             "line": {
              "color": "#E5ECF6",
              "width": 0.5
             },
             "pattern": {
              "fillmode": "overlay",
              "size": 10,
              "solidity": 0.2
             }
            },
            "type": "barpolar"
           }
          ],
          "carpet": [
           {
            "aaxis": {
             "endlinecolor": "#2a3f5f",
             "gridcolor": "white",
             "linecolor": "white",
             "minorgridcolor": "white",
             "startlinecolor": "#2a3f5f"
            },
            "baxis": {
             "endlinecolor": "#2a3f5f",
             "gridcolor": "white",
             "linecolor": "white",
             "minorgridcolor": "white",
             "startlinecolor": "#2a3f5f"
            },
            "type": "carpet"
           }
          ],
          "choropleth": [
           {
            "colorbar": {
             "outlinewidth": 0,
             "ticks": ""
            },
            "type": "choropleth"
           }
          ],
          "contour": [
           {
            "colorbar": {
             "outlinewidth": 0,
             "ticks": ""
            },
            "colorscale": [
             [
              0,
              "#0d0887"
             ],
             [
              0.1111111111111111,
              "#46039f"
             ],
             [
              0.2222222222222222,
              "#7201a8"
             ],
             [
              0.3333333333333333,
              "#9c179e"
             ],
             [
              0.4444444444444444,
              "#bd3786"
             ],
             [
              0.5555555555555556,
              "#d8576b"
             ],
             [
              0.6666666666666666,
              "#ed7953"
             ],
             [
              0.7777777777777778,
              "#fb9f3a"
             ],
             [
              0.8888888888888888,
              "#fdca26"
             ],
             [
              1,
              "#f0f921"
             ]
            ],
            "type": "contour"
           }
          ],
          "contourcarpet": [
           {
            "colorbar": {
             "outlinewidth": 0,
             "ticks": ""
            },
            "type": "contourcarpet"
           }
          ],
          "heatmap": [
           {
            "colorbar": {
             "outlinewidth": 0,
             "ticks": ""
            },
            "colorscale": [
             [
              0,
              "#0d0887"
             ],
             [
              0.1111111111111111,
              "#46039f"
             ],
             [
              0.2222222222222222,
              "#7201a8"
             ],
             [
              0.3333333333333333,
              "#9c179e"
             ],
             [
              0.4444444444444444,
              "#bd3786"
             ],
             [
              0.5555555555555556,
              "#d8576b"
             ],
             [
              0.6666666666666666,
              "#ed7953"
             ],
             [
              0.7777777777777778,
              "#fb9f3a"
             ],
             [
              0.8888888888888888,
              "#fdca26"
             ],
             [
              1,
              "#f0f921"
             ]
            ],
            "type": "heatmap"
           }
          ],
          "heatmapgl": [
           {
            "colorbar": {
             "outlinewidth": 0,
             "ticks": ""
            },
            "colorscale": [
             [
              0,
              "#0d0887"
             ],
             [
              0.1111111111111111,
              "#46039f"
             ],
             [
              0.2222222222222222,
              "#7201a8"
             ],
             [
              0.3333333333333333,
              "#9c179e"
             ],
             [
              0.4444444444444444,
              "#bd3786"
             ],
             [
              0.5555555555555556,
              "#d8576b"
             ],
             [
              0.6666666666666666,
              "#ed7953"
             ],
             [
              0.7777777777777778,
              "#fb9f3a"
             ],
             [
              0.8888888888888888,
              "#fdca26"
             ],
             [
              1,
              "#f0f921"
             ]
            ],
            "type": "heatmapgl"
           }
          ],
          "histogram": [
           {
            "marker": {
             "pattern": {
              "fillmode": "overlay",
              "size": 10,
              "solidity": 0.2
             }
            },
            "type": "histogram"
           }
          ],
          "histogram2d": [
           {
            "colorbar": {
             "outlinewidth": 0,
             "ticks": ""
            },
            "colorscale": [
             [
              0,
              "#0d0887"
             ],
             [
              0.1111111111111111,
              "#46039f"
             ],
             [
              0.2222222222222222,
              "#7201a8"
             ],
             [
              0.3333333333333333,
              "#9c179e"
             ],
             [
              0.4444444444444444,
              "#bd3786"
             ],
             [
              0.5555555555555556,
              "#d8576b"
             ],
             [
              0.6666666666666666,
              "#ed7953"
             ],
             [
              0.7777777777777778,
              "#fb9f3a"
             ],
             [
              0.8888888888888888,
              "#fdca26"
             ],
             [
              1,
              "#f0f921"
             ]
            ],
            "type": "histogram2d"
           }
          ],
          "histogram2dcontour": [
           {
            "colorbar": {
             "outlinewidth": 0,
             "ticks": ""
            },
            "colorscale": [
             [
              0,
              "#0d0887"
             ],
             [
              0.1111111111111111,
              "#46039f"
             ],
             [
              0.2222222222222222,
              "#7201a8"
             ],
             [
              0.3333333333333333,
              "#9c179e"
             ],
             [
              0.4444444444444444,
              "#bd3786"
             ],
             [
              0.5555555555555556,
              "#d8576b"
             ],
             [
              0.6666666666666666,
              "#ed7953"
             ],
             [
              0.7777777777777778,
              "#fb9f3a"
             ],
             [
              0.8888888888888888,
              "#fdca26"
             ],
             [
              1,
              "#f0f921"
             ]
            ],
            "type": "histogram2dcontour"
           }
          ],
          "mesh3d": [
           {
            "colorbar": {
             "outlinewidth": 0,
             "ticks": ""
            },
            "type": "mesh3d"
           }
          ],
          "parcoords": [
           {
            "line": {
             "colorbar": {
              "outlinewidth": 0,
              "ticks": ""
             }
            },
            "type": "parcoords"
           }
          ],
          "pie": [
           {
            "automargin": true,
            "type": "pie"
           }
          ],
          "scatter": [
           {
            "fillpattern": {
             "fillmode": "overlay",
             "size": 10,
             "solidity": 0.2
            },
            "type": "scatter"
           }
          ],
          "scatter3d": [
           {
            "line": {
             "colorbar": {
              "outlinewidth": 0,
              "ticks": ""
             }
            },
            "marker": {
             "colorbar": {
              "outlinewidth": 0,
              "ticks": ""
             }
            },
            "type": "scatter3d"
           }
          ],
          "scattercarpet": [
           {
            "marker": {
             "colorbar": {
              "outlinewidth": 0,
              "ticks": ""
             }
            },
            "type": "scattercarpet"
           }
          ],
          "scattergeo": [
           {
            "marker": {
             "colorbar": {
              "outlinewidth": 0,
              "ticks": ""
             }
            },
            "type": "scattergeo"
           }
          ],
          "scattergl": [
           {
            "marker": {
             "colorbar": {
              "outlinewidth": 0,
              "ticks": ""
             }
            },
            "type": "scattergl"
           }
          ],
          "scattermapbox": [
           {
            "marker": {
             "colorbar": {
              "outlinewidth": 0,
              "ticks": ""
             }
            },
            "type": "scattermapbox"
           }
          ],
          "scatterpolar": [
           {
            "marker": {
             "colorbar": {
              "outlinewidth": 0,
              "ticks": ""
             }
            },
            "type": "scatterpolar"
           }
          ],
          "scatterpolargl": [
           {
            "marker": {
             "colorbar": {
              "outlinewidth": 0,
              "ticks": ""
             }
            },
            "type": "scatterpolargl"
           }
          ],
          "scatterternary": [
           {
            "marker": {
             "colorbar": {
              "outlinewidth": 0,
              "ticks": ""
             }
            },
            "type": "scatterternary"
           }
          ],
          "surface": [
           {
            "colorbar": {
             "outlinewidth": 0,
             "ticks": ""
            },
            "colorscale": [
             [
              0,
              "#0d0887"
             ],
             [
              0.1111111111111111,
              "#46039f"
             ],
             [
              0.2222222222222222,
              "#7201a8"
             ],
             [
              0.3333333333333333,
              "#9c179e"
             ],
             [
              0.4444444444444444,
              "#bd3786"
             ],
             [
              0.5555555555555556,
              "#d8576b"
             ],
             [
              0.6666666666666666,
              "#ed7953"
             ],
             [
              0.7777777777777778,
              "#fb9f3a"
             ],
             [
              0.8888888888888888,
              "#fdca26"
             ],
             [
              1,
              "#f0f921"
             ]
            ],
            "type": "surface"
           }
          ],
          "table": [
           {
            "cells": {
             "fill": {
              "color": "#EBF0F8"
             },
             "line": {
              "color": "white"
             }
            },
            "header": {
             "fill": {
              "color": "#C8D4E3"
             },
             "line": {
              "color": "white"
             }
            },
            "type": "table"
           }
          ]
         },
         "layout": {
          "annotationdefaults": {
           "arrowcolor": "#2a3f5f",
           "arrowhead": 0,
           "arrowwidth": 1
          },
          "autotypenumbers": "strict",
          "coloraxis": {
           "colorbar": {
            "outlinewidth": 0,
            "ticks": ""
           }
          },
          "colorscale": {
           "diverging": [
            [
             0,
             "#8e0152"
            ],
            [
             0.1,
             "#c51b7d"
            ],
            [
             0.2,
             "#de77ae"
            ],
            [
             0.3,
             "#f1b6da"
            ],
            [
             0.4,
             "#fde0ef"
            ],
            [
             0.5,
             "#f7f7f7"
            ],
            [
             0.6,
             "#e6f5d0"
            ],
            [
             0.7,
             "#b8e186"
            ],
            [
             0.8,
             "#7fbc41"
            ],
            [
             0.9,
             "#4d9221"
            ],
            [
             1,
             "#276419"
            ]
           ],
           "sequential": [
            [
             0,
             "#0d0887"
            ],
            [
             0.1111111111111111,
             "#46039f"
            ],
            [
             0.2222222222222222,
             "#7201a8"
            ],
            [
             0.3333333333333333,
             "#9c179e"
            ],
            [
             0.4444444444444444,
             "#bd3786"
            ],
            [
             0.5555555555555556,
             "#d8576b"
            ],
            [
             0.6666666666666666,
             "#ed7953"
            ],
            [
             0.7777777777777778,
             "#fb9f3a"
            ],
            [
             0.8888888888888888,
             "#fdca26"
            ],
            [
             1,
             "#f0f921"
            ]
           ],
           "sequentialminus": [
            [
             0,
             "#0d0887"
            ],
            [
             0.1111111111111111,
             "#46039f"
            ],
            [
             0.2222222222222222,
             "#7201a8"
            ],
            [
             0.3333333333333333,
             "#9c179e"
            ],
            [
             0.4444444444444444,
             "#bd3786"
            ],
            [
             0.5555555555555556,
             "#d8576b"
            ],
            [
             0.6666666666666666,
             "#ed7953"
            ],
            [
             0.7777777777777778,
             "#fb9f3a"
            ],
            [
             0.8888888888888888,
             "#fdca26"
            ],
            [
             1,
             "#f0f921"
            ]
           ]
          },
          "colorway": [
           "#636efa",
           "#EF553B",
           "#00cc96",
           "#ab63fa",
           "#FFA15A",
           "#19d3f3",
           "#FF6692",
           "#B6E880",
           "#FF97FF",
           "#FECB52"
          ],
          "font": {
           "color": "#2a3f5f"
          },
          "geo": {
           "bgcolor": "white",
           "lakecolor": "white",
           "landcolor": "#E5ECF6",
           "showlakes": true,
           "showland": true,
           "subunitcolor": "white"
          },
          "hoverlabel": {
           "align": "left"
          },
          "hovermode": "closest",
          "mapbox": {
           "style": "light"
          },
          "paper_bgcolor": "white",
          "plot_bgcolor": "#E5ECF6",
          "polar": {
           "angularaxis": {
            "gridcolor": "white",
            "linecolor": "white",
            "ticks": ""
           },
           "bgcolor": "#E5ECF6",
           "radialaxis": {
            "gridcolor": "white",
            "linecolor": "white",
            "ticks": ""
           }
          },
          "scene": {
           "xaxis": {
            "backgroundcolor": "#E5ECF6",
            "gridcolor": "white",
            "gridwidth": 2,
            "linecolor": "white",
            "showbackground": true,
            "ticks": "",
            "zerolinecolor": "white"
           },
           "yaxis": {
            "backgroundcolor": "#E5ECF6",
            "gridcolor": "white",
            "gridwidth": 2,
            "linecolor": "white",
            "showbackground": true,
            "ticks": "",
            "zerolinecolor": "white"
           },
           "zaxis": {
            "backgroundcolor": "#E5ECF6",
            "gridcolor": "white",
            "gridwidth": 2,
            "linecolor": "white",
            "showbackground": true,
            "ticks": "",
            "zerolinecolor": "white"
           }
          },
          "shapedefaults": {
           "line": {
            "color": "#2a3f5f"
           }
          },
          "ternary": {
           "aaxis": {
            "gridcolor": "white",
            "linecolor": "white",
            "ticks": ""
           },
           "baxis": {
            "gridcolor": "white",
            "linecolor": "white",
            "ticks": ""
           },
           "bgcolor": "#E5ECF6",
           "caxis": {
            "gridcolor": "white",
            "linecolor": "white",
            "ticks": ""
           }
          },
          "title": {
           "x": 0.05
          },
          "xaxis": {
           "automargin": true,
           "gridcolor": "white",
           "linecolor": "white",
           "ticks": "",
           "title": {
            "standoff": 15
           },
           "zerolinecolor": "white",
           "zerolinewidth": 2
          },
          "yaxis": {
           "automargin": true,
           "gridcolor": "white",
           "linecolor": "white",
           "ticks": "",
           "title": {
            "standoff": 15
           },
           "zerolinecolor": "white",
           "zerolinewidth": 2
          }
         }
        },
        "title": {
         "text": "Evolution of trade balance between the UK and EU countries (in million pounds)"
        },
        "updatemenus": [
         {
          "buttons": [
           {
            "args": [
             null,
             {
              "frame": {
               "duration": 500,
               "redraw": true
              },
              "fromcurrent": true,
              "mode": "immediate",
              "transition": {
               "duration": 500,
               "easing": "linear"
              }
             }
            ],
            "label": "&#9654;",
            "method": "animate"
           },
           {
            "args": [
             [
              null
             ],
             {
              "frame": {
               "duration": 0,
               "redraw": true
              },
              "fromcurrent": true,
              "mode": "immediate",
              "transition": {
               "duration": 0,
               "easing": "linear"
              }
             }
            ],
            "label": "&#9724;",
            "method": "animate"
           }
          ],
          "direction": "left",
          "pad": {
           "r": 10,
           "t": 70
          },
          "showactive": false,
          "type": "buttons",
          "x": 0.1,
          "xanchor": "right",
          "y": 0,
          "yanchor": "top"
         }
        ],
        "width": 1000
       }
      }
     },
     "metadata": {},
     "output_type": "display_data"
    }
   ],
   "source": [
    "#View of the interactive map\n",
    "df = px.data.gapminder() #global map\n",
    "df = df.loc[df['continent']=='Europe'] #we only keep Europe\n",
    "df = df.groupby('iso_alpha').first().reset_index()\n",
    "data = data.merge(df.loc[:,['country','iso_alpha']], left_on='Country Name', right_on='country').drop(columns = 'country') #we merge balance trade data with the table of European countries\n",
    "data.insert(0, 'iso_alpha', data.pop('iso_alpha'))\n",
    "\n",
    "fig = px.choropleth(data,\n",
    "                     locations = 'iso_alpha',\n",
    "                     title = \"Evolution of trade balance between the UK and EU countries (in million pounds)\",\n",
    "                     hover_name = \"Country Name\",\n",
    "                     color_continuous_scale = 'rdylgn',\n",
    "                     color = 'Balance of trade',\n",
    "                     labels={'Balance of trade':'Balance of trade'},\n",
    "                     animation_frame=\"Year\",\n",
    "                     projection = 'azimuthal equidistant',\n",
    "                     scope = 'europe',\n",
    "                     range_color=(-35000, 35000),\n",
    "                     color_continuous_midpoint=0,\n",
    "                     width = 1000,\n",
    "                     height = 800)\n",
    "fig.show()"
   ]
  },
  {
   "cell_type": "markdown",
   "metadata": {},
   "source": [
    "Based on the map below, we can see that the balance of trade between the UK and its closest trade partners goes into negative values since 2010. This means that the UK exports less than it imports from those countries. Nevertheless it is hard to see the direct effect of Brexit since this is observable even before the Brexit referendum.\n",
    "\n",
    "Moreover, we can see that the Republic of Ireland, wich is still part of the EU and which is the only country to share a border with the UK (with Northern Ireland) is an important parter of the UK. Indeed, the trade balance of this country is postive since 2010 and increase even more since the Brexit. This might be explained by the Backstop agreement. Indeed, Northern Ireland (part of the UK) is still considered under the European trade laws and therefore the trade between the Republic of Ireland (EU) and Northern Ireland (UK) is prefered."
   ]
  },
  {
   "cell_type": "markdown",
   "metadata": {},
   "source": [
    "# 8. Sub research question: How does Brexit affects UK's sea trade with EU?\n",
    "\n",
    "Specifying questions:\n",
    "\n",
    "1. How big is the trade between UK and EU compared to UK with other regions?\n",
    "2. What type of cargo is the most traded in UK?\n",
    "3. How does the Brexit affect trades between EU and UK?\n",
    "4. How are the major cargoes affected in the period of Brexit (2016 - 2021)?"
   ]
  },
  {
   "cell_type": "markdown",
   "metadata": {},
   "source": [
    "We use data frame in CSV format regarding all waterborne trades from and to the UK. The data frame consists of what type of cargoes, the origins and destination of the shipping, and cargo volume throughout a certain year. We import the data frame using pandas."
   ]
  },
  {
   "cell_type": "code",
   "execution_count": 10,
   "metadata": {},
   "outputs": [
    {
     "name": "stderr",
     "output_type": "stream",
     "text": [
      "C:\\Users\\Satrya Dewantara\\AppData\\Local\\Temp\\ipykernel_13768\\1431391824.py:3: DtypeWarning:\n",
      "\n",
      "Columns (11) have mixed types. Specify dtype option on import or set low_memory=False.\n",
      "\n"
     ]
    },
    {
     "data": {
      "text/html": [
       "<div>\n",
       "<style scoped>\n",
       "    .dataframe tbody tr th:only-of-type {\n",
       "        vertical-align: middle;\n",
       "    }\n",
       "\n",
       "    .dataframe tbody tr th {\n",
       "        vertical-align: top;\n",
       "    }\n",
       "\n",
       "    .dataframe thead th {\n",
       "        text-align: right;\n",
       "    }\n",
       "</style>\n",
       "<table border=\"1\" class=\"dataframe\">\n",
       "  <thead>\n",
       "    <tr style=\"text-align: right;\">\n",
       "      <th></th>\n",
       "      <th>Cargo Group</th>\n",
       "      <th>CargoCode</th>\n",
       "      <th>CargoName</th>\n",
       "      <th>Region</th>\n",
       "      <th>Country</th>\n",
       "      <th>Direction</th>\n",
       "      <th>Year</th>\n",
       "      <th>Tonnage (thousands)</th>\n",
       "      <th>Units (thousands)</th>\n",
       "      <th>TEU (thousands)</th>\n",
       "      <th>Unnamed: 10</th>\n",
       "      <th>Unnamed: 11</th>\n",
       "    </tr>\n",
       "  </thead>\n",
       "  <tbody>\n",
       "    <tr>\n",
       "      <th>0</th>\n",
       "      <td>Liquid Bulk</td>\n",
       "      <td>11</td>\n",
       "      <td>Liquefied gas</td>\n",
       "      <td>All Africa</td>\n",
       "      <td>Nigeria</td>\n",
       "      <td>Both Directions</td>\n",
       "      <td>2000</td>\n",
       "      <td>0.000000</td>\n",
       "      <td>0.0</td>\n",
       "      <td>NaN</td>\n",
       "      <td>NaN</td>\n",
       "      <td>NaN</td>\n",
       "    </tr>\n",
       "    <tr>\n",
       "      <th>1</th>\n",
       "      <td>Liquid Bulk</td>\n",
       "      <td>11</td>\n",
       "      <td>Liquefied gas</td>\n",
       "      <td>All America</td>\n",
       "      <td>Brazil</td>\n",
       "      <td>Both Directions</td>\n",
       "      <td>2000</td>\n",
       "      <td>173.000000</td>\n",
       "      <td>0.0</td>\n",
       "      <td>NaN</td>\n",
       "      <td>NaN</td>\n",
       "      <td>NaN</td>\n",
       "    </tr>\n",
       "    <tr>\n",
       "      <th>2</th>\n",
       "      <td>Liquid Bulk</td>\n",
       "      <td>11</td>\n",
       "      <td>Liquefied gas</td>\n",
       "      <td>All America</td>\n",
       "      <td>Jamaica</td>\n",
       "      <td>Both Directions</td>\n",
       "      <td>2000</td>\n",
       "      <td>6.000000</td>\n",
       "      <td>0.0</td>\n",
       "      <td>NaN</td>\n",
       "      <td>NaN</td>\n",
       "      <td>NaN</td>\n",
       "    </tr>\n",
       "    <tr>\n",
       "      <th>3</th>\n",
       "      <td>Liquid Bulk</td>\n",
       "      <td>11</td>\n",
       "      <td>Liquefied gas</td>\n",
       "      <td>All European Union</td>\n",
       "      <td>Netherlands</td>\n",
       "      <td>Both Directions</td>\n",
       "      <td>2000</td>\n",
       "      <td>796.000000</td>\n",
       "      <td>0.0</td>\n",
       "      <td>NaN</td>\n",
       "      <td>NaN</td>\n",
       "      <td>NaN</td>\n",
       "    </tr>\n",
       "    <tr>\n",
       "      <th>4</th>\n",
       "      <td>Liquid Bulk</td>\n",
       "      <td>11</td>\n",
       "      <td>Liquefied gas</td>\n",
       "      <td>All European Union</td>\n",
       "      <td>Sweden</td>\n",
       "      <td>Both Directions</td>\n",
       "      <td>2000</td>\n",
       "      <td>369.000000</td>\n",
       "      <td>0.0</td>\n",
       "      <td>NaN</td>\n",
       "      <td>NaN</td>\n",
       "      <td></td>\n",
       "    </tr>\n",
       "    <tr>\n",
       "      <th>...</th>\n",
       "      <td>...</td>\n",
       "      <td>...</td>\n",
       "      <td>...</td>\n",
       "      <td>...</td>\n",
       "      <td>...</td>\n",
       "      <td>...</td>\n",
       "      <td>...</td>\n",
       "      <td>...</td>\n",
       "      <td>...</td>\n",
       "      <td>...</td>\n",
       "      <td>...</td>\n",
       "      <td>...</td>\n",
       "    </tr>\n",
       "    <tr>\n",
       "      <th>67317</th>\n",
       "      <td>Other General Cargo</td>\n",
       "      <td>99</td>\n",
       "      <td>Other general cargo &amp; containers &lt;20'</td>\n",
       "      <td>Asia (excluding Mediterranean countries)</td>\n",
       "      <td>United Arab Emirates</td>\n",
       "      <td>Outwards</td>\n",
       "      <td>2021</td>\n",
       "      <td>5.327266</td>\n",
       "      <td>0.0</td>\n",
       "      <td>NaN</td>\n",
       "      <td>NaN</td>\n",
       "      <td>NaN</td>\n",
       "    </tr>\n",
       "    <tr>\n",
       "      <th>67318</th>\n",
       "      <td>Other General Cargo</td>\n",
       "      <td>99</td>\n",
       "      <td>Other general cargo &amp; containers &lt;20'</td>\n",
       "      <td>Other Europe &amp; Mediterranean</td>\n",
       "      <td>Norway</td>\n",
       "      <td>Outwards</td>\n",
       "      <td>2021</td>\n",
       "      <td>166.475832</td>\n",
       "      <td>0.0</td>\n",
       "      <td>NaN</td>\n",
       "      <td>NaN</td>\n",
       "      <td>NaN</td>\n",
       "    </tr>\n",
       "    <tr>\n",
       "      <th>67319</th>\n",
       "      <td>Other General Cargo</td>\n",
       "      <td>99</td>\n",
       "      <td>Other general cargo &amp; containers &lt;20'</td>\n",
       "      <td>Unspecified</td>\n",
       "      <td>Unspecified</td>\n",
       "      <td>Outwards</td>\n",
       "      <td>2021</td>\n",
       "      <td>0.027046</td>\n",
       "      <td>0.0</td>\n",
       "      <td>NaN</td>\n",
       "      <td>NaN</td>\n",
       "      <td>NaN</td>\n",
       "    </tr>\n",
       "    <tr>\n",
       "      <th>67320</th>\n",
       "      <td>Other General Cargo</td>\n",
       "      <td>99</td>\n",
       "      <td>Other general cargo &amp; containers &lt;20'</td>\n",
       "      <td>UK Domestic</td>\n",
       "      <td>United Kingdom (inc CHI &amp; IOM)</td>\n",
       "      <td>Outwards</td>\n",
       "      <td>2021</td>\n",
       "      <td>209.840032</td>\n",
       "      <td>0.0</td>\n",
       "      <td>NaN</td>\n",
       "      <td>NaN</td>\n",
       "      <td>NaN</td>\n",
       "    </tr>\n",
       "    <tr>\n",
       "      <th>67321</th>\n",
       "      <td>Other General Cargo</td>\n",
       "      <td>99</td>\n",
       "      <td>Other general cargo &amp; containers &lt;20'</td>\n",
       "      <td>UK Domestic</td>\n",
       "      <td>United Kingdom (inc CHI &amp; IOM)</td>\n",
       "      <td>Outwards</td>\n",
       "      <td>2021</td>\n",
       "      <td>1069.650781</td>\n",
       "      <td>0.0</td>\n",
       "      <td>NaN</td>\n",
       "      <td>NaN</td>\n",
       "      <td>NaN</td>\n",
       "    </tr>\n",
       "  </tbody>\n",
       "</table>\n",
       "<p>67322 rows × 12 columns</p>\n",
       "</div>"
      ],
      "text/plain": [
       "               Cargo Group  CargoCode                              CargoName  \\\n",
       "0              Liquid Bulk         11                          Liquefied gas   \n",
       "1              Liquid Bulk         11                          Liquefied gas   \n",
       "2              Liquid Bulk         11                          Liquefied gas   \n",
       "3              Liquid Bulk         11                          Liquefied gas   \n",
       "4              Liquid Bulk         11                          Liquefied gas   \n",
       "...                    ...        ...                                    ...   \n",
       "67317  Other General Cargo         99  Other general cargo & containers <20'   \n",
       "67318  Other General Cargo         99  Other general cargo & containers <20'   \n",
       "67319  Other General Cargo         99  Other general cargo & containers <20'   \n",
       "67320  Other General Cargo         99  Other general cargo & containers <20'   \n",
       "67321  Other General Cargo         99  Other general cargo & containers <20'   \n",
       "\n",
       "                                         Region  \\\n",
       "0                                    All Africa   \n",
       "1                                   All America   \n",
       "2                                   All America   \n",
       "3                            All European Union   \n",
       "4                            All European Union   \n",
       "...                                         ...   \n",
       "67317  Asia (excluding Mediterranean countries)   \n",
       "67318              Other Europe & Mediterranean   \n",
       "67319                               Unspecified   \n",
       "67320                               UK Domestic   \n",
       "67321                               UK Domestic   \n",
       "\n",
       "                              Country        Direction  Year  \\\n",
       "0                             Nigeria  Both Directions  2000   \n",
       "1                              Brazil  Both Directions  2000   \n",
       "2                             Jamaica  Both Directions  2000   \n",
       "3                         Netherlands  Both Directions  2000   \n",
       "4                              Sweden  Both Directions  2000   \n",
       "...                               ...              ...   ...   \n",
       "67317            United Arab Emirates         Outwards  2021   \n",
       "67318                          Norway         Outwards  2021   \n",
       "67319                     Unspecified         Outwards  2021   \n",
       "67320  United Kingdom (inc CHI & IOM)         Outwards  2021   \n",
       "67321  United Kingdom (inc CHI & IOM)         Outwards  2021   \n",
       "\n",
       "       Tonnage (thousands)  Units (thousands)  TEU (thousands)  Unnamed: 10  \\\n",
       "0                 0.000000                0.0              NaN          NaN   \n",
       "1               173.000000                0.0              NaN          NaN   \n",
       "2                 6.000000                0.0              NaN          NaN   \n",
       "3               796.000000                0.0              NaN          NaN   \n",
       "4               369.000000                0.0              NaN          NaN   \n",
       "...                    ...                ...              ...          ...   \n",
       "67317             5.327266                0.0              NaN          NaN   \n",
       "67318           166.475832                0.0              NaN          NaN   \n",
       "67319             0.027046                0.0              NaN          NaN   \n",
       "67320           209.840032                0.0              NaN          NaN   \n",
       "67321          1069.650781                0.0              NaN          NaN   \n",
       "\n",
       "      Unnamed: 11  \n",
       "0             NaN  \n",
       "1             NaN  \n",
       "2             NaN  \n",
       "3             NaN  \n",
       "4                  \n",
       "...           ...  \n",
       "67317         NaN  \n",
       "67318         NaN  \n",
       "67319         NaN  \n",
       "67320         NaN  \n",
       "67321         NaN  \n",
       "\n",
       "[67322 rows x 12 columns]"
      ]
     },
     "execution_count": 10,
     "metadata": {},
     "output_type": "execute_result"
    }
   ],
   "source": [
    "# import\n",
    "file_path = 'DataBases/UK_Shipping.csv'\n",
    "df = pd.read_csv(file_path, encoding='latin-1')\n",
    "df"
   ]
  },
  {
   "cell_type": "markdown",
   "metadata": {},
   "source": [
    "We scope down the data frame from 2012 to see changes of trend from 5 years before Brexit started appearing in 2016 compare to after the Brexit happened. We also make a minor modification to clean and shorten the infomation therefore it is easier to read."
   ]
  },
  {
   "cell_type": "code",
   "execution_count": null,
   "metadata": {},
   "outputs": [],
   "source": [
    "import chardet\n",
    "with open(file_path, 'rb') as rawdata:\n",
    "    result = chardet.detect(rawdata.read(100000))\n",
    "result"
   ]
  },
  {
   "cell_type": "code",
   "execution_count": 11,
   "metadata": {},
   "outputs": [
    {
     "name": "stderr",
     "output_type": "stream",
     "text": [
      "C:\\Users\\Satrya Dewantara\\AppData\\Local\\Temp\\ipykernel_13768\\1531822461.py:1: DtypeWarning:\n",
      "\n",
      "Columns (11) have mixed types. Specify dtype option on import or set low_memory=False.\n",
      "\n"
     ]
    },
    {
     "data": {
      "text/html": [
       "<div>\n",
       "<style scoped>\n",
       "    .dataframe tbody tr th:only-of-type {\n",
       "        vertical-align: middle;\n",
       "    }\n",
       "\n",
       "    .dataframe tbody tr th {\n",
       "        vertical-align: top;\n",
       "    }\n",
       "\n",
       "    .dataframe thead th {\n",
       "        text-align: right;\n",
       "    }\n",
       "</style>\n",
       "<table border=\"1\" class=\"dataframe\">\n",
       "  <thead>\n",
       "    <tr style=\"text-align: right;\">\n",
       "      <th></th>\n",
       "      <th>Cargo Group</th>\n",
       "      <th>CargoCode</th>\n",
       "      <th>CargoName</th>\n",
       "      <th>Region</th>\n",
       "      <th>Country</th>\n",
       "      <th>Direction</th>\n",
       "      <th>Year</th>\n",
       "      <th>Tonnage (thousands)</th>\n",
       "      <th>Units (thousands)</th>\n",
       "      <th>TEU (thousands)</th>\n",
       "      <th>Unnamed: 10</th>\n",
       "      <th>Unnamed: 11</th>\n",
       "    </tr>\n",
       "  </thead>\n",
       "  <tbody>\n",
       "    <tr>\n",
       "      <th>39382</th>\n",
       "      <td>Liquid Bulk</td>\n",
       "      <td>11</td>\n",
       "      <td>Liquefied gas</td>\n",
       "      <td>All Africa</td>\n",
       "      <td>Mauritius</td>\n",
       "      <td>Both Directions</td>\n",
       "      <td>2012</td>\n",
       "      <td>28.000000</td>\n",
       "      <td>0.0</td>\n",
       "      <td>NaN</td>\n",
       "      <td>NaN</td>\n",
       "      <td>NaN</td>\n",
       "    </tr>\n",
       "    <tr>\n",
       "      <th>39383</th>\n",
       "      <td>Liquid Bulk</td>\n",
       "      <td>11</td>\n",
       "      <td>Liquefied gas</td>\n",
       "      <td>All European Union</td>\n",
       "      <td>Denmark</td>\n",
       "      <td>Both Directions</td>\n",
       "      <td>2012</td>\n",
       "      <td>28.000000</td>\n",
       "      <td>0.0</td>\n",
       "      <td>NaN</td>\n",
       "      <td>NaN</td>\n",
       "      <td>NaN</td>\n",
       "    </tr>\n",
       "    <tr>\n",
       "      <th>39384</th>\n",
       "      <td>Liquid Bulk</td>\n",
       "      <td>11</td>\n",
       "      <td>Liquefied gas</td>\n",
       "      <td>All European Union</td>\n",
       "      <td>Finland</td>\n",
       "      <td>Both Directions</td>\n",
       "      <td>2012</td>\n",
       "      <td>18.000000</td>\n",
       "      <td>0.0</td>\n",
       "      <td>NaN</td>\n",
       "      <td>NaN</td>\n",
       "      <td>NaN</td>\n",
       "    </tr>\n",
       "    <tr>\n",
       "      <th>39385</th>\n",
       "      <td>Liquid Bulk</td>\n",
       "      <td>11</td>\n",
       "      <td>Liquefied gas</td>\n",
       "      <td>All European Union</td>\n",
       "      <td>Latvia</td>\n",
       "      <td>Both Directions</td>\n",
       "      <td>2012</td>\n",
       "      <td>3.000000</td>\n",
       "      <td>0.0</td>\n",
       "      <td>NaN</td>\n",
       "      <td>NaN</td>\n",
       "      <td>NaN</td>\n",
       "    </tr>\n",
       "    <tr>\n",
       "      <th>39386</th>\n",
       "      <td>Liquid Bulk</td>\n",
       "      <td>11</td>\n",
       "      <td>Liquefied gas</td>\n",
       "      <td>Asia</td>\n",
       "      <td>South Korea</td>\n",
       "      <td>Both Directions</td>\n",
       "      <td>2012</td>\n",
       "      <td>2.000000</td>\n",
       "      <td>0.0</td>\n",
       "      <td>NaN</td>\n",
       "      <td>NaN</td>\n",
       "      <td>NaN</td>\n",
       "    </tr>\n",
       "    <tr>\n",
       "      <th>...</th>\n",
       "      <td>...</td>\n",
       "      <td>...</td>\n",
       "      <td>...</td>\n",
       "      <td>...</td>\n",
       "      <td>...</td>\n",
       "      <td>...</td>\n",
       "      <td>...</td>\n",
       "      <td>...</td>\n",
       "      <td>...</td>\n",
       "      <td>...</td>\n",
       "      <td>...</td>\n",
       "      <td>...</td>\n",
       "    </tr>\n",
       "    <tr>\n",
       "      <th>67168</th>\n",
       "      <td>Other General Cargo</td>\n",
       "      <td>99</td>\n",
       "      <td>Other general cargo &amp; containers &lt;20'</td>\n",
       "      <td>Other Europe &amp; Mediterranean</td>\n",
       "      <td>Egypt</td>\n",
       "      <td>Both Directions</td>\n",
       "      <td>2021</td>\n",
       "      <td>1.592205</td>\n",
       "      <td>0.0</td>\n",
       "      <td>NaN</td>\n",
       "      <td>NaN</td>\n",
       "      <td>NaN</td>\n",
       "    </tr>\n",
       "    <tr>\n",
       "      <th>67169</th>\n",
       "      <td>Other General Cargo</td>\n",
       "      <td>99</td>\n",
       "      <td>Other general cargo &amp; containers &lt;20'</td>\n",
       "      <td>Other Europe &amp; Mediterranean</td>\n",
       "      <td>Libyan Arab</td>\n",
       "      <td>Both Directions</td>\n",
       "      <td>2021</td>\n",
       "      <td>0.465926</td>\n",
       "      <td>0.0</td>\n",
       "      <td>NaN</td>\n",
       "      <td>NaN</td>\n",
       "      <td>NaN</td>\n",
       "    </tr>\n",
       "    <tr>\n",
       "      <th>67170</th>\n",
       "      <td>Other General Cargo</td>\n",
       "      <td>99</td>\n",
       "      <td>Other general cargo &amp; containers &lt;20'</td>\n",
       "      <td>Other Europe &amp; Mediterranean</td>\n",
       "      <td>Montenegro</td>\n",
       "      <td>Both Directions</td>\n",
       "      <td>2021</td>\n",
       "      <td>0.062181</td>\n",
       "      <td>0.0</td>\n",
       "      <td>NaN</td>\n",
       "      <td>NaN</td>\n",
       "      <td>NaN</td>\n",
       "    </tr>\n",
       "    <tr>\n",
       "      <th>67171</th>\n",
       "      <td>Other General Cargo</td>\n",
       "      <td>99</td>\n",
       "      <td>Other general cargo &amp; containers &lt;20'</td>\n",
       "      <td>Other Europe &amp; Mediterranean</td>\n",
       "      <td>Turkey</td>\n",
       "      <td>Both Directions</td>\n",
       "      <td>2021</td>\n",
       "      <td>90.163310</td>\n",
       "      <td>0.0</td>\n",
       "      <td>NaN</td>\n",
       "      <td>NaN</td>\n",
       "      <td>NaN</td>\n",
       "    </tr>\n",
       "    <tr>\n",
       "      <th>67172</th>\n",
       "      <td>Other General Cargo</td>\n",
       "      <td>99</td>\n",
       "      <td>Other general cargo &amp; containers &lt;20'</td>\n",
       "      <td>UK Domestic</td>\n",
       "      <td>United Kingdom (inc CHI &amp; IOM)</td>\n",
       "      <td>Both Directions</td>\n",
       "      <td>2021</td>\n",
       "      <td>381.606257</td>\n",
       "      <td>0.0</td>\n",
       "      <td>NaN</td>\n",
       "      <td>NaN</td>\n",
       "      <td>NaN</td>\n",
       "    </tr>\n",
       "  </tbody>\n",
       "</table>\n",
       "<p>10886 rows × 12 columns</p>\n",
       "</div>"
      ],
      "text/plain": [
       "               Cargo Group  CargoCode                              CargoName  \\\n",
       "39382          Liquid Bulk         11                          Liquefied gas   \n",
       "39383          Liquid Bulk         11                          Liquefied gas   \n",
       "39384          Liquid Bulk         11                          Liquefied gas   \n",
       "39385          Liquid Bulk         11                          Liquefied gas   \n",
       "39386          Liquid Bulk         11                          Liquefied gas   \n",
       "...                    ...        ...                                    ...   \n",
       "67168  Other General Cargo         99  Other general cargo & containers <20'   \n",
       "67169  Other General Cargo         99  Other general cargo & containers <20'   \n",
       "67170  Other General Cargo         99  Other general cargo & containers <20'   \n",
       "67171  Other General Cargo         99  Other general cargo & containers <20'   \n",
       "67172  Other General Cargo         99  Other general cargo & containers <20'   \n",
       "\n",
       "                             Region                         Country  \\\n",
       "39382                    All Africa                       Mauritius   \n",
       "39383            All European Union                         Denmark   \n",
       "39384            All European Union                         Finland   \n",
       "39385            All European Union                          Latvia   \n",
       "39386                          Asia                     South Korea   \n",
       "...                             ...                             ...   \n",
       "67168  Other Europe & Mediterranean                           Egypt   \n",
       "67169  Other Europe & Mediterranean                     Libyan Arab   \n",
       "67170  Other Europe & Mediterranean                      Montenegro   \n",
       "67171  Other Europe & Mediterranean                          Turkey   \n",
       "67172                   UK Domestic  United Kingdom (inc CHI & IOM)   \n",
       "\n",
       "             Direction  Year  Tonnage (thousands)  Units (thousands)  \\\n",
       "39382  Both Directions  2012            28.000000                0.0   \n",
       "39383  Both Directions  2012            28.000000                0.0   \n",
       "39384  Both Directions  2012            18.000000                0.0   \n",
       "39385  Both Directions  2012             3.000000                0.0   \n",
       "39386  Both Directions  2012             2.000000                0.0   \n",
       "...                ...   ...                  ...                ...   \n",
       "67168  Both Directions  2021             1.592205                0.0   \n",
       "67169  Both Directions  2021             0.465926                0.0   \n",
       "67170  Both Directions  2021             0.062181                0.0   \n",
       "67171  Both Directions  2021            90.163310                0.0   \n",
       "67172  Both Directions  2021           381.606257                0.0   \n",
       "\n",
       "       TEU (thousands)  Unnamed: 10 Unnamed: 11  \n",
       "39382              NaN          NaN         NaN  \n",
       "39383              NaN          NaN         NaN  \n",
       "39384              NaN          NaN         NaN  \n",
       "39385              NaN          NaN         NaN  \n",
       "39386              NaN          NaN         NaN  \n",
       "...                ...          ...         ...  \n",
       "67168              NaN          NaN         NaN  \n",
       "67169              NaN          NaN         NaN  \n",
       "67170              NaN          NaN         NaN  \n",
       "67171              NaN          NaN         NaN  \n",
       "67172              NaN          NaN         NaN  \n",
       "\n",
       "[10886 rows x 12 columns]"
      ]
     },
     "execution_count": 11,
     "metadata": {},
     "output_type": "execute_result"
    }
   ],
   "source": [
    "df = pd.read_csv(file_path, encoding='ISO-8859-1')\n",
    "df = df.loc[df['Year'] > 2011]\n",
    "\n",
    "#We shorten the coumn name\n",
    "df.loc[df['Region'] == 'Asia (excluding Mediterranean countries)', 'Region'] = 'Asia'\n",
    "\n",
    "#We decide to delete this 'unspecified' region to clean the data since it also only has small number of volume\n",
    "df = df.loc[~df['Region'].str.contains('Unspecified')]\n",
    "\n",
    "#We want to use all the inward and outward cargo data\n",
    "df = df.loc[df['Direction'] == 'Both Directions']\n",
    "df"
   ]
  },
  {
   "cell_type": "markdown",
   "metadata": {},
   "source": [
    "# 8.1 All UK's Sea Trade\n",
    "\n",
    "In this first section, we want to answer **Specifying question 1 and 2** by plotting the data regarding all the sea trades in the UK (Import, Export and Domestic). We divided the information into two charts. First one is the chart with all cargoes divided by region of origins and destinations. The second one is divided by type of cargoes."
   ]
  },
  {
   "cell_type": "code",
   "execution_count": 12,
   "metadata": {},
   "outputs": [
    {
     "data": {
      "application/vnd.plotly.v1+json": {
       "config": {
        "plotlyServerURL": "https://plot.ly"
       },
       "data": [
        {
         "legendgroup": "Group1",
         "legendgrouptitle": {
          "text": "Region"
         },
         "name": "All Africa",
         "type": "scatter",
         "x": [
          2012,
          2013,
          2014,
          2015,
          2016,
          2017,
          2018,
          2019,
          2020,
          2021
         ],
         "xaxis": "x",
         "y": [
          14124,
          13200,
          11648,
          10126,
          7483,
          8307,
          9723,
          8506,
          6452,
          6222.513519696
         ],
         "yaxis": "y"
        },
        {
         "legendgroup": "Group1",
         "legendgrouptitle": {
          "text": "Region"
         },
         "name": "All European Union",
         "type": "scatter",
         "x": [
          2012,
          2013,
          2014,
          2015,
          2016,
          2017,
          2018,
          2019,
          2020,
          2021
         ],
         "xaxis": "x",
         "y": [
          198803,
          200027,
          204119,
          203193,
          206755,
          207632,
          206159,
          195335,
          190117,
          184977.002050226
         ],
         "yaxis": "y"
        },
        {
         "legendgroup": "Group1",
         "legendgrouptitle": {
          "text": "Region"
         },
         "name": "Asia",
         "type": "scatter",
         "x": [
          2012,
          2013,
          2014,
          2015,
          2016,
          2017,
          2018,
          2019,
          2020,
          2021
         ],
         "xaxis": "x",
         "y": [
          45115,
          44138,
          46401,
          50295,
          54030,
          52727,
          49148,
          55512,
          42110,
          38872.213088244
         ],
         "yaxis": "y"
        },
        {
         "legendgroup": "Group1",
         "legendgrouptitle": {
          "text": "Region"
         },
         "name": "All America",
         "type": "scatter",
         "x": [
          2012,
          2013,
          2014,
          2015,
          2016,
          2017,
          2018,
          2019,
          2020,
          2021
         ],
         "xaxis": "x",
         "y": [
          54571,
          65482,
          58856,
          50579,
          43397,
          42760,
          52323,
          55128,
          48397,
          48460.703275401
         ],
         "yaxis": "y"
        },
        {
         "legendgroup": "Group1",
         "legendgrouptitle": {
          "text": "Region"
         },
         "name": "Other Europe & Mediterranean",
         "type": "scatter",
         "x": [
          2012,
          2013,
          2014,
          2015,
          2016,
          2017,
          2018,
          2019,
          2020,
          2021
         ],
         "xaxis": "x",
         "y": [
          69886,
          73973,
          73832,
          65390,
          60541,
          65841,
          63185,
          63908,
          55030,
          61827.193735884
         ],
         "yaxis": "y"
        },
        {
         "legendgroup": "Group1",
         "legendgrouptitle": {
          "text": "Region"
         },
         "name": "UK Domestic",
         "type": "scatter",
         "x": [
          2012,
          2013,
          2014,
          2015,
          2016,
          2017,
          2018,
          2019,
          2020,
          2021
         ],
         "xaxis": "x",
         "y": [
          103436,
          91755,
          94338,
          103589,
          98615,
          90530,
          88903,
          91387,
          85728,
          93618.98416362
         ],
         "yaxis": "y"
        },
        {
         "legendgroup": "Group1",
         "legendgrouptitle": {
          "text": "Region"
         },
         "name": "Australasia",
         "type": "scatter",
         "x": [
          2012,
          2013,
          2014,
          2015,
          2016,
          2017,
          2018,
          2019,
          2020,
          2021
         ],
         "xaxis": "x",
         "y": [
          3481,
          3113,
          2625,
          2547,
          1878,
          2841,
          2323,
          1784,
          1134,
          1236.07231796
         ],
         "yaxis": "y"
        },
        {
         "legendgroup": "Group2",
         "legendgrouptitle": {
          "text": "Cargo Type"
         },
         "line": {
          "dash": "dashdot"
         },
         "name": "Liquid Bulk",
         "type": "scatter",
         "x": [
          2012,
          2013,
          2014,
          2015,
          2016,
          2017,
          2018,
          2019,
          2020,
          2021
         ],
         "xaxis": "x2",
         "y": [
          210858,
          196974,
          187795,
          194356,
          190991,
          189144,
          184166,
          191451,
          165555,
          161847.576103745
         ],
         "yaxis": "y2"
        },
        {
         "legendgroup": "Group2",
         "legendgrouptitle": {
          "text": "Cargo Type"
         },
         "line": {
          "dash": "dashdot"
         },
         "name": "Dry Bulk",
         "type": "scatter",
         "x": [
          2012,
          2013,
          2014,
          2015,
          2016,
          2017,
          2018,
          2019,
          2020,
          2021
         ],
         "xaxis": "x2",
         "y": [
          110878,
          121412,
          121987,
          104072,
          92618,
          91685,
          93974,
          92311,
          85970,
          96520.629260558
         ],
         "yaxis": "y2"
        },
        {
         "legendgroup": "Group2",
         "legendgrouptitle": {
          "text": "Cargo Type"
         },
         "line": {
          "dash": "dashdot"
         },
         "name": "Lo-Lo",
         "type": "scatter",
         "x": [
          2012,
          2013,
          2014,
          2015,
          2016,
          2017,
          2018,
          2019,
          2020,
          2021
         ],
         "xaxis": "x2",
         "y": [
          55038,
          56862,
          61231,
          63203,
          65318,
          64015,
          68273,
          66667,
          62141,
          63360.264263712
         ],
         "yaxis": "y2"
        },
        {
         "legendgroup": "Group2",
         "legendgrouptitle": {
          "text": "Cargo Type"
         },
         "line": {
          "dash": "dashdot"
         },
         "name": "Ro-Ro",
         "type": "scatter",
         "x": [
          2012,
          2013,
          2014,
          2015,
          2016,
          2017,
          2018,
          2019,
          2020,
          2021
         ],
         "xaxis": "x2",
         "y": [
          94339,
          95047,
          99605,
          103774,
          106386,
          107025,
          107577,
          104274,
          98960,
          95233.031998706
         ],
         "yaxis": "y2"
        },
        {
         "legendgroup": "Group2",
         "legendgrouptitle": {
          "text": "Cargo Type"
         },
         "line": {
          "dash": "dashdot"
         },
         "name": "Other General Cargo",
         "type": "scatter",
         "x": [
          2012,
          2013,
          2014,
          2015,
          2016,
          2017,
          2018,
          2019,
          2020,
          2021
         ],
         "xaxis": "x2",
         "y": [
          18303,
          21393,
          21201,
          20314,
          17386,
          18769,
          17774,
          16857,
          16342,
          18253.18052431
         ],
         "yaxis": "y2"
        }
       ],
       "layout": {
        "annotations": [
         {
          "font": {
           "size": 16
          },
          "showarrow": false,
          "text": "UK trades by region",
          "x": 0.225,
          "xanchor": "center",
          "xref": "paper",
          "y": 1,
          "yanchor": "bottom",
          "yref": "paper"
         },
         {
          "font": {
           "size": 16
          },
          "showarrow": false,
          "text": "UK trade by cargo type",
          "x": 0.775,
          "xanchor": "center",
          "xref": "paper",
          "y": 1,
          "yanchor": "bottom",
          "yref": "paper"
         }
        ],
        "template": {
         "data": {
          "scatter": [
           {
            "type": "scatter"
           }
          ]
         }
        },
        "title": {
         "text": "UK All Trades"
        },
        "xaxis": {
         "anchor": "y",
         "domain": [
          0,
          0.45
         ]
        },
        "xaxis2": {
         "anchor": "y2",
         "domain": [
          0.55,
          1
         ]
        },
        "yaxis": {
         "anchor": "x",
         "domain": [
          0,
          1
         ],
         "title": {
          "text": "Tonnage (thousands)"
         }
        },
        "yaxis2": {
         "anchor": "x2",
         "domain": [
          0,
          1
         ],
         "title": {
          "text": "Tonnage (thousands)"
         }
        }
       }
      }
     },
     "metadata": {},
     "output_type": "display_data"
    }
   ],
   "source": [
    "#We group the trade data by region of origins and destinations\n",
    "df_region = df.groupby(['Year', 'Region']).sum()\n",
    "df_region = df_region.reset_index()\n",
    "\n",
    "#Then we group the trade data by Cargo Type\n",
    "df_bycargo = df.groupby(['Year', 'Cargo Group']).sum()\n",
    "df_bycargo = df_bycargo.reset_index()\n",
    "\n",
    "#We make two subplots for those two data frame groups\n",
    "regions = list(df.Region.unique())\n",
    "cargo_types = list(df['Cargo Group'].unique())\n",
    "fig_1 = make_subplots(rows=1, cols=2, subplot_titles=['UK trades by region', 'UK trade by cargo type'])\n",
    "\n",
    "#We use for loop to add lines for every region/cargo type to the plot\n",
    "for region in regions:\n",
    "    df_story_1 = df_region.loc[df_region['Region'] == region]\n",
    "    x1 = df_story_1['Year']\n",
    "    y1 = df_story_1['Tonnage (thousands)']\n",
    "    fig_1.append_trace(go.Scatter(x=x1, y=y1, name=region,\n",
    "    legendgroup= 'Group1',\n",
    "    legendgrouptitle_text = 'Region'), \n",
    "    row=1, col=1)\n",
    "    \n",
    "\n",
    "for cargo_type in cargo_types:\n",
    "    df_story_2 = df_bycargo.loc[df_bycargo['Cargo Group'] == cargo_type]\n",
    "    x1 = df_story_2['Year']\n",
    "    y1 = df_story_2['Tonnage (thousands)']\n",
    "    fig_1.append_trace(go.Scatter(x=x1, y=y1, name=cargo_type,\n",
    "    line=dict(dash='dashdot'),\n",
    "    legendgroup= 'Group2',\n",
    "    legendgrouptitle_text = 'Cargo Type'),  \n",
    "    row=1, col=2)\n",
    "\n",
    "fig_1.update_yaxes(title_text='Tonnage (thousands)', row=1, col=1)\n",
    "fig_1.update_yaxes(title_text='Tonnage (thousands)', row=1, col=2)\n",
    "fig_1.update_layout(title='UK All Trades', template='none')\n",
    "fig_1.show()\n"
   ]
  },
  {
   "cell_type": "markdown",
   "metadata": {},
   "source": [
    "From the left chart, it can be seen that UK's biggest trade is from and to EU with approximately twice the volume of the UK Domestic.\n",
    "\n",
    "The right chart shows that the largest volume by cargo type traded in the UK is Liquid Bulk followed by Ro-Ro.\n",
    "\n",
    "    ~ Liquid bulk is any cargoes in liquid usually carried by a tanker vessels. There are many cargoes classified as liquid bulk, such as chemical, petroleum, and liqufied gas.\n",
    "\n",
    "    ~ Ro-Ro or Roll On/Roll off is type of cargo which have wheels so they usually do not need heavy equipment to be loaded or unloaded to/from the vessels. Some cargoes classified as Ro-Ro are cars, construction equipment, or trucks.\n",
    "\n",
    "We can see the trade between EU and UK dominates the trade volume in the UK. Therefore we want to see how that trend is affected in the period of Brexit to answer the **Specifying question 3**. To do that, we make graphs regarding the growth rate and the the EU's market share in the UK's trade."
   ]
  },
  {
   "cell_type": "markdown",
   "metadata": {},
   "source": [
    "# 8.2 Growth rate \n",
    "\n",
    "In this section, we want to show the growth rate of trade between EU and UK. After that, we compare that growth with the trade between UK and other regions."
   ]
  },
  {
   "cell_type": "code",
   "execution_count": 13,
   "metadata": {},
   "outputs": [
    {
     "data": {
      "application/vnd.plotly.v1+json": {
       "config": {
        "plotlyServerURL": "https://plot.ly"
       },
       "data": [
        {
         "name": "Tonnage",
         "type": "scatter",
         "x": [
          2013,
          2014,
          2015,
          2016,
          2017,
          2018,
          2019,
          2020,
          2021
         ],
         "xaxis": "x",
         "y": [
          200027,
          204119,
          203193,
          206755,
          207632,
          206159,
          195335,
          190117,
          184977.002050226
         ],
         "yaxis": "y2"
        },
        {
         "name": "Growth Rate (%)",
         "type": "bar",
         "x": [
          2013,
          2014,
          2015,
          2016,
          2017,
          2018,
          2019,
          2020,
          2021
         ],
         "xaxis": "x",
         "y": [
          0.62,
          2.05,
          -0.45,
          1.75,
          0.42,
          -0.71,
          -5.25,
          -2.67,
          -2.7
         ],
         "yaxis": "y"
        }
       ],
       "layout": {
        "autosize": false,
        "template": {
         "data": {
          "scatter": [
           {
            "type": "scatter"
           }
          ]
         }
        },
        "title": {
         "text": "Trades Between UK and UE"
        },
        "xaxis": {
         "anchor": "y",
         "domain": [
          0,
          0.94
         ]
        },
        "yaxis": {
         "anchor": "x",
         "domain": [
          0,
          1
         ],
         "range": [
          -6,
          6
         ],
         "title": {
          "text": "Growth Rate (%)"
         }
        },
        "yaxis2": {
         "anchor": "x",
         "overlaying": "y",
         "range": [
          180000,
          210000
         ],
         "side": "right",
         "title": {
          "text": "Tonnage (thousands)"
         }
        }
       }
      }
     },
     "metadata": {},
     "output_type": "display_data"
    }
   ],
   "source": [
    "#We filter the region to EU and group it by year\n",
    "df_EU = df.loc[df['Region'] == 'All European Union']\n",
    "df_EU = df_EU.groupby(['Year']).sum()\n",
    "df_EU = df_EU.reset_index()\n",
    "\n",
    "#We calculate the growth rate and assign it to a new column\n",
    "df_EU['Growth Rate (%)'] = df_EU['Tonnage (thousands)'].pct_change().mul(100).round(2)\n",
    "df_EU = df_EU.loc[df_EU['Year'] > 2012]\n",
    "\n",
    "#We plot it together with the cargo volume to clearly show the trend\n",
    "fig_2 = make_subplots(specs=[[{\"secondary_y\": True}]])\n",
    "fig_2.add_trace(go.Scatter(x=df_EU['Year'], y=df_EU['Tonnage (thousands)'], name='Tonnage'), secondary_y=True)\n",
    "fig_2.add_trace(go.Bar(x=df_EU['Year'], y=df_EU['Growth Rate (%)'], name='Growth Rate (%)'), secondary_y=False)\n",
    "fig_2.update_yaxes(range=[180000, 210000], secondary_y=True)\n",
    "fig_2.update_yaxes(range=[-6, 6], secondary_y=False)\n",
    "fig_2.update_yaxes(title_text='Tonnage (thousands)', secondary_y=True)\n",
    "fig_2.update_yaxes(title_text='Growth Rate (%)', secondary_y=False)\n",
    "fig_2.update_layout(template='none', title = 'Trades Between UK and UE', autosize=False)\n",
    "fig_2.show()"
   ]
  },
  {
   "cell_type": "code",
   "execution_count": 14,
   "metadata": {},
   "outputs": [
    {
     "data": {
      "application/vnd.plotly.v1+json": {
       "config": {
        "plotlyServerURL": "https://plot.ly"
       },
       "data": [
        {
         "alignmentgroup": "True",
         "hovertemplate": "Region=%{x}<br>Year=2013<br>Growth Rate (%)=%{y}<extra></extra>",
         "legendgroup": "All Africa",
         "marker": {
          "color": "gray",
          "pattern": {
           "shape": ""
          }
         },
         "name": "All Africa",
         "offsetgroup": "All Africa",
         "orientation": "v",
         "showlegend": true,
         "textposition": "auto",
         "type": "bar",
         "x": [
          "All Africa"
         ],
         "xaxis": "x",
         "y": [
          -6.54
         ],
         "yaxis": "y"
        },
        {
         "alignmentgroup": "True",
         "hovertemplate": "Region=%{x}<br>Year=2013<br>Growth Rate (%)=%{y}<extra></extra>",
         "legendgroup": "All America",
         "marker": {
          "color": "gray",
          "pattern": {
           "shape": ""
          }
         },
         "name": "All America",
         "offsetgroup": "All America",
         "orientation": "v",
         "showlegend": true,
         "textposition": "auto",
         "type": "bar",
         "x": [
          "All America"
         ],
         "xaxis": "x",
         "y": [
          19.99
         ],
         "yaxis": "y"
        },
        {
         "alignmentgroup": "True",
         "hovertemplate": "Region=%{x}<br>Year=2013<br>Growth Rate (%)=%{y}<extra></extra>",
         "legendgroup": "All European Union",
         "marker": {
          "color": "crimson",
          "pattern": {
           "shape": ""
          }
         },
         "name": "All European Union",
         "offsetgroup": "All European Union",
         "orientation": "v",
         "showlegend": true,
         "textposition": "auto",
         "type": "bar",
         "x": [
          "All European Union"
         ],
         "xaxis": "x",
         "y": [
          0.62
         ],
         "yaxis": "y"
        },
        {
         "alignmentgroup": "True",
         "hovertemplate": "Region=%{x}<br>Year=2013<br>Growth Rate (%)=%{y}<extra></extra>",
         "legendgroup": "Asia",
         "marker": {
          "color": "gray",
          "pattern": {
           "shape": ""
          }
         },
         "name": "Asia",
         "offsetgroup": "Asia",
         "orientation": "v",
         "showlegend": true,
         "textposition": "auto",
         "type": "bar",
         "x": [
          "Asia"
         ],
         "xaxis": "x",
         "y": [
          -2.17
         ],
         "yaxis": "y"
        },
        {
         "alignmentgroup": "True",
         "hovertemplate": "Region=%{x}<br>Year=2013<br>Growth Rate (%)=%{y}<extra></extra>",
         "legendgroup": "Other Europe & Mediterranean",
         "marker": {
          "color": "gray",
          "pattern": {
           "shape": ""
          }
         },
         "name": "Other Europe & Mediterranean",
         "offsetgroup": "Other Europe & Mediterranean",
         "orientation": "v",
         "showlegend": true,
         "textposition": "auto",
         "type": "bar",
         "x": [
          "Other Europe & Mediterranean"
         ],
         "xaxis": "x",
         "y": [
          5.85
         ],
         "yaxis": "y"
        },
        {
         "alignmentgroup": "True",
         "hovertemplate": "Region=%{x}<br>Year=2013<br>Growth Rate (%)=%{y}<extra></extra>",
         "legendgroup": "UK Domestic",
         "marker": {
          "color": "gray",
          "pattern": {
           "shape": ""
          }
         },
         "name": "UK Domestic",
         "offsetgroup": "UK Domestic",
         "orientation": "v",
         "showlegend": true,
         "textposition": "auto",
         "type": "bar",
         "x": [
          "UK Domestic"
         ],
         "xaxis": "x",
         "y": [
          -11.29
         ],
         "yaxis": "y"
        }
       ],
       "frames": [
        {
         "data": [
          {
           "alignmentgroup": "True",
           "hovertemplate": "Region=%{x}<br>Year=2013<br>Growth Rate (%)=%{y}<extra></extra>",
           "legendgroup": "All Africa",
           "marker": {
            "color": "gray",
            "pattern": {
             "shape": ""
            }
           },
           "name": "All Africa",
           "offsetgroup": "All Africa",
           "orientation": "v",
           "showlegend": true,
           "textposition": "auto",
           "type": "bar",
           "x": [
            "All Africa"
           ],
           "xaxis": "x",
           "y": [
            -6.54
           ],
           "yaxis": "y"
          },
          {
           "alignmentgroup": "True",
           "hovertemplate": "Region=%{x}<br>Year=2013<br>Growth Rate (%)=%{y}<extra></extra>",
           "legendgroup": "All America",
           "marker": {
            "color": "gray",
            "pattern": {
             "shape": ""
            }
           },
           "name": "All America",
           "offsetgroup": "All America",
           "orientation": "v",
           "showlegend": true,
           "textposition": "auto",
           "type": "bar",
           "x": [
            "All America"
           ],
           "xaxis": "x",
           "y": [
            19.99
           ],
           "yaxis": "y"
          },
          {
           "alignmentgroup": "True",
           "hovertemplate": "Region=%{x}<br>Year=2013<br>Growth Rate (%)=%{y}<extra></extra>",
           "legendgroup": "All European Union",
           "marker": {
            "color": "crimson",
            "pattern": {
             "shape": ""
            }
           },
           "name": "All European Union",
           "offsetgroup": "All European Union",
           "orientation": "v",
           "showlegend": true,
           "textposition": "auto",
           "type": "bar",
           "x": [
            "All European Union"
           ],
           "xaxis": "x",
           "y": [
            0.62
           ],
           "yaxis": "y"
          },
          {
           "alignmentgroup": "True",
           "hovertemplate": "Region=%{x}<br>Year=2013<br>Growth Rate (%)=%{y}<extra></extra>",
           "legendgroup": "Asia",
           "marker": {
            "color": "gray",
            "pattern": {
             "shape": ""
            }
           },
           "name": "Asia",
           "offsetgroup": "Asia",
           "orientation": "v",
           "showlegend": true,
           "textposition": "auto",
           "type": "bar",
           "x": [
            "Asia"
           ],
           "xaxis": "x",
           "y": [
            -2.17
           ],
           "yaxis": "y"
          },
          {
           "alignmentgroup": "True",
           "hovertemplate": "Region=%{x}<br>Year=2013<br>Growth Rate (%)=%{y}<extra></extra>",
           "legendgroup": "Other Europe & Mediterranean",
           "marker": {
            "color": "gray",
            "pattern": {
             "shape": ""
            }
           },
           "name": "Other Europe & Mediterranean",
           "offsetgroup": "Other Europe & Mediterranean",
           "orientation": "v",
           "showlegend": true,
           "textposition": "auto",
           "type": "bar",
           "x": [
            "Other Europe & Mediterranean"
           ],
           "xaxis": "x",
           "y": [
            5.85
           ],
           "yaxis": "y"
          },
          {
           "alignmentgroup": "True",
           "hovertemplate": "Region=%{x}<br>Year=2013<br>Growth Rate (%)=%{y}<extra></extra>",
           "legendgroup": "UK Domestic",
           "marker": {
            "color": "gray",
            "pattern": {
             "shape": ""
            }
           },
           "name": "UK Domestic",
           "offsetgroup": "UK Domestic",
           "orientation": "v",
           "showlegend": true,
           "textposition": "auto",
           "type": "bar",
           "x": [
            "UK Domestic"
           ],
           "xaxis": "x",
           "y": [
            -11.29
           ],
           "yaxis": "y"
          }
         ],
         "name": "2013"
        },
        {
         "data": [
          {
           "alignmentgroup": "True",
           "hovertemplate": "Region=%{x}<br>Year=2014<br>Growth Rate (%)=%{y}<extra></extra>",
           "legendgroup": "All Africa",
           "marker": {
            "color": "gray",
            "pattern": {
             "shape": ""
            }
           },
           "name": "All Africa",
           "offsetgroup": "All Africa",
           "orientation": "v",
           "showlegend": true,
           "textposition": "auto",
           "type": "bar",
           "x": [
            "All Africa"
           ],
           "xaxis": "x",
           "y": [
            -11.76
           ],
           "yaxis": "y"
          },
          {
           "alignmentgroup": "True",
           "hovertemplate": "Region=%{x}<br>Year=2014<br>Growth Rate (%)=%{y}<extra></extra>",
           "legendgroup": "All America",
           "marker": {
            "color": "gray",
            "pattern": {
             "shape": ""
            }
           },
           "name": "All America",
           "offsetgroup": "All America",
           "orientation": "v",
           "showlegend": true,
           "textposition": "auto",
           "type": "bar",
           "x": [
            "All America"
           ],
           "xaxis": "x",
           "y": [
            -10.12
           ],
           "yaxis": "y"
          },
          {
           "alignmentgroup": "True",
           "hovertemplate": "Region=%{x}<br>Year=2014<br>Growth Rate (%)=%{y}<extra></extra>",
           "legendgroup": "All European Union",
           "marker": {
            "color": "crimson",
            "pattern": {
             "shape": ""
            }
           },
           "name": "All European Union",
           "offsetgroup": "All European Union",
           "orientation": "v",
           "showlegend": true,
           "textposition": "auto",
           "type": "bar",
           "x": [
            "All European Union"
           ],
           "xaxis": "x",
           "y": [
            2.05
           ],
           "yaxis": "y"
          },
          {
           "alignmentgroup": "True",
           "hovertemplate": "Region=%{x}<br>Year=2014<br>Growth Rate (%)=%{y}<extra></extra>",
           "legendgroup": "Asia",
           "marker": {
            "color": "gray",
            "pattern": {
             "shape": ""
            }
           },
           "name": "Asia",
           "offsetgroup": "Asia",
           "orientation": "v",
           "showlegend": true,
           "textposition": "auto",
           "type": "bar",
           "x": [
            "Asia"
           ],
           "xaxis": "x",
           "y": [
            5.13
           ],
           "yaxis": "y"
          },
          {
           "alignmentgroup": "True",
           "hovertemplate": "Region=%{x}<br>Year=2014<br>Growth Rate (%)=%{y}<extra></extra>",
           "legendgroup": "Other Europe & Mediterranean",
           "marker": {
            "color": "gray",
            "pattern": {
             "shape": ""
            }
           },
           "name": "Other Europe & Mediterranean",
           "offsetgroup": "Other Europe & Mediterranean",
           "orientation": "v",
           "showlegend": true,
           "textposition": "auto",
           "type": "bar",
           "x": [
            "Other Europe & Mediterranean"
           ],
           "xaxis": "x",
           "y": [
            -0.19
           ],
           "yaxis": "y"
          },
          {
           "alignmentgroup": "True",
           "hovertemplate": "Region=%{x}<br>Year=2014<br>Growth Rate (%)=%{y}<extra></extra>",
           "legendgroup": "UK Domestic",
           "marker": {
            "color": "gray",
            "pattern": {
             "shape": ""
            }
           },
           "name": "UK Domestic",
           "offsetgroup": "UK Domestic",
           "orientation": "v",
           "showlegend": true,
           "textposition": "auto",
           "type": "bar",
           "x": [
            "UK Domestic"
           ],
           "xaxis": "x",
           "y": [
            2.82
           ],
           "yaxis": "y"
          }
         ],
         "name": "2014"
        },
        {
         "data": [
          {
           "alignmentgroup": "True",
           "hovertemplate": "Region=%{x}<br>Year=2015<br>Growth Rate (%)=%{y}<extra></extra>",
           "legendgroup": "All Africa",
           "marker": {
            "color": "gray",
            "pattern": {
             "shape": ""
            }
           },
           "name": "All Africa",
           "offsetgroup": "All Africa",
           "orientation": "v",
           "showlegend": true,
           "textposition": "auto",
           "type": "bar",
           "x": [
            "All Africa"
           ],
           "xaxis": "x",
           "y": [
            -13.07
           ],
           "yaxis": "y"
          },
          {
           "alignmentgroup": "True",
           "hovertemplate": "Region=%{x}<br>Year=2015<br>Growth Rate (%)=%{y}<extra></extra>",
           "legendgroup": "All America",
           "marker": {
            "color": "gray",
            "pattern": {
             "shape": ""
            }
           },
           "name": "All America",
           "offsetgroup": "All America",
           "orientation": "v",
           "showlegend": true,
           "textposition": "auto",
           "type": "bar",
           "x": [
            "All America"
           ],
           "xaxis": "x",
           "y": [
            -14.06
           ],
           "yaxis": "y"
          },
          {
           "alignmentgroup": "True",
           "hovertemplate": "Region=%{x}<br>Year=2015<br>Growth Rate (%)=%{y}<extra></extra>",
           "legendgroup": "All European Union",
           "marker": {
            "color": "crimson",
            "pattern": {
             "shape": ""
            }
           },
           "name": "All European Union",
           "offsetgroup": "All European Union",
           "orientation": "v",
           "showlegend": true,
           "textposition": "auto",
           "type": "bar",
           "x": [
            "All European Union"
           ],
           "xaxis": "x",
           "y": [
            -0.45
           ],
           "yaxis": "y"
          },
          {
           "alignmentgroup": "True",
           "hovertemplate": "Region=%{x}<br>Year=2015<br>Growth Rate (%)=%{y}<extra></extra>",
           "legendgroup": "Asia",
           "marker": {
            "color": "gray",
            "pattern": {
             "shape": ""
            }
           },
           "name": "Asia",
           "offsetgroup": "Asia",
           "orientation": "v",
           "showlegend": true,
           "textposition": "auto",
           "type": "bar",
           "x": [
            "Asia"
           ],
           "xaxis": "x",
           "y": [
            8.39
           ],
           "yaxis": "y"
          },
          {
           "alignmentgroup": "True",
           "hovertemplate": "Region=%{x}<br>Year=2015<br>Growth Rate (%)=%{y}<extra></extra>",
           "legendgroup": "Other Europe & Mediterranean",
           "marker": {
            "color": "gray",
            "pattern": {
             "shape": ""
            }
           },
           "name": "Other Europe & Mediterranean",
           "offsetgroup": "Other Europe & Mediterranean",
           "orientation": "v",
           "showlegend": true,
           "textposition": "auto",
           "type": "bar",
           "x": [
            "Other Europe & Mediterranean"
           ],
           "xaxis": "x",
           "y": [
            -11.43
           ],
           "yaxis": "y"
          },
          {
           "alignmentgroup": "True",
           "hovertemplate": "Region=%{x}<br>Year=2015<br>Growth Rate (%)=%{y}<extra></extra>",
           "legendgroup": "UK Domestic",
           "marker": {
            "color": "gray",
            "pattern": {
             "shape": ""
            }
           },
           "name": "UK Domestic",
           "offsetgroup": "UK Domestic",
           "orientation": "v",
           "showlegend": true,
           "textposition": "auto",
           "type": "bar",
           "x": [
            "UK Domestic"
           ],
           "xaxis": "x",
           "y": [
            9.81
           ],
           "yaxis": "y"
          }
         ],
         "name": "2015"
        },
        {
         "data": [
          {
           "alignmentgroup": "True",
           "hovertemplate": "Region=%{x}<br>Year=2016<br>Growth Rate (%)=%{y}<extra></extra>",
           "legendgroup": "All Africa",
           "marker": {
            "color": "gray",
            "pattern": {
             "shape": ""
            }
           },
           "name": "All Africa",
           "offsetgroup": "All Africa",
           "orientation": "v",
           "showlegend": true,
           "textposition": "auto",
           "type": "bar",
           "x": [
            "All Africa"
           ],
           "xaxis": "x",
           "y": [
            -26.1
           ],
           "yaxis": "y"
          },
          {
           "alignmentgroup": "True",
           "hovertemplate": "Region=%{x}<br>Year=2016<br>Growth Rate (%)=%{y}<extra></extra>",
           "legendgroup": "All America",
           "marker": {
            "color": "gray",
            "pattern": {
             "shape": ""
            }
           },
           "name": "All America",
           "offsetgroup": "All America",
           "orientation": "v",
           "showlegend": true,
           "textposition": "auto",
           "type": "bar",
           "x": [
            "All America"
           ],
           "xaxis": "x",
           "y": [
            -14.2
           ],
           "yaxis": "y"
          },
          {
           "alignmentgroup": "True",
           "hovertemplate": "Region=%{x}<br>Year=2016<br>Growth Rate (%)=%{y}<extra></extra>",
           "legendgroup": "All European Union",
           "marker": {
            "color": "crimson",
            "pattern": {
             "shape": ""
            }
           },
           "name": "All European Union",
           "offsetgroup": "All European Union",
           "orientation": "v",
           "showlegend": true,
           "textposition": "auto",
           "type": "bar",
           "x": [
            "All European Union"
           ],
           "xaxis": "x",
           "y": [
            1.75
           ],
           "yaxis": "y"
          },
          {
           "alignmentgroup": "True",
           "hovertemplate": "Region=%{x}<br>Year=2016<br>Growth Rate (%)=%{y}<extra></extra>",
           "legendgroup": "Asia",
           "marker": {
            "color": "gray",
            "pattern": {
             "shape": ""
            }
           },
           "name": "Asia",
           "offsetgroup": "Asia",
           "orientation": "v",
           "showlegend": true,
           "textposition": "auto",
           "type": "bar",
           "x": [
            "Asia"
           ],
           "xaxis": "x",
           "y": [
            7.43
           ],
           "yaxis": "y"
          },
          {
           "alignmentgroup": "True",
           "hovertemplate": "Region=%{x}<br>Year=2016<br>Growth Rate (%)=%{y}<extra></extra>",
           "legendgroup": "Other Europe & Mediterranean",
           "marker": {
            "color": "gray",
            "pattern": {
             "shape": ""
            }
           },
           "name": "Other Europe & Mediterranean",
           "offsetgroup": "Other Europe & Mediterranean",
           "orientation": "v",
           "showlegend": true,
           "textposition": "auto",
           "type": "bar",
           "x": [
            "Other Europe & Mediterranean"
           ],
           "xaxis": "x",
           "y": [
            -7.42
           ],
           "yaxis": "y"
          },
          {
           "alignmentgroup": "True",
           "hovertemplate": "Region=%{x}<br>Year=2016<br>Growth Rate (%)=%{y}<extra></extra>",
           "legendgroup": "UK Domestic",
           "marker": {
            "color": "gray",
            "pattern": {
             "shape": ""
            }
           },
           "name": "UK Domestic",
           "offsetgroup": "UK Domestic",
           "orientation": "v",
           "showlegend": true,
           "textposition": "auto",
           "type": "bar",
           "x": [
            "UK Domestic"
           ],
           "xaxis": "x",
           "y": [
            -4.8
           ],
           "yaxis": "y"
          }
         ],
         "name": "2016"
        },
        {
         "data": [
          {
           "alignmentgroup": "True",
           "hovertemplate": "Region=%{x}<br>Year=2017<br>Growth Rate (%)=%{y}<extra></extra>",
           "legendgroup": "All Africa",
           "marker": {
            "color": "gray",
            "pattern": {
             "shape": ""
            }
           },
           "name": "All Africa",
           "offsetgroup": "All Africa",
           "orientation": "v",
           "showlegend": true,
           "textposition": "auto",
           "type": "bar",
           "x": [
            "All Africa"
           ],
           "xaxis": "x",
           "y": [
            11.01
           ],
           "yaxis": "y"
          },
          {
           "alignmentgroup": "True",
           "hovertemplate": "Region=%{x}<br>Year=2017<br>Growth Rate (%)=%{y}<extra></extra>",
           "legendgroup": "All America",
           "marker": {
            "color": "gray",
            "pattern": {
             "shape": ""
            }
           },
           "name": "All America",
           "offsetgroup": "All America",
           "orientation": "v",
           "showlegend": true,
           "textposition": "auto",
           "type": "bar",
           "x": [
            "All America"
           ],
           "xaxis": "x",
           "y": [
            -1.47
           ],
           "yaxis": "y"
          },
          {
           "alignmentgroup": "True",
           "hovertemplate": "Region=%{x}<br>Year=2017<br>Growth Rate (%)=%{y}<extra></extra>",
           "legendgroup": "All European Union",
           "marker": {
            "color": "crimson",
            "pattern": {
             "shape": ""
            }
           },
           "name": "All European Union",
           "offsetgroup": "All European Union",
           "orientation": "v",
           "showlegend": true,
           "textposition": "auto",
           "type": "bar",
           "x": [
            "All European Union"
           ],
           "xaxis": "x",
           "y": [
            0.42
           ],
           "yaxis": "y"
          },
          {
           "alignmentgroup": "True",
           "hovertemplate": "Region=%{x}<br>Year=2017<br>Growth Rate (%)=%{y}<extra></extra>",
           "legendgroup": "Asia",
           "marker": {
            "color": "gray",
            "pattern": {
             "shape": ""
            }
           },
           "name": "Asia",
           "offsetgroup": "Asia",
           "orientation": "v",
           "showlegend": true,
           "textposition": "auto",
           "type": "bar",
           "x": [
            "Asia"
           ],
           "xaxis": "x",
           "y": [
            -2.41
           ],
           "yaxis": "y"
          },
          {
           "alignmentgroup": "True",
           "hovertemplate": "Region=%{x}<br>Year=2017<br>Growth Rate (%)=%{y}<extra></extra>",
           "legendgroup": "Other Europe & Mediterranean",
           "marker": {
            "color": "gray",
            "pattern": {
             "shape": ""
            }
           },
           "name": "Other Europe & Mediterranean",
           "offsetgroup": "Other Europe & Mediterranean",
           "orientation": "v",
           "showlegend": true,
           "textposition": "auto",
           "type": "bar",
           "x": [
            "Other Europe & Mediterranean"
           ],
           "xaxis": "x",
           "y": [
            8.75
           ],
           "yaxis": "y"
          },
          {
           "alignmentgroup": "True",
           "hovertemplate": "Region=%{x}<br>Year=2017<br>Growth Rate (%)=%{y}<extra></extra>",
           "legendgroup": "UK Domestic",
           "marker": {
            "color": "gray",
            "pattern": {
             "shape": ""
            }
           },
           "name": "UK Domestic",
           "offsetgroup": "UK Domestic",
           "orientation": "v",
           "showlegend": true,
           "textposition": "auto",
           "type": "bar",
           "x": [
            "UK Domestic"
           ],
           "xaxis": "x",
           "y": [
            -8.2
           ],
           "yaxis": "y"
          }
         ],
         "name": "2017"
        },
        {
         "data": [
          {
           "alignmentgroup": "True",
           "hovertemplate": "Region=%{x}<br>Year=2018<br>Growth Rate (%)=%{y}<extra></extra>",
           "legendgroup": "All Africa",
           "marker": {
            "color": "gray",
            "pattern": {
             "shape": ""
            }
           },
           "name": "All Africa",
           "offsetgroup": "All Africa",
           "orientation": "v",
           "showlegend": true,
           "textposition": "auto",
           "type": "bar",
           "x": [
            "All Africa"
           ],
           "xaxis": "x",
           "y": [
            17.05
           ],
           "yaxis": "y"
          },
          {
           "alignmentgroup": "True",
           "hovertemplate": "Region=%{x}<br>Year=2018<br>Growth Rate (%)=%{y}<extra></extra>",
           "legendgroup": "All America",
           "marker": {
            "color": "gray",
            "pattern": {
             "shape": ""
            }
           },
           "name": "All America",
           "offsetgroup": "All America",
           "orientation": "v",
           "showlegend": true,
           "textposition": "auto",
           "type": "bar",
           "x": [
            "All America"
           ],
           "xaxis": "x",
           "y": [
            22.36
           ],
           "yaxis": "y"
          },
          {
           "alignmentgroup": "True",
           "hovertemplate": "Region=%{x}<br>Year=2018<br>Growth Rate (%)=%{y}<extra></extra>",
           "legendgroup": "All European Union",
           "marker": {
            "color": "crimson",
            "pattern": {
             "shape": ""
            }
           },
           "name": "All European Union",
           "offsetgroup": "All European Union",
           "orientation": "v",
           "showlegend": true,
           "textposition": "auto",
           "type": "bar",
           "x": [
            "All European Union"
           ],
           "xaxis": "x",
           "y": [
            -0.71
           ],
           "yaxis": "y"
          },
          {
           "alignmentgroup": "True",
           "hovertemplate": "Region=%{x}<br>Year=2018<br>Growth Rate (%)=%{y}<extra></extra>",
           "legendgroup": "Asia",
           "marker": {
            "color": "gray",
            "pattern": {
             "shape": ""
            }
           },
           "name": "Asia",
           "offsetgroup": "Asia",
           "orientation": "v",
           "showlegend": true,
           "textposition": "auto",
           "type": "bar",
           "x": [
            "Asia"
           ],
           "xaxis": "x",
           "y": [
            -6.79
           ],
           "yaxis": "y"
          },
          {
           "alignmentgroup": "True",
           "hovertemplate": "Region=%{x}<br>Year=2018<br>Growth Rate (%)=%{y}<extra></extra>",
           "legendgroup": "Other Europe & Mediterranean",
           "marker": {
            "color": "gray",
            "pattern": {
             "shape": ""
            }
           },
           "name": "Other Europe & Mediterranean",
           "offsetgroup": "Other Europe & Mediterranean",
           "orientation": "v",
           "showlegend": true,
           "textposition": "auto",
           "type": "bar",
           "x": [
            "Other Europe & Mediterranean"
           ],
           "xaxis": "x",
           "y": [
            -4.03
           ],
           "yaxis": "y"
          },
          {
           "alignmentgroup": "True",
           "hovertemplate": "Region=%{x}<br>Year=2018<br>Growth Rate (%)=%{y}<extra></extra>",
           "legendgroup": "UK Domestic",
           "marker": {
            "color": "gray",
            "pattern": {
             "shape": ""
            }
           },
           "name": "UK Domestic",
           "offsetgroup": "UK Domestic",
           "orientation": "v",
           "showlegend": true,
           "textposition": "auto",
           "type": "bar",
           "x": [
            "UK Domestic"
           ],
           "xaxis": "x",
           "y": [
            -1.8
           ],
           "yaxis": "y"
          }
         ],
         "name": "2018"
        },
        {
         "data": [
          {
           "alignmentgroup": "True",
           "hovertemplate": "Region=%{x}<br>Year=2019<br>Growth Rate (%)=%{y}<extra></extra>",
           "legendgroup": "All Africa",
           "marker": {
            "color": "gray",
            "pattern": {
             "shape": ""
            }
           },
           "name": "All Africa",
           "offsetgroup": "All Africa",
           "orientation": "v",
           "showlegend": true,
           "textposition": "auto",
           "type": "bar",
           "x": [
            "All Africa"
           ],
           "xaxis": "x",
           "y": [
            -12.52
           ],
           "yaxis": "y"
          },
          {
           "alignmentgroup": "True",
           "hovertemplate": "Region=%{x}<br>Year=2019<br>Growth Rate (%)=%{y}<extra></extra>",
           "legendgroup": "All America",
           "marker": {
            "color": "gray",
            "pattern": {
             "shape": ""
            }
           },
           "name": "All America",
           "offsetgroup": "All America",
           "orientation": "v",
           "showlegend": true,
           "textposition": "auto",
           "type": "bar",
           "x": [
            "All America"
           ],
           "xaxis": "x",
           "y": [
            5.36
           ],
           "yaxis": "y"
          },
          {
           "alignmentgroup": "True",
           "hovertemplate": "Region=%{x}<br>Year=2019<br>Growth Rate (%)=%{y}<extra></extra>",
           "legendgroup": "All European Union",
           "marker": {
            "color": "crimson",
            "pattern": {
             "shape": ""
            }
           },
           "name": "All European Union",
           "offsetgroup": "All European Union",
           "orientation": "v",
           "showlegend": true,
           "textposition": "auto",
           "type": "bar",
           "x": [
            "All European Union"
           ],
           "xaxis": "x",
           "y": [
            -5.25
           ],
           "yaxis": "y"
          },
          {
           "alignmentgroup": "True",
           "hovertemplate": "Region=%{x}<br>Year=2019<br>Growth Rate (%)=%{y}<extra></extra>",
           "legendgroup": "Asia",
           "marker": {
            "color": "gray",
            "pattern": {
             "shape": ""
            }
           },
           "name": "Asia",
           "offsetgroup": "Asia",
           "orientation": "v",
           "showlegend": true,
           "textposition": "auto",
           "type": "bar",
           "x": [
            "Asia"
           ],
           "xaxis": "x",
           "y": [
            12.95
           ],
           "yaxis": "y"
          },
          {
           "alignmentgroup": "True",
           "hovertemplate": "Region=%{x}<br>Year=2019<br>Growth Rate (%)=%{y}<extra></extra>",
           "legendgroup": "Other Europe & Mediterranean",
           "marker": {
            "color": "gray",
            "pattern": {
             "shape": ""
            }
           },
           "name": "Other Europe & Mediterranean",
           "offsetgroup": "Other Europe & Mediterranean",
           "orientation": "v",
           "showlegend": true,
           "textposition": "auto",
           "type": "bar",
           "x": [
            "Other Europe & Mediterranean"
           ],
           "xaxis": "x",
           "y": [
            1.14
           ],
           "yaxis": "y"
          },
          {
           "alignmentgroup": "True",
           "hovertemplate": "Region=%{x}<br>Year=2019<br>Growth Rate (%)=%{y}<extra></extra>",
           "legendgroup": "UK Domestic",
           "marker": {
            "color": "gray",
            "pattern": {
             "shape": ""
            }
           },
           "name": "UK Domestic",
           "offsetgroup": "UK Domestic",
           "orientation": "v",
           "showlegend": true,
           "textposition": "auto",
           "type": "bar",
           "x": [
            "UK Domestic"
           ],
           "xaxis": "x",
           "y": [
            2.79
           ],
           "yaxis": "y"
          }
         ],
         "name": "2019"
        },
        {
         "data": [
          {
           "alignmentgroup": "True",
           "hovertemplate": "Region=%{x}<br>Year=2020<br>Growth Rate (%)=%{y}<extra></extra>",
           "legendgroup": "All Africa",
           "marker": {
            "color": "gray",
            "pattern": {
             "shape": ""
            }
           },
           "name": "All Africa",
           "offsetgroup": "All Africa",
           "orientation": "v",
           "showlegend": true,
           "textposition": "auto",
           "type": "bar",
           "x": [
            "All Africa"
           ],
           "xaxis": "x",
           "y": [
            -24.15
           ],
           "yaxis": "y"
          },
          {
           "alignmentgroup": "True",
           "hovertemplate": "Region=%{x}<br>Year=2020<br>Growth Rate (%)=%{y}<extra></extra>",
           "legendgroup": "All America",
           "marker": {
            "color": "gray",
            "pattern": {
             "shape": ""
            }
           },
           "name": "All America",
           "offsetgroup": "All America",
           "orientation": "v",
           "showlegend": true,
           "textposition": "auto",
           "type": "bar",
           "x": [
            "All America"
           ],
           "xaxis": "x",
           "y": [
            -12.21
           ],
           "yaxis": "y"
          },
          {
           "alignmentgroup": "True",
           "hovertemplate": "Region=%{x}<br>Year=2020<br>Growth Rate (%)=%{y}<extra></extra>",
           "legendgroup": "All European Union",
           "marker": {
            "color": "crimson",
            "pattern": {
             "shape": ""
            }
           },
           "name": "All European Union",
           "offsetgroup": "All European Union",
           "orientation": "v",
           "showlegend": true,
           "textposition": "auto",
           "type": "bar",
           "x": [
            "All European Union"
           ],
           "xaxis": "x",
           "y": [
            -2.67
           ],
           "yaxis": "y"
          },
          {
           "alignmentgroup": "True",
           "hovertemplate": "Region=%{x}<br>Year=2020<br>Growth Rate (%)=%{y}<extra></extra>",
           "legendgroup": "Asia",
           "marker": {
            "color": "gray",
            "pattern": {
             "shape": ""
            }
           },
           "name": "Asia",
           "offsetgroup": "Asia",
           "orientation": "v",
           "showlegend": true,
           "textposition": "auto",
           "type": "bar",
           "x": [
            "Asia"
           ],
           "xaxis": "x",
           "y": [
            -24.14
           ],
           "yaxis": "y"
          },
          {
           "alignmentgroup": "True",
           "hovertemplate": "Region=%{x}<br>Year=2020<br>Growth Rate (%)=%{y}<extra></extra>",
           "legendgroup": "Other Europe & Mediterranean",
           "marker": {
            "color": "gray",
            "pattern": {
             "shape": ""
            }
           },
           "name": "Other Europe & Mediterranean",
           "offsetgroup": "Other Europe & Mediterranean",
           "orientation": "v",
           "showlegend": true,
           "textposition": "auto",
           "type": "bar",
           "x": [
            "Other Europe & Mediterranean"
           ],
           "xaxis": "x",
           "y": [
            -13.89
           ],
           "yaxis": "y"
          },
          {
           "alignmentgroup": "True",
           "hovertemplate": "Region=%{x}<br>Year=2020<br>Growth Rate (%)=%{y}<extra></extra>",
           "legendgroup": "UK Domestic",
           "marker": {
            "color": "gray",
            "pattern": {
             "shape": ""
            }
           },
           "name": "UK Domestic",
           "offsetgroup": "UK Domestic",
           "orientation": "v",
           "showlegend": true,
           "textposition": "auto",
           "type": "bar",
           "x": [
            "UK Domestic"
           ],
           "xaxis": "x",
           "y": [
            -6.19
           ],
           "yaxis": "y"
          }
         ],
         "name": "2020"
        },
        {
         "data": [
          {
           "alignmentgroup": "True",
           "hovertemplate": "Region=%{x}<br>Year=2021<br>Growth Rate (%)=%{y}<extra></extra>",
           "legendgroup": "All Africa",
           "marker": {
            "color": "gray",
            "pattern": {
             "shape": ""
            }
           },
           "name": "All Africa",
           "offsetgroup": "All Africa",
           "orientation": "v",
           "showlegend": true,
           "textposition": "auto",
           "type": "bar",
           "x": [
            "All Africa"
           ],
           "xaxis": "x",
           "y": [
            -3.56
           ],
           "yaxis": "y"
          },
          {
           "alignmentgroup": "True",
           "hovertemplate": "Region=%{x}<br>Year=2021<br>Growth Rate (%)=%{y}<extra></extra>",
           "legendgroup": "All America",
           "marker": {
            "color": "gray",
            "pattern": {
             "shape": ""
            }
           },
           "name": "All America",
           "offsetgroup": "All America",
           "orientation": "v",
           "showlegend": true,
           "textposition": "auto",
           "type": "bar",
           "x": [
            "All America"
           ],
           "xaxis": "x",
           "y": [
            0.13
           ],
           "yaxis": "y"
          },
          {
           "alignmentgroup": "True",
           "hovertemplate": "Region=%{x}<br>Year=2021<br>Growth Rate (%)=%{y}<extra></extra>",
           "legendgroup": "All European Union",
           "marker": {
            "color": "crimson",
            "pattern": {
             "shape": ""
            }
           },
           "name": "All European Union",
           "offsetgroup": "All European Union",
           "orientation": "v",
           "showlegend": true,
           "textposition": "auto",
           "type": "bar",
           "x": [
            "All European Union"
           ],
           "xaxis": "x",
           "y": [
            -2.7
           ],
           "yaxis": "y"
          },
          {
           "alignmentgroup": "True",
           "hovertemplate": "Region=%{x}<br>Year=2021<br>Growth Rate (%)=%{y}<extra></extra>",
           "legendgroup": "Asia",
           "marker": {
            "color": "gray",
            "pattern": {
             "shape": ""
            }
           },
           "name": "Asia",
           "offsetgroup": "Asia",
           "orientation": "v",
           "showlegend": true,
           "textposition": "auto",
           "type": "bar",
           "x": [
            "Asia"
           ],
           "xaxis": "x",
           "y": [
            -7.69
           ],
           "yaxis": "y"
          },
          {
           "alignmentgroup": "True",
           "hovertemplate": "Region=%{x}<br>Year=2021<br>Growth Rate (%)=%{y}<extra></extra>",
           "legendgroup": "Other Europe & Mediterranean",
           "marker": {
            "color": "gray",
            "pattern": {
             "shape": ""
            }
           },
           "name": "Other Europe & Mediterranean",
           "offsetgroup": "Other Europe & Mediterranean",
           "orientation": "v",
           "showlegend": true,
           "textposition": "auto",
           "type": "bar",
           "x": [
            "Other Europe & Mediterranean"
           ],
           "xaxis": "x",
           "y": [
            12.35
           ],
           "yaxis": "y"
          },
          {
           "alignmentgroup": "True",
           "hovertemplate": "Region=%{x}<br>Year=2021<br>Growth Rate (%)=%{y}<extra></extra>",
           "legendgroup": "UK Domestic",
           "marker": {
            "color": "gray",
            "pattern": {
             "shape": ""
            }
           },
           "name": "UK Domestic",
           "offsetgroup": "UK Domestic",
           "orientation": "v",
           "showlegend": true,
           "textposition": "auto",
           "type": "bar",
           "x": [
            "UK Domestic"
           ],
           "xaxis": "x",
           "y": [
            9.2
           ],
           "yaxis": "y"
          }
         ],
         "name": "2021"
        }
       ],
       "layout": {
        "autosize": false,
        "barmode": "relative",
        "legend": {
         "title": {
          "text": "Region"
         },
         "tracegroupgap": 0
        },
        "margin": {
         "t": 60
        },
        "showlegend": false,
        "sliders": [
         {
          "active": 0,
          "currentvalue": {
           "prefix": "Year="
          },
          "len": 0.9,
          "pad": {
           "b": 10,
           "t": 60
          },
          "steps": [
           {
            "args": [
             [
              "2013"
             ],
             {
              "frame": {
               "duration": 0,
               "redraw": true
              },
              "fromcurrent": true,
              "mode": "immediate",
              "transition": {
               "duration": 0,
               "easing": "linear"
              }
             }
            ],
            "label": "2013",
            "method": "animate"
           },
           {
            "args": [
             [
              "2014"
             ],
             {
              "frame": {
               "duration": 0,
               "redraw": true
              },
              "fromcurrent": true,
              "mode": "immediate",
              "transition": {
               "duration": 0,
               "easing": "linear"
              }
             }
            ],
            "label": "2014",
            "method": "animate"
           },
           {
            "args": [
             [
              "2015"
             ],
             {
              "frame": {
               "duration": 0,
               "redraw": true
              },
              "fromcurrent": true,
              "mode": "immediate",
              "transition": {
               "duration": 0,
               "easing": "linear"
              }
             }
            ],
            "label": "2015",
            "method": "animate"
           },
           {
            "args": [
             [
              "2016"
             ],
             {
              "frame": {
               "duration": 0,
               "redraw": true
              },
              "fromcurrent": true,
              "mode": "immediate",
              "transition": {
               "duration": 0,
               "easing": "linear"
              }
             }
            ],
            "label": "2016",
            "method": "animate"
           },
           {
            "args": [
             [
              "2017"
             ],
             {
              "frame": {
               "duration": 0,
               "redraw": true
              },
              "fromcurrent": true,
              "mode": "immediate",
              "transition": {
               "duration": 0,
               "easing": "linear"
              }
             }
            ],
            "label": "2017",
            "method": "animate"
           },
           {
            "args": [
             [
              "2018"
             ],
             {
              "frame": {
               "duration": 0,
               "redraw": true
              },
              "fromcurrent": true,
              "mode": "immediate",
              "transition": {
               "duration": 0,
               "easing": "linear"
              }
             }
            ],
            "label": "2018",
            "method": "animate"
           },
           {
            "args": [
             [
              "2019"
             ],
             {
              "frame": {
               "duration": 0,
               "redraw": true
              },
              "fromcurrent": true,
              "mode": "immediate",
              "transition": {
               "duration": 0,
               "easing": "linear"
              }
             }
            ],
            "label": "2019",
            "method": "animate"
           },
           {
            "args": [
             [
              "2020"
             ],
             {
              "frame": {
               "duration": 0,
               "redraw": true
              },
              "fromcurrent": true,
              "mode": "immediate",
              "transition": {
               "duration": 0,
               "easing": "linear"
              }
             }
            ],
            "label": "2020",
            "method": "animate"
           },
           {
            "args": [
             [
              "2021"
             ],
             {
              "frame": {
               "duration": 0,
               "redraw": true
              },
              "fromcurrent": true,
              "mode": "immediate",
              "transition": {
               "duration": 0,
               "easing": "linear"
              }
             }
            ],
            "label": "2021",
            "method": "animate"
           }
          ],
          "x": 0.1,
          "xanchor": "left",
          "y": 0,
          "yanchor": "top"
         }
        ],
        "template": {
         "data": {
          "scatter": [
           {
            "type": "scatter"
           }
          ]
         }
        },
        "title": {
         "text": "UK Trade Growth Rate"
        },
        "updatemenus": [
         {
          "buttons": [
           {
            "args": [
             null,
             {
              "frame": {
               "duration": 500,
               "redraw": true
              },
              "fromcurrent": true,
              "mode": "immediate",
              "transition": {
               "duration": 500,
               "easing": "linear"
              }
             }
            ],
            "label": "&#9654;",
            "method": "animate"
           },
           {
            "args": [
             [
              null
             ],
             {
              "frame": {
               "duration": 0,
               "redraw": true
              },
              "fromcurrent": true,
              "mode": "immediate",
              "transition": {
               "duration": 0,
               "easing": "linear"
              }
             }
            ],
            "label": "&#9724;",
            "method": "animate"
           }
          ],
          "direction": "left",
          "pad": {
           "r": 10,
           "t": 70
          },
          "showactive": false,
          "type": "buttons",
          "x": 0.1,
          "xanchor": "right",
          "y": 0,
          "yanchor": "top"
         }
        ],
        "xaxis": {
         "anchor": "y",
         "categoryarray": [
          "All Africa",
          "All America",
          "All European Union",
          "Asia",
          "Other Europe & Mediterranean",
          "UK Domestic"
         ],
         "categoryorder": "array",
         "domain": [
          0,
          1
         ],
         "title": {
          "text": "Region"
         }
        },
        "yaxis": {
         "anchor": "x",
         "domain": [
          0,
          1
         ],
         "range": [
          -30,
          30
         ],
         "title": {
          "text": "Growth Rate (%)"
         }
        }
       }
      }
     },
     "metadata": {},
     "output_type": "display_data"
    }
   ],
   "source": [
    "#again, we group the data frame regarding region and year, but this time we put the region first\n",
    "df_region_2 = df.groupby(['Region', 'Year']).sum()\n",
    "df_region_2 = df_region_2.reset_index()\n",
    "\n",
    "#we exclude the asutralia due to its small volume\n",
    "df_region_2 = df_region_2.loc[~df_region_2['Region'].str.contains('Australasia')]\n",
    "\n",
    "#We calculate the growth rate and assign it to a new column\n",
    "df_region_2['Growth Rate (%)'] = df_region_2['Tonnage (thousands)'].pct_change().mul(100).round(2)\n",
    "df_region_2 = df_region_2.loc[df_region_2['Year'] > 2012]\n",
    "\n",
    "#We use animated graphs to see comparison throughout the period\n",
    "fig_3 = px.bar(\n",
    "    df_region_2, x='Region', y='Growth Rate (%)', animation_frame='Year', color='Region',\n",
    "    color_discrete_map={\n",
    "                'All Africa': 'gray',\n",
    "                'All America': 'gray',\n",
    "                'Other Europe & Mediterranean': 'gray',\n",
    "                'UK Domestic': 'gray',\n",
    "                'All European Union': 'crimson',\n",
    "                'Asia': 'gray'},\n",
    "    template='none',\n",
    "    range_y=[-30,30])\n",
    "fig_3.update_layout(showlegend=False, autosize=False)\n",
    "fig_3.update_layout(title='UK Trade Growth Rate')"
   ]
  },
  {
   "cell_type": "markdown",
   "metadata": {},
   "source": [
    "We can see a downtrend in the period of Brexit after 2016 compared to the period before that. In 2018, the volume even drops significantly.\n",
    "\n",
    "In the second graph we can see the growth rate of UK-EU trade (red) has no positive growth rate after 2017, where trade between UK and other countries have some increase in certain year.\n",
    "\n",
    "To see it from another angle, we plot the graphs to show how the EU's market share in the UK is affected by the brexit."
   ]
  },
  {
   "cell_type": "code",
   "execution_count": 15,
   "metadata": {},
   "outputs": [
    {
     "data": {
      "application/vnd.plotly.v1+json": {
       "config": {
        "plotlyServerURL": "https://plot.ly"
       },
       "data": [
        {
         "name": "All Africa",
         "type": "scatter",
         "x": [
          2021,
          2020,
          2019,
          2018,
          2017,
          2016,
          2015,
          2014,
          2013,
          2012
         ],
         "y": [
          1.429757261161659,
          1.5040748960295407,
          1.803800152684706,
          2.060988121179234,
          1.765050845873049,
          1.5830369854812472,
          2.0847444715977757,
          2.3683509583810305,
          2.684629277102553,
          2.8858884875034736
         ]
        },
        {
         "name": "Asia",
         "type": "scatter",
         "x": [
          2021,
          2020,
          2019,
          2018,
          2017,
          2016,
          2015,
          2014,
          2013,
          2012
         ],
         "y": [
          8.93173293146262,
          9.816583055146305,
          11.771990838917635,
          10.41792082481919,
          11.20330275073411,
          11.43010668522675,
          10.354752439167502,
          9.434568408296547,
          8.976830835814582,
          9.218129362342056
         ]
        },
        {
         "name": "All America",
         "type": "scatter",
         "x": [
          2021,
          2020,
          2019,
          2018,
          2017,
          2016,
          2015,
          2014,
          2013,
          2012
         ],
         "y": [
          11.134896239227484,
          11.282193543574346,
          11.690558995673934,
          11.090926819341874,
          9.085539204229153,
          9.180683690889975,
          10.413222459899654,
          11.967004121434918,
          13.317795024487074,
          11.150228026872844
         ]
        },
        {
         "name": "Other Europe & Mediterranean",
         "type": "scatter",
         "x": [
          2021,
          2020,
          2019,
          2018,
          2017,
          2016,
          2015,
          2014,
          2013,
          2012
         ],
         "y": [
          14.206136941498755,
          12.828462729154623,
          13.552464161506489,
          13.393349216981372,
          13.989733085726185,
          12.807515987975435,
          13.462516393223241,
          15.012026782210528,
          15.044703145083874,
          14.279467773836572
         ]
        },
        {
         "name": "UK Domestic",
         "type": "scatter",
         "x": [
          2021,
          2020,
          2019,
          2018,
          2017,
          2016,
          2015,
          2014,
          2013,
          2012
         ],
         "y": [
          21.51098940433534,
          19.98470748400813,
          19.379718381542116,
          18.84480375781111,
          19.235590836269065,
          20.862113099456526,
          21.32694006205234,
          19.1814468330829,
          18.66122419095036,
          21.134576720009154
         ]
        },
        {
         "name": "Australasia",
         "type": "scatter",
         "x": [
          2021,
          2020,
          2019,
          2018,
          2017,
          2016,
          2015,
          2014,
          2013,
          2012
         ],
         "y": [
          0.2840143884509508,
          0.26435538315212326,
          0.3783187717363644,
          0.49240722055943226,
          0.6036486641537657,
          0.3972929919462491,
          0.5243772633971494,
          0.5337329383370711,
          0.633125071183352,
          0.711255864131945
         ]
        },
        {
         "line": {
          "dash": "dashdot"
         },
         "name": "All European Union",
         "type": "scatter",
         "x": [
          2021,
          2020,
          2019,
          2018,
          2017,
          2016,
          2015,
          2014,
          2013,
          2012
         ],
         "y": [
          42.502472833863195,
          44.31962290893493,
          41.42314869793876,
          43.699604039307786,
          44.11713461301467,
          43.739250559023816,
          41.83344691066234,
          41.502869958257,
          40.681692455378204,
          40.62045376530396
         ]
        }
       ],
       "layout": {
        "autosize": false,
        "template": {
         "data": {
          "scatter": [
           {
            "type": "scatter"
           }
          ]
         }
        },
        "title": {
         "text": "The UK Trade Proportion"
        },
        "yaxis": {
         "title": {
          "text": "Proportion (%)"
         }
        }
       }
      }
     },
     "metadata": {},
     "output_type": "display_data"
    }
   ],
   "source": [
    "#We make a new data frame to assign new column for proportion\n",
    "df_region_3 = df.groupby(['Year', 'Region']).sum()\n",
    "df_region_3 = df_region.reset_index()\n",
    "\n",
    "#We calculate the market share of every region in every year then we assign it to a new column\n",
    "df_region_3['Proportion (%)'] = 100 * df_region_3['Tonnage (thousands)'] / df_region_3.groupby('Year')['Tonnage (thousands)'].transform('sum')\n",
    "df_region_3 = df_region_3.sort_values(['Year', 'Tonnage (thousands)'], ascending=False)\n",
    "\n",
    "regions = list(df.Region.unique())\n",
    "regions.remove('All European Union')\n",
    "\n",
    "#We use for loop again to plot the lines\n",
    "fig_4 = go.Figure()\n",
    "for region in regions:\n",
    "    df_story_3 = df_region_3.loc[df_region_3['Region'] == region]\n",
    "    x1 = df_story_3['Year']\n",
    "    y1 = df_story_3['Proportion (%)']\n",
    "    fig_4.add_trace(go.Scatter(x=x1, y=y1, name=region))\n",
    "\n",
    "#We add the EU's line later to modify the line into dash\n",
    "df_story_3_EU = df_region_3.loc[df_region_3['Region'] == 'All European Union']\n",
    "fig_4.add_trace(go.Scatter(x=df_story_3_EU['Year'], y=df_story_3_EU['Proportion (%)'], name='All European Union', line=dict(dash='dashdot')))\n",
    "\n",
    "fig_4.update_yaxes(title_text='Proportion (%)')\n",
    "fig_4.update_layout(title='The UK Trade Proportion', autosize=False, template='none')\n",
    "fig_4.show()"
   ]
  },
  {
   "cell_type": "markdown",
   "metadata": {},
   "source": [
    "From the chart, we can see some decline after 2016 and even significant decrease after 2018 of EU's market share. On the other hand, in the Brexit period the UK Domestic trade shows some increase.\n",
    "\n",
    "Notice that in 2020 the volume of the trade between EU and UK increase, this may happen because the trade behaviour changes due to Covid 19 started in the beginning of 2020.\n",
    "\n",
    "Then, we want to see which country in EU is affected the most by plotting the trade volume between EU with every country in EU to the map chart as follows."
   ]
  },
  {
   "cell_type": "code",
   "execution_count": 16,
   "metadata": {},
   "outputs": [
    {
     "data": {
      "application/vnd.plotly.v1+json": {
       "config": {
        "plotlyServerURL": "https://plot.ly"
       },
       "data": [
        {
         "coloraxis": "coloraxis",
         "geo": "geo",
         "hovertemplate": "<b>%{hovertext}</b><br><br>Year=2012<br>iso_alpha=%{location}<br>Tonnage (thousands)=%{z}<extra></extra>",
         "hovertext": [
          "Belgium",
          "Bulgaria",
          "Denmark",
          "Finland",
          "France",
          "Germany",
          "Greece",
          "Hungary",
          "Italy",
          "Netherlands",
          "Poland",
          "Portugal",
          "Romania",
          "Slovenia",
          "Spain",
          "Sweden"
         ],
         "locations": [
          "BEL",
          "BGR",
          "DNK",
          "FIN",
          "FRA",
          "DEU",
          "GRC",
          "HUN",
          "ITA",
          "NLD",
          "POL",
          "PRT",
          "ROU",
          "SVN",
          "ESP",
          "SWE"
         ],
         "name": "",
         "type": "choropleth",
         "z": [
          24600,
          109,
          6294,
          3978,
          37887,
          16330,
          660,
          0,
          2249,
          53723,
          2570,
          2334,
          72,
          3,
          9155,
          14034
         ]
        }
       ],
       "frames": [
        {
         "data": [
          {
           "coloraxis": "coloraxis",
           "geo": "geo",
           "hovertemplate": "<b>%{hovertext}</b><br><br>Year=2012<br>iso_alpha=%{location}<br>Tonnage (thousands)=%{z}<extra></extra>",
           "hovertext": [
            "Belgium",
            "Bulgaria",
            "Denmark",
            "Finland",
            "France",
            "Germany",
            "Greece",
            "Hungary",
            "Italy",
            "Netherlands",
            "Poland",
            "Portugal",
            "Romania",
            "Slovenia",
            "Spain",
            "Sweden"
           ],
           "locations": [
            "BEL",
            "BGR",
            "DNK",
            "FIN",
            "FRA",
            "DEU",
            "GRC",
            "HUN",
            "ITA",
            "NLD",
            "POL",
            "PRT",
            "ROU",
            "SVN",
            "ESP",
            "SWE"
           ],
           "name": "",
           "type": "choropleth",
           "z": [
            24600,
            109,
            6294,
            3978,
            37887,
            16330,
            660,
            0,
            2249,
            53723,
            2570,
            2334,
            72,
            3,
            9155,
            14034
           ]
          }
         ],
         "name": "2012"
        },
        {
         "data": [
          {
           "coloraxis": "coloraxis",
           "geo": "geo",
           "hovertemplate": "<b>%{hovertext}</b><br><br>Year=2013<br>iso_alpha=%{location}<br>Tonnage (thousands)=%{z}<extra></extra>",
           "hovertext": [
            "Belgium",
            "Bulgaria",
            "Croatia",
            "Denmark",
            "Finland",
            "France",
            "Germany",
            "Greece",
            "Italy",
            "Netherlands",
            "Poland",
            "Portugal",
            "Romania",
            "Slovenia",
            "Spain",
            "Sweden"
           ],
           "locations": [
            "BEL",
            "BGR",
            "HRV",
            "DNK",
            "FIN",
            "FRA",
            "DEU",
            "GRC",
            "ITA",
            "NLD",
            "POL",
            "PRT",
            "ROU",
            "SVN",
            "ESP",
            "SWE"
           ],
           "name": "",
           "type": "choropleth",
           "z": [
            23018,
            245,
            98,
            5708,
            5338,
            39736,
            14243,
            746,
            3114,
            55059,
            3156,
            2526,
            146,
            3,
            9608,
            11598
           ]
          }
         ],
         "name": "2013"
        },
        {
         "data": [
          {
           "coloraxis": "coloraxis",
           "geo": "geo",
           "hovertemplate": "<b>%{hovertext}</b><br><br>Year=2014<br>iso_alpha=%{location}<br>Tonnage (thousands)=%{z}<extra></extra>",
           "hovertext": [
            "Belgium",
            "Bulgaria",
            "Croatia",
            "Denmark",
            "Finland",
            "France",
            "Germany",
            "Greece",
            "Italy",
            "Netherlands",
            "Poland",
            "Portugal",
            "Romania",
            "Slovenia",
            "Spain",
            "Sweden"
           ],
           "locations": [
            "BEL",
            "BGR",
            "HRV",
            "DNK",
            "FIN",
            "FRA",
            "DEU",
            "GRC",
            "ITA",
            "NLD",
            "POL",
            "PRT",
            "ROU",
            "SVN",
            "ESP",
            "SWE"
           ],
           "name": "",
           "type": "choropleth",
           "z": [
            24354,
            269,
            22,
            5185,
            5769,
            40179,
            14420,
            674,
            3403,
            54843,
            2596,
            2691,
            281,
            13,
            10663,
            12965
           ]
          }
         ],
         "name": "2014"
        },
        {
         "data": [
          {
           "coloraxis": "coloraxis",
           "geo": "geo",
           "hovertemplate": "<b>%{hovertext}</b><br><br>Year=2015<br>iso_alpha=%{location}<br>Tonnage (thousands)=%{z}<extra></extra>",
           "hovertext": [
            "Belgium",
            "Bulgaria",
            "Croatia",
            "Denmark",
            "Finland",
            "France",
            "Germany",
            "Greece",
            "Hungary",
            "Italy",
            "Netherlands",
            "Poland",
            "Portugal",
            "Romania",
            "Slovenia",
            "Spain",
            "Sweden"
           ],
           "locations": [
            "BEL",
            "BGR",
            "HRV",
            "DNK",
            "FIN",
            "FRA",
            "DEU",
            "GRC",
            "HUN",
            "ITA",
            "NLD",
            "POL",
            "PRT",
            "ROU",
            "SVN",
            "ESP",
            "SWE"
           ],
           "name": "",
           "type": "choropleth",
           "z": [
            26051,
            139,
            194,
            3468,
            4992,
            39234,
            13233,
            856,
            0,
            2632,
            56414,
            2355,
            3132,
            219,
            0,
            13432,
            12105
           ]
          }
         ],
         "name": "2015"
        },
        {
         "data": [
          {
           "coloraxis": "coloraxis",
           "geo": "geo",
           "hovertemplate": "<b>%{hovertext}</b><br><br>Year=2016<br>iso_alpha=%{location}<br>Tonnage (thousands)=%{z}<extra></extra>",
           "hovertext": [
            "Belgium",
            "Bulgaria",
            "Croatia",
            "Denmark",
            "Finland",
            "France",
            "Germany",
            "Greece",
            "Italy",
            "Netherlands",
            "Poland",
            "Portugal",
            "Romania",
            "Slovenia",
            "Spain",
            "Sweden"
           ],
           "locations": [
            "BEL",
            "BGR",
            "HRV",
            "DNK",
            "FIN",
            "FRA",
            "DEU",
            "GRC",
            "ITA",
            "NLD",
            "POL",
            "PRT",
            "ROU",
            "SVN",
            "ESP",
            "SWE"
           ],
           "name": "",
           "type": "choropleth",
           "z": [
            26043,
            285,
            39,
            3624,
            4411,
            36686,
            13099,
            1105,
            3823,
            61174,
            2216,
            3247,
            296,
            3,
            13741,
            11933
           ]
          }
         ],
         "name": "2016"
        },
        {
         "data": [
          {
           "coloraxis": "coloraxis",
           "geo": "geo",
           "hovertemplate": "<b>%{hovertext}</b><br><br>Year=2017<br>iso_alpha=%{location}<br>Tonnage (thousands)=%{z}<extra></extra>",
           "hovertext": [
            "Belgium",
            "Bulgaria",
            "Croatia",
            "Denmark",
            "Finland",
            "France",
            "Germany",
            "Greece",
            "Italy",
            "Netherlands",
            "Poland",
            "Portugal",
            "Romania",
            "Slovenia",
            "Spain",
            "Sweden"
           ],
           "locations": [
            "BEL",
            "BGR",
            "HRV",
            "DNK",
            "FIN",
            "FRA",
            "DEU",
            "GRC",
            "ITA",
            "NLD",
            "POL",
            "PRT",
            "ROU",
            "SVN",
            "ESP",
            "SWE"
           ],
           "name": "",
           "type": "choropleth",
           "z": [
            25203,
            204,
            265,
            4053,
            4077,
            37296,
            12547,
            1074,
            2888,
            62837,
            2094,
            3873,
            354,
            0,
            12342,
            12615
           ]
          }
         ],
         "name": "2017"
        },
        {
         "data": [
          {
           "coloraxis": "coloraxis",
           "geo": "geo",
           "hovertemplate": "<b>%{hovertext}</b><br><br>Year=2018<br>iso_alpha=%{location}<br>Tonnage (thousands)=%{z}<extra></extra>",
           "hovertext": [
            "Belgium",
            "Bulgaria",
            "Croatia",
            "Denmark",
            "Finland",
            "France",
            "Germany",
            "Greece",
            "Italy",
            "Netherlands",
            "Poland",
            "Portugal",
            "Romania",
            "Slovenia",
            "Spain",
            "Sweden"
           ],
           "locations": [
            "BEL",
            "BGR",
            "HRV",
            "DNK",
            "FIN",
            "FRA",
            "DEU",
            "GRC",
            "ITA",
            "NLD",
            "POL",
            "PRT",
            "ROU",
            "SVN",
            "ESP",
            "SWE"
           ],
           "name": "",
           "type": "choropleth",
           "z": [
            27329,
            492,
            92,
            3889,
            4730,
            35320,
            11982,
            1562,
            3024,
            60733,
            2205,
            3181,
            455,
            0,
            12302,
            11751
           ]
          }
         ],
         "name": "2018"
        },
        {
         "data": [
          {
           "coloraxis": "coloraxis",
           "geo": "geo",
           "hovertemplate": "<b>%{hovertext}</b><br><br>Year=2019<br>iso_alpha=%{location}<br>Tonnage (thousands)=%{z}<extra></extra>",
           "hovertext": [
            "Belgium",
            "Bulgaria",
            "Croatia",
            "Denmark",
            "Finland",
            "France",
            "Germany",
            "Greece",
            "Italy",
            "Netherlands",
            "Poland",
            "Portugal",
            "Romania",
            "Slovenia",
            "Spain",
            "Sweden"
           ],
           "locations": [
            "BEL",
            "BGR",
            "HRV",
            "DNK",
            "FIN",
            "FRA",
            "DEU",
            "GRC",
            "ITA",
            "NLD",
            "POL",
            "PRT",
            "ROU",
            "SVN",
            "ESP",
            "SWE"
           ],
           "name": "",
           "type": "choropleth",
           "z": [
            25814,
            522,
            103,
            3946,
            3591,
            32159,
            12444,
            1575,
            3427,
            58114,
            2369,
            3370,
            125,
            1,
            12654,
            9308
           ]
          }
         ],
         "name": "2019"
        },
        {
         "data": [
          {
           "coloraxis": "coloraxis",
           "geo": "geo",
           "hovertemplate": "<b>%{hovertext}</b><br><br>Year=2020<br>iso_alpha=%{location}<br>Tonnage (thousands)=%{z}<extra></extra>",
           "hovertext": [
            "Belgium",
            "Bulgaria",
            "Croatia",
            "Denmark",
            "Finland",
            "France",
            "Germany",
            "Greece",
            "Italy",
            "Netherlands",
            "Poland",
            "Portugal",
            "Romania",
            "Slovenia",
            "Spain",
            "Sweden"
           ],
           "locations": [
            "BEL",
            "BGR",
            "HRV",
            "DNK",
            "FIN",
            "FRA",
            "DEU",
            "GRC",
            "ITA",
            "NLD",
            "POL",
            "PRT",
            "ROU",
            "SVN",
            "ESP",
            "SWE"
           ],
           "name": "",
           "type": "choropleth",
           "z": [
            25478,
            380,
            192,
            4275,
            3541,
            29739,
            12027,
            1408,
            3744,
            56729,
            2415,
            3995,
            117,
            0,
            11044,
            10143
           ]
          }
         ],
         "name": "2020"
        },
        {
         "data": [
          {
           "coloraxis": "coloraxis",
           "geo": "geo",
           "hovertemplate": "<b>%{hovertext}</b><br><br>Year=2021<br>iso_alpha=%{location}<br>Tonnage (thousands)=%{z}<extra></extra>",
           "hovertext": [
            "Belgium",
            "Bulgaria",
            "Croatia",
            "Czech Republic",
            "Denmark",
            "Finland",
            "France",
            "Germany",
            "Greece",
            "Italy",
            "Netherlands",
            "Poland",
            "Portugal",
            "Romania",
            "Slovenia",
            "Spain",
            "Sweden"
           ],
           "locations": [
            "BEL",
            "BGR",
            "HRV",
            "CZE",
            "DNK",
            "FIN",
            "FRA",
            "DEU",
            "GRC",
            "ITA",
            "NLD",
            "POL",
            "PRT",
            "ROU",
            "SVN",
            "ESP",
            "SWE"
           ],
           "name": "",
           "type": "choropleth",
           "z": [
            26849.36544253,
            194.40323372,
            72.055136341,
            0.023588285,
            3833.365489402,
            3097.738914928,
            26180.964309699004,
            10552.590325893,
            1628.730266036,
            4156.565973074,
            57953.36325798,
            2759.374501766,
            3794.066135114,
            226.43924997400003,
            0.309442989,
            12650.881080701,
            9194.231371261001
           ]
          }
         ],
         "name": "2021"
        }
       ],
       "layout": {
        "coloraxis": {
         "cmax": 50000,
         "cmid": 0,
         "cmin": 0,
         "colorbar": {
          "title": {
           "text": "Tonnage (thousands)"
          }
         },
         "colorscale": [
          [
           0,
           "rgb(247,251,255)"
          ],
          [
           0.125,
           "rgb(222,235,247)"
          ],
          [
           0.25,
           "rgb(198,219,239)"
          ],
          [
           0.375,
           "rgb(158,202,225)"
          ],
          [
           0.5,
           "rgb(107,174,214)"
          ],
          [
           0.625,
           "rgb(66,146,198)"
          ],
          [
           0.75,
           "rgb(33,113,181)"
          ],
          [
           0.875,
           "rgb(8,81,156)"
          ],
          [
           1,
           "rgb(8,48,107)"
          ]
         ]
        },
        "geo": {
         "center": {},
         "domain": {
          "x": [
           0,
           1
          ],
          "y": [
           0,
           1
          ]
         },
         "projection": {
          "type": "azimuthal equidistant"
         },
         "scope": "europe"
        },
        "height": 800,
        "legend": {
         "tracegroupgap": 0
        },
        "margin": {
         "t": 60
        },
        "sliders": [
         {
          "active": 0,
          "currentvalue": {
           "prefix": "Year="
          },
          "len": 0.9,
          "pad": {
           "b": 10,
           "t": 60
          },
          "steps": [
           {
            "args": [
             [
              "2012"
             ],
             {
              "frame": {
               "duration": 0,
               "redraw": true
              },
              "fromcurrent": true,
              "mode": "immediate",
              "transition": {
               "duration": 0,
               "easing": "linear"
              }
             }
            ],
            "label": "2012",
            "method": "animate"
           },
           {
            "args": [
             [
              "2013"
             ],
             {
              "frame": {
               "duration": 0,
               "redraw": true
              },
              "fromcurrent": true,
              "mode": "immediate",
              "transition": {
               "duration": 0,
               "easing": "linear"
              }
             }
            ],
            "label": "2013",
            "method": "animate"
           },
           {
            "args": [
             [
              "2014"
             ],
             {
              "frame": {
               "duration": 0,
               "redraw": true
              },
              "fromcurrent": true,
              "mode": "immediate",
              "transition": {
               "duration": 0,
               "easing": "linear"
              }
             }
            ],
            "label": "2014",
            "method": "animate"
           },
           {
            "args": [
             [
              "2015"
             ],
             {
              "frame": {
               "duration": 0,
               "redraw": true
              },
              "fromcurrent": true,
              "mode": "immediate",
              "transition": {
               "duration": 0,
               "easing": "linear"
              }
             }
            ],
            "label": "2015",
            "method": "animate"
           },
           {
            "args": [
             [
              "2016"
             ],
             {
              "frame": {
               "duration": 0,
               "redraw": true
              },
              "fromcurrent": true,
              "mode": "immediate",
              "transition": {
               "duration": 0,
               "easing": "linear"
              }
             }
            ],
            "label": "2016",
            "method": "animate"
           },
           {
            "args": [
             [
              "2017"
             ],
             {
              "frame": {
               "duration": 0,
               "redraw": true
              },
              "fromcurrent": true,
              "mode": "immediate",
              "transition": {
               "duration": 0,
               "easing": "linear"
              }
             }
            ],
            "label": "2017",
            "method": "animate"
           },
           {
            "args": [
             [
              "2018"
             ],
             {
              "frame": {
               "duration": 0,
               "redraw": true
              },
              "fromcurrent": true,
              "mode": "immediate",
              "transition": {
               "duration": 0,
               "easing": "linear"
              }
             }
            ],
            "label": "2018",
            "method": "animate"
           },
           {
            "args": [
             [
              "2019"
             ],
             {
              "frame": {
               "duration": 0,
               "redraw": true
              },
              "fromcurrent": true,
              "mode": "immediate",
              "transition": {
               "duration": 0,
               "easing": "linear"
              }
             }
            ],
            "label": "2019",
            "method": "animate"
           },
           {
            "args": [
             [
              "2020"
             ],
             {
              "frame": {
               "duration": 0,
               "redraw": true
              },
              "fromcurrent": true,
              "mode": "immediate",
              "transition": {
               "duration": 0,
               "easing": "linear"
              }
             }
            ],
            "label": "2020",
            "method": "animate"
           },
           {
            "args": [
             [
              "2021"
             ],
             {
              "frame": {
               "duration": 0,
               "redraw": true
              },
              "fromcurrent": true,
              "mode": "immediate",
              "transition": {
               "duration": 0,
               "easing": "linear"
              }
             }
            ],
            "label": "2021",
            "method": "animate"
           }
          ],
          "x": 0.1,
          "xanchor": "left",
          "y": 0,
          "yanchor": "top"
         }
        ],
        "template": {
         "data": {
          "bar": [
           {
            "error_x": {
             "color": "#2a3f5f"
            },
            "error_y": {
             "color": "#2a3f5f"
            },
            "marker": {
             "line": {
              "color": "#E5ECF6",
              "width": 0.5
             },
             "pattern": {
              "fillmode": "overlay",
              "size": 10,
              "solidity": 0.2
             }
            },
            "type": "bar"
           }
          ],
          "barpolar": [
           {
            "marker": {
             "line": {
              "color": "#E5ECF6",
              "width": 0.5
             },
             "pattern": {
              "fillmode": "overlay",
              "size": 10,
              "solidity": 0.2
             }
            },
            "type": "barpolar"
           }
          ],
          "carpet": [
           {
            "aaxis": {
             "endlinecolor": "#2a3f5f",
             "gridcolor": "white",
             "linecolor": "white",
             "minorgridcolor": "white",
             "startlinecolor": "#2a3f5f"
            },
            "baxis": {
             "endlinecolor": "#2a3f5f",
             "gridcolor": "white",
             "linecolor": "white",
             "minorgridcolor": "white",
             "startlinecolor": "#2a3f5f"
            },
            "type": "carpet"
           }
          ],
          "choropleth": [
           {
            "colorbar": {
             "outlinewidth": 0,
             "ticks": ""
            },
            "type": "choropleth"
           }
          ],
          "contour": [
           {
            "colorbar": {
             "outlinewidth": 0,
             "ticks": ""
            },
            "colorscale": [
             [
              0,
              "#0d0887"
             ],
             [
              0.1111111111111111,
              "#46039f"
             ],
             [
              0.2222222222222222,
              "#7201a8"
             ],
             [
              0.3333333333333333,
              "#9c179e"
             ],
             [
              0.4444444444444444,
              "#bd3786"
             ],
             [
              0.5555555555555556,
              "#d8576b"
             ],
             [
              0.6666666666666666,
              "#ed7953"
             ],
             [
              0.7777777777777778,
              "#fb9f3a"
             ],
             [
              0.8888888888888888,
              "#fdca26"
             ],
             [
              1,
              "#f0f921"
             ]
            ],
            "type": "contour"
           }
          ],
          "contourcarpet": [
           {
            "colorbar": {
             "outlinewidth": 0,
             "ticks": ""
            },
            "type": "contourcarpet"
           }
          ],
          "heatmap": [
           {
            "colorbar": {
             "outlinewidth": 0,
             "ticks": ""
            },
            "colorscale": [
             [
              0,
              "#0d0887"
             ],
             [
              0.1111111111111111,
              "#46039f"
             ],
             [
              0.2222222222222222,
              "#7201a8"
             ],
             [
              0.3333333333333333,
              "#9c179e"
             ],
             [
              0.4444444444444444,
              "#bd3786"
             ],
             [
              0.5555555555555556,
              "#d8576b"
             ],
             [
              0.6666666666666666,
              "#ed7953"
             ],
             [
              0.7777777777777778,
              "#fb9f3a"
             ],
             [
              0.8888888888888888,
              "#fdca26"
             ],
             [
              1,
              "#f0f921"
             ]
            ],
            "type": "heatmap"
           }
          ],
          "heatmapgl": [
           {
            "colorbar": {
             "outlinewidth": 0,
             "ticks": ""
            },
            "colorscale": [
             [
              0,
              "#0d0887"
             ],
             [
              0.1111111111111111,
              "#46039f"
             ],
             [
              0.2222222222222222,
              "#7201a8"
             ],
             [
              0.3333333333333333,
              "#9c179e"
             ],
             [
              0.4444444444444444,
              "#bd3786"
             ],
             [
              0.5555555555555556,
              "#d8576b"
             ],
             [
              0.6666666666666666,
              "#ed7953"
             ],
             [
              0.7777777777777778,
              "#fb9f3a"
             ],
             [
              0.8888888888888888,
              "#fdca26"
             ],
             [
              1,
              "#f0f921"
             ]
            ],
            "type": "heatmapgl"
           }
          ],
          "histogram": [
           {
            "marker": {
             "pattern": {
              "fillmode": "overlay",
              "size": 10,
              "solidity": 0.2
             }
            },
            "type": "histogram"
           }
          ],
          "histogram2d": [
           {
            "colorbar": {
             "outlinewidth": 0,
             "ticks": ""
            },
            "colorscale": [
             [
              0,
              "#0d0887"
             ],
             [
              0.1111111111111111,
              "#46039f"
             ],
             [
              0.2222222222222222,
              "#7201a8"
             ],
             [
              0.3333333333333333,
              "#9c179e"
             ],
             [
              0.4444444444444444,
              "#bd3786"
             ],
             [
              0.5555555555555556,
              "#d8576b"
             ],
             [
              0.6666666666666666,
              "#ed7953"
             ],
             [
              0.7777777777777778,
              "#fb9f3a"
             ],
             [
              0.8888888888888888,
              "#fdca26"
             ],
             [
              1,
              "#f0f921"
             ]
            ],
            "type": "histogram2d"
           }
          ],
          "histogram2dcontour": [
           {
            "colorbar": {
             "outlinewidth": 0,
             "ticks": ""
            },
            "colorscale": [
             [
              0,
              "#0d0887"
             ],
             [
              0.1111111111111111,
              "#46039f"
             ],
             [
              0.2222222222222222,
              "#7201a8"
             ],
             [
              0.3333333333333333,
              "#9c179e"
             ],
             [
              0.4444444444444444,
              "#bd3786"
             ],
             [
              0.5555555555555556,
              "#d8576b"
             ],
             [
              0.6666666666666666,
              "#ed7953"
             ],
             [
              0.7777777777777778,
              "#fb9f3a"
             ],
             [
              0.8888888888888888,
              "#fdca26"
             ],
             [
              1,
              "#f0f921"
             ]
            ],
            "type": "histogram2dcontour"
           }
          ],
          "mesh3d": [
           {
            "colorbar": {
             "outlinewidth": 0,
             "ticks": ""
            },
            "type": "mesh3d"
           }
          ],
          "parcoords": [
           {
            "line": {
             "colorbar": {
              "outlinewidth": 0,
              "ticks": ""
             }
            },
            "type": "parcoords"
           }
          ],
          "pie": [
           {
            "automargin": true,
            "type": "pie"
           }
          ],
          "scatter": [
           {
            "fillpattern": {
             "fillmode": "overlay",
             "size": 10,
             "solidity": 0.2
            },
            "type": "scatter"
           }
          ],
          "scatter3d": [
           {
            "line": {
             "colorbar": {
              "outlinewidth": 0,
              "ticks": ""
             }
            },
            "marker": {
             "colorbar": {
              "outlinewidth": 0,
              "ticks": ""
             }
            },
            "type": "scatter3d"
           }
          ],
          "scattercarpet": [
           {
            "marker": {
             "colorbar": {
              "outlinewidth": 0,
              "ticks": ""
             }
            },
            "type": "scattercarpet"
           }
          ],
          "scattergeo": [
           {
            "marker": {
             "colorbar": {
              "outlinewidth": 0,
              "ticks": ""
             }
            },
            "type": "scattergeo"
           }
          ],
          "scattergl": [
           {
            "marker": {
             "colorbar": {
              "outlinewidth": 0,
              "ticks": ""
             }
            },
            "type": "scattergl"
           }
          ],
          "scattermapbox": [
           {
            "marker": {
             "colorbar": {
              "outlinewidth": 0,
              "ticks": ""
             }
            },
            "type": "scattermapbox"
           }
          ],
          "scatterpolar": [
           {
            "marker": {
             "colorbar": {
              "outlinewidth": 0,
              "ticks": ""
             }
            },
            "type": "scatterpolar"
           }
          ],
          "scatterpolargl": [
           {
            "marker": {
             "colorbar": {
              "outlinewidth": 0,
              "ticks": ""
             }
            },
            "type": "scatterpolargl"
           }
          ],
          "scatterternary": [
           {
            "marker": {
             "colorbar": {
              "outlinewidth": 0,
              "ticks": ""
             }
            },
            "type": "scatterternary"
           }
          ],
          "surface": [
           {
            "colorbar": {
             "outlinewidth": 0,
             "ticks": ""
            },
            "colorscale": [
             [
              0,
              "#0d0887"
             ],
             [
              0.1111111111111111,
              "#46039f"
             ],
             [
              0.2222222222222222,
              "#7201a8"
             ],
             [
              0.3333333333333333,
              "#9c179e"
             ],
             [
              0.4444444444444444,
              "#bd3786"
             ],
             [
              0.5555555555555556,
              "#d8576b"
             ],
             [
              0.6666666666666666,
              "#ed7953"
             ],
             [
              0.7777777777777778,
              "#fb9f3a"
             ],
             [
              0.8888888888888888,
              "#fdca26"
             ],
             [
              1,
              "#f0f921"
             ]
            ],
            "type": "surface"
           }
          ],
          "table": [
           {
            "cells": {
             "fill": {
              "color": "#EBF0F8"
             },
             "line": {
              "color": "white"
             }
            },
            "header": {
             "fill": {
              "color": "#C8D4E3"
             },
             "line": {
              "color": "white"
             }
            },
            "type": "table"
           }
          ]
         },
         "layout": {
          "annotationdefaults": {
           "arrowcolor": "#2a3f5f",
           "arrowhead": 0,
           "arrowwidth": 1
          },
          "autotypenumbers": "strict",
          "coloraxis": {
           "colorbar": {
            "outlinewidth": 0,
            "ticks": ""
           }
          },
          "colorscale": {
           "diverging": [
            [
             0,
             "#8e0152"
            ],
            [
             0.1,
             "#c51b7d"
            ],
            [
             0.2,
             "#de77ae"
            ],
            [
             0.3,
             "#f1b6da"
            ],
            [
             0.4,
             "#fde0ef"
            ],
            [
             0.5,
             "#f7f7f7"
            ],
            [
             0.6,
             "#e6f5d0"
            ],
            [
             0.7,
             "#b8e186"
            ],
            [
             0.8,
             "#7fbc41"
            ],
            [
             0.9,
             "#4d9221"
            ],
            [
             1,
             "#276419"
            ]
           ],
           "sequential": [
            [
             0,
             "#0d0887"
            ],
            [
             0.1111111111111111,
             "#46039f"
            ],
            [
             0.2222222222222222,
             "#7201a8"
            ],
            [
             0.3333333333333333,
             "#9c179e"
            ],
            [
             0.4444444444444444,
             "#bd3786"
            ],
            [
             0.5555555555555556,
             "#d8576b"
            ],
            [
             0.6666666666666666,
             "#ed7953"
            ],
            [
             0.7777777777777778,
             "#fb9f3a"
            ],
            [
             0.8888888888888888,
             "#fdca26"
            ],
            [
             1,
             "#f0f921"
            ]
           ],
           "sequentialminus": [
            [
             0,
             "#0d0887"
            ],
            [
             0.1111111111111111,
             "#46039f"
            ],
            [
             0.2222222222222222,
             "#7201a8"
            ],
            [
             0.3333333333333333,
             "#9c179e"
            ],
            [
             0.4444444444444444,
             "#bd3786"
            ],
            [
             0.5555555555555556,
             "#d8576b"
            ],
            [
             0.6666666666666666,
             "#ed7953"
            ],
            [
             0.7777777777777778,
             "#fb9f3a"
            ],
            [
             0.8888888888888888,
             "#fdca26"
            ],
            [
             1,
             "#f0f921"
            ]
           ]
          },
          "colorway": [
           "#636efa",
           "#EF553B",
           "#00cc96",
           "#ab63fa",
           "#FFA15A",
           "#19d3f3",
           "#FF6692",
           "#B6E880",
           "#FF97FF",
           "#FECB52"
          ],
          "font": {
           "color": "#2a3f5f"
          },
          "geo": {
           "bgcolor": "white",
           "lakecolor": "white",
           "landcolor": "#E5ECF6",
           "showlakes": true,
           "showland": true,
           "subunitcolor": "white"
          },
          "hoverlabel": {
           "align": "left"
          },
          "hovermode": "closest",
          "mapbox": {
           "style": "light"
          },
          "paper_bgcolor": "white",
          "plot_bgcolor": "#E5ECF6",
          "polar": {
           "angularaxis": {
            "gridcolor": "white",
            "linecolor": "white",
            "ticks": ""
           },
           "bgcolor": "#E5ECF6",
           "radialaxis": {
            "gridcolor": "white",
            "linecolor": "white",
            "ticks": ""
           }
          },
          "scene": {
           "xaxis": {
            "backgroundcolor": "#E5ECF6",
            "gridcolor": "white",
            "gridwidth": 2,
            "linecolor": "white",
            "showbackground": true,
            "ticks": "",
            "zerolinecolor": "white"
           },
           "yaxis": {
            "backgroundcolor": "#E5ECF6",
            "gridcolor": "white",
            "gridwidth": 2,
            "linecolor": "white",
            "showbackground": true,
            "ticks": "",
            "zerolinecolor": "white"
           },
           "zaxis": {
            "backgroundcolor": "#E5ECF6",
            "gridcolor": "white",
            "gridwidth": 2,
            "linecolor": "white",
            "showbackground": true,
            "ticks": "",
            "zerolinecolor": "white"
           }
          },
          "shapedefaults": {
           "line": {
            "color": "#2a3f5f"
           }
          },
          "ternary": {
           "aaxis": {
            "gridcolor": "white",
            "linecolor": "white",
            "ticks": ""
           },
           "baxis": {
            "gridcolor": "white",
            "linecolor": "white",
            "ticks": ""
           },
           "bgcolor": "#E5ECF6",
           "caxis": {
            "gridcolor": "white",
            "linecolor": "white",
            "ticks": ""
           }
          },
          "title": {
           "x": 0.05
          },
          "xaxis": {
           "automargin": true,
           "gridcolor": "white",
           "linecolor": "white",
           "ticks": "",
           "title": {
            "standoff": 15
           },
           "zerolinecolor": "white",
           "zerolinewidth": 2
          },
          "yaxis": {
           "automargin": true,
           "gridcolor": "white",
           "linecolor": "white",
           "ticks": "",
           "title": {
            "standoff": 15
           },
           "zerolinecolor": "white",
           "zerolinewidth": 2
          }
         }
        },
        "title": {
         "text": "UK - EU Trade Volume by Country"
        },
        "updatemenus": [
         {
          "buttons": [
           {
            "args": [
             null,
             {
              "frame": {
               "duration": 500,
               "redraw": true
              },
              "fromcurrent": true,
              "mode": "immediate",
              "transition": {
               "duration": 500,
               "easing": "linear"
              }
             }
            ],
            "label": "&#9654;",
            "method": "animate"
           },
           {
            "args": [
             [
              null
             ],
             {
              "frame": {
               "duration": 0,
               "redraw": true
              },
              "fromcurrent": true,
              "mode": "immediate",
              "transition": {
               "duration": 0,
               "easing": "linear"
              }
             }
            ],
            "label": "&#9724;",
            "method": "animate"
           }
          ],
          "direction": "left",
          "pad": {
           "r": 10,
           "t": 70
          },
          "showactive": false,
          "type": "buttons",
          "x": 0.1,
          "xanchor": "right",
          "y": 0,
          "yanchor": "top"
         }
        ],
        "width": 1000
       }
      }
     },
     "metadata": {},
     "output_type": "display_data"
    }
   ],
   "source": [
    "#we group the data frame regarding country in EU and year\n",
    "df_EU = df.loc[df['Region'] == 'All European Union']\n",
    "df_EU_country = df_EU.groupby(['Country', 'Year']).sum()\n",
    "df_EU_country = df_EU_country.reset_index()\n",
    "\n",
    "#Import gapminder data frame to extract the iso_alpha\n",
    "df_x = px.data.gapminder()\n",
    "df_x = df_x.loc[df_x['continent'] == 'Europe']\n",
    "df_x = df_x.groupby('iso_alpha').first().reset_index()\n",
    "\n",
    "#merge iso_alpha column into the df_EU_country\n",
    "df_EU_country = df_EU_country.merge(df_x.loc[:,['country','iso_alpha']], left_on='Country', right_on='country').drop(columns = 'country')\n",
    "df_EU_country.insert(0, 'iso_alpha', df_EU_country.pop('iso_alpha'))\n",
    "\n",
    "fig_5 = px.choropleth(df_EU_country,\n",
    "                     locations = 'iso_alpha',\n",
    "                     hover_name = \"Country\",\n",
    "                     color_continuous_scale = 'blues',\n",
    "                     color = 'Tonnage (thousands)',\n",
    "                     animation_frame=\"Year\",\n",
    "                     projection = 'azimuthal equidistant',\n",
    "                     scope = 'europe',\n",
    "                     range_color=(0, 50000),\n",
    "                     color_continuous_midpoint=0,\n",
    "                     width = 1000,\n",
    "                     height = 800)\n",
    "fig_5.update_layout(title = 'UK - EU Trade Volume by Country')\n",
    "\n",
    "fig_5.show()"
   ]
  },
  {
   "cell_type": "markdown",
   "metadata": {},
   "source": [
    "We can see from the map that The Netherlands, France, Belgium, Germany and Sweden have high trade volume with UK throughout the period. However, if we play the animation, from 2016 France shows huge color change compared to other EU countries. It means that in the Brexit period, trade between UK and France is affected the most. "
   ]
  },
  {
   "cell_type": "markdown",
   "metadata": {},
   "source": [
    "# 8.3 Effect on Major Cargoes\n",
    "\n",
    "We want to look deeper into the effect of brexit to various cargo types traded between UK and EU to answer the **Specifying question 4**. First, we are going to plot the volume distribution of cargo types traded between UK and EU as follows."
   ]
  },
  {
   "cell_type": "code",
   "execution_count": 8,
   "metadata": {},
   "outputs": [
    {
     "data": {
      "application/vnd.plotly.v1+json": {
       "config": {
        "plotlyServerURL": "https://plot.ly"
       },
       "data": [
        {
         "hovertemplate": "Cargo Group=Dry Bulk<br>Year=%{x}<br>Tonnage (thousands)=%{y}<extra></extra>",
         "legendgroup": "Dry Bulk",
         "line": {
          "color": "#1F77B4",
          "dash": "solid"
         },
         "marker": {
          "symbol": "circle"
         },
         "mode": "lines+markers",
         "name": "Dry Bulk",
         "orientation": "v",
         "showlegend": true,
         "type": "scatter",
         "x": [
          2012,
          2013,
          2014,
          2015,
          2016,
          2017,
          2018,
          2019,
          2020,
          2021
         ],
         "xaxis": "x",
         "y": [
          29627,
          29987,
          30033,
          27010,
          26783,
          26331,
          26900,
          26173,
          24989,
          27416.668377652
         ],
         "yaxis": "y"
        },
        {
         "hovertemplate": "Cargo Group=Liquid Bulk<br>Year=%{x}<br>Tonnage (thousands)=%{y}<extra></extra>",
         "legendgroup": "Liquid Bulk",
         "line": {
          "color": "#FF7F0E",
          "dash": "solid"
         },
         "marker": {
          "symbol": "circle"
         },
         "mode": "lines+markers",
         "name": "Liquid Bulk",
         "orientation": "v",
         "showlegend": true,
         "type": "scatter",
         "x": [
          2012,
          2013,
          2014,
          2015,
          2016,
          2017,
          2018,
          2019,
          2020,
          2021
         ],
         "xaxis": "x",
         "y": [
          72130,
          68782,
          67408,
          63954,
          66135,
          66072,
          63917,
          60143,
          58842,
          55102.169246799
         ],
         "yaxis": "y"
        },
        {
         "hovertemplate": "Cargo Group=Lo-Lo<br>Year=%{x}<br>Tonnage (thousands)=%{y}<extra></extra>",
         "legendgroup": "Lo-Lo",
         "line": {
          "color": "#2CA02C",
          "dash": "solid"
         },
         "marker": {
          "symbol": "circle"
         },
         "mode": "lines+markers",
         "name": "Lo-Lo",
         "orientation": "v",
         "showlegend": true,
         "type": "scatter",
         "x": [
          2012,
          2013,
          2014,
          2015,
          2016,
          2017,
          2018,
          2019,
          2020,
          2021
         ],
         "xaxis": "x",
         "y": [
          17077,
          18265,
          19518,
          21641,
          22326,
          23376,
          24706,
          22579,
          24049,
          26235.993884278
         ],
         "yaxis": "y"
        },
        {
         "hovertemplate": "Cargo Group=Other General Cargo<br>Year=%{x}<br>Tonnage (thousands)=%{y}<extra></extra>",
         "legendgroup": "Other General Cargo",
         "line": {
          "color": "#D62728",
          "dash": "solid"
         },
         "marker": {
          "symbol": "circle"
         },
         "mode": "lines+markers",
         "name": "Other General Cargo",
         "orientation": "v",
         "showlegend": true,
         "type": "scatter",
         "x": [
          2012,
          2013,
          2014,
          2015,
          2016,
          2017,
          2018,
          2019,
          2020,
          2021
         ],
         "xaxis": "x",
         "y": [
          8889,
          10234,
          10516,
          10545,
          10422,
          10983,
          10669,
          10134,
          10228,
          10810.788096444001
         ],
         "yaxis": "y"
        },
        {
         "hovertemplate": "Cargo Group=Ro-Ro<br>Year=%{x}<br>Tonnage (thousands)=%{y}<extra></extra>",
         "legendgroup": "Ro-Ro",
         "line": {
          "color": "#9467BD",
          "dash": "solid"
         },
         "marker": {
          "symbol": "circle"
         },
         "mode": "lines+markers",
         "name": "Ro-Ro",
         "orientation": "v",
         "showlegend": true,
         "type": "scatter",
         "x": [
          2012,
          2013,
          2014,
          2015,
          2016,
          2017,
          2018,
          2019,
          2020,
          2021
         ],
         "xaxis": "x",
         "y": [
          71080,
          72759,
          76644,
          80043,
          81089,
          80870,
          79967,
          76306,
          72009,
          65411.382445053
         ],
         "yaxis": "y"
        }
       ],
       "layout": {
        "autosize": false,
        "legend": {
         "title": {
          "text": "Cargo Group"
         },
         "tracegroupgap": 0
        },
        "margin": {
         "t": 60
        },
        "template": {
         "data": {
          "scatter": [
           {
            "type": "scatter"
           }
          ]
         }
        },
        "title": {
         "text": "UK - EU by Cargo Group"
        },
        "xaxis": {
         "anchor": "y",
         "domain": [
          0,
          1
         ],
         "title": {
          "text": "Year"
         }
        },
        "yaxis": {
         "anchor": "x",
         "domain": [
          0,
          1
         ],
         "title": {
          "text": "Tonnage (thousands)"
         }
        }
       }
      }
     },
     "metadata": {},
     "output_type": "display_data"
    }
   ],
   "source": [
    "#We filter data to only between UK and EU and group it by cargo type\n",
    "df_EU = df.loc[df['Region'] == 'All European Union']\n",
    "df_EU = df_EU.groupby(['Year', 'Cargo Group']).sum()\n",
    "df_EU = df_EU.reset_index()\n",
    "\n",
    "#Standard plot using line chart\n",
    "fig = px.line(df_EU, x='Year', y='Tonnage (thousands)', color='Cargo Group', markers='Cargo Group', template='none')\n",
    "fig.update_layout(title = 'UK - EU by Cargo Group', autosize=False)\n",
    "fig.show()"
   ]
  },
  {
   "cell_type": "markdown",
   "metadata": {},
   "source": [
    "From the Chart, we can see the majority of cargoes traded between UK and EU are Ro-Ro and Liquid Bulk. There is a slight different between this graph and the first graph regading \"UK's traded by Cargo Type\". In that graph, the largest volume is Liquid bulk instead of Ro-Ro.\n",
    "\n",
    "This chart also shows a sign of downtrend especially for Liquid Bulk and Ro-Ro in the period of Brexit all the way to 2021. The green line is the Lo-Lo (Lift Off & Lift On) or commonly known as Container. Containers are used to carry variuos of goods, and one of the most common is to carry consumer goods. Notice that the container trade between UK and EU is not really affected from 2016 until it starts declining after the Brexit Referendum in 2018, but then return to the uptrend in 2020. This answers the previous hypothesis about the increase of EU's proportion in 2020. This may happen becuase people tend to order more goods online during the Covid period therefore increase the number of containers."
   ]
  },
  {
   "cell_type": "markdown",
   "metadata": {},
   "source": [
    "# 8.4 Conclusion\n",
    "\n",
    "The trade volume between UK and EU is the largest compared to UK with other regions.\n",
    "The largest volume of cargo type traded from and to UK is Liquid Bulk and followed by Ro-Ro.\n",
    "In the period of brexit discussion to the referendum (2016-2018), trade volume between UK and EU are generally affected\n",
    "Ro-Ro and Liquid bulk, as the most traded cargoes between UK and EU are declining during and after the Brexit. However, the container only affected in the year of referendum (2018)"
   ]
  },
  {
   "cell_type": "markdown",
   "metadata": {},
   "source": [
    "# 9. Sub research question: How does Brexit affect UK's railway trade with EU?"
   ]
  },
  {
   "cell_type": "markdown",
   "metadata": {},
   "source": [
    "Specifying questions:\n",
    "1. How big is the trade between UK and EU compared to UK with other regions?\n",
    "\n"
   ]
  },
  {
   "cell_type": "code",
   "execution_count": 20,
   "metadata": {},
   "outputs": [
    {
     "name": "stderr",
     "output_type": "stream",
     "text": [
      "C:\\Users\\Satrya Dewantara\\AppData\\Local\\Temp\\ipykernel_27452\\3426847639.py:30: DtypeWarning:\n",
      "\n",
      "Columns (11) have mixed types. Specify dtype option on import or set low_memory=False.\n",
      "\n"
     ]
    }
   ],
   "source": [
    "#IMPORT DATABASE 1\n",
    "#ex_percent_all = 'DataBases/export_percent_all.csv'\n",
    "#df_ex_percent_all = pd.read_csv(ex_percent_all , sep=',')\n",
    "#ex_percent_eu = 'DataBases/export_percent_eu.csv'\n",
    "#df_ex_percent_eu = pd.read_csv(ex_percent_eu , sep=',')\n",
    "#im_percent_all = 'DataBases/import_percent_all.csv'\n",
    "#df_im_percent_all = pd.read_csv(im_percent_all , sep=',')\n",
    "#im_percent_eu = 'DataBases/import_percent_eu.csv'\n",
    "#df_im_percent_eu = pd.read_csv(im_percent_eu , sep=',')\n",
    "\n",
    "#IMPORT DATABASE 2\n",
    "df = pd.read_csv('DataBases/ITF_INDICATORS.csv') \n",
    "rail_df = pd.read_csv('DataBases/rail_moved_dos.csv', sep=';')\n",
    "eugoods_export_df = pd.read_csv('DataBases/International_trandsports_goods_UK_to_eucountries.csv', sep=';')\n",
    "eugoods_import_df = pd.read_csv('DataBases/rail_go_intgong_1_Data.csv')\n",
    "\n",
    "#create database with only UK\n",
    "UK_df = df[df.Country == 'United Kingdom']\n",
    "UK_df.to_csv('UK.csv')\n",
    "\n",
    "#create database with only KPI of interest \n",
    "Rail_transport_df = UK_df.loc[UK_df.Indicator =='Rail freight transport in tonne-km per one thousand units of current USD GDP']\n",
    "\n",
    "#IMPORT DATABASE 3\n",
    "#from_eu_to_countries = pd.read_csv(\"DataBases/export_uk_to_eu.csv\", encoding='latin-1')\n",
    "#from_countries_to_eu = pd.read_csv(\"DataBases/import_coutries_to_eu.csv\", encoding='latin-1')\n",
    "\n",
    "#IMPORT DATABASE 4\n",
    "file_path = 'DataBases/UK_SHIPPING.csv'\n",
    "df = pd.read_csv(file_path, encoding='latin-1')"
   ]
  },
  {
   "cell_type": "markdown",
   "metadata": {},
   "source": [
    "Firstly, we will plot the progression of the railway goods transportation mode from the early 90's until 2020. \n",
    "The graph below represents the state of the UK rail freight transportation sector via a Key Performance Indicator.\n",
    "We can see that the health of the sector is droping significantly after 2015."
   ]
  },
  {
   "cell_type": "code",
   "execution_count": 31,
   "metadata": {},
   "outputs": [
    {
     "data": {
      "application/vnd.plotly.v1+json": {
       "config": {
        "plotlyServerURL": "https://plot.ly"
       },
       "data": [
        {
         "hovertemplate": "Year=%{x}<br>Value=%{y}<extra></extra>",
         "legendgroup": "",
         "line": {
          "color": "#636efa",
          "dash": "solid"
         },
         "marker": {
          "symbol": "circle"
         },
         "mode": "lines+markers",
         "name": "",
         "orientation": "v",
         "showlegend": false,
         "type": "scatter",
         "x": [
          1994,
          1995,
          1996,
          1997,
          1998,
          1999,
          2000,
          2001,
          2002,
          2003,
          2004,
          2005,
          2006,
          2007,
          2008,
          2009,
          2010,
          2011,
          2012,
          2013,
          2014,
          2015,
          2016,
          2017,
          2018,
          2019,
          2020
         ],
         "xaxis": "x",
         "y": [
          11.399082925834,
          9.912929599697,
          10.667738532843,
          10.846470606777,
          10.499212491991,
          10.72966557177,
          10.95814000681,
          11.715913549921,
          10.468311239691,
          9.1394869875159,
          8.3481215791276,
          8.4597054083158,
          8.0998303233222,
          6.8740077109683,
          7.2141225456523,
          7.9473247289551,
          7.4857202455615,
          7.8852477931076,
          7.938855845569,
          8.0486615064371,
          7.2233658895015,
          6.59524385355,
          6.3318373726517,
          6.4474996412058,
          6.0212278886199,
          5.9644807951278,
          5.6180097577139
         ],
         "yaxis": "y"
        }
       ],
       "layout": {
        "legend": {
         "tracegroupgap": 0
        },
        "template": {
         "data": {
          "scatter": [
           {
            "type": "scatter"
           }
          ]
         }
        },
        "title": {
         "text": "Evolution of rail freight transport in tonne-km per one thousand units of current USD GDP"
        },
        "xaxis": {
         "anchor": "y",
         "domain": [
          0,
          1
         ],
         "title": {
          "text": "Year"
         }
        },
        "yaxis": {
         "anchor": "x",
         "domain": [
          0,
          1
         ],
         "title": {
          "text": "Value"
         }
        }
       }
      }
     },
     "metadata": {},
     "output_type": "display_data"
    }
   ],
   "source": [
    "fig = px.line(Rail_transport_df, x='Year', y='Value', markers=True, title= \"Evolution of rail freight transport in tonne-km per one thousand units of current USD GDP\")\n",
    "fig.update_layout(template='none')\n",
    "fig.show()"
   ]
  },
  {
   "cell_type": "markdown",
   "metadata": {},
   "source": [
    "Further, we will visualize the transportation of goods by railway in thousands of tonnes from the UK to some of the most developed European countries, namely - Germany, Spain, France and the Netherlands. This is done for the years from 2012 until after 2020, according to the available public data. According to the database, those were the only European countries UK was exporting goods to."
   ]
  },
  {
   "cell_type": "code",
   "execution_count": 33,
   "metadata": {},
   "outputs": [
    {
     "data": {
      "application/vnd.plotly.v1+json": {
       "config": {
        "plotlyServerURL": "https://plot.ly"
       },
       "data": [
        {
         "hovertemplate": "Country=Germany<br>Year=%{x}<br>Value (Thousand tonne)=%{y}<extra></extra>",
         "legendgroup": "Germany",
         "line": {
          "color": "#636efa",
          "dash": "solid"
         },
         "marker": {
          "symbol": "circle"
         },
         "mode": "lines+markers",
         "name": "Germany",
         "orientation": "v",
         "showlegend": true,
         "type": "scatter",
         "x": [
          2012,
          2013,
          2014,
          2015,
          2016,
          2017,
          2018,
          2019,
          2020,
          2021
         ],
         "xaxis": "x",
         "y": [
          42,
          5,
          142,
          134,
          165,
          184,
          201,
          207,
          158,
          177
         ],
         "yaxis": "y"
        },
        {
         "hovertemplate": "Country=Spain<br>Year=%{x}<br>Value (Thousand tonne)=%{y}<extra></extra>",
         "legendgroup": "Spain",
         "line": {
          "color": "#EF553B",
          "dash": "solid"
         },
         "marker": {
          "symbol": "circle"
         },
         "mode": "lines+markers",
         "name": "Spain",
         "orientation": "v",
         "showlegend": true,
         "type": "scatter",
         "x": [
          2012,
          2013,
          2014,
          2015,
          2016,
          2017,
          2018,
          2019,
          2020,
          2021
         ],
         "xaxis": "x",
         "y": [
          96,
          123,
          132,
          136,
          172,
          0,
          92,
          106,
          83,
          59
         ],
         "yaxis": "y"
        },
        {
         "hovertemplate": "Country=France<br>Year=%{x}<br>Value (Thousand tonne)=%{y}<extra></extra>",
         "legendgroup": "France",
         "line": {
          "color": "#00cc96",
          "dash": "solid"
         },
         "marker": {
          "symbol": "circle"
         },
         "mode": "lines+markers",
         "name": "France",
         "orientation": "v",
         "showlegend": true,
         "type": "scatter",
         "x": [
          2012,
          2013,
          2014,
          2015,
          2016,
          2017,
          2018,
          2019,
          2020,
          2021
         ],
         "xaxis": "x",
         "y": [
          351,
          414,
          442,
          0,
          11,
          281,
          23,
          14,
          24,
          14
         ],
         "yaxis": "y"
        },
        {
         "hovertemplate": "Country=Netherlands<br>Year=%{x}<br>Value (Thousand tonne)=%{y}<extra></extra>",
         "legendgroup": "Netherlands",
         "line": {
          "color": "#ab63fa",
          "dash": "solid"
         },
         "marker": {
          "symbol": "circle"
         },
         "mode": "lines+markers",
         "name": "Netherlands",
         "orientation": "v",
         "showlegend": true,
         "type": "scatter",
         "x": [
          2012,
          2013,
          2014,
          2015,
          2016,
          2017,
          2018,
          2019,
          2020,
          2021
         ],
         "xaxis": "x",
         "y": [
          27,
          43,
          73,
          38,
          0,
          0,
          0,
          0,
          0,
          0
         ],
         "yaxis": "y"
        }
       ],
       "layout": {
        "legend": {
         "title": {
          "text": "Country"
         },
         "tracegroupgap": 0
        },
        "template": {
         "data": {
          "scatter": [
           {
            "type": "scatter"
           }
          ]
         }
        },
        "title": {
         "text": "International transport of goods by rail from the UK to reporting country"
        },
        "xaxis": {
         "anchor": "y",
         "domain": [
          0,
          1
         ],
         "title": {
          "text": "Year"
         }
        },
        "yaxis": {
         "anchor": "x",
         "domain": [
          0,
          1
         ],
         "title": {
          "text": "Value (Thousand tonne)"
         }
        }
       }
      }
     },
     "metadata": {},
     "output_type": "display_data"
    }
   ],
   "source": [
    "fig=px.line(eugoods_export_df, x='Year', y='Value (Thousand tonne)', color='Country', markers=True, title='International transport of goods by rail from the UK to reporting country')\n",
    "fig.update_layout(template='none')\n",
    "fig.show()"
   ]
  },
  {
   "cell_type": "markdown",
   "metadata": {},
   "source": [
    "Next, we want to visualize the transportation of goods by railway to the UK from European countries in thousands of tonnes. The selected EU countries are namely - Germany, Ireland, Spain, France, Hungary, Austria, Poland, Finland and the Netherlands. Again, the selected time frame for this research is between 2012 until a bit after 2020. Nevertheless as seen on the graph the only relevant countries for this trade are Germany, France and Spain. UK is not importing any goods by train from the other countries.\n",
    "We can see that the UK are importing more goods by train after Brexit, suggesting that they might be an other factor justifying that.\n"
   ]
  },
  {
   "cell_type": "code",
   "execution_count": 34,
   "metadata": {},
   "outputs": [
    {
     "data": {
      "application/vnd.plotly.v1+json": {
       "config": {
        "plotlyServerURL": "https://plot.ly"
       },
       "data": [
        {
         "hovertemplate": "GEO=Germany (until 1990 former territory of the FRG)<br>TIME=%{x}<br>Value=%{y}<extra></extra>",
         "legendgroup": "Germany (until 1990 former territory of the FRG)",
         "line": {
          "color": "#636efa",
          "dash": "solid"
         },
         "marker": {
          "symbol": "circle"
         },
         "mode": "lines+markers",
         "name": "Germany (until 1990 former territory of the FRG)",
         "orientation": "h",
         "showlegend": true,
         "type": "scatter",
         "x": [
          2012,
          2013,
          2014,
          2015,
          2016,
          2017,
          2018,
          2019,
          2020,
          2021
         ],
         "xaxis": "x",
         "y": [
          "57",
          "4",
          "101",
          "142",
          "179",
          "221",
          "262",
          "259",
          "202",
          "156"
         ],
         "yaxis": "y"
        },
        {
         "hovertemplate": "GEO=Ireland<br>TIME=%{x}<br>Value=%{y}<extra></extra>",
         "legendgroup": "Ireland",
         "line": {
          "color": "#EF553B",
          "dash": "solid"
         },
         "marker": {
          "symbol": "circle"
         },
         "mode": "lines+markers",
         "name": "Ireland",
         "orientation": "h",
         "showlegend": true,
         "type": "scatter",
         "x": [
          2012,
          2013,
          2014,
          2015,
          2016,
          2017,
          2018,
          2019,
          2020,
          2021
         ],
         "xaxis": "x",
         "y": [
          "0",
          "0",
          "0",
          "0",
          "0",
          "0",
          "0",
          "0",
          "0",
          "0"
         ],
         "yaxis": "y"
        },
        {
         "hovertemplate": "GEO=Spain<br>TIME=%{x}<br>Value=%{y}<extra></extra>",
         "legendgroup": "Spain",
         "line": {
          "color": "#00cc96",
          "dash": "solid"
         },
         "marker": {
          "symbol": "circle"
         },
         "mode": "lines+markers",
         "name": "Spain",
         "orientation": "h",
         "showlegend": true,
         "type": "scatter",
         "x": [
          2012,
          2013,
          2014,
          2015,
          2016,
          2017,
          2018,
          2019,
          2020,
          2021
         ],
         "xaxis": "x",
         "y": [
          "106",
          "133",
          "127",
          "113",
          "128",
          "128",
          "116",
          "131",
          "109",
          "101"
         ],
         "yaxis": "y"
        },
        {
         "hovertemplate": "GEO=France<br>TIME=%{x}<br>Value=%{y}<extra></extra>",
         "legendgroup": "France",
         "line": {
          "color": "#ab63fa",
          "dash": "solid"
         },
         "marker": {
          "symbol": "circle"
         },
         "mode": "lines+markers",
         "name": "France",
         "orientation": "h",
         "showlegend": true,
         "type": "scatter",
         "x": [
          2012,
          2013,
          2014,
          2015,
          2016,
          2017,
          2018,
          2019,
          2020,
          2021
         ],
         "xaxis": "x",
         "y": [
          "208",
          "186",
          "208",
          "265",
          "192",
          "287",
          "316",
          "399",
          "422",
          "474"
         ],
         "yaxis": "y"
        },
        {
         "hovertemplate": "GEO=Hungary<br>TIME=%{x}<br>Value=%{y}<extra></extra>",
         "legendgroup": "Hungary",
         "line": {
          "color": "#FFA15A",
          "dash": "solid"
         },
         "marker": {
          "symbol": "circle"
         },
         "mode": "lines+markers",
         "name": "Hungary",
         "orientation": "h",
         "showlegend": true,
         "type": "scatter",
         "x": [
          2012,
          2013,
          2014,
          2015,
          2016,
          2017,
          2018,
          2019,
          2020,
          2021
         ],
         "xaxis": "x",
         "y": [
          ":",
          "1",
          ":",
          ":",
          ":",
          ":",
          ":",
          ":",
          ":",
          ":"
         ],
         "yaxis": "y"
        },
        {
         "hovertemplate": "GEO=Netherlands<br>TIME=%{x}<br>Value=%{y}<extra></extra>",
         "legendgroup": "Netherlands",
         "line": {
          "color": "#19d3f3",
          "dash": "solid"
         },
         "marker": {
          "symbol": "circle"
         },
         "mode": "lines+markers",
         "name": "Netherlands",
         "orientation": "h",
         "showlegend": true,
         "type": "scatter",
         "x": [
          2012,
          2013,
          2014,
          2015,
          2016,
          2017,
          2018,
          2019,
          2020,
          2021
         ],
         "xaxis": "x",
         "y": [
          "4",
          ":",
          ":",
          ":",
          ":",
          ":",
          ":",
          ":",
          ":",
          ":"
         ],
         "yaxis": "y"
        },
        {
         "hovertemplate": "GEO=Austria<br>TIME=%{x}<br>Value=%{y}<extra></extra>",
         "legendgroup": "Austria",
         "line": {
          "color": "#FF6692",
          "dash": "solid"
         },
         "marker": {
          "symbol": "circle"
         },
         "mode": "lines+markers",
         "name": "Austria",
         "orientation": "h",
         "showlegend": true,
         "type": "scatter",
         "x": [
          2012,
          2013,
          2014,
          2015,
          2016,
          2017,
          2018,
          2019,
          2020,
          2021
         ],
         "xaxis": "x",
         "y": [
          ":",
          ":",
          ":",
          ":",
          "1",
          ":",
          ":",
          "23",
          ":",
          ":"
         ],
         "yaxis": "y"
        },
        {
         "hovertemplate": "GEO=Poland<br>TIME=%{x}<br>Value=%{y}<extra></extra>",
         "legendgroup": "Poland",
         "line": {
          "color": "#B6E880",
          "dash": "solid"
         },
         "marker": {
          "symbol": "circle"
         },
         "mode": "lines+markers",
         "name": "Poland",
         "orientation": "h",
         "showlegend": true,
         "type": "scatter",
         "x": [
          2012,
          2013,
          2014,
          2015,
          2016,
          2017,
          2018,
          2019,
          2020,
          2021
         ],
         "xaxis": "x",
         "y": [
          "24",
          "32",
          "29",
          ":",
          ":",
          ":",
          "0",
          ":",
          ":",
          ":"
         ],
         "yaxis": "y"
        },
        {
         "hovertemplate": "GEO=Finland<br>TIME=%{x}<br>Value=%{y}<extra></extra>",
         "legendgroup": "Finland",
         "line": {
          "color": "#FF97FF",
          "dash": "solid"
         },
         "marker": {
          "symbol": "circle"
         },
         "mode": "lines+markers",
         "name": "Finland",
         "orientation": "h",
         "showlegend": true,
         "type": "scatter",
         "x": [
          2012,
          2013,
          2014,
          2015,
          2016,
          2017,
          2018,
          2019,
          2020,
          2021
         ],
         "xaxis": "x",
         "y": [
          "1",
          "1",
          "1",
          ":",
          ":",
          ":",
          ":",
          ":",
          ":",
          ":"
         ],
         "yaxis": "y"
        }
       ],
       "layout": {
        "autotypenumbers": "convert types",
        "legend": {
         "title": {
          "text": "GEO"
         },
         "tracegroupgap": 0
        },
        "template": {
         "data": {
          "scatter": [
           {
            "type": "scatter"
           }
          ]
         }
        },
        "title": {
         "text": "International transport of goods by rail from loading country to the UK"
        },
        "xaxis": {
         "anchor": "y",
         "domain": [
          0,
          1
         ],
         "title": {
          "text": "TIME"
         }
        },
        "yaxis": {
         "anchor": "x",
         "domain": [
          0,
          1
         ],
         "title": {
          "text": "Value"
         }
        }
       }
      }
     },
     "metadata": {},
     "output_type": "display_data"
    }
   ],
   "source": [
    "fig=px.line(eugoods_import_df, x='TIME', y='Value', color='GEO', markers=True, title='International transport of goods by rail from loading country to the UK')\n",
    "fig.update_layout(autotypenumbers='convert types', template='none')\n",
    "fig.show()"
   ]
  },
  {
   "cell_type": "markdown",
   "metadata": {},
   "source": [
    "# 9.1 Conclusion \n",
    "In Conclusion, we can observe that the transportation of goods by railway has been fluctuating between the early 90's and 2020. There clearly is a steady decrease in the use of this transportation mode when it comes to goods.\n",
    "Moreover, we can observe that for most countries (except Germany for import and export to the UK and France for export to the UK), the use of railway goods transpotation for export and import to the UK either decreased or remained unchanged after 2020, when Brexit was officially announced.\n"
   ]
  },
  {
   "cell_type": "markdown",
   "metadata": {},
   "source": [
    "# 10. Conclusion [THIS IS TO CONCLUDE THE WHOLE PROJECT]"
   ]
  }
 ],
 "metadata": {
  "kernelspec": {
   "display_name": "Python 3.10.4 ('TIL6022(new)')",
   "language": "python",
   "name": "python3"
  },
  "language_info": {
   "codemirror_mode": {
    "name": "ipython",
    "version": 3
   },
   "file_extension": ".py",
   "mimetype": "text/x-python",
   "name": "python",
   "nbconvert_exporter": "python",
   "pygments_lexer": "ipython3",
   "version": "3.10.4"
  },
  "vscode": {
   "interpreter": {
    "hash": "044f2545a371a93ad6fa0dc4584039e5d592515e28cbde896f0e3b9ec8c44890"
   }
  }
 },
 "nbformat": 4,
 "nbformat_minor": 2
}
