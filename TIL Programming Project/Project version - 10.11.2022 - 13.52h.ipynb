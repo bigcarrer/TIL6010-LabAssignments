{
 "cells": [
  {
   "cell_type": "markdown",
   "metadata": {},
   "source": [
    "# 0. Project Group - 12\n",
    "\n",
    "Members & student number: \n",
    "\n",
    "Alain Carrer - 5851416 \n",
    "\n",
    "Inez - 5736412\n",
    "\n",
    "Lia Kondova - 5838185\n",
    "\n",
    "Mateo Menoury - 5839505\n",
    "\n",
    "Muhammad Satrya Dewantara - 4861159"
   ]
  },
  {
   "cell_type": "markdown",
   "metadata": {},
   "source": [
    "# 1. Research Objective\n",
    "\n",
    "The project's objective is to reveal the relationship and effect of Brexit to international trade between Eurpean Union countries and United Kingdom with timescale from 2013 to 2021. "
   ]
  },
  {
   "cell_type": "markdown",
   "metadata": {},
   "source": [
    "# 2. Research Questions\n",
    "\n",
    "**Main research question:**\n",
    "How does Brexit affect the international trade between the United Kingdom and European Union?\n",
    "\n",
    "**Sub research questions:**\n",
    "1. How does Brexit affect UK's sea trade with EU?\n",
    "2. How does Brexit affect UK's railway trade with EU?\n"
   ]
  },
  {
   "cell_type": "markdown",
   "metadata": {},
   "source": [
    "# 3. Contribution Statement\n",
    "\n",
    "*Be specific. Some of the tasks can be coding (expect everyone to do this), background research, conceptualisation, visualisation, data analysis, data modelling*"
   ]
  },
  {
   "cell_type": "markdown",
   "metadata": {},
   "source": [
    "**Alain Carrer**: Trade of goods by railway (data extraction and visualization)\n",
    "\n",
    "**Inez**: Different effect of Covid and Brexit in international trade\n",
    "\n",
    "**Lia Kondova**: Background research on the different effects Brexit has on transporting goods between the UK and EU via different transport modes; conceptualization; research on relevant data sources that could be used (also finding one of the main ones used for this project); partial report writing and editing\n",
    "\n",
    "**Matéo Ménoury**: Part 7 - Interactive map of trade balance between the UK and EU countries\n",
    "\n",
    "**Muhammad Satrya Dewantara**: UK sea trade, Trades between UK and EU, UK trade growth rate, UK trade proportion, UK-EU trade by cargo group"
   ]
  },
  {
   "cell_type": "markdown",
   "metadata": {},
   "source": [
    "# 4. Data Used"
   ]
  },
  {
   "cell_type": "markdown",
   "metadata": {},
   "source": [
    "Data source to analyse the different effect of covid and brexit in international trade of goods: The data contains import and export of each country in percentage change compared to the previous period. The data of trade percentage of United Kingdom per year is compared to the average trade percentage of all countries. The data source can be found at:\n",
    "https://data.oecd.org/trade/trade-in-goods.htm\n",
    "\n",
    "\n",
    "The data used for the part 7 are from the British Office for National Statistics. They provide the annual, quarterly and monthly goods export and import figures for all countries with the UK. The data source can be found at:\n",
    "https://www.ons.gov.uk/economy/nationalaccounts/balanceofpayments/datasets/uktradeallcountriesseasonallyadjusted\n",
    "\n"
   ]
  },
  {
   "cell_type": "markdown",
   "metadata": {},
   "source": [
    "# 5. Data Pipeline"
   ]
  },
  {
   "cell_type": "markdown",
   "metadata": {},
   "source": [
    "Britain Exit or generally known as Brexit refers to the withdrawal of the United Kingdom (UK) from the European Union (EU), which happened on 31st January 2020 at 23:00 GMT. \n",
    "\n",
    "This exit from the EU had tremendous consequences for the UK in terms of the trade of goods, among other aspects. Such a consequence was the \"steep decline\" in the number of trading relationships Britain has with the EU block. This was a particularly serious consequence for smaller companies, as they struggled to absorb custom controls, VAT and regulatory red tape. In other words - smaller firms did not have the money, time or logistical capacity to set up within the EU, and were therefore hit the hardest. Moreover, it even appeared that after 2021, the UK just stopped selling a lot of porducts to smaller countries in the EU (https://www.ft.com/content/b0860ee6-e06e-4fc4-bd87-d56dcc7ee946).\n",
    "\n",
    "Overall, the exports from UK to the EU declined by nearly 14% in 2021, compared with 2020 (https://www.theguardian.com/politics/2022/jun/30/brexit-uk-exports-fall-eu-goods-services#:~:text=The%20UK's%20decision%20to%20choose,%E2%80%93%20a%20drop%20of%2013.6%25). The count of UK exporters and importers also started declining after 2020 (https://assets.publishing.service.gov.uk/government/uploads/system/uploads/attachment_data/file/1033099/IDBR_OTS_2020.pdf).\n",
    "\n"
   ]
  },
  {
   "cell_type": "markdown",
   "metadata": {},
   "source": [
    "However, at the same time when the Brexit was issued, the Covid-19 virus was speading fast worldwide. It affected every part of \"normal life\", including the trade of goods internationally. And since Brexit and Covid-19 were happening alsmost simultaneously, analysing the change of trade before and after Brexit might have a bias due to the influence of Covid-19.\n",
    "\n",
    "Therefore, it is important to determine whether there is any difference in international trade due to Brexit and Covid-19. The difference is analysed by taking the average of the world's international trade percentage and comparing it with UK's trade percentage. Such approach is chosen because Covid-19 has affected the whole world while Brexit has mainly affect UK's trade. If there is any difference observed, it can be concluded that Brexit has influence in the trade.\n",
    "\n",
    "Further, since there are many transport modes, a choice about the direction of the research had to be made in order to make it more specific. The trade of goods by railway was selected, as railway transportation is the \"backbone\" of the British economy, as it employs around 240 000 people, and it moves over 85 million tonnes of freight each year, thus spreading wealth to each part of the country. Moreover, railway is the only physical link between the UK and Europe, thus providing a smoother flow of goods between the UK and the EU, which flow is critical for the transport secctor (https://www.raildeliverygroup.com/about-us/publications/archive/125-2018-03-brexit-policy-asks/file.html).\n",
    "\n",
    "The second transportation mode chosen for this research was the maritime transportation, as it posseses physical properties, such as buoyancy and limited friction, thus making it the most effective mode of moving large quantities of cargo over long distances, worldwide (https://transportgeography.org/contents/chapter5/transportation-modes-modal-competition-modal-shift/#:~:text=Maritime%20transportation,of%20cargo%20over%20long%20distances).Moreover, this mode was chosen, as at the end of 2020 not only the third pandemix wave was starting, but also the Brexit-deal was announced last-minute, meaning that borders closed just days before Christmas. All of this caused unforseen chaos and uncertainty for many industries, including the maritime goods transportation industry (https://www.container-xchange.com/blog/shipping-brexit-and-covid-19/#the_future_of_the_shipping_industry_in_the_uk_and_europe).\n",
    "\n",
    "For the aforementioned reasons, we decided that it would be interesting to research what effect Brexit specifically had on the railway and maritime goods transportation industries. And as Brexit and Covid-19 were happening simultaneously, it is important to note that in this research, we are trying to isolate the effects oof Covid-19 and get to the bottom of the actual effects Brexit alone had on the two industries."
   ]
  },
  {
   "cell_type": "markdown",
   "metadata": {},
   "source": [
    "# 6. Effect differenciation of Brexit and Covid-19 on the international trade of United Kingdom\n",
    "\n",
    "\n",
    "After conducting research, we had a theoretical answer to our question, whether Brexit had an effect on  the trade between the UK and the EU will be investigated. However, as some of the resources might have been speculating about the effects on trade, it is important to analyse the database that was found, as it is from the website of the government, and make concrete conclusions, based on it.\n",
    "\n",
    "Since Brexit and Covid-19 are happening during the same period of time, the data gathered should be analysed whether the trade change is caused by Brexit or Covid-19. In order to determine the differences, UK's trade is compared with the average of world's trade of all countries. Such approach is taken because the whole world is affected by Covid-19 while Brexit is mainly affecting the UK. Thus, by comparing both values, it can be observed whether UK's trade has any change apart from the Covid-19 effect. "
   ]
  },
  {
   "cell_type": "code",
   "execution_count": 3,
   "metadata": {},
   "outputs": [
    {
     "name": "stderr",
     "output_type": "stream",
     "text": [
      "c:\\Users\\inezv\\Anaconda3\\envs\\TIL6022\\lib\\site-packages\\scipy\\__init__.py:146: UserWarning: A NumPy version >=1.16.5 and <1.23.0 is required for this version of SciPy (detected version 1.23.1\n",
      "  warnings.warn(f\"A NumPy version >={np_minversion} and <{np_maxversion}\"\n"
     ]
    }
   ],
   "source": [
    "#import packages\n",
    "\n",
    "import pandas as pd\n",
    "import seaborn as sns\n",
    "import plotly.express as px\n",
    "\n",
    "import matplotlib.pyplot as plt\n",
    "\n",
    "from plotly.subplots import make_subplots\n",
    "import plotly.graph_objects as go"
   ]
  },
  {
   "cell_type": "code",
   "execution_count": 4,
   "metadata": {},
   "outputs": [],
   "source": [
    "#read the dataframes\n",
    "\n",
    "ex_percent_all = 'DataBases/export_percent_all.csv'\n",
    "df_ex_percent_all = pd.read_csv(ex_percent_all , sep=',')\n",
    "\n",
    "ex_percent_eu = 'DataBases/export_percent_eu.csv'\n",
    "df_ex_percent_eu = pd.read_csv(ex_percent_eu , sep=',')\n",
    "\n",
    "im_percent_all = 'DataBases/import_percent_all.csv'\n",
    "df_im_percent_all = pd.read_csv(im_percent_all , sep=',')\n",
    "\n",
    "im_percent_eu = 'DataBases/import_percent_eu.csv'\n",
    "df_im_percent_eu = pd.read_csv(im_percent_eu , sep=',')"
   ]
  },
  {
   "cell_type": "code",
   "execution_count": 22,
   "metadata": {},
   "outputs": [
    {
     "data": {
      "application/vnd.plotly.v1+json": {
       "config": {
        "plotlyServerURL": "https://plot.ly"
       },
       "data": [
        {
         "hovertemplate": "variable=All countries except UK<br>TIME=%{x}<br>value=%{y}<extra></extra>",
         "legendgroup": "All countries except UK",
         "line": {
          "color": "#636efa",
          "dash": "solid"
         },
         "marker": {
          "symbol": "circle"
         },
         "mode": "lines+markers",
         "name": "All countries except UK",
         "orientation": "v",
         "showlegend": true,
         "type": "scatter",
         "x": [
          2008,
          2009,
          2010,
          2011,
          2012,
          2013,
          2014,
          2015,
          2016,
          2017,
          2018,
          2019,
          2020
         ],
         "xaxis": "x",
         "y": [
          15.587378126,
          -21.57748122,
          18.8720431,
          21.05683652,
          -1.6330144786,
          2.014419282,
          0.4882611234000001,
          -14.37439852,
          -1.6731551042000001,
          11.698765550000001,
          10.35918946,
          -2.556290908,
          -7.1020527200000005
         ],
         "yaxis": "y"
        },
        {
         "mode": "lines+markers",
         "name": "UK",
         "type": "scatter",
         "x": [
          2008,
          2009,
          2010,
          2011,
          2012,
          2013,
          2014,
          2015,
          2016,
          2017,
          2018,
          2019,
          2020
         ],
         "y": [
          3.540254,
          -22.24608,
          13.76733,
          16.86197,
          -1.477315,
          -0.5819942,
          1.532207,
          -9.887542,
          -6.413045,
          7.361871,
          7.022233,
          -2.385511,
          -14.74717
         ]
        }
       ],
       "layout": {
        "autosize": false,
        "legend": {
         "title": {
          "text": "variable"
         },
         "tracegroupgap": 0
        },
        "template": {},
        "title": {
         "text": "Export of all countries vs UK"
        },
        "xaxis": {
         "anchor": "y",
         "domain": [
          0,
          1
         ],
         "title": {
          "text": "TIME"
         }
        },
        "yaxis": {
         "anchor": "x",
         "domain": [
          0,
          1
         ],
         "title": {
          "text": "value"
         }
        }
       }
      }
     },
     "metadata": {},
     "output_type": "display_data"
    }
   ],
   "source": [
    "#dataframe: export all countries vs UK in percentage change compared to previous period\n",
    "\n",
    "df_ex_all_gbr = df_ex_percent_all[(df_ex_percent_all.LOCATION == 'GBR')]    # only value of UK\n",
    "df_ex_all_other = df_ex_percent_all[(df_ex_percent_all.LOCATION != 'GBR')]  # value of all countries except UK\n",
    "\n",
    "#take the yearly average value of all other countries except UK\n",
    "df_ex_all_avg = df_ex_all_other.groupby('TIME').mean()\n",
    "df_ex_all_avg = df_ex_all_avg.rename(columns={'Value': 'All countries except UK'})\n",
    "\n",
    "#plotting\n",
    "fig_ex_base_all = px.line(df_ex_all_avg, title='Export of all countries vs UK', markers=True)\n",
    "fig_ex_base_all.add_scatter(x=df_ex_all_gbr['TIME'], y=df_ex_all_gbr['Value'], mode='lines+markers', name='UK')\n",
    "fig_ex_base_all.update_layout(template=None, autosize=False)\n",
    "\n",
    "fig_ex_base_all.show()"
   ]
  },
  {
   "cell_type": "code",
   "execution_count": 23,
   "metadata": {},
   "outputs": [
    {
     "data": {
      "application/vnd.plotly.v1+json": {
       "config": {
        "plotlyServerURL": "https://plot.ly"
       },
       "data": [
        {
         "hovertemplate": "variable=All countries except UK<br>TIME=%{x}<br>value=%{y}<extra></extra>",
         "legendgroup": "All countries except UK",
         "line": {
          "color": "#636efa",
          "dash": "solid"
         },
         "marker": {
          "symbol": "circle"
         },
         "mode": "lines+markers",
         "name": "All countries except UK",
         "orientation": "v",
         "showlegend": true,
         "type": "scatter",
         "x": [
          2008,
          2009,
          2010,
          2011,
          2012,
          2013,
          2014,
          2015,
          2016,
          2017,
          2018,
          2019,
          2020
         ],
         "xaxis": "x",
         "y": [
          14.192093590909092,
          -22.587424318181817,
          12.583095863636363,
          20.561039045454546,
          -3.3731463181818184,
          3.8867062727272725,
          1.9027011895454544,
          -13.797307318181817,
          0.40404701818181815,
          11.43680925,
          11.224796863636364,
          -1.9929291727272727,
          -4.654270772727273
         ],
         "yaxis": "y"
        },
        {
         "mode": "lines+markers",
         "name": "UK",
         "type": "scatter",
         "x": [
          2008,
          2009,
          2010,
          2011,
          2012,
          2013,
          2014,
          2015,
          2016,
          2017,
          2018,
          2019,
          2020
         ],
         "y": [
          3.540254,
          -22.24608,
          13.76733,
          16.86197,
          -1.477315,
          -0.5819942,
          1.532207,
          -9.887542,
          -6.413045,
          7.361871,
          7.022233,
          -2.385511,
          -14.74717
         ]
        }
       ],
       "layout": {
        "autosize": false,
        "legend": {
         "title": {
          "text": "variable"
         },
         "tracegroupgap": 0
        },
        "template": {},
        "title": {
         "text": "Export of EU countries vs UK"
        },
        "xaxis": {
         "anchor": "y",
         "domain": [
          0,
          1
         ],
         "title": {
          "text": "TIME"
         }
        },
        "yaxis": {
         "anchor": "x",
         "domain": [
          0,
          1
         ],
         "title": {
          "text": "value"
         }
        }
       }
      }
     },
     "metadata": {},
     "output_type": "display_data"
    }
   ],
   "source": [
    "#dataframe: export EU countries vs UK in percentage change, previous period\n",
    "\n",
    "df_ex_eu_gbr = df_ex_percent_eu[(df_ex_percent_eu.LOCATION == 'GBR')]      # only value of UK\n",
    "df_ex_eu_other = df_ex_percent_eu[(df_ex_percent_eu.LOCATION != 'GBR')]    # value of all countries except UK\n",
    "\n",
    "#take the yearly average value of all other countries except UK\n",
    "df_ex_eu_avg = df_ex_eu_other.groupby('TIME').mean()\n",
    "df_ex_eu_avg = df_ex_eu_avg.rename(columns={'Value': 'All countries except UK'})\n",
    "\n",
    "#plotting\n",
    "fig_ex_base_eu = px.line(df_ex_eu_avg['All countries except UK'], title='Export of EU countries vs UK', markers=True)\n",
    "fig_ex_base_eu.add_scatter(x=df_ex_eu_gbr['TIME'], y=df_ex_eu_gbr['Value'], mode='lines+markers', name='UK')\n",
    "fig_ex_base_eu.update_layout(template=None, autosize=False)\n",
    "\n",
    "fig_ex_base_eu.show()"
   ]
  },
  {
   "cell_type": "code",
   "execution_count": 24,
   "metadata": {},
   "outputs": [
    {
     "data": {
      "application/vnd.plotly.v1+json": {
       "config": {
        "plotlyServerURL": "https://plot.ly"
       },
       "data": [
        {
         "hovertemplate": "variable=All countries except UK<br>TIME=%{x}<br>value=%{y}<extra></extra>",
         "legendgroup": "All countries except UK",
         "line": {
          "color": "#636efa",
          "dash": "solid"
         },
         "marker": {
          "symbol": "circle"
         },
         "mode": "lines+markers",
         "name": "All countries except UK",
         "orientation": "v",
         "showlegend": true,
         "type": "scatter",
         "x": [
          2008,
          2009,
          2010,
          2011,
          2012,
          2013,
          2014,
          2015,
          2016,
          2017,
          2018,
          2019,
          2020
         ],
         "xaxis": "x",
         "y": [
          17.005928834,
          -25.9184926,
          19.541548902,
          21.98608802,
          -1.539639166,
          1.8049771039999998,
          0.737241062,
          -13.879468291999999,
          -2.4422887699999998,
          12.48244496,
          10.750138300000001,
          -3.4838812818000005,
          -8.898997178
         ],
         "yaxis": "y"
        },
        {
         "mode": "lines+markers",
         "name": "UK",
         "type": "scatter",
         "x": [
          2008,
          2009,
          2010,
          2011,
          2012,
          2013,
          2014,
          2015,
          2016,
          2017,
          2018,
          2019,
          2020
         ],
         "y": [
          1.268023,
          -23.50657,
          14.47745,
          14.78984,
          0.2599008,
          1.189889,
          4.068292,
          -9.437264,
          -4.765817,
          5.286441,
          6.293955,
          -3.208022,
          -12.62175
         ]
        }
       ],
       "layout": {
        "autosize": false,
        "legend": {
         "title": {
          "text": "variable"
         },
         "tracegroupgap": 0
        },
        "template": {},
        "title": {
         "text": "Import of all countries vs UK"
        },
        "xaxis": {
         "anchor": "y",
         "domain": [
          0,
          1
         ],
         "title": {
          "text": "TIME"
         }
        },
        "yaxis": {
         "anchor": "x",
         "domain": [
          0,
          1
         ],
         "title": {
          "text": "value"
         }
        }
       }
      }
     },
     "metadata": {},
     "output_type": "display_data"
    }
   ],
   "source": [
    "#dataframe: import all countries vs UK in percentage change, previous period\n",
    "\n",
    "df_im_all_gbr = df_im_percent_all[(df_im_percent_all.LOCATION == 'GBR')]    #only data of UK\n",
    "df_im_all_other = df_im_percent_all[(df_im_percent_all.LOCATION != 'GBR')]  #data of all countries except UK\n",
    "\n",
    "#take the yearly average value of all other countries except UK\n",
    "df_im_all_avg = df_im_all_other.groupby('TIME').mean()\n",
    "df_im_all_avg = df_im_all_avg.rename(columns={'Value': 'All countries except UK'})\n",
    "\n",
    "#plotting\n",
    "fig_im_base_all = px.line(df_im_all_avg, title='Import of all countries vs UK', markers=True)\n",
    "fig_im_base_all.add_scatter(x=df_im_all_gbr['TIME'], y=df_im_all_gbr['Value'], mode='lines+markers', name='UK')\n",
    "fig_im_base_all.update_layout(template=None, autosize=False)\n",
    "\n",
    "fig_im_base_all.show()"
   ]
  },
  {
   "cell_type": "code",
   "execution_count": 25,
   "metadata": {},
   "outputs": [
    {
     "data": {
      "application/vnd.plotly.v1+json": {
       "config": {
        "plotlyServerURL": "https://plot.ly"
       },
       "data": [
        {
         "hovertemplate": "variable=All countries except UK<br>TIME=%{x}<br>value=%{y}<extra></extra>",
         "legendgroup": "All countries except UK",
         "line": {
          "color": "#636efa",
          "dash": "solid"
         },
         "marker": {
          "symbol": "circle"
         },
         "mode": "lines+markers",
         "name": "All countries except UK",
         "orientation": "v",
         "showlegend": true,
         "type": "scatter",
         "x": [
          2008,
          2009,
          2010,
          2011,
          2012,
          2013,
          2014,
          2015,
          2016,
          2017,
          2018,
          2019,
          2020
         ],
         "xaxis": "x",
         "y": [
          13.846650259090909,
          -27.42772318181818,
          12.201633413636364,
          20.038183681818182,
          -5.494093886363636,
          2.47438525,
          1.9492657545454544,
          -14.713192772727274,
          0.41586695909090904,
          13.058260272727273,
          12.516659454545454,
          -3.1706653322727276,
          -6.727734845454545
         ],
         "yaxis": "y"
        },
        {
         "mode": "lines+markers",
         "name": "UK",
         "type": "scatter",
         "x": [
          2008,
          2009,
          2010,
          2011,
          2012,
          2013,
          2014,
          2015,
          2016,
          2017,
          2018,
          2019,
          2020
         ],
         "y": [
          1.268023,
          -23.50657,
          14.47745,
          14.78984,
          0.2599008,
          1.189889,
          4.068292,
          -9.437264,
          -4.765817,
          5.286441,
          6.293955,
          -3.208022,
          -12.62175
         ]
        }
       ],
       "layout": {
        "autosize": false,
        "legend": {
         "title": {
          "text": "variable"
         },
         "tracegroupgap": 0
        },
        "template": {},
        "title": {
         "text": "Import of EU countries vs UK"
        },
        "xaxis": {
         "anchor": "y",
         "domain": [
          0,
          1
         ],
         "title": {
          "text": "TIME"
         }
        },
        "yaxis": {
         "anchor": "x",
         "domain": [
          0,
          1
         ],
         "title": {
          "text": "value"
         }
        }
       }
      }
     },
     "metadata": {},
     "output_type": "display_data"
    }
   ],
   "source": [
    "#dataframe: import all countries vs UK in percentage change, previous period\n",
    "\n",
    "df_im_eu_gbr = df_im_percent_eu[(df_im_percent_eu.LOCATION == 'GBR')]       # only data of UK\n",
    "df_im_eu_other = df_im_percent_eu[(df_im_percent_eu.LOCATION != 'GBR')]     # data of other countries except UK\n",
    "\n",
    "#take the yearly average value of all other countries except UK\n",
    "df_im_eu_avg = df_im_eu_other.groupby('TIME').mean()\n",
    "df_im_eu_avg = df_im_eu_avg.rename(columns={'Value': 'All countries except UK'})\n",
    "\n",
    "#plotting\n",
    "fig_im_base_eu = px.line(df_im_eu_avg['All countries except UK'], title='Import of EU countries vs UK', markers=True)\n",
    "fig_im_base_eu.add_scatter(x=df_im_eu_gbr['TIME'], y=df_im_eu_gbr['Value'], mode='lines+markers', name='UK')\n",
    "fig_im_base_eu.update_layout(template=None, autosize=False)\n",
    "\n",
    "fig_im_base_eu.show()"
   ]
  },
  {
   "cell_type": "markdown",
   "metadata": {},
   "source": [
    "Based on the generated graph, the import and export of UK and other countries shows similar pattern. Moreover, it can be observed that in 2019, UK's trade is on the average of all countries' trade combined. However, by the end of 2020, UK's trade decreased more. Such results show that Brexit has some effect in UK's trade, apart from the Covid-19 that is affecting the whole world. This finding has proved that due to Brexit, the UK experienced some decrease in their international trade, both globally and with EU. "
   ]
  },
  {
   "cell_type": "markdown",
   "metadata": {},
   "source": [
    "Further, now we are going to dive deeper into the research by trying to answer the sub research questions, that were formulated earlier. Moreover, we will also answer any speciying questions that might be necessary for answering the sub research questions."
   ]
  },
  {
   "cell_type": "markdown",
   "metadata": {},
   "source": [
    "# 7. Evolution of trade balance between the UK and EU countries\n",
    "\n",
    "After studying the global effect Brexit between the UK and the EU, we are going to have a look closer to the different EU countries. Indeed, this might reveal some differences between countries, and we will see which EU countries take advatage / suffer of the Brexit. We will here define the trade balance as the value of exports minus the value of imports (in million pounds). "
   ]
  },
  {
   "cell_type": "code",
   "execution_count": 14,
   "metadata": {},
   "outputs": [],
   "source": [
    "#Data importation\n",
    "import_uk = pd.read_csv('DataBases/import_map.csv', encoding='latin-1')\n",
    "export_uk = pd.read_csv('DataBases/export_map.csv', encoding='latin-1')\n",
    "\n",
    "#list of countries of the EU after Brexit\n",
    "list_countries_eu = ['Austria', 'Belgium', 'Bulgaria', 'Croatia', 'Cyprus', 'Czechia', 'Denmark', 'Estonia', 'Finland', 'France', 'Germany',\n",
    "                     'Greece', 'Hungary', 'Ireland', 'Italy', 'Latvia', 'Lithuania', 'Luxembourg', 'Malta', 'Netherlands', 'Poland', 'Portugal',\n",
    "                     'Romania', 'Slovakia', 'Slovenia', 'Spain', 'Sweden']\n",
    "\n",
    "#Data processing\n",
    "    #selection of EU countries\n",
    "import_uk = import_uk.loc[import_uk['Country Name'].isin(list_countries_eu),:].drop(columns = 'Country Code')\n",
    "export_uk = export_uk.loc[export_uk['Country Name'].isin(list_countries_eu),:].drop(columns = 'Country Code')\n",
    "    #data formatting\n",
    "import_uk = import_uk.melt(id_vars=[\"Country Name\"], \n",
    "        var_name=\"Year\", \n",
    "        value_name=\"Imports\")\n",
    "export_uk = export_uk.melt(id_vars=[\"Country Name\"], \n",
    "        var_name=\"Year\", \n",
    "        value_name=\"Exports\")\n",
    "    #convertion of \"Year\" column in a int type column\n",
    "export_uk['Year'] = export_uk['Year'].astype(int)\n",
    "import_uk['Year'] = import_uk['Year'].astype(int)\n",
    "    #we only keep data after 2010\n",
    "import_uk = import_uk.loc[import_uk['Year']> 2010,:]\n",
    "export_uk = export_uk.loc[export_uk['Year']> 2010,:]\n",
    "    #balance trade\n",
    "data = pd.merge(import_uk, export_uk,  how='left', left_on=['Country Name', 'Year'], right_on = ['Country Name', 'Year']) #we merge both table into one table\n",
    "data['Balance of trade'] = data['Exports'] - data['Imports']"
   ]
  },
  {
   "cell_type": "code",
   "execution_count": 15,
   "metadata": {},
   "outputs": [
    {
     "data": {
      "application/vnd.plotly.v1+json": {
       "config": {
        "plotlyServerURL": "https://plot.ly"
       },
       "data": [
        {
         "coloraxis": "coloraxis",
         "geo": "geo",
         "hovertemplate": "<b>%{hovertext}</b><br><br>Year=2011<br>iso_alpha=%{location}<br>Balance of trade=%{z}<extra></extra>",
         "hovertext": [
          "Austria",
          "Belgium",
          "Bulgaria",
          "Croatia",
          "Denmark",
          "Finland",
          "France",
          "Germany",
          "Greece",
          "Hungary",
          "Ireland",
          "Italy",
          "Netherlands",
          "Poland",
          "Portugal",
          "Romania",
          "Slovenia",
          "Spain",
          "Sweden"
         ],
         "locations": [
          "AUT",
          "BEL",
          "BGR",
          "HRV",
          "DNK",
          "FIN",
          "FRA",
          "DEU",
          "GRC",
          "HUN",
          "IRL",
          "ITA",
          "NLD",
          "POL",
          "PRT",
          "ROU",
          "SVN",
          "ESP",
          "SWE"
         ],
         "name": "",
         "type": "choropleth",
         "z": [
          -1268,
          -3592,
          48,
          20,
          -3063,
          -730,
          -2345,
          -16547,
          539,
          -1892,
          4820,
          -4428,
          -4694,
          -2725,
          -47,
          -316,
          -114,
          -3052,
          -1488
         ]
        }
       ],
       "frames": [
        {
         "data": [
          {
           "coloraxis": "coloraxis",
           "geo": "geo",
           "hovertemplate": "<b>%{hovertext}</b><br><br>Year=2011<br>iso_alpha=%{location}<br>Balance of trade=%{z}<extra></extra>",
           "hovertext": [
            "Austria",
            "Belgium",
            "Bulgaria",
            "Croatia",
            "Denmark",
            "Finland",
            "France",
            "Germany",
            "Greece",
            "Hungary",
            "Ireland",
            "Italy",
            "Netherlands",
            "Poland",
            "Portugal",
            "Romania",
            "Slovenia",
            "Spain",
            "Sweden"
           ],
           "locations": [
            "AUT",
            "BEL",
            "BGR",
            "HRV",
            "DNK",
            "FIN",
            "FRA",
            "DEU",
            "GRC",
            "HUN",
            "IRL",
            "ITA",
            "NLD",
            "POL",
            "PRT",
            "ROU",
            "SVN",
            "ESP",
            "SWE"
           ],
           "name": "",
           "type": "choropleth",
           "z": [
            -1268,
            -3592,
            48,
            20,
            -3063,
            -730,
            -2345,
            -16547,
            539,
            -1892,
            4820,
            -4428,
            -4694,
            -2725,
            -47,
            -316,
            -114,
            -3052,
            -1488
           ]
          }
         ],
         "name": "2011"
        },
        {
         "data": [
          {
           "coloraxis": "coloraxis",
           "geo": "geo",
           "hovertemplate": "<b>%{hovertext}</b><br><br>Year=2012<br>iso_alpha=%{location}<br>Balance of trade=%{z}<extra></extra>",
           "hovertext": [
            "Austria",
            "Belgium",
            "Bulgaria",
            "Croatia",
            "Denmark",
            "Finland",
            "France",
            "Germany",
            "Greece",
            "Hungary",
            "Ireland",
            "Italy",
            "Netherlands",
            "Poland",
            "Portugal",
            "Romania",
            "Slovenia",
            "Spain",
            "Sweden"
           ],
           "locations": [
            "AUT",
            "BEL",
            "BGR",
            "HRV",
            "DNK",
            "FIN",
            "FRA",
            "DEU",
            "GRC",
            "HUN",
            "IRL",
            "ITA",
            "NLD",
            "POL",
            "PRT",
            "ROU",
            "SVN",
            "ESP",
            "SWE"
           ],
           "name": "",
           "type": "choropleth",
           "z": [
            -1082,
            -4416,
            20,
            57,
            -3046,
            -720,
            -2865,
            -20040,
            190,
            -1532,
            4483,
            -6752,
            -7020,
            -3883,
            -366,
            -311,
            -122,
            -3708,
            -3616
           ]
          }
         ],
         "name": "2012"
        },
        {
         "data": [
          {
           "coloraxis": "coloraxis",
           "geo": "geo",
           "hovertemplate": "<b>%{hovertext}</b><br><br>Year=2013<br>iso_alpha=%{location}<br>Balance of trade=%{z}<extra></extra>",
           "hovertext": [
            "Austria",
            "Belgium",
            "Bulgaria",
            "Croatia",
            "Denmark",
            "Finland",
            "France",
            "Germany",
            "Greece",
            "Hungary",
            "Ireland",
            "Italy",
            "Netherlands",
            "Poland",
            "Portugal",
            "Romania",
            "Slovenia",
            "Spain",
            "Sweden"
           ],
           "locations": [
            "AUT",
            "BEL",
            "BGR",
            "HRV",
            "DNK",
            "FIN",
            "FRA",
            "DEU",
            "GRC",
            "HUN",
            "IRL",
            "ITA",
            "NLD",
            "POL",
            "PRT",
            "ROU",
            "SVN",
            "ESP",
            "SWE"
           ],
           "name": "",
           "type": "choropleth",
           "z": [
            -1206,
            -7444,
            32,
            -62,
            -2635,
            -932,
            -3901,
            -26261,
            478,
            -1343,
            6889,
            -6558,
            -9996,
            -4087,
            -578,
            -431,
            -116,
            -5269,
            -1785
           ]
          }
         ],
         "name": "2013"
        },
        {
         "data": [
          {
           "coloraxis": "coloraxis",
           "geo": "geo",
           "hovertemplate": "<b>%{hovertext}</b><br><br>Year=2014<br>iso_alpha=%{location}<br>Balance of trade=%{z}<extra></extra>",
           "hovertext": [
            "Austria",
            "Belgium",
            "Bulgaria",
            "Croatia",
            "Denmark",
            "Finland",
            "France",
            "Germany",
            "Greece",
            "Hungary",
            "Ireland",
            "Italy",
            "Netherlands",
            "Poland",
            "Portugal",
            "Romania",
            "Slovenia",
            "Spain",
            "Sweden"
           ],
           "locations": [
            "AUT",
            "BEL",
            "BGR",
            "HRV",
            "DNK",
            "FIN",
            "FRA",
            "DEU",
            "GRC",
            "HUN",
            "IRL",
            "ITA",
            "NLD",
            "POL",
            "PRT",
            "ROU",
            "SVN",
            "ESP",
            "SWE"
           ],
           "name": "",
           "type": "choropleth",
           "z": [
            -1354,
            -9726,
            103,
            80,
            -1563,
            -778,
            -6345,
            -28887,
            1192,
            -1186,
            6359,
            -7590,
            -9935,
            -3981,
            -887,
            -513,
            -67,
            -5441,
            -2196
           ]
          }
         ],
         "name": "2014"
        },
        {
         "data": [
          {
           "coloraxis": "coloraxis",
           "geo": "geo",
           "hovertemplate": "<b>%{hovertext}</b><br><br>Year=2015<br>iso_alpha=%{location}<br>Balance of trade=%{z}<extra></extra>",
           "hovertext": [
            "Austria",
            "Belgium",
            "Bulgaria",
            "Croatia",
            "Denmark",
            "Finland",
            "France",
            "Germany",
            "Greece",
            "Hungary",
            "Ireland",
            "Italy",
            "Netherlands",
            "Poland",
            "Portugal",
            "Romania",
            "Slovenia",
            "Spain",
            "Sweden"
           ],
           "locations": [
            "AUT",
            "BEL",
            "BGR",
            "HRV",
            "DNK",
            "FIN",
            "FRA",
            "DEU",
            "GRC",
            "HUN",
            "IRL",
            "ITA",
            "NLD",
            "POL",
            "PRT",
            "ROU",
            "SVN",
            "ESP",
            "SWE"
           ],
           "name": "",
           "type": "choropleth",
           "z": [
            -1416,
            -9902,
            -17,
            43,
            -1123,
            -741,
            -6790,
            -30171,
            246,
            -1217,
            4095,
            -7661,
            -13878,
            -4415,
            -1075,
            -547,
            -119,
            -6154,
            -2578
           ]
          }
         ],
         "name": "2015"
        },
        {
         "data": [
          {
           "coloraxis": "coloraxis",
           "geo": "geo",
           "hovertemplate": "<b>%{hovertext}</b><br><br>Year=2016<br>iso_alpha=%{location}<br>Balance of trade=%{z}<extra></extra>",
           "hovertext": [
            "Austria",
            "Belgium",
            "Bulgaria",
            "Croatia",
            "Denmark",
            "Finland",
            "France",
            "Germany",
            "Greece",
            "Hungary",
            "Ireland",
            "Italy",
            "Netherlands",
            "Poland",
            "Portugal",
            "Romania",
            "Slovenia",
            "Spain",
            "Sweden"
           ],
           "locations": [
            "AUT",
            "BEL",
            "BGR",
            "HRV",
            "DNK",
            "FIN",
            "FRA",
            "DEU",
            "GRC",
            "HUN",
            "IRL",
            "ITA",
            "NLD",
            "POL",
            "PRT",
            "ROU",
            "SVN",
            "ESP",
            "SWE"
           ],
           "name": "",
           "type": "choropleth",
           "z": [
            -1381,
            -12739,
            83,
            65,
            -1455,
            -876,
            -5877,
            -31433,
            97,
            -1316,
            4019,
            -7749,
            -16230,
            -4914,
            -1215,
            -668,
            -152,
            -6959,
            -1747
           ]
          }
         ],
         "name": "2016"
        },
        {
         "data": [
          {
           "coloraxis": "coloraxis",
           "geo": "geo",
           "hovertemplate": "<b>%{hovertext}</b><br><br>Year=2017<br>iso_alpha=%{location}<br>Balance of trade=%{z}<extra></extra>",
           "hovertext": [
            "Austria",
            "Belgium",
            "Bulgaria",
            "Croatia",
            "Denmark",
            "Finland",
            "France",
            "Germany",
            "Greece",
            "Hungary",
            "Ireland",
            "Italy",
            "Netherlands",
            "Poland",
            "Portugal",
            "Romania",
            "Slovenia",
            "Spain",
            "Sweden"
           ],
           "locations": [
            "AUT",
            "BEL",
            "BGR",
            "HRV",
            "DNK",
            "FIN",
            "FRA",
            "DEU",
            "GRC",
            "HUN",
            "IRL",
            "ITA",
            "NLD",
            "POL",
            "PRT",
            "ROU",
            "SVN",
            "ESP",
            "SWE"
           ],
           "name": "",
           "type": "choropleth",
           "z": [
            -1428,
            -12186,
            9,
            40,
            -2165,
            -992,
            -4144,
            -32017,
            215,
            -1292,
            5276,
            -8284,
            -17632,
            -5466,
            -1435,
            -736,
            -139,
            -6359,
            -1647
           ]
          }
         ],
         "name": "2017"
        },
        {
         "data": [
          {
           "coloraxis": "coloraxis",
           "geo": "geo",
           "hovertemplate": "<b>%{hovertext}</b><br><br>Year=2018<br>iso_alpha=%{location}<br>Balance of trade=%{z}<extra></extra>",
           "hovertext": [
            "Austria",
            "Belgium",
            "Bulgaria",
            "Croatia",
            "Denmark",
            "Finland",
            "France",
            "Germany",
            "Greece",
            "Hungary",
            "Ireland",
            "Italy",
            "Netherlands",
            "Poland",
            "Portugal",
            "Romania",
            "Slovenia",
            "Spain",
            "Sweden"
           ],
           "locations": [
            "AUT",
            "BEL",
            "BGR",
            "HRV",
            "DNK",
            "FIN",
            "FRA",
            "DEU",
            "GRC",
            "HUN",
            "IRL",
            "ITA",
            "NLD",
            "POL",
            "PRT",
            "ROU",
            "SVN",
            "ESP",
            "SWE"
           ],
           "name": "",
           "type": "choropleth",
           "z": [
            -1768,
            -12423,
            -65,
            112,
            -3867,
            -1060,
            -4923,
            -31824,
            616,
            -1314,
            7691,
            -8975,
            -16101,
            -5322,
            -1490,
            -1061,
            -85,
            -5908,
            -1613
           ]
          }
         ],
         "name": "2018"
        },
        {
         "data": [
          {
           "coloraxis": "coloraxis",
           "geo": "geo",
           "hovertemplate": "<b>%{hovertext}</b><br><br>Year=2019<br>iso_alpha=%{location}<br>Balance of trade=%{z}<extra></extra>",
           "hovertext": [
            "Austria",
            "Belgium",
            "Bulgaria",
            "Croatia",
            "Denmark",
            "Finland",
            "France",
            "Germany",
            "Greece",
            "Hungary",
            "Ireland",
            "Italy",
            "Netherlands",
            "Poland",
            "Portugal",
            "Romania",
            "Slovenia",
            "Spain",
            "Sweden"
           ],
           "locations": [
            "AUT",
            "BEL",
            "BGR",
            "HRV",
            "DNK",
            "FIN",
            "FRA",
            "DEU",
            "GRC",
            "HUN",
            "IRL",
            "ITA",
            "NLD",
            "POL",
            "PRT",
            "ROU",
            "SVN",
            "ESP",
            "SWE"
           ],
           "name": "",
           "type": "choropleth",
           "z": [
            -1963,
            -13239,
            -219,
            -144,
            -3835,
            -1088,
            -6634,
            -28928,
            80,
            -1654,
            8250,
            -9968,
            -18456,
            -5660,
            -1576,
            -703,
            -147,
            -6683,
            -1437
           ]
          }
         ],
         "name": "2019"
        },
        {
         "data": [
          {
           "coloraxis": "coloraxis",
           "geo": "geo",
           "hovertemplate": "<b>%{hovertext}</b><br><br>Year=2020<br>iso_alpha=%{location}<br>Balance of trade=%{z}<extra></extra>",
           "hovertext": [
            "Austria",
            "Belgium",
            "Bulgaria",
            "Croatia",
            "Denmark",
            "Finland",
            "France",
            "Germany",
            "Greece",
            "Hungary",
            "Ireland",
            "Italy",
            "Netherlands",
            "Poland",
            "Portugal",
            "Romania",
            "Slovenia",
            "Spain",
            "Sweden"
           ],
           "locations": [
            "AUT",
            "BEL",
            "BGR",
            "HRV",
            "DNK",
            "FIN",
            "FRA",
            "DEU",
            "GRC",
            "HUN",
            "IRL",
            "ITA",
            "NLD",
            "POL",
            "PRT",
            "ROU",
            "SVN",
            "ESP",
            "SWE"
           ],
           "name": "",
           "type": "choropleth",
           "z": [
            -1694,
            -12760,
            -104,
            18,
            -2466,
            -1601,
            -5640,
            -24369,
            33,
            -1372,
            8426,
            -8875,
            -16392,
            -6050,
            -922,
            -358,
            -123,
            -6859,
            -1099
           ]
          }
         ],
         "name": "2020"
        },
        {
         "data": [
          {
           "coloraxis": "coloraxis",
           "geo": "geo",
           "hovertemplate": "<b>%{hovertext}</b><br><br>Year=2021<br>iso_alpha=%{location}<br>Balance of trade=%{z}<extra></extra>",
           "hovertext": [
            "Austria",
            "Belgium",
            "Bulgaria",
            "Croatia",
            "Denmark",
            "Finland",
            "France",
            "Germany",
            "Greece",
            "Hungary",
            "Ireland",
            "Italy",
            "Netherlands",
            "Poland",
            "Portugal",
            "Romania",
            "Slovenia",
            "Spain",
            "Sweden"
           ],
           "locations": [
            "AUT",
            "BEL",
            "BGR",
            "HRV",
            "DNK",
            "FIN",
            "FRA",
            "DEU",
            "GRC",
            "HUN",
            "IRL",
            "ITA",
            "NLD",
            "POL",
            "PRT",
            "ROU",
            "SVN",
            "ESP",
            "SWE"
           ],
           "name": "",
           "type": "choropleth",
           "z": [
            -1793,
            -8468,
            -178,
            3,
            -2293,
            -1048,
            -3380,
            -24121,
            -111,
            -1010,
            7980,
            -8450,
            -2276,
            -5887,
            -1371,
            -1300,
            -171,
            -6690,
            -1467
           ]
          }
         ],
         "name": "2021"
        }
       ],
       "layout": {
        "coloraxis": {
         "cmax": 35000,
         "cmid": 0,
         "cmin": -35000,
         "colorbar": {
          "title": {
           "text": "Balance of trade"
          }
         },
         "colorscale": [
          [
           0,
           "rgb(165,0,38)"
          ],
          [
           0.1,
           "rgb(215,48,39)"
          ],
          [
           0.2,
           "rgb(244,109,67)"
          ],
          [
           0.3,
           "rgb(253,174,97)"
          ],
          [
           0.4,
           "rgb(254,224,139)"
          ],
          [
           0.5,
           "rgb(255,255,191)"
          ],
          [
           0.6,
           "rgb(217,239,139)"
          ],
          [
           0.7,
           "rgb(166,217,106)"
          ],
          [
           0.8,
           "rgb(102,189,99)"
          ],
          [
           0.9,
           "rgb(26,152,80)"
          ],
          [
           1,
           "rgb(0,104,55)"
          ]
         ]
        },
        "geo": {
         "center": {},
         "domain": {
          "x": [
           0,
           1
          ],
          "y": [
           0,
           1
          ]
         },
         "projection": {
          "type": "azimuthal equidistant"
         },
         "scope": "europe"
        },
        "height": 800,
        "legend": {
         "tracegroupgap": 0
        },
        "sliders": [
         {
          "active": 0,
          "currentvalue": {
           "prefix": "Year="
          },
          "len": 0.9,
          "pad": {
           "b": 10,
           "t": 60
          },
          "steps": [
           {
            "args": [
             [
              "2011"
             ],
             {
              "frame": {
               "duration": 0,
               "redraw": true
              },
              "fromcurrent": true,
              "mode": "immediate",
              "transition": {
               "duration": 0,
               "easing": "linear"
              }
             }
            ],
            "label": "2011",
            "method": "animate"
           },
           {
            "args": [
             [
              "2012"
             ],
             {
              "frame": {
               "duration": 0,
               "redraw": true
              },
              "fromcurrent": true,
              "mode": "immediate",
              "transition": {
               "duration": 0,
               "easing": "linear"
              }
             }
            ],
            "label": "2012",
            "method": "animate"
           },
           {
            "args": [
             [
              "2013"
             ],
             {
              "frame": {
               "duration": 0,
               "redraw": true
              },
              "fromcurrent": true,
              "mode": "immediate",
              "transition": {
               "duration": 0,
               "easing": "linear"
              }
             }
            ],
            "label": "2013",
            "method": "animate"
           },
           {
            "args": [
             [
              "2014"
             ],
             {
              "frame": {
               "duration": 0,
               "redraw": true
              },
              "fromcurrent": true,
              "mode": "immediate",
              "transition": {
               "duration": 0,
               "easing": "linear"
              }
             }
            ],
            "label": "2014",
            "method": "animate"
           },
           {
            "args": [
             [
              "2015"
             ],
             {
              "frame": {
               "duration": 0,
               "redraw": true
              },
              "fromcurrent": true,
              "mode": "immediate",
              "transition": {
               "duration": 0,
               "easing": "linear"
              }
             }
            ],
            "label": "2015",
            "method": "animate"
           },
           {
            "args": [
             [
              "2016"
             ],
             {
              "frame": {
               "duration": 0,
               "redraw": true
              },
              "fromcurrent": true,
              "mode": "immediate",
              "transition": {
               "duration": 0,
               "easing": "linear"
              }
             }
            ],
            "label": "2016",
            "method": "animate"
           },
           {
            "args": [
             [
              "2017"
             ],
             {
              "frame": {
               "duration": 0,
               "redraw": true
              },
              "fromcurrent": true,
              "mode": "immediate",
              "transition": {
               "duration": 0,
               "easing": "linear"
              }
             }
            ],
            "label": "2017",
            "method": "animate"
           },
           {
            "args": [
             [
              "2018"
             ],
             {
              "frame": {
               "duration": 0,
               "redraw": true
              },
              "fromcurrent": true,
              "mode": "immediate",
              "transition": {
               "duration": 0,
               "easing": "linear"
              }
             }
            ],
            "label": "2018",
            "method": "animate"
           },
           {
            "args": [
             [
              "2019"
             ],
             {
              "frame": {
               "duration": 0,
               "redraw": true
              },
              "fromcurrent": true,
              "mode": "immediate",
              "transition": {
               "duration": 0,
               "easing": "linear"
              }
             }
            ],
            "label": "2019",
            "method": "animate"
           },
           {
            "args": [
             [
              "2020"
             ],
             {
              "frame": {
               "duration": 0,
               "redraw": true
              },
              "fromcurrent": true,
              "mode": "immediate",
              "transition": {
               "duration": 0,
               "easing": "linear"
              }
             }
            ],
            "label": "2020",
            "method": "animate"
           },
           {
            "args": [
             [
              "2021"
             ],
             {
              "frame": {
               "duration": 0,
               "redraw": true
              },
              "fromcurrent": true,
              "mode": "immediate",
              "transition": {
               "duration": 0,
               "easing": "linear"
              }
             }
            ],
            "label": "2021",
            "method": "animate"
           }
          ],
          "x": 0.1,
          "xanchor": "left",
          "y": 0,
          "yanchor": "top"
         }
        ],
        "template": {
         "data": {
          "bar": [
           {
            "error_x": {
             "color": "#2a3f5f"
            },
            "error_y": {
             "color": "#2a3f5f"
            },
            "marker": {
             "line": {
              "color": "#E5ECF6",
              "width": 0.5
             },
             "pattern": {
              "fillmode": "overlay",
              "size": 10,
              "solidity": 0.2
             }
            },
            "type": "bar"
           }
          ],
          "barpolar": [
           {
            "marker": {
             "line": {
              "color": "#E5ECF6",
              "width": 0.5
             },
             "pattern": {
              "fillmode": "overlay",
              "size": 10,
              "solidity": 0.2
             }
            },
            "type": "barpolar"
           }
          ],
          "carpet": [
           {
            "aaxis": {
             "endlinecolor": "#2a3f5f",
             "gridcolor": "white",
             "linecolor": "white",
             "minorgridcolor": "white",
             "startlinecolor": "#2a3f5f"
            },
            "baxis": {
             "endlinecolor": "#2a3f5f",
             "gridcolor": "white",
             "linecolor": "white",
             "minorgridcolor": "white",
             "startlinecolor": "#2a3f5f"
            },
            "type": "carpet"
           }
          ],
          "choropleth": [
           {
            "colorbar": {
             "outlinewidth": 0,
             "ticks": ""
            },
            "type": "choropleth"
           }
          ],
          "contour": [
           {
            "colorbar": {
             "outlinewidth": 0,
             "ticks": ""
            },
            "colorscale": [
             [
              0,
              "#0d0887"
             ],
             [
              0.1111111111111111,
              "#46039f"
             ],
             [
              0.2222222222222222,
              "#7201a8"
             ],
             [
              0.3333333333333333,
              "#9c179e"
             ],
             [
              0.4444444444444444,
              "#bd3786"
             ],
             [
              0.5555555555555556,
              "#d8576b"
             ],
             [
              0.6666666666666666,
              "#ed7953"
             ],
             [
              0.7777777777777778,
              "#fb9f3a"
             ],
             [
              0.8888888888888888,
              "#fdca26"
             ],
             [
              1,
              "#f0f921"
             ]
            ],
            "type": "contour"
           }
          ],
          "contourcarpet": [
           {
            "colorbar": {
             "outlinewidth": 0,
             "ticks": ""
            },
            "type": "contourcarpet"
           }
          ],
          "heatmap": [
           {
            "colorbar": {
             "outlinewidth": 0,
             "ticks": ""
            },
            "colorscale": [
             [
              0,
              "#0d0887"
             ],
             [
              0.1111111111111111,
              "#46039f"
             ],
             [
              0.2222222222222222,
              "#7201a8"
             ],
             [
              0.3333333333333333,
              "#9c179e"
             ],
             [
              0.4444444444444444,
              "#bd3786"
             ],
             [
              0.5555555555555556,
              "#d8576b"
             ],
             [
              0.6666666666666666,
              "#ed7953"
             ],
             [
              0.7777777777777778,
              "#fb9f3a"
             ],
             [
              0.8888888888888888,
              "#fdca26"
             ],
             [
              1,
              "#f0f921"
             ]
            ],
            "type": "heatmap"
           }
          ],
          "heatmapgl": [
           {
            "colorbar": {
             "outlinewidth": 0,
             "ticks": ""
            },
            "colorscale": [
             [
              0,
              "#0d0887"
             ],
             [
              0.1111111111111111,
              "#46039f"
             ],
             [
              0.2222222222222222,
              "#7201a8"
             ],
             [
              0.3333333333333333,
              "#9c179e"
             ],
             [
              0.4444444444444444,
              "#bd3786"
             ],
             [
              0.5555555555555556,
              "#d8576b"
             ],
             [
              0.6666666666666666,
              "#ed7953"
             ],
             [
              0.7777777777777778,
              "#fb9f3a"
             ],
             [
              0.8888888888888888,
              "#fdca26"
             ],
             [
              1,
              "#f0f921"
             ]
            ],
            "type": "heatmapgl"
           }
          ],
          "histogram": [
           {
            "marker": {
             "pattern": {
              "fillmode": "overlay",
              "size": 10,
              "solidity": 0.2
             }
            },
            "type": "histogram"
           }
          ],
          "histogram2d": [
           {
            "colorbar": {
             "outlinewidth": 0,
             "ticks": ""
            },
            "colorscale": [
             [
              0,
              "#0d0887"
             ],
             [
              0.1111111111111111,
              "#46039f"
             ],
             [
              0.2222222222222222,
              "#7201a8"
             ],
             [
              0.3333333333333333,
              "#9c179e"
             ],
             [
              0.4444444444444444,
              "#bd3786"
             ],
             [
              0.5555555555555556,
              "#d8576b"
             ],
             [
              0.6666666666666666,
              "#ed7953"
             ],
             [
              0.7777777777777778,
              "#fb9f3a"
             ],
             [
              0.8888888888888888,
              "#fdca26"
             ],
             [
              1,
              "#f0f921"
             ]
            ],
            "type": "histogram2d"
           }
          ],
          "histogram2dcontour": [
           {
            "colorbar": {
             "outlinewidth": 0,
             "ticks": ""
            },
            "colorscale": [
             [
              0,
              "#0d0887"
             ],
             [
              0.1111111111111111,
              "#46039f"
             ],
             [
              0.2222222222222222,
              "#7201a8"
             ],
             [
              0.3333333333333333,
              "#9c179e"
             ],
             [
              0.4444444444444444,
              "#bd3786"
             ],
             [
              0.5555555555555556,
              "#d8576b"
             ],
             [
              0.6666666666666666,
              "#ed7953"
             ],
             [
              0.7777777777777778,
              "#fb9f3a"
             ],
             [
              0.8888888888888888,
              "#fdca26"
             ],
             [
              1,
              "#f0f921"
             ]
            ],
            "type": "histogram2dcontour"
           }
          ],
          "mesh3d": [
           {
            "colorbar": {
             "outlinewidth": 0,
             "ticks": ""
            },
            "type": "mesh3d"
           }
          ],
          "parcoords": [
           {
            "line": {
             "colorbar": {
              "outlinewidth": 0,
              "ticks": ""
             }
            },
            "type": "parcoords"
           }
          ],
          "pie": [
           {
            "automargin": true,
            "type": "pie"
           }
          ],
          "scatter": [
           {
            "fillpattern": {
             "fillmode": "overlay",
             "size": 10,
             "solidity": 0.2
            },
            "type": "scatter"
           }
          ],
          "scatter3d": [
           {
            "line": {
             "colorbar": {
              "outlinewidth": 0,
              "ticks": ""
             }
            },
            "marker": {
             "colorbar": {
              "outlinewidth": 0,
              "ticks": ""
             }
            },
            "type": "scatter3d"
           }
          ],
          "scattercarpet": [
           {
            "marker": {
             "colorbar": {
              "outlinewidth": 0,
              "ticks": ""
             }
            },
            "type": "scattercarpet"
           }
          ],
          "scattergeo": [
           {
            "marker": {
             "colorbar": {
              "outlinewidth": 0,
              "ticks": ""
             }
            },
            "type": "scattergeo"
           }
          ],
          "scattergl": [
           {
            "marker": {
             "colorbar": {
              "outlinewidth": 0,
              "ticks": ""
             }
            },
            "type": "scattergl"
           }
          ],
          "scattermapbox": [
           {
            "marker": {
             "colorbar": {
              "outlinewidth": 0,
              "ticks": ""
             }
            },
            "type": "scattermapbox"
           }
          ],
          "scatterpolar": [
           {
            "marker": {
             "colorbar": {
              "outlinewidth": 0,
              "ticks": ""
             }
            },
            "type": "scatterpolar"
           }
          ],
          "scatterpolargl": [
           {
            "marker": {
             "colorbar": {
              "outlinewidth": 0,
              "ticks": ""
             }
            },
            "type": "scatterpolargl"
           }
          ],
          "scatterternary": [
           {
            "marker": {
             "colorbar": {
              "outlinewidth": 0,
              "ticks": ""
             }
            },
            "type": "scatterternary"
           }
          ],
          "surface": [
           {
            "colorbar": {
             "outlinewidth": 0,
             "ticks": ""
            },
            "colorscale": [
             [
              0,
              "#0d0887"
             ],
             [
              0.1111111111111111,
              "#46039f"
             ],
             [
              0.2222222222222222,
              "#7201a8"
             ],
             [
              0.3333333333333333,
              "#9c179e"
             ],
             [
              0.4444444444444444,
              "#bd3786"
             ],
             [
              0.5555555555555556,
              "#d8576b"
             ],
             [
              0.6666666666666666,
              "#ed7953"
             ],
             [
              0.7777777777777778,
              "#fb9f3a"
             ],
             [
              0.8888888888888888,
              "#fdca26"
             ],
             [
              1,
              "#f0f921"
             ]
            ],
            "type": "surface"
           }
          ],
          "table": [
           {
            "cells": {
             "fill": {
              "color": "#EBF0F8"
             },
             "line": {
              "color": "white"
             }
            },
            "header": {
             "fill": {
              "color": "#C8D4E3"
             },
             "line": {
              "color": "white"
             }
            },
            "type": "table"
           }
          ]
         },
         "layout": {
          "annotationdefaults": {
           "arrowcolor": "#2a3f5f",
           "arrowhead": 0,
           "arrowwidth": 1
          },
          "autotypenumbers": "strict",
          "coloraxis": {
           "colorbar": {
            "outlinewidth": 0,
            "ticks": ""
           }
          },
          "colorscale": {
           "diverging": [
            [
             0,
             "#8e0152"
            ],
            [
             0.1,
             "#c51b7d"
            ],
            [
             0.2,
             "#de77ae"
            ],
            [
             0.3,
             "#f1b6da"
            ],
            [
             0.4,
             "#fde0ef"
            ],
            [
             0.5,
             "#f7f7f7"
            ],
            [
             0.6,
             "#e6f5d0"
            ],
            [
             0.7,
             "#b8e186"
            ],
            [
             0.8,
             "#7fbc41"
            ],
            [
             0.9,
             "#4d9221"
            ],
            [
             1,
             "#276419"
            ]
           ],
           "sequential": [
            [
             0,
             "#0d0887"
            ],
            [
             0.1111111111111111,
             "#46039f"
            ],
            [
             0.2222222222222222,
             "#7201a8"
            ],
            [
             0.3333333333333333,
             "#9c179e"
            ],
            [
             0.4444444444444444,
             "#bd3786"
            ],
            [
             0.5555555555555556,
             "#d8576b"
            ],
            [
             0.6666666666666666,
             "#ed7953"
            ],
            [
             0.7777777777777778,
             "#fb9f3a"
            ],
            [
             0.8888888888888888,
             "#fdca26"
            ],
            [
             1,
             "#f0f921"
            ]
           ],
           "sequentialminus": [
            [
             0,
             "#0d0887"
            ],
            [
             0.1111111111111111,
             "#46039f"
            ],
            [
             0.2222222222222222,
             "#7201a8"
            ],
            [
             0.3333333333333333,
             "#9c179e"
            ],
            [
             0.4444444444444444,
             "#bd3786"
            ],
            [
             0.5555555555555556,
             "#d8576b"
            ],
            [
             0.6666666666666666,
             "#ed7953"
            ],
            [
             0.7777777777777778,
             "#fb9f3a"
            ],
            [
             0.8888888888888888,
             "#fdca26"
            ],
            [
             1,
             "#f0f921"
            ]
           ]
          },
          "colorway": [
           "#636efa",
           "#EF553B",
           "#00cc96",
           "#ab63fa",
           "#FFA15A",
           "#19d3f3",
           "#FF6692",
           "#B6E880",
           "#FF97FF",
           "#FECB52"
          ],
          "font": {
           "color": "#2a3f5f"
          },
          "geo": {
           "bgcolor": "white",
           "lakecolor": "white",
           "landcolor": "#E5ECF6",
           "showlakes": true,
           "showland": true,
           "subunitcolor": "white"
          },
          "hoverlabel": {
           "align": "left"
          },
          "hovermode": "closest",
          "mapbox": {
           "style": "light"
          },
          "paper_bgcolor": "white",
          "plot_bgcolor": "#E5ECF6",
          "polar": {
           "angularaxis": {
            "gridcolor": "white",
            "linecolor": "white",
            "ticks": ""
           },
           "bgcolor": "#E5ECF6",
           "radialaxis": {
            "gridcolor": "white",
            "linecolor": "white",
            "ticks": ""
           }
          },
          "scene": {
           "xaxis": {
            "backgroundcolor": "#E5ECF6",
            "gridcolor": "white",
            "gridwidth": 2,
            "linecolor": "white",
            "showbackground": true,
            "ticks": "",
            "zerolinecolor": "white"
           },
           "yaxis": {
            "backgroundcolor": "#E5ECF6",
            "gridcolor": "white",
            "gridwidth": 2,
            "linecolor": "white",
            "showbackground": true,
            "ticks": "",
            "zerolinecolor": "white"
           },
           "zaxis": {
            "backgroundcolor": "#E5ECF6",
            "gridcolor": "white",
            "gridwidth": 2,
            "linecolor": "white",
            "showbackground": true,
            "ticks": "",
            "zerolinecolor": "white"
           }
          },
          "shapedefaults": {
           "line": {
            "color": "#2a3f5f"
           }
          },
          "ternary": {
           "aaxis": {
            "gridcolor": "white",
            "linecolor": "white",
            "ticks": ""
           },
           "baxis": {
            "gridcolor": "white",
            "linecolor": "white",
            "ticks": ""
           },
           "bgcolor": "#E5ECF6",
           "caxis": {
            "gridcolor": "white",
            "linecolor": "white",
            "ticks": ""
           }
          },
          "title": {
           "x": 0.05
          },
          "xaxis": {
           "automargin": true,
           "gridcolor": "white",
           "linecolor": "white",
           "ticks": "",
           "title": {
            "standoff": 15
           },
           "zerolinecolor": "white",
           "zerolinewidth": 2
          },
          "yaxis": {
           "automargin": true,
           "gridcolor": "white",
           "linecolor": "white",
           "ticks": "",
           "title": {
            "standoff": 15
           },
           "zerolinecolor": "white",
           "zerolinewidth": 2
          }
         }
        },
        "title": {
         "text": "Evolution of trade balance between the UK and EU countries (in million pounds)"
        },
        "updatemenus": [
         {
          "buttons": [
           {
            "args": [
             null,
             {
              "frame": {
               "duration": 500,
               "redraw": true
              },
              "fromcurrent": true,
              "mode": "immediate",
              "transition": {
               "duration": 500,
               "easing": "linear"
              }
             }
            ],
            "label": "&#9654;",
            "method": "animate"
           },
           {
            "args": [
             [
              null
             ],
             {
              "frame": {
               "duration": 0,
               "redraw": true
              },
              "fromcurrent": true,
              "mode": "immediate",
              "transition": {
               "duration": 0,
               "easing": "linear"
              }
             }
            ],
            "label": "&#9724;",
            "method": "animate"
           }
          ],
          "direction": "left",
          "pad": {
           "r": 10,
           "t": 70
          },
          "showactive": false,
          "type": "buttons",
          "x": 0.1,
          "xanchor": "right",
          "y": 0,
          "yanchor": "top"
         }
        ],
        "width": 1000
       }
      }
     },
     "metadata": {},
     "output_type": "display_data"
    }
   ],
   "source": [
    "#View of the interactive map\n",
    "df = px.data.gapminder() #global map\n",
    "df = df.loc[df['continent']=='Europe'] #we only keep Europe\n",
    "df = df.groupby('iso_alpha').first().reset_index()\n",
    "data = data.merge(df.loc[:,['country','iso_alpha']], left_on='Country Name', right_on='country').drop(columns = 'country') #we merge balance trade data with the table of European countries\n",
    "data.insert(0, 'iso_alpha', data.pop('iso_alpha'))\n",
    "\n",
    "fig = px.choropleth(data,\n",
    "                     locations = 'iso_alpha',\n",
    "                     title = \"Evolution of trade balance between the UK and EU countries (in million pounds)\",\n",
    "                     hover_name = \"Country Name\",\n",
    "                     color_continuous_scale = 'rdylgn',\n",
    "                     color = 'Balance of trade',\n",
    "                     labels={'Balance of trade':'Balance of trade'},\n",
    "                     animation_frame=\"Year\",\n",
    "                     projection = 'azimuthal equidistant',\n",
    "                     scope = 'europe',\n",
    "                     range_color=(-35000, 35000),\n",
    "                     color_continuous_midpoint=0,\n",
    "                     width = 1000,\n",
    "                     height = 800)\n",
    "fig.show()"
   ]
  },
  {
   "cell_type": "markdown",
   "metadata": {},
   "source": [
    "Based on the map below, we can see that the balance of trade between the UK and its closest trade partners goes into negative values since 2010. This means that the UK exports less than it imports from those countries. Nevertheless it is hard to see the direct effect of Brexit since this is observable even before the Brexit referendum.\n",
    "\n",
    "Moreover, we can see that the Republic of Ireland, wich is still part of the EU and which is the only country to share a border with the UK (with Northern Ireland) is an important parter of the UK. Indeed, the trade balance of this country is postive since 2010 and increase even more since the Brexit. This might be explained by the Backstop agreement. Indeed, Northern Ireland (part of the UK) is still considered under the European trade laws and therefore the trade between the Republic of Ireland (EU) and Northern Ireland (UK) is prefered."
   ]
  },
  {
   "cell_type": "markdown",
   "metadata": {},
   "source": [
    "# 8. Sub research question: How does Brexit affects UK's sea trade with EU?\n",
    "\n",
    "Specifying questions:\n",
    "\n",
    "1. How big is the trade between UK and EU compared to UK with other regions?\n",
    "2. What type of cargo is the most traded in UK?\n",
    "3. How does the Brexit affect trades between EU and UK?\n",
    "4. How are the major cargoes affected in the period of Brexit (2016 - 2021)?\n",
    "\n",
    "To visualize data regarding all the sub questions, we import necessary libraries as follows:"
   ]
  },
  {
   "cell_type": "code",
   "execution_count": 16,
   "metadata": {},
   "outputs": [],
   "source": [
    "import pandas as pd\n",
    "import re\n",
    "import plotly.express as px\n",
    "import plotly.graph_objects as go\n",
    "from plotly.subplots import make_subplots\n",
    "from matplotlib import pyplot as plt"
   ]
  },
  {
   "cell_type": "markdown",
   "metadata": {},
   "source": [
    "We use data frame in CSV format regarding all waterborne trades from and to the UK. The data frame consists of what type of cargoes, the origins and destination of the shipping, and cargo volume throughout a certain year. We import the data frame using pandas."
   ]
  },
  {
   "cell_type": "code",
   "execution_count": 17,
   "metadata": {},
   "outputs": [
    {
     "name": "stderr",
     "output_type": "stream",
     "text": [
      "C:\\Users\\inezv\\AppData\\Local\\Temp\\ipykernel_25448\\1431391824.py:3: DtypeWarning:\n",
      "\n",
      "Columns (11) have mixed types. Specify dtype option on import or set low_memory=False.\n",
      "\n"
     ]
    },
    {
     "data": {
      "text/html": [
       "<div>\n",
       "<style scoped>\n",
       "    .dataframe tbody tr th:only-of-type {\n",
       "        vertical-align: middle;\n",
       "    }\n",
       "\n",
       "    .dataframe tbody tr th {\n",
       "        vertical-align: top;\n",
       "    }\n",
       "\n",
       "    .dataframe thead th {\n",
       "        text-align: right;\n",
       "    }\n",
       "</style>\n",
       "<table border=\"1\" class=\"dataframe\">\n",
       "  <thead>\n",
       "    <tr style=\"text-align: right;\">\n",
       "      <th></th>\n",
       "      <th>Cargo Group</th>\n",
       "      <th>CargoCode</th>\n",
       "      <th>CargoName</th>\n",
       "      <th>Region</th>\n",
       "      <th>Country</th>\n",
       "      <th>Direction</th>\n",
       "      <th>Year</th>\n",
       "      <th>Tonnage (thousands)</th>\n",
       "      <th>Units (thousands)</th>\n",
       "      <th>TEU (thousands)</th>\n",
       "      <th>Unnamed: 10</th>\n",
       "      <th>Unnamed: 11</th>\n",
       "    </tr>\n",
       "  </thead>\n",
       "  <tbody>\n",
       "    <tr>\n",
       "      <th>0</th>\n",
       "      <td>Liquid Bulk</td>\n",
       "      <td>11</td>\n",
       "      <td>Liquefied gas</td>\n",
       "      <td>All Africa</td>\n",
       "      <td>Nigeria</td>\n",
       "      <td>Both Directions</td>\n",
       "      <td>2000</td>\n",
       "      <td>0.000000</td>\n",
       "      <td>0.0</td>\n",
       "      <td>NaN</td>\n",
       "      <td>NaN</td>\n",
       "      <td>NaN</td>\n",
       "    </tr>\n",
       "    <tr>\n",
       "      <th>1</th>\n",
       "      <td>Liquid Bulk</td>\n",
       "      <td>11</td>\n",
       "      <td>Liquefied gas</td>\n",
       "      <td>All America</td>\n",
       "      <td>Brazil</td>\n",
       "      <td>Both Directions</td>\n",
       "      <td>2000</td>\n",
       "      <td>173.000000</td>\n",
       "      <td>0.0</td>\n",
       "      <td>NaN</td>\n",
       "      <td>NaN</td>\n",
       "      <td>NaN</td>\n",
       "    </tr>\n",
       "    <tr>\n",
       "      <th>2</th>\n",
       "      <td>Liquid Bulk</td>\n",
       "      <td>11</td>\n",
       "      <td>Liquefied gas</td>\n",
       "      <td>All America</td>\n",
       "      <td>Jamaica</td>\n",
       "      <td>Both Directions</td>\n",
       "      <td>2000</td>\n",
       "      <td>6.000000</td>\n",
       "      <td>0.0</td>\n",
       "      <td>NaN</td>\n",
       "      <td>NaN</td>\n",
       "      <td>NaN</td>\n",
       "    </tr>\n",
       "    <tr>\n",
       "      <th>3</th>\n",
       "      <td>Liquid Bulk</td>\n",
       "      <td>11</td>\n",
       "      <td>Liquefied gas</td>\n",
       "      <td>All European Union</td>\n",
       "      <td>Netherlands</td>\n",
       "      <td>Both Directions</td>\n",
       "      <td>2000</td>\n",
       "      <td>796.000000</td>\n",
       "      <td>0.0</td>\n",
       "      <td>NaN</td>\n",
       "      <td>NaN</td>\n",
       "      <td>NaN</td>\n",
       "    </tr>\n",
       "    <tr>\n",
       "      <th>4</th>\n",
       "      <td>Liquid Bulk</td>\n",
       "      <td>11</td>\n",
       "      <td>Liquefied gas</td>\n",
       "      <td>All European Union</td>\n",
       "      <td>Sweden</td>\n",
       "      <td>Both Directions</td>\n",
       "      <td>2000</td>\n",
       "      <td>369.000000</td>\n",
       "      <td>0.0</td>\n",
       "      <td>NaN</td>\n",
       "      <td>NaN</td>\n",
       "      <td></td>\n",
       "    </tr>\n",
       "    <tr>\n",
       "      <th>...</th>\n",
       "      <td>...</td>\n",
       "      <td>...</td>\n",
       "      <td>...</td>\n",
       "      <td>...</td>\n",
       "      <td>...</td>\n",
       "      <td>...</td>\n",
       "      <td>...</td>\n",
       "      <td>...</td>\n",
       "      <td>...</td>\n",
       "      <td>...</td>\n",
       "      <td>...</td>\n",
       "      <td>...</td>\n",
       "    </tr>\n",
       "    <tr>\n",
       "      <th>67317</th>\n",
       "      <td>Other General Cargo</td>\n",
       "      <td>99</td>\n",
       "      <td>Other general cargo &amp; containers &lt;20'</td>\n",
       "      <td>Asia (excluding Mediterranean countries)</td>\n",
       "      <td>United Arab Emirates</td>\n",
       "      <td>Outwards</td>\n",
       "      <td>2021</td>\n",
       "      <td>5.327266</td>\n",
       "      <td>0.0</td>\n",
       "      <td>NaN</td>\n",
       "      <td>NaN</td>\n",
       "      <td>NaN</td>\n",
       "    </tr>\n",
       "    <tr>\n",
       "      <th>67318</th>\n",
       "      <td>Other General Cargo</td>\n",
       "      <td>99</td>\n",
       "      <td>Other general cargo &amp; containers &lt;20'</td>\n",
       "      <td>Other Europe &amp; Mediterranean</td>\n",
       "      <td>Norway</td>\n",
       "      <td>Outwards</td>\n",
       "      <td>2021</td>\n",
       "      <td>166.475832</td>\n",
       "      <td>0.0</td>\n",
       "      <td>NaN</td>\n",
       "      <td>NaN</td>\n",
       "      <td>NaN</td>\n",
       "    </tr>\n",
       "    <tr>\n",
       "      <th>67319</th>\n",
       "      <td>Other General Cargo</td>\n",
       "      <td>99</td>\n",
       "      <td>Other general cargo &amp; containers &lt;20'</td>\n",
       "      <td>Unspecified</td>\n",
       "      <td>Unspecified</td>\n",
       "      <td>Outwards</td>\n",
       "      <td>2021</td>\n",
       "      <td>0.027046</td>\n",
       "      <td>0.0</td>\n",
       "      <td>NaN</td>\n",
       "      <td>NaN</td>\n",
       "      <td>NaN</td>\n",
       "    </tr>\n",
       "    <tr>\n",
       "      <th>67320</th>\n",
       "      <td>Other General Cargo</td>\n",
       "      <td>99</td>\n",
       "      <td>Other general cargo &amp; containers &lt;20'</td>\n",
       "      <td>UK Domestic</td>\n",
       "      <td>United Kingdom (inc CHI &amp; IOM)</td>\n",
       "      <td>Outwards</td>\n",
       "      <td>2021</td>\n",
       "      <td>209.840032</td>\n",
       "      <td>0.0</td>\n",
       "      <td>NaN</td>\n",
       "      <td>NaN</td>\n",
       "      <td>NaN</td>\n",
       "    </tr>\n",
       "    <tr>\n",
       "      <th>67321</th>\n",
       "      <td>Other General Cargo</td>\n",
       "      <td>99</td>\n",
       "      <td>Other general cargo &amp; containers &lt;20'</td>\n",
       "      <td>UK Domestic</td>\n",
       "      <td>United Kingdom (inc CHI &amp; IOM)</td>\n",
       "      <td>Outwards</td>\n",
       "      <td>2021</td>\n",
       "      <td>1069.650781</td>\n",
       "      <td>0.0</td>\n",
       "      <td>NaN</td>\n",
       "      <td>NaN</td>\n",
       "      <td>NaN</td>\n",
       "    </tr>\n",
       "  </tbody>\n",
       "</table>\n",
       "<p>67322 rows × 12 columns</p>\n",
       "</div>"
      ],
      "text/plain": [
       "               Cargo Group  CargoCode                              CargoName  \\\n",
       "0              Liquid Bulk         11                          Liquefied gas   \n",
       "1              Liquid Bulk         11                          Liquefied gas   \n",
       "2              Liquid Bulk         11                          Liquefied gas   \n",
       "3              Liquid Bulk         11                          Liquefied gas   \n",
       "4              Liquid Bulk         11                          Liquefied gas   \n",
       "...                    ...        ...                                    ...   \n",
       "67317  Other General Cargo         99  Other general cargo & containers <20'   \n",
       "67318  Other General Cargo         99  Other general cargo & containers <20'   \n",
       "67319  Other General Cargo         99  Other general cargo & containers <20'   \n",
       "67320  Other General Cargo         99  Other general cargo & containers <20'   \n",
       "67321  Other General Cargo         99  Other general cargo & containers <20'   \n",
       "\n",
       "                                         Region  \\\n",
       "0                                    All Africa   \n",
       "1                                   All America   \n",
       "2                                   All America   \n",
       "3                            All European Union   \n",
       "4                            All European Union   \n",
       "...                                         ...   \n",
       "67317  Asia (excluding Mediterranean countries)   \n",
       "67318              Other Europe & Mediterranean   \n",
       "67319                               Unspecified   \n",
       "67320                               UK Domestic   \n",
       "67321                               UK Domestic   \n",
       "\n",
       "                              Country        Direction  Year  \\\n",
       "0                             Nigeria  Both Directions  2000   \n",
       "1                              Brazil  Both Directions  2000   \n",
       "2                             Jamaica  Both Directions  2000   \n",
       "3                         Netherlands  Both Directions  2000   \n",
       "4                              Sweden  Both Directions  2000   \n",
       "...                               ...              ...   ...   \n",
       "67317            United Arab Emirates         Outwards  2021   \n",
       "67318                          Norway         Outwards  2021   \n",
       "67319                     Unspecified         Outwards  2021   \n",
       "67320  United Kingdom (inc CHI & IOM)         Outwards  2021   \n",
       "67321  United Kingdom (inc CHI & IOM)         Outwards  2021   \n",
       "\n",
       "       Tonnage (thousands)  Units (thousands)  TEU (thousands)  Unnamed: 10  \\\n",
       "0                 0.000000                0.0              NaN          NaN   \n",
       "1               173.000000                0.0              NaN          NaN   \n",
       "2                 6.000000                0.0              NaN          NaN   \n",
       "3               796.000000                0.0              NaN          NaN   \n",
       "4               369.000000                0.0              NaN          NaN   \n",
       "...                    ...                ...              ...          ...   \n",
       "67317             5.327266                0.0              NaN          NaN   \n",
       "67318           166.475832                0.0              NaN          NaN   \n",
       "67319             0.027046                0.0              NaN          NaN   \n",
       "67320           209.840032                0.0              NaN          NaN   \n",
       "67321          1069.650781                0.0              NaN          NaN   \n",
       "\n",
       "      Unnamed: 11  \n",
       "0             NaN  \n",
       "1             NaN  \n",
       "2             NaN  \n",
       "3             NaN  \n",
       "4                  \n",
       "...           ...  \n",
       "67317         NaN  \n",
       "67318         NaN  \n",
       "67319         NaN  \n",
       "67320         NaN  \n",
       "67321         NaN  \n",
       "\n",
       "[67322 rows x 12 columns]"
      ]
     },
     "execution_count": 17,
     "metadata": {},
     "output_type": "execute_result"
    }
   ],
   "source": [
    "# import\n",
    "file_path = 'DataBases/UK_Shipping.csv'\n",
    "df = pd.read_csv(file_path, encoding='latin-1')\n",
    "df"
   ]
  },
  {
   "cell_type": "code",
   "execution_count": 18,
   "metadata": {},
   "outputs": [
    {
     "ename": "ModuleNotFoundError",
     "evalue": "No module named 'chardet'",
     "output_type": "error",
     "traceback": [
      "\u001b[1;31m---------------------------------------------------------------------------\u001b[0m",
      "\u001b[1;31mModuleNotFoundError\u001b[0m                       Traceback (most recent call last)",
      "\u001b[1;32mc:\\Users\\inezv\\TIL6010-LabAssignments\\TIL Programming Project\\Project version - 10.11.2022 - 13.52h.ipynb Cell 28\u001b[0m in \u001b[0;36m<cell line: 1>\u001b[1;34m()\u001b[0m\n\u001b[1;32m----> <a href='vscode-notebook-cell:/c%3A/Users/inezv/TIL6010-LabAssignments/TIL%20Programming%20Project/Project%20version%20-%2010.11.2022%20-%2013.52h.ipynb#X36sZmlsZQ%3D%3D?line=0'>1</a>\u001b[0m \u001b[39mimport\u001b[39;00m \u001b[39mchardet\u001b[39;00m\n\u001b[0;32m      <a href='vscode-notebook-cell:/c%3A/Users/inezv/TIL6010-LabAssignments/TIL%20Programming%20Project/Project%20version%20-%2010.11.2022%20-%2013.52h.ipynb#X36sZmlsZQ%3D%3D?line=1'>2</a>\u001b[0m \u001b[39mwith\u001b[39;00m \u001b[39mopen\u001b[39m(file_path, \u001b[39m'\u001b[39m\u001b[39mrb\u001b[39m\u001b[39m'\u001b[39m) \u001b[39mas\u001b[39;00m rawdata:\n\u001b[0;32m      <a href='vscode-notebook-cell:/c%3A/Users/inezv/TIL6010-LabAssignments/TIL%20Programming%20Project/Project%20version%20-%2010.11.2022%20-%2013.52h.ipynb#X36sZmlsZQ%3D%3D?line=2'>3</a>\u001b[0m     result \u001b[39m=\u001b[39m chardet\u001b[39m.\u001b[39mdetect(rawdata\u001b[39m.\u001b[39mread(\u001b[39m100000\u001b[39m))\n",
      "\u001b[1;31mModuleNotFoundError\u001b[0m: No module named 'chardet'"
     ]
    }
   ],
   "source": [
    "import chardet\n",
    "with open(file_path, 'rb') as rawdata:\n",
    "    result = chardet.detect(rawdata.read(100000))\n",
    "result"
   ]
  },
  {
   "cell_type": "markdown",
   "metadata": {},
   "source": [
    "We scope down the data frame from 2012 to see changes of trend from 5 years before Brexit started appearing in 2016 compare to after the Brexit happened. We also make a minor modification to clean and shorten the infomation therefore it is easier to read."
   ]
  },
  {
   "cell_type": "code",
   "execution_count": null,
   "metadata": {},
   "outputs": [],
   "source": [
    "df = pd.read_csv(file_path, encoding='ISO-8859-1')\n",
    "df = df.loc[df['Year'] > 2011]\n",
    "\n",
    "#We shorten the coumn name\n",
    "df.loc[df['Region'] == 'Asia (excluding Mediterranean countries)', 'Region'] = 'Asia'\n",
    "\n",
    "#We decided to delete this 'unspecified' region to clean the data since it also only has small number of volume\n",
    "df = df.loc[~df['Region'].str.contains('Unspecified')]\n",
    "\n",
    "#We want to use all the inward and outward cargo data\n",
    "df = df.loc[df['Direction'] == 'Both Directions']\n",
    "df"
   ]
  },
  {
   "cell_type": "markdown",
   "metadata": {},
   "source": [
    "# 8.1 All UK's Sea Trade\n",
    "\n",
    "In this first section, we want to answer **Specifying question 1 and 2** by plotting the data regarding all the sea trades in the UK (Import, Export and Domestic). We divided the information into two charts. First one is the chart with all cargoes divided by region of origins and destinations. The second one is divided by type of cargoes."
   ]
  },
  {
   "cell_type": "code",
   "execution_count": null,
   "metadata": {},
   "outputs": [],
   "source": [
    "#We group the trade data by region of origins and destinations\n",
    "df_region = df.groupby(['Year', 'Region']).sum()\n",
    "df_region = df_region.reset_index()\n",
    "\n",
    "#Then we group the trade data by Cargo Type\n",
    "df_bycargo = df.groupby(['Year', 'Cargo Group']).sum()\n",
    "df_bycargo = df_bycargo.reset_index()\n",
    "\n",
    "#We make two subplots for those two data frame groups\n",
    "regions = list(df.Region.unique())\n",
    "cargo_types = list(df['Cargo Group'].unique())\n",
    "fig_1 = make_subplots(rows=1, cols=2, subplot_titles=['UK trades by region', 'UK trade by cargo type'])\n",
    "\n",
    "#We use for loop to add lines for every region/cargo type to the plot\n",
    "for region in regions:\n",
    "    df_story_1 = df_region.loc[df_region['Region'] == region]\n",
    "    x1 = df_story_1['Year']\n",
    "    y1 = df_story_1['Tonnage (thousands)']\n",
    "    fig_1.append_trace(go.Scatter(x=x1, y=y1, name=region,\n",
    "    legendgroup= 'Group1',\n",
    "    legendgrouptitle_text = 'Region'), \n",
    "    row=1, col=1)\n",
    "    \n",
    "\n",
    "for cargo_type in cargo_types:\n",
    "    df_story_2 = df_bycargo.loc[df_bycargo['Cargo Group'] == cargo_type]\n",
    "    x1 = df_story_2['Year']\n",
    "    y1 = df_story_2['Tonnage (thousands)']\n",
    "    fig_1.append_trace(go.Scatter(x=x1, y=y1, name=cargo_type,\n",
    "    line=dict(dash='dashdot'),\n",
    "    legendgroup= 'Group2',\n",
    "    legendgrouptitle_text = 'Cargo Type'),  \n",
    "    row=1, col=2)\n",
    "\n",
    "fig_1.update_yaxes(title_text='Tonnage (thousands)', row=1, col=1)\n",
    "fig_1.update_yaxes(title_text='Tonnage (thousands)', row=1, col=2)\n",
    "fig_1.update_layout(title='UK All Trades', template='none')\n",
    "fig_1.show()\n"
   ]
  },
  {
   "cell_type": "markdown",
   "metadata": {},
   "source": [
    "From the left chart, it can be seen that UK's biggest trade is from and to EU with approximately twice the volume of the UK Domestic.\n",
    "\n",
    "The right chart shows that the largest volume by cargo type traded in the UK is Liquid Bulk followed by Ro-Ro.\n",
    "\n",
    "    ~ Liquid bulk is any cargoes in liquid usually carried by a tanker vessels. There are many cargoes classified as liquid bulk, such as chemical, petroleum, and liqufied gas.\n",
    "\n",
    "    ~ Ro-Ro or Roll On/Roll off is type of cargo which have wheels so they usually do not need heavy equipment to be loaded or unloaded to/from the vessels. Some cargoes classified as Ro-Ro are cars, construction equipment, or trucks.\n",
    "\n",
    "We can see the trade between EU and UK dominates the trade volume in the UK. Therefore we want to see how that trend is affected in the period of Brexit to answer the **Specifying question 3**. To do that, we make graphs regarding the growth rate and the the EU's market share in the UK's trade."
   ]
  },
  {
   "cell_type": "markdown",
   "metadata": {},
   "source": [
    "# 8.2 Growth rate \n",
    "\n",
    "In this section, we want to show the growth rate of trade between EU and UK. After that we compare that growth with the trade between UK and other regions."
   ]
  },
  {
   "cell_type": "code",
   "execution_count": null,
   "metadata": {},
   "outputs": [],
   "source": [
    "#We filter the region to EU and group it by year\n",
    "df_EU = df.loc[df['Region'] == 'All European Union']\n",
    "df_EU = df_EU.groupby(['Year']).sum()\n",
    "df_EU = df_EU.reset_index()\n",
    "\n",
    "#We calculate the growth rate and assign it to a new column\n",
    "df_EU['Growth Rate (%)'] = df_EU['Tonnage (thousands)'].pct_change().mul(100).round(2)\n",
    "df_EU = df_EU.loc[df_EU['Year'] > 2012]\n",
    "\n",
    "#We plot it together with the cargo volume to clearly show the trend\n",
    "fig_2 = make_subplots(specs=[[{\"secondary_y\": True}]])\n",
    "fig_2.add_trace(go.Scatter(x=df_EU['Year'], y=df_EU['Tonnage (thousands)'], name='Tonnage'), secondary_y=True)\n",
    "fig_2.add_trace(go.Bar(x=df_EU['Year'], y=df_EU['Growth Rate (%)'], name='Growth Rate (%)'), secondary_y=False)\n",
    "fig_2.update_yaxes(range=[180000, 210000], secondary_y=True)\n",
    "fig_2.update_yaxes(range=[-6, 6], secondary_y=False)\n",
    "fig_2.update_yaxes(title_text='Tonnage (thousands)', secondary_y=True)\n",
    "fig_2.update_yaxes(title_text='Growth Rate (%)', secondary_y=False)\n",
    "fig_2.update_layout(template='none', title = 'Trades Between UK and UE', autosize=False)\n",
    "fig_2.show()"
   ]
  },
  {
   "cell_type": "code",
   "execution_count": null,
   "metadata": {},
   "outputs": [],
   "source": [
    "#again, we group the data frame regarding region and year, but this time we put the region first\n",
    "df_region_2 = df.groupby(['Region', 'Year']).sum()\n",
    "df_region_2 = df_region_2.reset_index()\n",
    "\n",
    "#we exclude the asutralia due to its small volume\n",
    "df_region_2 = df_region_2.loc[~df_region_2['Region'].str.contains('Australasia')]\n",
    "\n",
    "#We calculate the growth rate and assign it to a new column\n",
    "df_region_2['Growth Rate (%)'] = df_region_2['Tonnage (thousands)'].pct_change().mul(100).round(2)\n",
    "df_region_2 = df_region_2.loc[df_region_2['Year'] > 2012]\n",
    "\n",
    "#We use animated graphs to see comparison throughout the period\n",
    "fig_3 = px.bar(\n",
    "    df_region_2, x='Region', y='Growth Rate (%)', animation_frame='Year', color='Region',\n",
    "    color_discrete_map={\n",
    "                'All Africa': 'gray',\n",
    "                'All America': 'gray',\n",
    "                'Other Europe & Mediterranean': 'gray',\n",
    "                'UK Domestic': 'gray',\n",
    "                'All European Union': 'crimson',\n",
    "                'Asia': 'gray'},\n",
    "    template='none',\n",
    "    range_y=[-30,30])\n",
    "fig_3.update_layout(showlegend=False, autosize=False)\n",
    "fig_3.update_layout(title='UK Trade Growth Rate')"
   ]
  },
  {
   "cell_type": "markdown",
   "metadata": {},
   "source": [
    "We can see a downtrend in the period of Brexit after 2016 compared to the period before that. Moreover, after the referendum in 2018, the volume drops significantly.\n",
    "\n",
    "In the second graph we can see the growth rate of UK-EU trade (red) has no positive growth rate after 2017, where trade between UK and other countries have some increase in certain year.\n",
    "\n",
    "To see from another angle, we plot the graphs to show how the EU's market share in the UK is affected by the brexit."
   ]
  },
  {
   "cell_type": "code",
   "execution_count": null,
   "metadata": {},
   "outputs": [],
   "source": [
    "#We make a new data frame to assign new column for proportion\n",
    "df_region_3 = df.groupby(['Year', 'Region']).sum()\n",
    "df_region_3 = df_region.reset_index()\n",
    "\n",
    "#We calculate the market share of every region in every year then we assign it to a new column\n",
    "df_region_3['Proportion (%)'] = 100 * df_region_3['Tonnage (thousands)'] / df_region_3.groupby('Year')['Tonnage (thousands)'].transform('sum')\n",
    "df_region_3 = df_region_3.sort_values(['Year', 'Tonnage (thousands)'], ascending=False)\n",
    "\n",
    "regions = list(df.Region.unique())\n",
    "regions.remove('All European Union')\n",
    "\n",
    "#We use for loop again to plot the lines\n",
    "fig_4 = go.Figure()\n",
    "for region in regions:\n",
    "    df_story_3 = df_region_3.loc[df_region_3['Region'] == region]\n",
    "    x1 = df_story_3['Year']\n",
    "    y1 = df_story_3['Proportion (%)']\n",
    "    fig_4.add_trace(go.Scatter(x=x1, y=y1, name=region))\n",
    "\n",
    "#We add the EU's line later to modify the line into dash\n",
    "df_story_3_EU = df_region_3.loc[df_region_3['Region'] == 'All European Union']\n",
    "fig_4.add_trace(go.Scatter(x=df_story_3_EU['Year'], y=df_story_3_EU['Proportion (%)'], name='All European Union', line=dict(dash='dashdot')))\n",
    "\n",
    "fig_4.update_yaxes(title_text='Proportion (%)')\n",
    "fig_4.update_layout(title='The UK Trade Proportion', autosize=False, template='none')\n",
    "fig_4.show()"
   ]
  },
  {
   "cell_type": "markdown",
   "metadata": {},
   "source": [
    "From the chart, we can see some decline after 2016 and even significant decrease after 2018 of EU's market share. On the other hand, in the Brexit period the UK Domestic trade shows some increase.\n",
    "\n",
    "Notice that in 2020 the volume of the trade between EU and UK increase, this may happen because the trade behaviour changes due to Covid 19 started in the beginning of 2020."
   ]
  },
  {
   "cell_type": "markdown",
   "metadata": {},
   "source": [
    "# 8.3 Effect on Major Cargoes\n",
    "\n",
    "We want to look deeper into the effect of brexit to various cargo types traded between UK and EU to answer the **Specifying question 4**. First, we are going to plot the volume distribution of cargo types traded between UK and EU as follows."
   ]
  },
  {
   "cell_type": "code",
   "execution_count": null,
   "metadata": {},
   "outputs": [],
   "source": [
    "#We filter data to only between UK and EU and group it by cargo type\n",
    "df_EU = df.loc[df['Region'] == 'All European Union']\n",
    "df_EU = df_EU.groupby(['Year', 'Cargo Group']).sum()\n",
    "df_EU = df_EU.reset_index()\n",
    "\n",
    "#Standard plot using line chart\n",
    "fig = px.line(df_EU, x='Year', y='Tonnage (thousands)', color='Cargo Group', markers='Cargo Group', template='none')\n",
    "fig.update_layout(title = 'UK - EU by Cargo Group', autosize=False)\n",
    "fig.show()"
   ]
  },
  {
   "cell_type": "markdown",
   "metadata": {},
   "source": [
    "From the Chart, we can see the majority of cargoes traded between UK and EU are Ro-Ro and Liquid Bulk. There is a slight different between this graph and the first graph regading \"UK's traded by Cargo Type\". In that graph, the largest volume is Liquid bulk instead of Ro-Ro.\n",
    "\n",
    "This chart also shows a sign of downtrend especially for Liquid Bulk and Ro-Ro in the period of Brexit all the way to 2021. The green line is the Lo-Lo (Lift Off & Lift On) or commonly known as Container. Containers are used to carry variuos of goods, and one of the most common is to carry consumer goods. Notice that the container trade between UK and EU is not really affected from 2016 until it starts declining after the Brexit Referendum in 2018, but then return to the uptrend in 2020. This answers the previous hypothesis about the increase of EU's proportion in 2020. This may happen becuase people tend to order more goods online during the Covid period therefore increase the number of containers."
   ]
  },
  {
   "cell_type": "markdown",
   "metadata": {},
   "source": [
    "# 8.4 Conclusion\n",
    "\n",
    "The trade volume between UK and EU is the largest compared to UK with other regions.\n",
    "The largest volume of cargo type traded from and to UK is Liquid Bulk and followed by Ro-Ro.\n",
    "In the period of brexit discussion to the referendum (2016-2018), trade volume between UK and EU are generally affected\n",
    "Ro-Ro and Liquid bulk, as the most traded cargoes between UK and EU are declining during and after the Brexit. However, the container only affected in the year of referendum (2018)"
   ]
  },
  {
   "cell_type": "markdown",
   "metadata": {},
   "source": [
    "# 9. Sub research question: How does Brexit affect UK's railway trade with EU?"
   ]
  },
  {
   "cell_type": "markdown",
   "metadata": {},
   "source": [
    "Specifying questions:\n",
    "1. How big is the trade between UK and EU compared to UK with other regions?\n",
    "\n"
   ]
  },
  {
   "cell_type": "code",
   "execution_count": null,
   "metadata": {},
   "outputs": [],
   "source": [
    "# -*- coding: utf-8 -*-\n",
    "\"\"\"\n",
    "Created on Mon Oct 10 11:22:27 2022\n",
    "\n",
    "@author: Group 12\n",
    "\"\"\"\n",
    "#import libraries\n",
    "import folium\n",
    "import re\n",
    "import geopandas as gpd\n",
    "import pandas as pd\n",
    "import matplotlib.pyplot as plt\n",
    "import seaborn as sns\n",
    "import plotly.express as px\n",
    "from plotly.subplots import make_subplots\n",
    "import plotly.graph_objects as go\n",
    "#import chardet "
   ]
  },
  {
   "cell_type": "code",
   "execution_count": null,
   "metadata": {},
   "outputs": [],
   "source": [
    "#IMPORT DATABASE 1\n",
    "ex_percent_all = 'DataBases/export_percent_all.csv'\n",
    "df_ex_percent_all = pd.read_csv(ex_percent_all , sep=',')\n",
    "ex_percent_eu = 'DataBases/export_percent_eu.csv'\n",
    "df_ex_percent_eu = pd.read_csv(ex_percent_eu , sep=',')\n",
    "im_percent_all = 'DataBases/import_percent_all.csv'\n",
    "df_im_percent_all = pd.read_csv(im_percent_all , sep=',')\n",
    "im_percent_eu = 'DataBases/import_percent_eu.csv'\n",
    "df_im_percent_eu = pd.read_csv(im_percent_eu , sep=',')\n",
    "\n",
    "#IMPORT DATABASE 2\n",
    "df = pd.read_csv('DataBases/ITF_INDICATORS.csv') \n",
    "rail_df = pd.read_csv('DataBases/rail_moved_dos.csv', sep=';')\n",
    "eugoods_export_df = pd.read_csv('DataBases/International_trandsports_goods_UK_to_eucountries.csv', sep=';')\n",
    "eugoods_import_df = pd.read_csv('DataBases/rail_go_intgong_1_Data.csv')\n",
    "\n",
    "#create database with only UK\n",
    "UK_df = df[df.Country == 'United Kingdom']\n",
    "UK_df.to_csv('UK.csv')\n",
    "\n",
    "#create database with only KPI of interest \n",
    "Rail_transport_df = UK_df.loc[UK_df.Indicator =='Rail freight transport in tonne-km per one thousand units of current USD GDP']\n",
    "\n",
    "#IMPORT DATABASE 3\n",
    "from_eu_to_countries = pd.read_csv(\"DataBases/export_uk_to_eu.csv\", encoding='latin-1')\n",
    "from_countries_to_eu = pd.read_csv(\"DataBases/import_coutries_to_eu.csv\", encoding='latin-1')\n",
    "\n",
    "#IMPORT DATABASE 4\n",
    "file_path = 'DataBases/UK_SHIPPING.csv'\n",
    "df = pd.read_csv(file_path, encoding='latin-1')"
   ]
  },
  {
   "cell_type": "markdown",
   "metadata": {},
   "source": [
    "Firstly, we will plot the progression of the railway goods transportation mode from the early 90's until 2020. \n",
    "The graph below represents the state of the UK rail freight transportation sector via a Key Performance Indicator.\n",
    "We can see that the health of the sector is droping significantly after 2015."
   ]
  },
  {
   "cell_type": "code",
   "execution_count": null,
   "metadata": {},
   "outputs": [],
   "source": [
    "fig = px.line(Rail_transport_df, x='Year', y='Value', title= \"Evolution of rail freight transport in tonne-km per one thousand units of current USD GDP\")\n",
    "fig.show()"
   ]
  },
  {
   "cell_type": "markdown",
   "metadata": {},
   "source": [
    "Further, we will visualize the transportation of goods by railway in thousands of tonnes from the UK to some of the most developed European countries, namely - Germany, Spain, France and the Netherlands. This is done for the years from 2012 until after 2020, according to the available public data. According to the database, those were the only European countries UK was exporting goods to."
   ]
  },
  {
   "cell_type": "code",
   "execution_count": null,
   "metadata": {},
   "outputs": [],
   "source": [
    "fig=px.line(eugoods_export_df, x='Year', y='Value (Thousand tonne)', color='Country', title='International transport of goods by rail from the UK to reporting country')\n",
    "fig.show()"
   ]
  },
  {
   "cell_type": "markdown",
   "metadata": {},
   "source": [
    "Next, we want to visualize the transportation of goods by railway to the UK from European countries in thousands of tonnes. The selected EU countries are namely - Germany, Ireland, Spain, France, Hungary, Austria, Poland, Finland and the Netherlands. Again, the selected time frame for this research is between 2012 until a bit after 2020. Nevertheless as seen on the graph the only relevant countries for this trade are Germany, France and Spain. UK is not importing any goods by train from the other countries.\n",
    "We can see that the UK are importing more goods by train after Brexit, suggesting that they might be an other factor justifying that.\n"
   ]
  },
  {
   "cell_type": "code",
   "execution_count": null,
   "metadata": {},
   "outputs": [],
   "source": [
    "fig=px.line(eugoods_import_df, x='TIME', y='Value', color='GEO', title='International transport of goods by rail from loading country to the UK')\n",
    "fig.update_layout(autotypenumbers='convert types')\n",
    "fig.show()"
   ]
  },
  {
   "cell_type": "markdown",
   "metadata": {},
   "source": [
    "# 9.1 Conclusion \n",
    "In Conclusion, we can observe that the transportation of goods by railway has been fluctuating between the early 90's and 2020. There clearly is a steady decrease in the use of this transportation mode when it comes to goods.\n",
    "Moreover, we can observe that for most countries (except Germany for import and export to the UK and France for export to the UK), the use of railway goods transpotation for export and import to the UK either decreased or remained unchanged after 2020, when Brexit was officially announced.\n"
   ]
  },
  {
   "cell_type": "markdown",
   "metadata": {},
   "source": [
    "# 10. Conclusion [THIS IS TO CONCLUDE THE WHOLE PROJECT]"
   ]
  }
 ],
 "metadata": {
  "kernelspec": {
   "display_name": "Python 3 (ipykernel)",
   "language": "python",
   "name": "python3"
  },
  "language_info": {
   "codemirror_mode": {
    "name": "ipython",
    "version": 3
   },
   "file_extension": ".py",
   "mimetype": "text/x-python",
   "name": "python",
   "nbconvert_exporter": "python",
   "pygments_lexer": "ipython3",
   "version": "3.9.13"
  },
  "vscode": {
   "interpreter": {
    "hash": "1c673f40a0f2a13a11d4137c7ad77c09e6607e701beaf21c0de781496b8b18ef"
   }
  }
 },
 "nbformat": 4,
 "nbformat_minor": 2
}
