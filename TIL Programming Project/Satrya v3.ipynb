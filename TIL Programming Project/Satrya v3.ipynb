{
 "cells": [
  {
   "cell_type": "markdown",
   "metadata": {},
   "source": [
    "<b>Main Question: How does Brexit affects UK's sea trade with EU</b>\n",
    "\n",
    "Sub Question:\n",
    "1. How big is the trade between UK and EU compared to UK with other regions?\n",
    "2. What type of cargo is the most traded in UK?\n",
    "3. How does the Brexit affect trades between EU and UK?\n",
    "4. How are the major cargoes affected in the period of Brexit (2016 - 2021)?\n",
    "\n",
    "To visualize data regarding all the sub questions, we import necessary libraries as follows"
   ]
  },
  {
   "cell_type": "code",
   "execution_count": 2,
   "metadata": {},
   "outputs": [],
   "source": [
    "import pandas as pd\n",
    "import re\n",
    "import plotly.express as px\n",
    "import plotly.graph_objects as go\n",
    "from plotly.subplots import make_subplots\n",
    "from matplotlib import pyplot as plt"
   ]
  },
  {
   "cell_type": "markdown",
   "metadata": {},
   "source": [
    "We use data frame in CSV format regarding all waterborne trades from and to the UK. The data frame consists of what type of cargoes, the origins and destination of the shipping, and cargo volume throughout a certain year. We import the data frame using pandas."
   ]
  },
  {
   "cell_type": "code",
   "execution_count": 3,
   "metadata": {},
   "outputs": [
    {
     "ename": "UnicodeDecodeError",
     "evalue": "'utf-8' codec can't decode byte 0xe8 in position 199853: invalid continuation byte",
     "output_type": "error",
     "traceback": [
      "\u001b[1;31m---------------------------------------------------------------------------\u001b[0m",
      "\u001b[1;31mUnicodeDecodeError\u001b[0m                        Traceback (most recent call last)",
      "Cell \u001b[1;32mIn [3], line 3\u001b[0m\n\u001b[0;32m      1\u001b[0m \u001b[39m# import\u001b[39;00m\n\u001b[0;32m      2\u001b[0m file_path \u001b[39m=\u001b[39m \u001b[39m'\u001b[39m\u001b[39mDataBases/UK_Shipping.csv\u001b[39m\u001b[39m'\u001b[39m\n\u001b[1;32m----> 3\u001b[0m df \u001b[39m=\u001b[39m pd\u001b[39m.\u001b[39;49mread_csv(file_path)\n\u001b[0;32m      4\u001b[0m df\n",
      "File \u001b[1;32mc:\\Users\\Satrya Dewantara\\anaconda3\\envs\\TIL6022(new)\\lib\\site-packages\\pandas\\util\\_decorators.py:311\u001b[0m, in \u001b[0;36mdeprecate_nonkeyword_arguments.<locals>.decorate.<locals>.wrapper\u001b[1;34m(*args, **kwargs)\u001b[0m\n\u001b[0;32m    305\u001b[0m \u001b[39mif\u001b[39;00m \u001b[39mlen\u001b[39m(args) \u001b[39m>\u001b[39m num_allow_args:\n\u001b[0;32m    306\u001b[0m     warnings\u001b[39m.\u001b[39mwarn(\n\u001b[0;32m    307\u001b[0m         msg\u001b[39m.\u001b[39mformat(arguments\u001b[39m=\u001b[39marguments),\n\u001b[0;32m    308\u001b[0m         \u001b[39mFutureWarning\u001b[39;00m,\n\u001b[0;32m    309\u001b[0m         stacklevel\u001b[39m=\u001b[39mstacklevel,\n\u001b[0;32m    310\u001b[0m     )\n\u001b[1;32m--> 311\u001b[0m \u001b[39mreturn\u001b[39;00m func(\u001b[39m*\u001b[39margs, \u001b[39m*\u001b[39m\u001b[39m*\u001b[39mkwargs)\n",
      "File \u001b[1;32mc:\\Users\\Satrya Dewantara\\anaconda3\\envs\\TIL6022(new)\\lib\\site-packages\\pandas\\io\\parsers\\readers.py:680\u001b[0m, in \u001b[0;36mread_csv\u001b[1;34m(filepath_or_buffer, sep, delimiter, header, names, index_col, usecols, squeeze, prefix, mangle_dupe_cols, dtype, engine, converters, true_values, false_values, skipinitialspace, skiprows, skipfooter, nrows, na_values, keep_default_na, na_filter, verbose, skip_blank_lines, parse_dates, infer_datetime_format, keep_date_col, date_parser, dayfirst, cache_dates, iterator, chunksize, compression, thousands, decimal, lineterminator, quotechar, quoting, doublequote, escapechar, comment, encoding, encoding_errors, dialect, error_bad_lines, warn_bad_lines, on_bad_lines, delim_whitespace, low_memory, memory_map, float_precision, storage_options)\u001b[0m\n\u001b[0;32m    665\u001b[0m kwds_defaults \u001b[39m=\u001b[39m _refine_defaults_read(\n\u001b[0;32m    666\u001b[0m     dialect,\n\u001b[0;32m    667\u001b[0m     delimiter,\n\u001b[1;32m   (...)\u001b[0m\n\u001b[0;32m    676\u001b[0m     defaults\u001b[39m=\u001b[39m{\u001b[39m\"\u001b[39m\u001b[39mdelimiter\u001b[39m\u001b[39m\"\u001b[39m: \u001b[39m\"\u001b[39m\u001b[39m,\u001b[39m\u001b[39m\"\u001b[39m},\n\u001b[0;32m    677\u001b[0m )\n\u001b[0;32m    678\u001b[0m kwds\u001b[39m.\u001b[39mupdate(kwds_defaults)\n\u001b[1;32m--> 680\u001b[0m \u001b[39mreturn\u001b[39;00m _read(filepath_or_buffer, kwds)\n",
      "File \u001b[1;32mc:\\Users\\Satrya Dewantara\\anaconda3\\envs\\TIL6022(new)\\lib\\site-packages\\pandas\\io\\parsers\\readers.py:581\u001b[0m, in \u001b[0;36m_read\u001b[1;34m(filepath_or_buffer, kwds)\u001b[0m\n\u001b[0;32m    578\u001b[0m     \u001b[39mreturn\u001b[39;00m parser\n\u001b[0;32m    580\u001b[0m \u001b[39mwith\u001b[39;00m parser:\n\u001b[1;32m--> 581\u001b[0m     \u001b[39mreturn\u001b[39;00m parser\u001b[39m.\u001b[39;49mread(nrows)\n",
      "File \u001b[1;32mc:\\Users\\Satrya Dewantara\\anaconda3\\envs\\TIL6022(new)\\lib\\site-packages\\pandas\\io\\parsers\\readers.py:1255\u001b[0m, in \u001b[0;36mTextFileReader.read\u001b[1;34m(self, nrows)\u001b[0m\n\u001b[0;32m   1253\u001b[0m nrows \u001b[39m=\u001b[39m validate_integer(\u001b[39m\"\u001b[39m\u001b[39mnrows\u001b[39m\u001b[39m\"\u001b[39m, nrows)\n\u001b[0;32m   1254\u001b[0m \u001b[39mtry\u001b[39;00m:\n\u001b[1;32m-> 1255\u001b[0m     index, columns, col_dict \u001b[39m=\u001b[39m \u001b[39mself\u001b[39;49m\u001b[39m.\u001b[39;49m_engine\u001b[39m.\u001b[39;49mread(nrows)\n\u001b[0;32m   1256\u001b[0m \u001b[39mexcept\u001b[39;00m \u001b[39mException\u001b[39;00m:\n\u001b[0;32m   1257\u001b[0m     \u001b[39mself\u001b[39m\u001b[39m.\u001b[39mclose()\n",
      "File \u001b[1;32mc:\\Users\\Satrya Dewantara\\anaconda3\\envs\\TIL6022(new)\\lib\\site-packages\\pandas\\io\\parsers\\c_parser_wrapper.py:225\u001b[0m, in \u001b[0;36mCParserWrapper.read\u001b[1;34m(self, nrows)\u001b[0m\n\u001b[0;32m    223\u001b[0m \u001b[39mtry\u001b[39;00m:\n\u001b[0;32m    224\u001b[0m     \u001b[39mif\u001b[39;00m \u001b[39mself\u001b[39m\u001b[39m.\u001b[39mlow_memory:\n\u001b[1;32m--> 225\u001b[0m         chunks \u001b[39m=\u001b[39m \u001b[39mself\u001b[39;49m\u001b[39m.\u001b[39;49m_reader\u001b[39m.\u001b[39;49mread_low_memory(nrows)\n\u001b[0;32m    226\u001b[0m         \u001b[39m# destructive to chunks\u001b[39;00m\n\u001b[0;32m    227\u001b[0m         data \u001b[39m=\u001b[39m _concatenate_chunks(chunks)\n",
      "File \u001b[1;32mc:\\Users\\Satrya Dewantara\\anaconda3\\envs\\TIL6022(new)\\lib\\site-packages\\pandas\\_libs\\parsers.pyx:805\u001b[0m, in \u001b[0;36mpandas._libs.parsers.TextReader.read_low_memory\u001b[1;34m()\u001b[0m\n",
      "File \u001b[1;32mc:\\Users\\Satrya Dewantara\\anaconda3\\envs\\TIL6022(new)\\lib\\site-packages\\pandas\\_libs\\parsers.pyx:861\u001b[0m, in \u001b[0;36mpandas._libs.parsers.TextReader._read_rows\u001b[1;34m()\u001b[0m\n",
      "File \u001b[1;32mc:\\Users\\Satrya Dewantara\\anaconda3\\envs\\TIL6022(new)\\lib\\site-packages\\pandas\\_libs\\parsers.pyx:847\u001b[0m, in \u001b[0;36mpandas._libs.parsers.TextReader._tokenize_rows\u001b[1;34m()\u001b[0m\n",
      "File \u001b[1;32mc:\\Users\\Satrya Dewantara\\anaconda3\\envs\\TIL6022(new)\\lib\\site-packages\\pandas\\_libs\\parsers.pyx:1952\u001b[0m, in \u001b[0;36mpandas._libs.parsers.raise_parser_error\u001b[1;34m()\u001b[0m\n",
      "\u001b[1;31mUnicodeDecodeError\u001b[0m: 'utf-8' codec can't decode byte 0xe8 in position 199853: invalid continuation byte"
     ]
    }
   ],
   "source": [
    "# import\n",
    "file_path = 'DataBases/UK_Shipping.csv'\n",
    "df = pd.read_csv(file_path)\n",
    "df"
   ]
  },
  {
   "cell_type": "code",
   "execution_count": 4,
   "metadata": {},
   "outputs": [
    {
     "data": {
      "text/plain": [
       "{'encoding': 'ascii', 'confidence': 1.0, 'language': ''}"
      ]
     },
     "execution_count": 4,
     "metadata": {},
     "output_type": "execute_result"
    }
   ],
   "source": [
    "import chardet\n",
    "with open(file_path, 'rb') as rawdata:\n",
    "    result = chardet.detect(rawdata.read(100000))\n",
    "result"
   ]
  },
  {
   "cell_type": "markdown",
   "metadata": {},
   "source": [
    "We scope down the data frame from 2012 to see changes of trend from 5 years before Brexit started appearing in 2016 compare to after the Brexit happened. We also make a minor modification to clean and shorten the infomation therefore it is easier to read."
   ]
  },
  {
   "cell_type": "code",
   "execution_count": 31,
   "metadata": {},
   "outputs": [
    {
     "name": "stderr",
     "output_type": "stream",
     "text": [
      "C:\\Users\\Satrya Dewantara\\AppData\\Local\\Temp\\ipykernel_25968\\1499882987.py:1: DtypeWarning:\n",
      "\n",
      "Columns (11) have mixed types. Specify dtype option on import or set low_memory=False.\n",
      "\n"
     ]
    },
    {
     "data": {
      "text/html": [
       "<div>\n",
       "<style scoped>\n",
       "    .dataframe tbody tr th:only-of-type {\n",
       "        vertical-align: middle;\n",
       "    }\n",
       "\n",
       "    .dataframe tbody tr th {\n",
       "        vertical-align: top;\n",
       "    }\n",
       "\n",
       "    .dataframe thead th {\n",
       "        text-align: right;\n",
       "    }\n",
       "</style>\n",
       "<table border=\"1\" class=\"dataframe\">\n",
       "  <thead>\n",
       "    <tr style=\"text-align: right;\">\n",
       "      <th></th>\n",
       "      <th>Cargo Group</th>\n",
       "      <th>CargoCode</th>\n",
       "      <th>CargoName</th>\n",
       "      <th>Region</th>\n",
       "      <th>Country</th>\n",
       "      <th>Direction</th>\n",
       "      <th>Year</th>\n",
       "      <th>Tonnage (thousands)</th>\n",
       "      <th>Units (thousands)</th>\n",
       "      <th>TEU (thousands)</th>\n",
       "      <th>Unnamed: 10</th>\n",
       "      <th>Unnamed: 11</th>\n",
       "    </tr>\n",
       "  </thead>\n",
       "  <tbody>\n",
       "    <tr>\n",
       "      <th>39382</th>\n",
       "      <td>Liquid Bulk</td>\n",
       "      <td>11</td>\n",
       "      <td>Liquefied gas</td>\n",
       "      <td>All Africa</td>\n",
       "      <td>Mauritius</td>\n",
       "      <td>Both Directions</td>\n",
       "      <td>2012</td>\n",
       "      <td>28.000000</td>\n",
       "      <td>0.0</td>\n",
       "      <td>NaN</td>\n",
       "      <td>NaN</td>\n",
       "      <td>NaN</td>\n",
       "    </tr>\n",
       "    <tr>\n",
       "      <th>39383</th>\n",
       "      <td>Liquid Bulk</td>\n",
       "      <td>11</td>\n",
       "      <td>Liquefied gas</td>\n",
       "      <td>All European Union</td>\n",
       "      <td>Denmark</td>\n",
       "      <td>Both Directions</td>\n",
       "      <td>2012</td>\n",
       "      <td>28.000000</td>\n",
       "      <td>0.0</td>\n",
       "      <td>NaN</td>\n",
       "      <td>NaN</td>\n",
       "      <td>NaN</td>\n",
       "    </tr>\n",
       "    <tr>\n",
       "      <th>39384</th>\n",
       "      <td>Liquid Bulk</td>\n",
       "      <td>11</td>\n",
       "      <td>Liquefied gas</td>\n",
       "      <td>All European Union</td>\n",
       "      <td>Finland</td>\n",
       "      <td>Both Directions</td>\n",
       "      <td>2012</td>\n",
       "      <td>18.000000</td>\n",
       "      <td>0.0</td>\n",
       "      <td>NaN</td>\n",
       "      <td>NaN</td>\n",
       "      <td>NaN</td>\n",
       "    </tr>\n",
       "    <tr>\n",
       "      <th>39385</th>\n",
       "      <td>Liquid Bulk</td>\n",
       "      <td>11</td>\n",
       "      <td>Liquefied gas</td>\n",
       "      <td>All European Union</td>\n",
       "      <td>Latvia</td>\n",
       "      <td>Both Directions</td>\n",
       "      <td>2012</td>\n",
       "      <td>3.000000</td>\n",
       "      <td>0.0</td>\n",
       "      <td>NaN</td>\n",
       "      <td>NaN</td>\n",
       "      <td>NaN</td>\n",
       "    </tr>\n",
       "    <tr>\n",
       "      <th>39386</th>\n",
       "      <td>Liquid Bulk</td>\n",
       "      <td>11</td>\n",
       "      <td>Liquefied gas</td>\n",
       "      <td>Asia</td>\n",
       "      <td>South Korea</td>\n",
       "      <td>Both Directions</td>\n",
       "      <td>2012</td>\n",
       "      <td>2.000000</td>\n",
       "      <td>0.0</td>\n",
       "      <td>NaN</td>\n",
       "      <td>NaN</td>\n",
       "      <td>NaN</td>\n",
       "    </tr>\n",
       "    <tr>\n",
       "      <th>...</th>\n",
       "      <td>...</td>\n",
       "      <td>...</td>\n",
       "      <td>...</td>\n",
       "      <td>...</td>\n",
       "      <td>...</td>\n",
       "      <td>...</td>\n",
       "      <td>...</td>\n",
       "      <td>...</td>\n",
       "      <td>...</td>\n",
       "      <td>...</td>\n",
       "      <td>...</td>\n",
       "      <td>...</td>\n",
       "    </tr>\n",
       "    <tr>\n",
       "      <th>67168</th>\n",
       "      <td>Other General Cargo</td>\n",
       "      <td>99</td>\n",
       "      <td>Other general cargo &amp; containers &lt;20'</td>\n",
       "      <td>Other Europe &amp; Mediterranean</td>\n",
       "      <td>Egypt</td>\n",
       "      <td>Both Directions</td>\n",
       "      <td>2021</td>\n",
       "      <td>1.592205</td>\n",
       "      <td>0.0</td>\n",
       "      <td>NaN</td>\n",
       "      <td>NaN</td>\n",
       "      <td>NaN</td>\n",
       "    </tr>\n",
       "    <tr>\n",
       "      <th>67169</th>\n",
       "      <td>Other General Cargo</td>\n",
       "      <td>99</td>\n",
       "      <td>Other general cargo &amp; containers &lt;20'</td>\n",
       "      <td>Other Europe &amp; Mediterranean</td>\n",
       "      <td>Libyan Arab</td>\n",
       "      <td>Both Directions</td>\n",
       "      <td>2021</td>\n",
       "      <td>0.465926</td>\n",
       "      <td>0.0</td>\n",
       "      <td>NaN</td>\n",
       "      <td>NaN</td>\n",
       "      <td>NaN</td>\n",
       "    </tr>\n",
       "    <tr>\n",
       "      <th>67170</th>\n",
       "      <td>Other General Cargo</td>\n",
       "      <td>99</td>\n",
       "      <td>Other general cargo &amp; containers &lt;20'</td>\n",
       "      <td>Other Europe &amp; Mediterranean</td>\n",
       "      <td>Montenegro</td>\n",
       "      <td>Both Directions</td>\n",
       "      <td>2021</td>\n",
       "      <td>0.062181</td>\n",
       "      <td>0.0</td>\n",
       "      <td>NaN</td>\n",
       "      <td>NaN</td>\n",
       "      <td>NaN</td>\n",
       "    </tr>\n",
       "    <tr>\n",
       "      <th>67171</th>\n",
       "      <td>Other General Cargo</td>\n",
       "      <td>99</td>\n",
       "      <td>Other general cargo &amp; containers &lt;20'</td>\n",
       "      <td>Other Europe &amp; Mediterranean</td>\n",
       "      <td>Turkey</td>\n",
       "      <td>Both Directions</td>\n",
       "      <td>2021</td>\n",
       "      <td>90.163310</td>\n",
       "      <td>0.0</td>\n",
       "      <td>NaN</td>\n",
       "      <td>NaN</td>\n",
       "      <td>NaN</td>\n",
       "    </tr>\n",
       "    <tr>\n",
       "      <th>67172</th>\n",
       "      <td>Other General Cargo</td>\n",
       "      <td>99</td>\n",
       "      <td>Other general cargo &amp; containers &lt;20'</td>\n",
       "      <td>UK Domestic</td>\n",
       "      <td>United Kingdom (inc CHI &amp; IOM)</td>\n",
       "      <td>Both Directions</td>\n",
       "      <td>2021</td>\n",
       "      <td>381.606257</td>\n",
       "      <td>0.0</td>\n",
       "      <td>NaN</td>\n",
       "      <td>NaN</td>\n",
       "      <td>NaN</td>\n",
       "    </tr>\n",
       "  </tbody>\n",
       "</table>\n",
       "<p>10886 rows × 12 columns</p>\n",
       "</div>"
      ],
      "text/plain": [
       "               Cargo Group  CargoCode                              CargoName  \\\n",
       "39382          Liquid Bulk         11                          Liquefied gas   \n",
       "39383          Liquid Bulk         11                          Liquefied gas   \n",
       "39384          Liquid Bulk         11                          Liquefied gas   \n",
       "39385          Liquid Bulk         11                          Liquefied gas   \n",
       "39386          Liquid Bulk         11                          Liquefied gas   \n",
       "...                    ...        ...                                    ...   \n",
       "67168  Other General Cargo         99  Other general cargo & containers <20'   \n",
       "67169  Other General Cargo         99  Other general cargo & containers <20'   \n",
       "67170  Other General Cargo         99  Other general cargo & containers <20'   \n",
       "67171  Other General Cargo         99  Other general cargo & containers <20'   \n",
       "67172  Other General Cargo         99  Other general cargo & containers <20'   \n",
       "\n",
       "                             Region                         Country  \\\n",
       "39382                    All Africa                       Mauritius   \n",
       "39383            All European Union                         Denmark   \n",
       "39384            All European Union                         Finland   \n",
       "39385            All European Union                          Latvia   \n",
       "39386                          Asia                     South Korea   \n",
       "...                             ...                             ...   \n",
       "67168  Other Europe & Mediterranean                           Egypt   \n",
       "67169  Other Europe & Mediterranean                     Libyan Arab   \n",
       "67170  Other Europe & Mediterranean                      Montenegro   \n",
       "67171  Other Europe & Mediterranean                          Turkey   \n",
       "67172                   UK Domestic  United Kingdom (inc CHI & IOM)   \n",
       "\n",
       "             Direction  Year  Tonnage (thousands)  Units (thousands)  \\\n",
       "39382  Both Directions  2012            28.000000                0.0   \n",
       "39383  Both Directions  2012            28.000000                0.0   \n",
       "39384  Both Directions  2012            18.000000                0.0   \n",
       "39385  Both Directions  2012             3.000000                0.0   \n",
       "39386  Both Directions  2012             2.000000                0.0   \n",
       "...                ...   ...                  ...                ...   \n",
       "67168  Both Directions  2021             1.592205                0.0   \n",
       "67169  Both Directions  2021             0.465926                0.0   \n",
       "67170  Both Directions  2021             0.062181                0.0   \n",
       "67171  Both Directions  2021            90.163310                0.0   \n",
       "67172  Both Directions  2021           381.606257                0.0   \n",
       "\n",
       "       TEU (thousands)  Unnamed: 10 Unnamed: 11  \n",
       "39382              NaN          NaN         NaN  \n",
       "39383              NaN          NaN         NaN  \n",
       "39384              NaN          NaN         NaN  \n",
       "39385              NaN          NaN         NaN  \n",
       "39386              NaN          NaN         NaN  \n",
       "...                ...          ...         ...  \n",
       "67168              NaN          NaN         NaN  \n",
       "67169              NaN          NaN         NaN  \n",
       "67170              NaN          NaN         NaN  \n",
       "67171              NaN          NaN         NaN  \n",
       "67172              NaN          NaN         NaN  \n",
       "\n",
       "[10886 rows x 12 columns]"
      ]
     },
     "execution_count": 31,
     "metadata": {},
     "output_type": "execute_result"
    }
   ],
   "source": [
    "df = pd.read_csv(file_path, encoding='ISO-8859-1')\n",
    "df = df.loc[df['Year'] > 2011]\n",
    "\n",
    "#We shorten the coumn name\n",
    "df.loc[df['Region'] == 'Asia (excluding Mediterranean countries)', 'Region'] = 'Asia'\n",
    "\n",
    "#We decided to delete this 'unspecified' region to clean the data since it also only has small number of volume\n",
    "df = df.loc[~df['Region'].str.contains('Unspecified')]\n",
    "\n",
    "#We want to use all the inward and outward cargo data\n",
    "df = df.loc[df['Direction'] == 'Both Directions']\n",
    "df\n"
   ]
  },
  {
   "cell_type": "markdown",
   "metadata": {},
   "source": [
    "<b>All UK's Sea Trade</b>\n",
    "\n",
    "In this first section, we want to answer the <b>Sub Question 1 and 2</b> by plotting the data regarding all the sea trades in the UK (Import, Export and Domestic). We divided the information into two charts. First one is the chart with all cargoes divided by region of origins and destinations. The second one is divided by type of cargoes."
   ]
  },
  {
   "cell_type": "code",
   "execution_count": 33,
   "metadata": {},
   "outputs": [
    {
     "data": {
      "application/vnd.plotly.v1+json": {
       "config": {
        "plotlyServerURL": "https://plot.ly"
       },
       "data": [
        {
         "legendgroup": "Group1",
         "legendgrouptitle": {
          "text": "Region"
         },
         "name": "All Africa",
         "type": "scatter",
         "x": [
          2012,
          2013,
          2014,
          2015,
          2016,
          2017,
          2018,
          2019,
          2020,
          2021
         ],
         "xaxis": "x",
         "y": [
          14124,
          13200,
          11648,
          10126,
          7483,
          8307,
          9723,
          8506,
          6452,
          6222.513519696
         ],
         "yaxis": "y"
        },
        {
         "legendgroup": "Group1",
         "legendgrouptitle": {
          "text": "Region"
         },
         "name": "All European Union",
         "type": "scatter",
         "x": [
          2012,
          2013,
          2014,
          2015,
          2016,
          2017,
          2018,
          2019,
          2020,
          2021
         ],
         "xaxis": "x",
         "y": [
          198803,
          200027,
          204119,
          203193,
          206755,
          207632,
          206159,
          195335,
          190117,
          184977.002050226
         ],
         "yaxis": "y"
        },
        {
         "legendgroup": "Group1",
         "legendgrouptitle": {
          "text": "Region"
         },
         "name": "Asia",
         "type": "scatter",
         "x": [
          2012,
          2013,
          2014,
          2015,
          2016,
          2017,
          2018,
          2019,
          2020,
          2021
         ],
         "xaxis": "x",
         "y": [
          45115,
          44138,
          46401,
          50295,
          54030,
          52727,
          49148,
          55512,
          42110,
          38872.213088244
         ],
         "yaxis": "y"
        },
        {
         "legendgroup": "Group1",
         "legendgrouptitle": {
          "text": "Region"
         },
         "name": "All America",
         "type": "scatter",
         "x": [
          2012,
          2013,
          2014,
          2015,
          2016,
          2017,
          2018,
          2019,
          2020,
          2021
         ],
         "xaxis": "x",
         "y": [
          54571,
          65482,
          58856,
          50579,
          43397,
          42760,
          52323,
          55128,
          48397,
          48460.703275401
         ],
         "yaxis": "y"
        },
        {
         "legendgroup": "Group1",
         "legendgrouptitle": {
          "text": "Region"
         },
         "name": "Other Europe & Mediterranean",
         "type": "scatter",
         "x": [
          2012,
          2013,
          2014,
          2015,
          2016,
          2017,
          2018,
          2019,
          2020,
          2021
         ],
         "xaxis": "x",
         "y": [
          69886,
          73973,
          73832,
          65390,
          60541,
          65841,
          63185,
          63908,
          55030,
          61827.193735884
         ],
         "yaxis": "y"
        },
        {
         "legendgroup": "Group1",
         "legendgrouptitle": {
          "text": "Region"
         },
         "name": "UK Domestic",
         "type": "scatter",
         "x": [
          2012,
          2013,
          2014,
          2015,
          2016,
          2017,
          2018,
          2019,
          2020,
          2021
         ],
         "xaxis": "x",
         "y": [
          103436,
          91755,
          94338,
          103589,
          98615,
          90530,
          88903,
          91387,
          85728,
          93618.98416362
         ],
         "yaxis": "y"
        },
        {
         "legendgroup": "Group1",
         "legendgrouptitle": {
          "text": "Region"
         },
         "name": "Australasia",
         "type": "scatter",
         "x": [
          2012,
          2013,
          2014,
          2015,
          2016,
          2017,
          2018,
          2019,
          2020,
          2021
         ],
         "xaxis": "x",
         "y": [
          3481,
          3113,
          2625,
          2547,
          1878,
          2841,
          2323,
          1784,
          1134,
          1236.07231796
         ],
         "yaxis": "y"
        },
        {
         "legendgroup": "Group2",
         "legendgrouptitle": {
          "text": "Cargo Type"
         },
         "line": {
          "dash": "dashdot"
         },
         "name": "Liquid Bulk",
         "type": "scatter",
         "x": [
          2012,
          2013,
          2014,
          2015,
          2016,
          2017,
          2018,
          2019,
          2020,
          2021
         ],
         "xaxis": "x2",
         "y": [
          210858,
          196974,
          187795,
          194356,
          190991,
          189144,
          184166,
          191451,
          165555,
          161847.576103745
         ],
         "yaxis": "y2"
        },
        {
         "legendgroup": "Group2",
         "legendgrouptitle": {
          "text": "Cargo Type"
         },
         "line": {
          "dash": "dashdot"
         },
         "name": "Dry Bulk",
         "type": "scatter",
         "x": [
          2012,
          2013,
          2014,
          2015,
          2016,
          2017,
          2018,
          2019,
          2020,
          2021
         ],
         "xaxis": "x2",
         "y": [
          110878,
          121412,
          121987,
          104072,
          92618,
          91685,
          93974,
          92311,
          85970,
          96520.629260558
         ],
         "yaxis": "y2"
        },
        {
         "legendgroup": "Group2",
         "legendgrouptitle": {
          "text": "Cargo Type"
         },
         "line": {
          "dash": "dashdot"
         },
         "name": "Lo-Lo",
         "type": "scatter",
         "x": [
          2012,
          2013,
          2014,
          2015,
          2016,
          2017,
          2018,
          2019,
          2020,
          2021
         ],
         "xaxis": "x2",
         "y": [
          55038,
          56862,
          61231,
          63203,
          65318,
          64015,
          68273,
          66667,
          62141,
          63360.264263712
         ],
         "yaxis": "y2"
        },
        {
         "legendgroup": "Group2",
         "legendgrouptitle": {
          "text": "Cargo Type"
         },
         "line": {
          "dash": "dashdot"
         },
         "name": "Ro-Ro",
         "type": "scatter",
         "x": [
          2012,
          2013,
          2014,
          2015,
          2016,
          2017,
          2018,
          2019,
          2020,
          2021
         ],
         "xaxis": "x2",
         "y": [
          94339,
          95047,
          99605,
          103774,
          106386,
          107025,
          107577,
          104274,
          98960,
          95233.031998706
         ],
         "yaxis": "y2"
        },
        {
         "legendgroup": "Group2",
         "legendgrouptitle": {
          "text": "Cargo Type"
         },
         "line": {
          "dash": "dashdot"
         },
         "name": "Other General Cargo",
         "type": "scatter",
         "x": [
          2012,
          2013,
          2014,
          2015,
          2016,
          2017,
          2018,
          2019,
          2020,
          2021
         ],
         "xaxis": "x2",
         "y": [
          18303,
          21393,
          21201,
          20314,
          17386,
          18769,
          17774,
          16857,
          16342,
          18253.18052431
         ],
         "yaxis": "y2"
        }
       ],
       "layout": {
        "annotations": [
         {
          "font": {
           "size": 16
          },
          "showarrow": false,
          "text": "UK trades by region",
          "x": 0.225,
          "xanchor": "center",
          "xref": "paper",
          "y": 1,
          "yanchor": "bottom",
          "yref": "paper"
         },
         {
          "font": {
           "size": 16
          },
          "showarrow": false,
          "text": "UK trade by cargo type",
          "x": 0.775,
          "xanchor": "center",
          "xref": "paper",
          "y": 1,
          "yanchor": "bottom",
          "yref": "paper"
         }
        ],
        "template": {
         "data": {
          "scatter": [
           {
            "type": "scatter"
           }
          ]
         }
        },
        "title": {
         "text": "UK All Trades"
        },
        "xaxis": {
         "anchor": "y",
         "domain": [
          0,
          0.45
         ]
        },
        "xaxis2": {
         "anchor": "y2",
         "domain": [
          0.55,
          1
         ]
        },
        "yaxis": {
         "anchor": "x",
         "domain": [
          0,
          1
         ],
         "title": {
          "text": "Tonnage (thousands)"
         }
        },
        "yaxis2": {
         "anchor": "x2",
         "domain": [
          0,
          1
         ],
         "title": {
          "text": "Tonnage (thousands)"
         }
        }
       }
      }
     },
     "metadata": {},
     "output_type": "display_data"
    }
   ],
   "source": [
    "#We group the trade data by region of origins and destinations\n",
    "df_region = df.groupby(['Year', 'Region']).sum()\n",
    "df_region = df_region.reset_index()\n",
    "\n",
    "#Then we group the trade data by Cargo Type\n",
    "df_bycargo = df.groupby(['Year', 'Cargo Group']).sum()\n",
    "df_bycargo = df_bycargo.reset_index()\n",
    "\n",
    "#We make two subplots for those two data frame groups\n",
    "regions = list(df.Region.unique())\n",
    "cargo_types = list(df['Cargo Group'].unique())\n",
    "fig_1 = make_subplots(rows=1, cols=2, subplot_titles=['UK trades by region', 'UK trade by cargo type'])\n",
    "\n",
    "#We use for loop to add lines for every region/cargo type to the plot\n",
    "for region in regions:\n",
    "    df_story_1 = df_region.loc[df_region['Region'] == region]\n",
    "    x1 = df_story_1['Year']\n",
    "    y1 = df_story_1['Tonnage (thousands)']\n",
    "    fig_1.append_trace(go.Scatter(x=x1, y=y1, name=region,\n",
    "    legendgroup= 'Group1',\n",
    "    legendgrouptitle_text = 'Region'), \n",
    "    row=1, col=1)\n",
    "    \n",
    "\n",
    "for cargo_type in cargo_types:\n",
    "    df_story_2 = df_bycargo.loc[df_bycargo['Cargo Group'] == cargo_type]\n",
    "    x1 = df_story_2['Year']\n",
    "    y1 = df_story_2['Tonnage (thousands)']\n",
    "    fig_1.append_trace(go.Scatter(x=x1, y=y1, name=cargo_type,\n",
    "    line=dict(dash='dashdot'),\n",
    "    legendgroup= 'Group2',\n",
    "    legendgrouptitle_text = 'Cargo Type'),  \n",
    "    row=1, col=2)\n",
    "\n",
    "fig_1.update_yaxes(title_text='Tonnage (thousands)', row=1, col=1)\n",
    "fig_1.update_yaxes(title_text='Tonnage (thousands)', row=1, col=2)\n",
    "fig_1.update_layout(title='UK All Trades', template='none')\n",
    "fig_1.show()"
   ]
  },
  {
   "cell_type": "markdown",
   "metadata": {},
   "source": [
    "From the left chart, it can be seen that UK's biggest trade is from and to EU with approximately twice the volume of the UK Domestic.\n",
    "\n",
    "The right chart shows that the largest volume by cargo type traded in the UK is Liquid Bulk followed by Ro-Ro. \n",
    "- Liquid bulk is any cargoes in liquid usually carried by a tanker vessels. There are many cargoes classified as liquid bulk, such as chemical, petroleum, and liqufied gas.\n",
    "- Ro-Ro or Roll On/Roll off is type of cargo which have wheels so they usually do not need heavy equipment to be loaded or unloaded to/from the vessels. Some cargoes classified as Ro-Ro are cars, construction equipment, or trucks\n",
    "\n",
    "We can see the trade between EU and UK dominates the trade volume in the UK. Therefore we want to see how that trend is affected in the period of Brexit to answer the <b>Sub Question 3</b>. To do that, we make graphs regarding the growth rate and the the EU's market share in the UK's trade."
   ]
  },
  {
   "cell_type": "markdown",
   "metadata": {},
   "source": [
    "<b>Growth Rate</b>\n",
    "\n",
    "At this section, we want to show the growth rate of trade between EU and UK. After that we compare that growth with the trade between UK and other regions."
   ]
  },
  {
   "cell_type": "code",
   "execution_count": 28,
   "metadata": {},
   "outputs": [
    {
     "data": {
      "application/vnd.plotly.v1+json": {
       "config": {
        "plotlyServerURL": "https://plot.ly"
       },
       "data": [
        {
         "name": "Tonnage",
         "type": "scatter",
         "x": [
          2013,
          2014,
          2015,
          2016,
          2017,
          2018,
          2019,
          2020,
          2021
         ],
         "xaxis": "x",
         "y": [
          200027,
          204119,
          203193,
          206755,
          207632,
          206159,
          195335,
          190117,
          184977.002050226
         ],
         "yaxis": "y2"
        },
        {
         "name": "Growth Rate (%)",
         "type": "bar",
         "x": [
          2013,
          2014,
          2015,
          2016,
          2017,
          2018,
          2019,
          2020,
          2021
         ],
         "xaxis": "x",
         "y": [
          0.62,
          2.05,
          -0.45,
          1.75,
          0.42,
          -0.71,
          -5.25,
          -2.67,
          -2.7
         ],
         "yaxis": "y"
        }
       ],
       "layout": {
        "autosize": false,
        "template": {
         "data": {
          "scatter": [
           {
            "type": "scatter"
           }
          ]
         }
        },
        "title": {
         "text": "Trades Between UK and UE"
        },
        "xaxis": {
         "anchor": "y",
         "domain": [
          0,
          0.94
         ]
        },
        "yaxis": {
         "anchor": "x",
         "domain": [
          0,
          1
         ],
         "range": [
          -6,
          6
         ],
         "title": {
          "text": "Growth Rate (%)"
         }
        },
        "yaxis2": {
         "anchor": "x",
         "overlaying": "y",
         "range": [
          180000,
          210000
         ],
         "side": "right",
         "title": {
          "text": "Tonnage (thousands)"
         }
        }
       }
      }
     },
     "metadata": {},
     "output_type": "display_data"
    }
   ],
   "source": [
    "#We filter the region to EU and group it by year\n",
    "df_EU = df.loc[df['Region'] == 'All European Union']\n",
    "df_EU = df_EU.groupby(['Year']).sum()\n",
    "df_EU = df_EU.reset_index()\n",
    "\n",
    "#We calculate the growth rate and assign it to a new column\n",
    "df_EU['Growth Rate (%)'] = df_EU['Tonnage (thousands)'].pct_change().mul(100).round(2)\n",
    "df_EU = df_EU.loc[df_EU['Year'] > 2012]\n",
    "\n",
    "#We plot it together with the cargo volume to clearly show the trend\n",
    "fig_2 = make_subplots(specs=[[{\"secondary_y\": True}]])\n",
    "fig_2.add_trace(go.Scatter(x=df_EU['Year'], y=df_EU['Tonnage (thousands)'], name='Tonnage'), secondary_y=True)\n",
    "fig_2.add_trace(go.Bar(x=df_EU['Year'], y=df_EU['Growth Rate (%)'], name='Growth Rate (%)'), secondary_y=False)\n",
    "fig_2.update_yaxes(range=[180000, 210000], secondary_y=True)\n",
    "fig_2.update_yaxes(range=[-6, 6], secondary_y=False)\n",
    "fig_2.update_yaxes(title_text='Tonnage (thousands)', secondary_y=True)\n",
    "fig_2.update_yaxes(title_text='Growth Rate (%)', secondary_y=False)\n",
    "fig_2.update_layout(template='none', title = 'Trades Between UK and UE', autosize=False)\n",
    "fig_2.show()"
   ]
  },
  {
   "cell_type": "code",
   "execution_count": 29,
   "metadata": {},
   "outputs": [
    {
     "data": {
      "application/vnd.plotly.v1+json": {
       "config": {
        "plotlyServerURL": "https://plot.ly"
       },
       "data": [
        {
         "alignmentgroup": "True",
         "hovertemplate": "Region=%{x}<br>Year=2013<br>Growth Rate (%)=%{y}<extra></extra>",
         "legendgroup": "All Africa",
         "marker": {
          "color": "gray",
          "pattern": {
           "shape": ""
          }
         },
         "name": "All Africa",
         "offsetgroup": "All Africa",
         "orientation": "v",
         "showlegend": true,
         "textposition": "auto",
         "type": "bar",
         "x": [
          "All Africa"
         ],
         "xaxis": "x",
         "y": [
          -6.54
         ],
         "yaxis": "y"
        },
        {
         "alignmentgroup": "True",
         "hovertemplate": "Region=%{x}<br>Year=2013<br>Growth Rate (%)=%{y}<extra></extra>",
         "legendgroup": "All America",
         "marker": {
          "color": "gray",
          "pattern": {
           "shape": ""
          }
         },
         "name": "All America",
         "offsetgroup": "All America",
         "orientation": "v",
         "showlegend": true,
         "textposition": "auto",
         "type": "bar",
         "x": [
          "All America"
         ],
         "xaxis": "x",
         "y": [
          19.99
         ],
         "yaxis": "y"
        },
        {
         "alignmentgroup": "True",
         "hovertemplate": "Region=%{x}<br>Year=2013<br>Growth Rate (%)=%{y}<extra></extra>",
         "legendgroup": "All European Union",
         "marker": {
          "color": "crimson",
          "pattern": {
           "shape": ""
          }
         },
         "name": "All European Union",
         "offsetgroup": "All European Union",
         "orientation": "v",
         "showlegend": true,
         "textposition": "auto",
         "type": "bar",
         "x": [
          "All European Union"
         ],
         "xaxis": "x",
         "y": [
          0.62
         ],
         "yaxis": "y"
        },
        {
         "alignmentgroup": "True",
         "hovertemplate": "Region=%{x}<br>Year=2013<br>Growth Rate (%)=%{y}<extra></extra>",
         "legendgroup": "Asia",
         "marker": {
          "color": "gray",
          "pattern": {
           "shape": ""
          }
         },
         "name": "Asia",
         "offsetgroup": "Asia",
         "orientation": "v",
         "showlegend": true,
         "textposition": "auto",
         "type": "bar",
         "x": [
          "Asia"
         ],
         "xaxis": "x",
         "y": [
          -2.17
         ],
         "yaxis": "y"
        },
        {
         "alignmentgroup": "True",
         "hovertemplate": "Region=%{x}<br>Year=2013<br>Growth Rate (%)=%{y}<extra></extra>",
         "legendgroup": "Other Europe & Mediterranean",
         "marker": {
          "color": "gray",
          "pattern": {
           "shape": ""
          }
         },
         "name": "Other Europe & Mediterranean",
         "offsetgroup": "Other Europe & Mediterranean",
         "orientation": "v",
         "showlegend": true,
         "textposition": "auto",
         "type": "bar",
         "x": [
          "Other Europe & Mediterranean"
         ],
         "xaxis": "x",
         "y": [
          5.85
         ],
         "yaxis": "y"
        },
        {
         "alignmentgroup": "True",
         "hovertemplate": "Region=%{x}<br>Year=2013<br>Growth Rate (%)=%{y}<extra></extra>",
         "legendgroup": "UK Domestic",
         "marker": {
          "color": "gray",
          "pattern": {
           "shape": ""
          }
         },
         "name": "UK Domestic",
         "offsetgroup": "UK Domestic",
         "orientation": "v",
         "showlegend": true,
         "textposition": "auto",
         "type": "bar",
         "x": [
          "UK Domestic"
         ],
         "xaxis": "x",
         "y": [
          -11.29
         ],
         "yaxis": "y"
        }
       ],
       "frames": [
        {
         "data": [
          {
           "alignmentgroup": "True",
           "hovertemplate": "Region=%{x}<br>Year=2013<br>Growth Rate (%)=%{y}<extra></extra>",
           "legendgroup": "All Africa",
           "marker": {
            "color": "gray",
            "pattern": {
             "shape": ""
            }
           },
           "name": "All Africa",
           "offsetgroup": "All Africa",
           "orientation": "v",
           "showlegend": true,
           "textposition": "auto",
           "type": "bar",
           "x": [
            "All Africa"
           ],
           "xaxis": "x",
           "y": [
            -6.54
           ],
           "yaxis": "y"
          },
          {
           "alignmentgroup": "True",
           "hovertemplate": "Region=%{x}<br>Year=2013<br>Growth Rate (%)=%{y}<extra></extra>",
           "legendgroup": "All America",
           "marker": {
            "color": "gray",
            "pattern": {
             "shape": ""
            }
           },
           "name": "All America",
           "offsetgroup": "All America",
           "orientation": "v",
           "showlegend": true,
           "textposition": "auto",
           "type": "bar",
           "x": [
            "All America"
           ],
           "xaxis": "x",
           "y": [
            19.99
           ],
           "yaxis": "y"
          },
          {
           "alignmentgroup": "True",
           "hovertemplate": "Region=%{x}<br>Year=2013<br>Growth Rate (%)=%{y}<extra></extra>",
           "legendgroup": "All European Union",
           "marker": {
            "color": "crimson",
            "pattern": {
             "shape": ""
            }
           },
           "name": "All European Union",
           "offsetgroup": "All European Union",
           "orientation": "v",
           "showlegend": true,
           "textposition": "auto",
           "type": "bar",
           "x": [
            "All European Union"
           ],
           "xaxis": "x",
           "y": [
            0.62
           ],
           "yaxis": "y"
          },
          {
           "alignmentgroup": "True",
           "hovertemplate": "Region=%{x}<br>Year=2013<br>Growth Rate (%)=%{y}<extra></extra>",
           "legendgroup": "Asia",
           "marker": {
            "color": "gray",
            "pattern": {
             "shape": ""
            }
           },
           "name": "Asia",
           "offsetgroup": "Asia",
           "orientation": "v",
           "showlegend": true,
           "textposition": "auto",
           "type": "bar",
           "x": [
            "Asia"
           ],
           "xaxis": "x",
           "y": [
            -2.17
           ],
           "yaxis": "y"
          },
          {
           "alignmentgroup": "True",
           "hovertemplate": "Region=%{x}<br>Year=2013<br>Growth Rate (%)=%{y}<extra></extra>",
           "legendgroup": "Other Europe & Mediterranean",
           "marker": {
            "color": "gray",
            "pattern": {
             "shape": ""
            }
           },
           "name": "Other Europe & Mediterranean",
           "offsetgroup": "Other Europe & Mediterranean",
           "orientation": "v",
           "showlegend": true,
           "textposition": "auto",
           "type": "bar",
           "x": [
            "Other Europe & Mediterranean"
           ],
           "xaxis": "x",
           "y": [
            5.85
           ],
           "yaxis": "y"
          },
          {
           "alignmentgroup": "True",
           "hovertemplate": "Region=%{x}<br>Year=2013<br>Growth Rate (%)=%{y}<extra></extra>",
           "legendgroup": "UK Domestic",
           "marker": {
            "color": "gray",
            "pattern": {
             "shape": ""
            }
           },
           "name": "UK Domestic",
           "offsetgroup": "UK Domestic",
           "orientation": "v",
           "showlegend": true,
           "textposition": "auto",
           "type": "bar",
           "x": [
            "UK Domestic"
           ],
           "xaxis": "x",
           "y": [
            -11.29
           ],
           "yaxis": "y"
          }
         ],
         "name": "2013"
        },
        {
         "data": [
          {
           "alignmentgroup": "True",
           "hovertemplate": "Region=%{x}<br>Year=2014<br>Growth Rate (%)=%{y}<extra></extra>",
           "legendgroup": "All Africa",
           "marker": {
            "color": "gray",
            "pattern": {
             "shape": ""
            }
           },
           "name": "All Africa",
           "offsetgroup": "All Africa",
           "orientation": "v",
           "showlegend": true,
           "textposition": "auto",
           "type": "bar",
           "x": [
            "All Africa"
           ],
           "xaxis": "x",
           "y": [
            -11.76
           ],
           "yaxis": "y"
          },
          {
           "alignmentgroup": "True",
           "hovertemplate": "Region=%{x}<br>Year=2014<br>Growth Rate (%)=%{y}<extra></extra>",
           "legendgroup": "All America",
           "marker": {
            "color": "gray",
            "pattern": {
             "shape": ""
            }
           },
           "name": "All America",
           "offsetgroup": "All America",
           "orientation": "v",
           "showlegend": true,
           "textposition": "auto",
           "type": "bar",
           "x": [
            "All America"
           ],
           "xaxis": "x",
           "y": [
            -10.12
           ],
           "yaxis": "y"
          },
          {
           "alignmentgroup": "True",
           "hovertemplate": "Region=%{x}<br>Year=2014<br>Growth Rate (%)=%{y}<extra></extra>",
           "legendgroup": "All European Union",
           "marker": {
            "color": "crimson",
            "pattern": {
             "shape": ""
            }
           },
           "name": "All European Union",
           "offsetgroup": "All European Union",
           "orientation": "v",
           "showlegend": true,
           "textposition": "auto",
           "type": "bar",
           "x": [
            "All European Union"
           ],
           "xaxis": "x",
           "y": [
            2.05
           ],
           "yaxis": "y"
          },
          {
           "alignmentgroup": "True",
           "hovertemplate": "Region=%{x}<br>Year=2014<br>Growth Rate (%)=%{y}<extra></extra>",
           "legendgroup": "Asia",
           "marker": {
            "color": "gray",
            "pattern": {
             "shape": ""
            }
           },
           "name": "Asia",
           "offsetgroup": "Asia",
           "orientation": "v",
           "showlegend": true,
           "textposition": "auto",
           "type": "bar",
           "x": [
            "Asia"
           ],
           "xaxis": "x",
           "y": [
            5.13
           ],
           "yaxis": "y"
          },
          {
           "alignmentgroup": "True",
           "hovertemplate": "Region=%{x}<br>Year=2014<br>Growth Rate (%)=%{y}<extra></extra>",
           "legendgroup": "Other Europe & Mediterranean",
           "marker": {
            "color": "gray",
            "pattern": {
             "shape": ""
            }
           },
           "name": "Other Europe & Mediterranean",
           "offsetgroup": "Other Europe & Mediterranean",
           "orientation": "v",
           "showlegend": true,
           "textposition": "auto",
           "type": "bar",
           "x": [
            "Other Europe & Mediterranean"
           ],
           "xaxis": "x",
           "y": [
            -0.19
           ],
           "yaxis": "y"
          },
          {
           "alignmentgroup": "True",
           "hovertemplate": "Region=%{x}<br>Year=2014<br>Growth Rate (%)=%{y}<extra></extra>",
           "legendgroup": "UK Domestic",
           "marker": {
            "color": "gray",
            "pattern": {
             "shape": ""
            }
           },
           "name": "UK Domestic",
           "offsetgroup": "UK Domestic",
           "orientation": "v",
           "showlegend": true,
           "textposition": "auto",
           "type": "bar",
           "x": [
            "UK Domestic"
           ],
           "xaxis": "x",
           "y": [
            2.82
           ],
           "yaxis": "y"
          }
         ],
         "name": "2014"
        },
        {
         "data": [
          {
           "alignmentgroup": "True",
           "hovertemplate": "Region=%{x}<br>Year=2015<br>Growth Rate (%)=%{y}<extra></extra>",
           "legendgroup": "All Africa",
           "marker": {
            "color": "gray",
            "pattern": {
             "shape": ""
            }
           },
           "name": "All Africa",
           "offsetgroup": "All Africa",
           "orientation": "v",
           "showlegend": true,
           "textposition": "auto",
           "type": "bar",
           "x": [
            "All Africa"
           ],
           "xaxis": "x",
           "y": [
            -13.07
           ],
           "yaxis": "y"
          },
          {
           "alignmentgroup": "True",
           "hovertemplate": "Region=%{x}<br>Year=2015<br>Growth Rate (%)=%{y}<extra></extra>",
           "legendgroup": "All America",
           "marker": {
            "color": "gray",
            "pattern": {
             "shape": ""
            }
           },
           "name": "All America",
           "offsetgroup": "All America",
           "orientation": "v",
           "showlegend": true,
           "textposition": "auto",
           "type": "bar",
           "x": [
            "All America"
           ],
           "xaxis": "x",
           "y": [
            -14.06
           ],
           "yaxis": "y"
          },
          {
           "alignmentgroup": "True",
           "hovertemplate": "Region=%{x}<br>Year=2015<br>Growth Rate (%)=%{y}<extra></extra>",
           "legendgroup": "All European Union",
           "marker": {
            "color": "crimson",
            "pattern": {
             "shape": ""
            }
           },
           "name": "All European Union",
           "offsetgroup": "All European Union",
           "orientation": "v",
           "showlegend": true,
           "textposition": "auto",
           "type": "bar",
           "x": [
            "All European Union"
           ],
           "xaxis": "x",
           "y": [
            -0.45
           ],
           "yaxis": "y"
          },
          {
           "alignmentgroup": "True",
           "hovertemplate": "Region=%{x}<br>Year=2015<br>Growth Rate (%)=%{y}<extra></extra>",
           "legendgroup": "Asia",
           "marker": {
            "color": "gray",
            "pattern": {
             "shape": ""
            }
           },
           "name": "Asia",
           "offsetgroup": "Asia",
           "orientation": "v",
           "showlegend": true,
           "textposition": "auto",
           "type": "bar",
           "x": [
            "Asia"
           ],
           "xaxis": "x",
           "y": [
            8.39
           ],
           "yaxis": "y"
          },
          {
           "alignmentgroup": "True",
           "hovertemplate": "Region=%{x}<br>Year=2015<br>Growth Rate (%)=%{y}<extra></extra>",
           "legendgroup": "Other Europe & Mediterranean",
           "marker": {
            "color": "gray",
            "pattern": {
             "shape": ""
            }
           },
           "name": "Other Europe & Mediterranean",
           "offsetgroup": "Other Europe & Mediterranean",
           "orientation": "v",
           "showlegend": true,
           "textposition": "auto",
           "type": "bar",
           "x": [
            "Other Europe & Mediterranean"
           ],
           "xaxis": "x",
           "y": [
            -11.43
           ],
           "yaxis": "y"
          },
          {
           "alignmentgroup": "True",
           "hovertemplate": "Region=%{x}<br>Year=2015<br>Growth Rate (%)=%{y}<extra></extra>",
           "legendgroup": "UK Domestic",
           "marker": {
            "color": "gray",
            "pattern": {
             "shape": ""
            }
           },
           "name": "UK Domestic",
           "offsetgroup": "UK Domestic",
           "orientation": "v",
           "showlegend": true,
           "textposition": "auto",
           "type": "bar",
           "x": [
            "UK Domestic"
           ],
           "xaxis": "x",
           "y": [
            9.81
           ],
           "yaxis": "y"
          }
         ],
         "name": "2015"
        },
        {
         "data": [
          {
           "alignmentgroup": "True",
           "hovertemplate": "Region=%{x}<br>Year=2016<br>Growth Rate (%)=%{y}<extra></extra>",
           "legendgroup": "All Africa",
           "marker": {
            "color": "gray",
            "pattern": {
             "shape": ""
            }
           },
           "name": "All Africa",
           "offsetgroup": "All Africa",
           "orientation": "v",
           "showlegend": true,
           "textposition": "auto",
           "type": "bar",
           "x": [
            "All Africa"
           ],
           "xaxis": "x",
           "y": [
            -26.1
           ],
           "yaxis": "y"
          },
          {
           "alignmentgroup": "True",
           "hovertemplate": "Region=%{x}<br>Year=2016<br>Growth Rate (%)=%{y}<extra></extra>",
           "legendgroup": "All America",
           "marker": {
            "color": "gray",
            "pattern": {
             "shape": ""
            }
           },
           "name": "All America",
           "offsetgroup": "All America",
           "orientation": "v",
           "showlegend": true,
           "textposition": "auto",
           "type": "bar",
           "x": [
            "All America"
           ],
           "xaxis": "x",
           "y": [
            -14.2
           ],
           "yaxis": "y"
          },
          {
           "alignmentgroup": "True",
           "hovertemplate": "Region=%{x}<br>Year=2016<br>Growth Rate (%)=%{y}<extra></extra>",
           "legendgroup": "All European Union",
           "marker": {
            "color": "crimson",
            "pattern": {
             "shape": ""
            }
           },
           "name": "All European Union",
           "offsetgroup": "All European Union",
           "orientation": "v",
           "showlegend": true,
           "textposition": "auto",
           "type": "bar",
           "x": [
            "All European Union"
           ],
           "xaxis": "x",
           "y": [
            1.75
           ],
           "yaxis": "y"
          },
          {
           "alignmentgroup": "True",
           "hovertemplate": "Region=%{x}<br>Year=2016<br>Growth Rate (%)=%{y}<extra></extra>",
           "legendgroup": "Asia",
           "marker": {
            "color": "gray",
            "pattern": {
             "shape": ""
            }
           },
           "name": "Asia",
           "offsetgroup": "Asia",
           "orientation": "v",
           "showlegend": true,
           "textposition": "auto",
           "type": "bar",
           "x": [
            "Asia"
           ],
           "xaxis": "x",
           "y": [
            7.43
           ],
           "yaxis": "y"
          },
          {
           "alignmentgroup": "True",
           "hovertemplate": "Region=%{x}<br>Year=2016<br>Growth Rate (%)=%{y}<extra></extra>",
           "legendgroup": "Other Europe & Mediterranean",
           "marker": {
            "color": "gray",
            "pattern": {
             "shape": ""
            }
           },
           "name": "Other Europe & Mediterranean",
           "offsetgroup": "Other Europe & Mediterranean",
           "orientation": "v",
           "showlegend": true,
           "textposition": "auto",
           "type": "bar",
           "x": [
            "Other Europe & Mediterranean"
           ],
           "xaxis": "x",
           "y": [
            -7.42
           ],
           "yaxis": "y"
          },
          {
           "alignmentgroup": "True",
           "hovertemplate": "Region=%{x}<br>Year=2016<br>Growth Rate (%)=%{y}<extra></extra>",
           "legendgroup": "UK Domestic",
           "marker": {
            "color": "gray",
            "pattern": {
             "shape": ""
            }
           },
           "name": "UK Domestic",
           "offsetgroup": "UK Domestic",
           "orientation": "v",
           "showlegend": true,
           "textposition": "auto",
           "type": "bar",
           "x": [
            "UK Domestic"
           ],
           "xaxis": "x",
           "y": [
            -4.8
           ],
           "yaxis": "y"
          }
         ],
         "name": "2016"
        },
        {
         "data": [
          {
           "alignmentgroup": "True",
           "hovertemplate": "Region=%{x}<br>Year=2017<br>Growth Rate (%)=%{y}<extra></extra>",
           "legendgroup": "All Africa",
           "marker": {
            "color": "gray",
            "pattern": {
             "shape": ""
            }
           },
           "name": "All Africa",
           "offsetgroup": "All Africa",
           "orientation": "v",
           "showlegend": true,
           "textposition": "auto",
           "type": "bar",
           "x": [
            "All Africa"
           ],
           "xaxis": "x",
           "y": [
            11.01
           ],
           "yaxis": "y"
          },
          {
           "alignmentgroup": "True",
           "hovertemplate": "Region=%{x}<br>Year=2017<br>Growth Rate (%)=%{y}<extra></extra>",
           "legendgroup": "All America",
           "marker": {
            "color": "gray",
            "pattern": {
             "shape": ""
            }
           },
           "name": "All America",
           "offsetgroup": "All America",
           "orientation": "v",
           "showlegend": true,
           "textposition": "auto",
           "type": "bar",
           "x": [
            "All America"
           ],
           "xaxis": "x",
           "y": [
            -1.47
           ],
           "yaxis": "y"
          },
          {
           "alignmentgroup": "True",
           "hovertemplate": "Region=%{x}<br>Year=2017<br>Growth Rate (%)=%{y}<extra></extra>",
           "legendgroup": "All European Union",
           "marker": {
            "color": "crimson",
            "pattern": {
             "shape": ""
            }
           },
           "name": "All European Union",
           "offsetgroup": "All European Union",
           "orientation": "v",
           "showlegend": true,
           "textposition": "auto",
           "type": "bar",
           "x": [
            "All European Union"
           ],
           "xaxis": "x",
           "y": [
            0.42
           ],
           "yaxis": "y"
          },
          {
           "alignmentgroup": "True",
           "hovertemplate": "Region=%{x}<br>Year=2017<br>Growth Rate (%)=%{y}<extra></extra>",
           "legendgroup": "Asia",
           "marker": {
            "color": "gray",
            "pattern": {
             "shape": ""
            }
           },
           "name": "Asia",
           "offsetgroup": "Asia",
           "orientation": "v",
           "showlegend": true,
           "textposition": "auto",
           "type": "bar",
           "x": [
            "Asia"
           ],
           "xaxis": "x",
           "y": [
            -2.41
           ],
           "yaxis": "y"
          },
          {
           "alignmentgroup": "True",
           "hovertemplate": "Region=%{x}<br>Year=2017<br>Growth Rate (%)=%{y}<extra></extra>",
           "legendgroup": "Other Europe & Mediterranean",
           "marker": {
            "color": "gray",
            "pattern": {
             "shape": ""
            }
           },
           "name": "Other Europe & Mediterranean",
           "offsetgroup": "Other Europe & Mediterranean",
           "orientation": "v",
           "showlegend": true,
           "textposition": "auto",
           "type": "bar",
           "x": [
            "Other Europe & Mediterranean"
           ],
           "xaxis": "x",
           "y": [
            8.75
           ],
           "yaxis": "y"
          },
          {
           "alignmentgroup": "True",
           "hovertemplate": "Region=%{x}<br>Year=2017<br>Growth Rate (%)=%{y}<extra></extra>",
           "legendgroup": "UK Domestic",
           "marker": {
            "color": "gray",
            "pattern": {
             "shape": ""
            }
           },
           "name": "UK Domestic",
           "offsetgroup": "UK Domestic",
           "orientation": "v",
           "showlegend": true,
           "textposition": "auto",
           "type": "bar",
           "x": [
            "UK Domestic"
           ],
           "xaxis": "x",
           "y": [
            -8.2
           ],
           "yaxis": "y"
          }
         ],
         "name": "2017"
        },
        {
         "data": [
          {
           "alignmentgroup": "True",
           "hovertemplate": "Region=%{x}<br>Year=2018<br>Growth Rate (%)=%{y}<extra></extra>",
           "legendgroup": "All Africa",
           "marker": {
            "color": "gray",
            "pattern": {
             "shape": ""
            }
           },
           "name": "All Africa",
           "offsetgroup": "All Africa",
           "orientation": "v",
           "showlegend": true,
           "textposition": "auto",
           "type": "bar",
           "x": [
            "All Africa"
           ],
           "xaxis": "x",
           "y": [
            17.05
           ],
           "yaxis": "y"
          },
          {
           "alignmentgroup": "True",
           "hovertemplate": "Region=%{x}<br>Year=2018<br>Growth Rate (%)=%{y}<extra></extra>",
           "legendgroup": "All America",
           "marker": {
            "color": "gray",
            "pattern": {
             "shape": ""
            }
           },
           "name": "All America",
           "offsetgroup": "All America",
           "orientation": "v",
           "showlegend": true,
           "textposition": "auto",
           "type": "bar",
           "x": [
            "All America"
           ],
           "xaxis": "x",
           "y": [
            22.36
           ],
           "yaxis": "y"
          },
          {
           "alignmentgroup": "True",
           "hovertemplate": "Region=%{x}<br>Year=2018<br>Growth Rate (%)=%{y}<extra></extra>",
           "legendgroup": "All European Union",
           "marker": {
            "color": "crimson",
            "pattern": {
             "shape": ""
            }
           },
           "name": "All European Union",
           "offsetgroup": "All European Union",
           "orientation": "v",
           "showlegend": true,
           "textposition": "auto",
           "type": "bar",
           "x": [
            "All European Union"
           ],
           "xaxis": "x",
           "y": [
            -0.71
           ],
           "yaxis": "y"
          },
          {
           "alignmentgroup": "True",
           "hovertemplate": "Region=%{x}<br>Year=2018<br>Growth Rate (%)=%{y}<extra></extra>",
           "legendgroup": "Asia",
           "marker": {
            "color": "gray",
            "pattern": {
             "shape": ""
            }
           },
           "name": "Asia",
           "offsetgroup": "Asia",
           "orientation": "v",
           "showlegend": true,
           "textposition": "auto",
           "type": "bar",
           "x": [
            "Asia"
           ],
           "xaxis": "x",
           "y": [
            -6.79
           ],
           "yaxis": "y"
          },
          {
           "alignmentgroup": "True",
           "hovertemplate": "Region=%{x}<br>Year=2018<br>Growth Rate (%)=%{y}<extra></extra>",
           "legendgroup": "Other Europe & Mediterranean",
           "marker": {
            "color": "gray",
            "pattern": {
             "shape": ""
            }
           },
           "name": "Other Europe & Mediterranean",
           "offsetgroup": "Other Europe & Mediterranean",
           "orientation": "v",
           "showlegend": true,
           "textposition": "auto",
           "type": "bar",
           "x": [
            "Other Europe & Mediterranean"
           ],
           "xaxis": "x",
           "y": [
            -4.03
           ],
           "yaxis": "y"
          },
          {
           "alignmentgroup": "True",
           "hovertemplate": "Region=%{x}<br>Year=2018<br>Growth Rate (%)=%{y}<extra></extra>",
           "legendgroup": "UK Domestic",
           "marker": {
            "color": "gray",
            "pattern": {
             "shape": ""
            }
           },
           "name": "UK Domestic",
           "offsetgroup": "UK Domestic",
           "orientation": "v",
           "showlegend": true,
           "textposition": "auto",
           "type": "bar",
           "x": [
            "UK Domestic"
           ],
           "xaxis": "x",
           "y": [
            -1.8
           ],
           "yaxis": "y"
          }
         ],
         "name": "2018"
        },
        {
         "data": [
          {
           "alignmentgroup": "True",
           "hovertemplate": "Region=%{x}<br>Year=2019<br>Growth Rate (%)=%{y}<extra></extra>",
           "legendgroup": "All Africa",
           "marker": {
            "color": "gray",
            "pattern": {
             "shape": ""
            }
           },
           "name": "All Africa",
           "offsetgroup": "All Africa",
           "orientation": "v",
           "showlegend": true,
           "textposition": "auto",
           "type": "bar",
           "x": [
            "All Africa"
           ],
           "xaxis": "x",
           "y": [
            -12.52
           ],
           "yaxis": "y"
          },
          {
           "alignmentgroup": "True",
           "hovertemplate": "Region=%{x}<br>Year=2019<br>Growth Rate (%)=%{y}<extra></extra>",
           "legendgroup": "All America",
           "marker": {
            "color": "gray",
            "pattern": {
             "shape": ""
            }
           },
           "name": "All America",
           "offsetgroup": "All America",
           "orientation": "v",
           "showlegend": true,
           "textposition": "auto",
           "type": "bar",
           "x": [
            "All America"
           ],
           "xaxis": "x",
           "y": [
            5.36
           ],
           "yaxis": "y"
          },
          {
           "alignmentgroup": "True",
           "hovertemplate": "Region=%{x}<br>Year=2019<br>Growth Rate (%)=%{y}<extra></extra>",
           "legendgroup": "All European Union",
           "marker": {
            "color": "crimson",
            "pattern": {
             "shape": ""
            }
           },
           "name": "All European Union",
           "offsetgroup": "All European Union",
           "orientation": "v",
           "showlegend": true,
           "textposition": "auto",
           "type": "bar",
           "x": [
            "All European Union"
           ],
           "xaxis": "x",
           "y": [
            -5.25
           ],
           "yaxis": "y"
          },
          {
           "alignmentgroup": "True",
           "hovertemplate": "Region=%{x}<br>Year=2019<br>Growth Rate (%)=%{y}<extra></extra>",
           "legendgroup": "Asia",
           "marker": {
            "color": "gray",
            "pattern": {
             "shape": ""
            }
           },
           "name": "Asia",
           "offsetgroup": "Asia",
           "orientation": "v",
           "showlegend": true,
           "textposition": "auto",
           "type": "bar",
           "x": [
            "Asia"
           ],
           "xaxis": "x",
           "y": [
            12.95
           ],
           "yaxis": "y"
          },
          {
           "alignmentgroup": "True",
           "hovertemplate": "Region=%{x}<br>Year=2019<br>Growth Rate (%)=%{y}<extra></extra>",
           "legendgroup": "Other Europe & Mediterranean",
           "marker": {
            "color": "gray",
            "pattern": {
             "shape": ""
            }
           },
           "name": "Other Europe & Mediterranean",
           "offsetgroup": "Other Europe & Mediterranean",
           "orientation": "v",
           "showlegend": true,
           "textposition": "auto",
           "type": "bar",
           "x": [
            "Other Europe & Mediterranean"
           ],
           "xaxis": "x",
           "y": [
            1.14
           ],
           "yaxis": "y"
          },
          {
           "alignmentgroup": "True",
           "hovertemplate": "Region=%{x}<br>Year=2019<br>Growth Rate (%)=%{y}<extra></extra>",
           "legendgroup": "UK Domestic",
           "marker": {
            "color": "gray",
            "pattern": {
             "shape": ""
            }
           },
           "name": "UK Domestic",
           "offsetgroup": "UK Domestic",
           "orientation": "v",
           "showlegend": true,
           "textposition": "auto",
           "type": "bar",
           "x": [
            "UK Domestic"
           ],
           "xaxis": "x",
           "y": [
            2.79
           ],
           "yaxis": "y"
          }
         ],
         "name": "2019"
        },
        {
         "data": [
          {
           "alignmentgroup": "True",
           "hovertemplate": "Region=%{x}<br>Year=2020<br>Growth Rate (%)=%{y}<extra></extra>",
           "legendgroup": "All Africa",
           "marker": {
            "color": "gray",
            "pattern": {
             "shape": ""
            }
           },
           "name": "All Africa",
           "offsetgroup": "All Africa",
           "orientation": "v",
           "showlegend": true,
           "textposition": "auto",
           "type": "bar",
           "x": [
            "All Africa"
           ],
           "xaxis": "x",
           "y": [
            -24.15
           ],
           "yaxis": "y"
          },
          {
           "alignmentgroup": "True",
           "hovertemplate": "Region=%{x}<br>Year=2020<br>Growth Rate (%)=%{y}<extra></extra>",
           "legendgroup": "All America",
           "marker": {
            "color": "gray",
            "pattern": {
             "shape": ""
            }
           },
           "name": "All America",
           "offsetgroup": "All America",
           "orientation": "v",
           "showlegend": true,
           "textposition": "auto",
           "type": "bar",
           "x": [
            "All America"
           ],
           "xaxis": "x",
           "y": [
            -12.21
           ],
           "yaxis": "y"
          },
          {
           "alignmentgroup": "True",
           "hovertemplate": "Region=%{x}<br>Year=2020<br>Growth Rate (%)=%{y}<extra></extra>",
           "legendgroup": "All European Union",
           "marker": {
            "color": "crimson",
            "pattern": {
             "shape": ""
            }
           },
           "name": "All European Union",
           "offsetgroup": "All European Union",
           "orientation": "v",
           "showlegend": true,
           "textposition": "auto",
           "type": "bar",
           "x": [
            "All European Union"
           ],
           "xaxis": "x",
           "y": [
            -2.67
           ],
           "yaxis": "y"
          },
          {
           "alignmentgroup": "True",
           "hovertemplate": "Region=%{x}<br>Year=2020<br>Growth Rate (%)=%{y}<extra></extra>",
           "legendgroup": "Asia",
           "marker": {
            "color": "gray",
            "pattern": {
             "shape": ""
            }
           },
           "name": "Asia",
           "offsetgroup": "Asia",
           "orientation": "v",
           "showlegend": true,
           "textposition": "auto",
           "type": "bar",
           "x": [
            "Asia"
           ],
           "xaxis": "x",
           "y": [
            -24.14
           ],
           "yaxis": "y"
          },
          {
           "alignmentgroup": "True",
           "hovertemplate": "Region=%{x}<br>Year=2020<br>Growth Rate (%)=%{y}<extra></extra>",
           "legendgroup": "Other Europe & Mediterranean",
           "marker": {
            "color": "gray",
            "pattern": {
             "shape": ""
            }
           },
           "name": "Other Europe & Mediterranean",
           "offsetgroup": "Other Europe & Mediterranean",
           "orientation": "v",
           "showlegend": true,
           "textposition": "auto",
           "type": "bar",
           "x": [
            "Other Europe & Mediterranean"
           ],
           "xaxis": "x",
           "y": [
            -13.89
           ],
           "yaxis": "y"
          },
          {
           "alignmentgroup": "True",
           "hovertemplate": "Region=%{x}<br>Year=2020<br>Growth Rate (%)=%{y}<extra></extra>",
           "legendgroup": "UK Domestic",
           "marker": {
            "color": "gray",
            "pattern": {
             "shape": ""
            }
           },
           "name": "UK Domestic",
           "offsetgroup": "UK Domestic",
           "orientation": "v",
           "showlegend": true,
           "textposition": "auto",
           "type": "bar",
           "x": [
            "UK Domestic"
           ],
           "xaxis": "x",
           "y": [
            -6.19
           ],
           "yaxis": "y"
          }
         ],
         "name": "2020"
        },
        {
         "data": [
          {
           "alignmentgroup": "True",
           "hovertemplate": "Region=%{x}<br>Year=2021<br>Growth Rate (%)=%{y}<extra></extra>",
           "legendgroup": "All Africa",
           "marker": {
            "color": "gray",
            "pattern": {
             "shape": ""
            }
           },
           "name": "All Africa",
           "offsetgroup": "All Africa",
           "orientation": "v",
           "showlegend": true,
           "textposition": "auto",
           "type": "bar",
           "x": [
            "All Africa"
           ],
           "xaxis": "x",
           "y": [
            -3.56
           ],
           "yaxis": "y"
          },
          {
           "alignmentgroup": "True",
           "hovertemplate": "Region=%{x}<br>Year=2021<br>Growth Rate (%)=%{y}<extra></extra>",
           "legendgroup": "All America",
           "marker": {
            "color": "gray",
            "pattern": {
             "shape": ""
            }
           },
           "name": "All America",
           "offsetgroup": "All America",
           "orientation": "v",
           "showlegend": true,
           "textposition": "auto",
           "type": "bar",
           "x": [
            "All America"
           ],
           "xaxis": "x",
           "y": [
            0.13
           ],
           "yaxis": "y"
          },
          {
           "alignmentgroup": "True",
           "hovertemplate": "Region=%{x}<br>Year=2021<br>Growth Rate (%)=%{y}<extra></extra>",
           "legendgroup": "All European Union",
           "marker": {
            "color": "crimson",
            "pattern": {
             "shape": ""
            }
           },
           "name": "All European Union",
           "offsetgroup": "All European Union",
           "orientation": "v",
           "showlegend": true,
           "textposition": "auto",
           "type": "bar",
           "x": [
            "All European Union"
           ],
           "xaxis": "x",
           "y": [
            -2.7
           ],
           "yaxis": "y"
          },
          {
           "alignmentgroup": "True",
           "hovertemplate": "Region=%{x}<br>Year=2021<br>Growth Rate (%)=%{y}<extra></extra>",
           "legendgroup": "Asia",
           "marker": {
            "color": "gray",
            "pattern": {
             "shape": ""
            }
           },
           "name": "Asia",
           "offsetgroup": "Asia",
           "orientation": "v",
           "showlegend": true,
           "textposition": "auto",
           "type": "bar",
           "x": [
            "Asia"
           ],
           "xaxis": "x",
           "y": [
            -7.69
           ],
           "yaxis": "y"
          },
          {
           "alignmentgroup": "True",
           "hovertemplate": "Region=%{x}<br>Year=2021<br>Growth Rate (%)=%{y}<extra></extra>",
           "legendgroup": "Other Europe & Mediterranean",
           "marker": {
            "color": "gray",
            "pattern": {
             "shape": ""
            }
           },
           "name": "Other Europe & Mediterranean",
           "offsetgroup": "Other Europe & Mediterranean",
           "orientation": "v",
           "showlegend": true,
           "textposition": "auto",
           "type": "bar",
           "x": [
            "Other Europe & Mediterranean"
           ],
           "xaxis": "x",
           "y": [
            12.35
           ],
           "yaxis": "y"
          },
          {
           "alignmentgroup": "True",
           "hovertemplate": "Region=%{x}<br>Year=2021<br>Growth Rate (%)=%{y}<extra></extra>",
           "legendgroup": "UK Domestic",
           "marker": {
            "color": "gray",
            "pattern": {
             "shape": ""
            }
           },
           "name": "UK Domestic",
           "offsetgroup": "UK Domestic",
           "orientation": "v",
           "showlegend": true,
           "textposition": "auto",
           "type": "bar",
           "x": [
            "UK Domestic"
           ],
           "xaxis": "x",
           "y": [
            9.2
           ],
           "yaxis": "y"
          }
         ],
         "name": "2021"
        }
       ],
       "layout": {
        "autosize": false,
        "barmode": "relative",
        "legend": {
         "title": {
          "text": "Region"
         },
         "tracegroupgap": 0
        },
        "margin": {
         "t": 60
        },
        "showlegend": false,
        "sliders": [
         {
          "active": 0,
          "currentvalue": {
           "prefix": "Year="
          },
          "len": 0.9,
          "pad": {
           "b": 10,
           "t": 60
          },
          "steps": [
           {
            "args": [
             [
              "2013"
             ],
             {
              "frame": {
               "duration": 0,
               "redraw": true
              },
              "fromcurrent": true,
              "mode": "immediate",
              "transition": {
               "duration": 0,
               "easing": "linear"
              }
             }
            ],
            "label": "2013",
            "method": "animate"
           },
           {
            "args": [
             [
              "2014"
             ],
             {
              "frame": {
               "duration": 0,
               "redraw": true
              },
              "fromcurrent": true,
              "mode": "immediate",
              "transition": {
               "duration": 0,
               "easing": "linear"
              }
             }
            ],
            "label": "2014",
            "method": "animate"
           },
           {
            "args": [
             [
              "2015"
             ],
             {
              "frame": {
               "duration": 0,
               "redraw": true
              },
              "fromcurrent": true,
              "mode": "immediate",
              "transition": {
               "duration": 0,
               "easing": "linear"
              }
             }
            ],
            "label": "2015",
            "method": "animate"
           },
           {
            "args": [
             [
              "2016"
             ],
             {
              "frame": {
               "duration": 0,
               "redraw": true
              },
              "fromcurrent": true,
              "mode": "immediate",
              "transition": {
               "duration": 0,
               "easing": "linear"
              }
             }
            ],
            "label": "2016",
            "method": "animate"
           },
           {
            "args": [
             [
              "2017"
             ],
             {
              "frame": {
               "duration": 0,
               "redraw": true
              },
              "fromcurrent": true,
              "mode": "immediate",
              "transition": {
               "duration": 0,
               "easing": "linear"
              }
             }
            ],
            "label": "2017",
            "method": "animate"
           },
           {
            "args": [
             [
              "2018"
             ],
             {
              "frame": {
               "duration": 0,
               "redraw": true
              },
              "fromcurrent": true,
              "mode": "immediate",
              "transition": {
               "duration": 0,
               "easing": "linear"
              }
             }
            ],
            "label": "2018",
            "method": "animate"
           },
           {
            "args": [
             [
              "2019"
             ],
             {
              "frame": {
               "duration": 0,
               "redraw": true
              },
              "fromcurrent": true,
              "mode": "immediate",
              "transition": {
               "duration": 0,
               "easing": "linear"
              }
             }
            ],
            "label": "2019",
            "method": "animate"
           },
           {
            "args": [
             [
              "2020"
             ],
             {
              "frame": {
               "duration": 0,
               "redraw": true
              },
              "fromcurrent": true,
              "mode": "immediate",
              "transition": {
               "duration": 0,
               "easing": "linear"
              }
             }
            ],
            "label": "2020",
            "method": "animate"
           },
           {
            "args": [
             [
              "2021"
             ],
             {
              "frame": {
               "duration": 0,
               "redraw": true
              },
              "fromcurrent": true,
              "mode": "immediate",
              "transition": {
               "duration": 0,
               "easing": "linear"
              }
             }
            ],
            "label": "2021",
            "method": "animate"
           }
          ],
          "x": 0.1,
          "xanchor": "left",
          "y": 0,
          "yanchor": "top"
         }
        ],
        "template": {
         "data": {
          "scatter": [
           {
            "type": "scatter"
           }
          ]
         }
        },
        "title": {
         "text": "UK Trade Growth Rate"
        },
        "updatemenus": [
         {
          "buttons": [
           {
            "args": [
             null,
             {
              "frame": {
               "duration": 500,
               "redraw": true
              },
              "fromcurrent": true,
              "mode": "immediate",
              "transition": {
               "duration": 500,
               "easing": "linear"
              }
             }
            ],
            "label": "&#9654;",
            "method": "animate"
           },
           {
            "args": [
             [
              null
             ],
             {
              "frame": {
               "duration": 0,
               "redraw": true
              },
              "fromcurrent": true,
              "mode": "immediate",
              "transition": {
               "duration": 0,
               "easing": "linear"
              }
             }
            ],
            "label": "&#9724;",
            "method": "animate"
           }
          ],
          "direction": "left",
          "pad": {
           "r": 10,
           "t": 70
          },
          "showactive": false,
          "type": "buttons",
          "x": 0.1,
          "xanchor": "right",
          "y": 0,
          "yanchor": "top"
         }
        ],
        "xaxis": {
         "anchor": "y",
         "categoryarray": [
          "All Africa",
          "All America",
          "All European Union",
          "Asia",
          "Other Europe & Mediterranean",
          "UK Domestic"
         ],
         "categoryorder": "array",
         "domain": [
          0,
          1
         ],
         "title": {
          "text": "Region"
         }
        },
        "yaxis": {
         "anchor": "x",
         "domain": [
          0,
          1
         ],
         "range": [
          -30,
          30
         ],
         "title": {
          "text": "Growth Rate (%)"
         }
        }
       }
      }
     },
     "metadata": {},
     "output_type": "display_data"
    }
   ],
   "source": [
    "#again, we group the data frame regarding region and year, but this time we put the region first\n",
    "df_region_2 = df.groupby(['Region', 'Year']).sum()\n",
    "df_region_2 = df_region_2.reset_index()\n",
    "\n",
    "#we exclude the asutralia due to its small volume\n",
    "df_region_2 = df_region_2.loc[~df_region_2['Region'].str.contains('Australasia')]\n",
    "\n",
    "#We calculate the growth rate and assign it to a new column\n",
    "df_region_2['Growth Rate (%)'] = df_region_2['Tonnage (thousands)'].pct_change().mul(100).round(2)\n",
    "df_region_2 = df_region_2.loc[df_region_2['Year'] > 2012]\n",
    "\n",
    "#We use animated graphs to see comparison throughout the period\n",
    "fig_3 = px.bar(\n",
    "    df_region_2, x='Region', y='Growth Rate (%)', animation_frame='Year', color='Region',\n",
    "    color_discrete_map={\n",
    "                'All Africa': 'gray',\n",
    "                'All America': 'gray',\n",
    "                'Other Europe & Mediterranean': 'gray',\n",
    "                'UK Domestic': 'gray',\n",
    "                'All European Union': 'crimson',\n",
    "                'Asia': 'gray'},\n",
    "    template='none',\n",
    "    range_y=[-30,30])\n",
    "fig_3.update_layout(showlegend=False, autosize=False)\n",
    "fig_3.update_layout(title='UK Trade Growth Rate')\n"
   ]
  },
  {
   "cell_type": "markdown",
   "metadata": {},
   "source": [
    "We can see a downtrend in the period of Brexit after 2016 compared to the period before that. Moreover, after the referendum in 2018, the volume drops significantly.\n",
    "\n",
    "In the second graph we can see the growth rate of UK-EU trade (red) has no positive growth rate after 2017, where trade between UK and other countries have some increase in certain year.\n",
    "\n",
    "To see from another angle, we plot the graphs to show how the EU's market share in the UK is affected by the brexit."
   ]
  },
  {
   "cell_type": "code",
   "execution_count": 34,
   "metadata": {},
   "outputs": [
    {
     "data": {
      "application/vnd.plotly.v1+json": {
       "config": {
        "plotlyServerURL": "https://plot.ly"
       },
       "data": [
        {
         "name": "All Africa",
         "type": "scatter",
         "x": [
          2021,
          2020,
          2019,
          2018,
          2017,
          2016,
          2015,
          2014,
          2013,
          2012
         ],
         "y": [
          1.429757261161659,
          1.5040748960295407,
          1.803800152684706,
          2.060988121179234,
          1.765050845873049,
          1.5830369854812472,
          2.0847444715977757,
          2.3683509583810305,
          2.684629277102553,
          2.8858884875034736
         ]
        },
        {
         "name": "Asia",
         "type": "scatter",
         "x": [
          2021,
          2020,
          2019,
          2018,
          2017,
          2016,
          2015,
          2014,
          2013,
          2012
         ],
         "y": [
          8.93173293146262,
          9.816583055146305,
          11.771990838917635,
          10.41792082481919,
          11.20330275073411,
          11.43010668522675,
          10.354752439167502,
          9.434568408296547,
          8.976830835814582,
          9.218129362342056
         ]
        },
        {
         "name": "All America",
         "type": "scatter",
         "x": [
          2021,
          2020,
          2019,
          2018,
          2017,
          2016,
          2015,
          2014,
          2013,
          2012
         ],
         "y": [
          11.134896239227484,
          11.282193543574346,
          11.690558995673934,
          11.090926819341874,
          9.085539204229153,
          9.180683690889975,
          10.413222459899654,
          11.967004121434918,
          13.317795024487074,
          11.150228026872844
         ]
        },
        {
         "name": "Other Europe & Mediterranean",
         "type": "scatter",
         "x": [
          2021,
          2020,
          2019,
          2018,
          2017,
          2016,
          2015,
          2014,
          2013,
          2012
         ],
         "y": [
          14.206136941498755,
          12.828462729154623,
          13.552464161506489,
          13.393349216981372,
          13.989733085726185,
          12.807515987975435,
          13.462516393223241,
          15.012026782210528,
          15.044703145083874,
          14.279467773836572
         ]
        },
        {
         "name": "UK Domestic",
         "type": "scatter",
         "x": [
          2021,
          2020,
          2019,
          2018,
          2017,
          2016,
          2015,
          2014,
          2013,
          2012
         ],
         "y": [
          21.51098940433534,
          19.98470748400813,
          19.379718381542116,
          18.84480375781111,
          19.235590836269065,
          20.862113099456526,
          21.32694006205234,
          19.1814468330829,
          18.66122419095036,
          21.134576720009154
         ]
        },
        {
         "name": "Australasia",
         "type": "scatter",
         "x": [
          2021,
          2020,
          2019,
          2018,
          2017,
          2016,
          2015,
          2014,
          2013,
          2012
         ],
         "y": [
          0.2840143884509508,
          0.26435538315212326,
          0.3783187717363644,
          0.49240722055943226,
          0.6036486641537657,
          0.3972929919462491,
          0.5243772633971494,
          0.5337329383370711,
          0.633125071183352,
          0.711255864131945
         ]
        },
        {
         "line": {
          "dash": "dashdot"
         },
         "name": "All European Union",
         "type": "scatter",
         "x": [
          2021,
          2020,
          2019,
          2018,
          2017,
          2016,
          2015,
          2014,
          2013,
          2012
         ],
         "y": [
          42.502472833863195,
          44.31962290893493,
          41.42314869793876,
          43.699604039307786,
          44.11713461301467,
          43.739250559023816,
          41.83344691066234,
          41.502869958257,
          40.681692455378204,
          40.62045376530396
         ]
        }
       ],
       "layout": {
        "autosize": false,
        "template": {
         "data": {
          "scatter": [
           {
            "type": "scatter"
           }
          ]
         }
        },
        "title": {
         "text": "The UK Trade Proportion"
        },
        "yaxis": {
         "title": {
          "text": "Proportion (%)"
         }
        }
       }
      }
     },
     "metadata": {},
     "output_type": "display_data"
    }
   ],
   "source": [
    "#We make a new data frame to assign new column for proportion\n",
    "df_region_3 = df.groupby(['Year', 'Region']).sum()\n",
    "df_region_3 = df_region.reset_index()\n",
    "\n",
    "#We calculate the market share of every region in every year then we assign it to a new column\n",
    "df_region_3['Proportion (%)'] = 100 * df_region_3['Tonnage (thousands)'] / df_region_3.groupby('Year')['Tonnage (thousands)'].transform('sum')\n",
    "df_region_3 = df_region_3.sort_values(['Year', 'Tonnage (thousands)'], ascending=False)\n",
    "\n",
    "regions = list(df.Region.unique())\n",
    "regions.remove('All European Union')\n",
    "\n",
    "#We use for loop again to plot the lines\n",
    "fig_4 = go.Figure()\n",
    "for region in regions:\n",
    "    df_story_3 = df_region_3.loc[df_region_3['Region'] == region]\n",
    "    x1 = df_story_3['Year']\n",
    "    y1 = df_story_3['Proportion (%)']\n",
    "    fig_4.add_trace(go.Scatter(x=x1, y=y1, name=region))\n",
    "\n",
    "#We add the EU's line later to modify the line into dash\n",
    "df_story_3_EU = df_region_3.loc[df_region_3['Region'] == 'All European Union']\n",
    "fig_4.add_trace(go.Scatter(x=df_story_3_EU['Year'], y=df_story_3_EU['Proportion (%)'], name='All European Union', line=dict(dash='dashdot')))\n",
    "\n",
    "fig_4.update_yaxes(title_text='Proportion (%)')\n",
    "fig_4.update_layout(title='The UK Trade Proportion', autosize=False, template='none')\n",
    "fig_4.show()"
   ]
  },
  {
   "cell_type": "markdown",
   "metadata": {},
   "source": [
    "From the chart, we can see some decline after 2016 and even significant decrease after 2018 of EU's market share. On the other hand, in the Brexit period the UK Domestic trade shows some increase.\n",
    "\n",
    "Notice that in 2020 the volume of the trade between EU and UK increase, this may happen because the trade behaviour changes due to Covid 19 started in the beginning og 2020"
   ]
  },
  {
   "cell_type": "markdown",
   "metadata": {},
   "source": [
    "<b>Effect on Major Cargoes</b>\n",
    "\n",
    "We want to look deeper into the effect of brexit to various cargo types traded between UK and EU to answer the <b>Sub Question 4</b>. First, we are going to plot the volume distribution of cargo types traded between UK and EU as follows."
   ]
  },
  {
   "cell_type": "code",
   "execution_count": 30,
   "metadata": {},
   "outputs": [
    {
     "data": {
      "application/vnd.plotly.v1+json": {
       "config": {
        "plotlyServerURL": "https://plot.ly"
       },
       "data": [
        {
         "hovertemplate": "Cargo Group=Dry Bulk<br>Year=%{x}<br>Tonnage (thousands)=%{y}<extra></extra>",
         "legendgroup": "Dry Bulk",
         "line": {
          "color": "#1F77B4",
          "dash": "solid"
         },
         "marker": {
          "symbol": "circle"
         },
         "mode": "markers+lines",
         "name": "Dry Bulk",
         "orientation": "v",
         "showlegend": true,
         "type": "scatter",
         "x": [
          2012,
          2013,
          2014,
          2015,
          2016,
          2017,
          2018,
          2019,
          2020,
          2021
         ],
         "xaxis": "x",
         "y": [
          29627,
          29987,
          30033,
          27010,
          26783,
          26331,
          26900,
          26173,
          24989,
          27416.668377652
         ],
         "yaxis": "y"
        },
        {
         "hovertemplate": "Cargo Group=Liquid Bulk<br>Year=%{x}<br>Tonnage (thousands)=%{y}<extra></extra>",
         "legendgroup": "Liquid Bulk",
         "line": {
          "color": "#FF7F0E",
          "dash": "solid"
         },
         "marker": {
          "symbol": "circle"
         },
         "mode": "markers+lines",
         "name": "Liquid Bulk",
         "orientation": "v",
         "showlegend": true,
         "type": "scatter",
         "x": [
          2012,
          2013,
          2014,
          2015,
          2016,
          2017,
          2018,
          2019,
          2020,
          2021
         ],
         "xaxis": "x",
         "y": [
          72130,
          68782,
          67408,
          63954,
          66135,
          66072,
          63917,
          60143,
          58842,
          55102.169246799
         ],
         "yaxis": "y"
        },
        {
         "hovertemplate": "Cargo Group=Lo-Lo<br>Year=%{x}<br>Tonnage (thousands)=%{y}<extra></extra>",
         "legendgroup": "Lo-Lo",
         "line": {
          "color": "#2CA02C",
          "dash": "solid"
         },
         "marker": {
          "symbol": "circle"
         },
         "mode": "markers+lines",
         "name": "Lo-Lo",
         "orientation": "v",
         "showlegend": true,
         "type": "scatter",
         "x": [
          2012,
          2013,
          2014,
          2015,
          2016,
          2017,
          2018,
          2019,
          2020,
          2021
         ],
         "xaxis": "x",
         "y": [
          17077,
          18265,
          19518,
          21641,
          22326,
          23376,
          24706,
          22579,
          24049,
          26235.993884278
         ],
         "yaxis": "y"
        },
        {
         "hovertemplate": "Cargo Group=Other General Cargo<br>Year=%{x}<br>Tonnage (thousands)=%{y}<extra></extra>",
         "legendgroup": "Other General Cargo",
         "line": {
          "color": "#D62728",
          "dash": "solid"
         },
         "marker": {
          "symbol": "circle"
         },
         "mode": "markers+lines",
         "name": "Other General Cargo",
         "orientation": "v",
         "showlegend": true,
         "type": "scatter",
         "x": [
          2012,
          2013,
          2014,
          2015,
          2016,
          2017,
          2018,
          2019,
          2020,
          2021
         ],
         "xaxis": "x",
         "y": [
          8889,
          10234,
          10516,
          10545,
          10422,
          10983,
          10669,
          10134,
          10228,
          10810.788096444001
         ],
         "yaxis": "y"
        },
        {
         "hovertemplate": "Cargo Group=Ro-Ro<br>Year=%{x}<br>Tonnage (thousands)=%{y}<extra></extra>",
         "legendgroup": "Ro-Ro",
         "line": {
          "color": "#9467BD",
          "dash": "solid"
         },
         "marker": {
          "symbol": "circle"
         },
         "mode": "markers+lines",
         "name": "Ro-Ro",
         "orientation": "v",
         "showlegend": true,
         "type": "scatter",
         "x": [
          2012,
          2013,
          2014,
          2015,
          2016,
          2017,
          2018,
          2019,
          2020,
          2021
         ],
         "xaxis": "x",
         "y": [
          71080,
          72759,
          76644,
          80043,
          81089,
          80870,
          79967,
          76306,
          72009,
          65411.382445053
         ],
         "yaxis": "y"
        }
       ],
       "layout": {
        "autosize": false,
        "legend": {
         "title": {
          "text": "Cargo Group"
         },
         "tracegroupgap": 0
        },
        "margin": {
         "t": 60
        },
        "template": {
         "data": {
          "scatter": [
           {
            "type": "scatter"
           }
          ]
         }
        },
        "title": {
         "text": "UK - EU by Cargo Group"
        },
        "xaxis": {
         "anchor": "y",
         "domain": [
          0,
          1
         ],
         "title": {
          "text": "Year"
         }
        },
        "yaxis": {
         "anchor": "x",
         "domain": [
          0,
          1
         ],
         "title": {
          "text": "Tonnage (thousands)"
         }
        }
       }
      }
     },
     "metadata": {},
     "output_type": "display_data"
    }
   ],
   "source": [
    "#We filter data to only between UK and EU and group it by cargo type\n",
    "df_EU = df.loc[df['Region'] == 'All European Union']\n",
    "df_EU = df_EU.groupby(['Year', 'Cargo Group']).sum()\n",
    "df_EU = df_EU.reset_index()\n",
    "\n",
    "#Standard plot using line chart\n",
    "fig = px.line(df_EU, x='Year', y='Tonnage (thousands)', color='Cargo Group', markers='Cargo Group', template='none')\n",
    "fig.update_layout(title = 'UK - EU by Cargo Group', autosize=False)\n",
    "fig.show()"
   ]
  },
  {
   "cell_type": "markdown",
   "metadata": {},
   "source": [
    "From the Chart, we can see the majority of cargoes traded between UK and EU are Ro-Ro and Liquid Bulk. There is a slight different between this graph and the first graph regading \"UK's traded by Cargo Type\". In that graph, the largest volume is Liquid bulk instead of Ro-Ro.\n",
    "\n",
    "This chart also shows a sign of downtrend especially for Liquid Bulk and Ro-Ro in the period of Brexit all the way to 2021. The green line is the Lo-Lo (Lift Off & Lift On) or commonly known as Container. Containers are used to carry variuos of goods, and one of the most common is to carry consumer goods. Notice that the container trade between UK and EU is not really affected from 2016 until it starts declining after the Brexit Referendum in 2018, but then return to the uptrend in 2020. This answers the previous hypothesis about the increase of EU's proportion in 2020. This may happen becuase people tend to order more goods online during the Covid period therefore increase the number of containers."
   ]
  },
  {
   "cell_type": "markdown",
   "metadata": {},
   "source": [
    "<b>Conclusion</b>\n",
    "\n",
    "1. The trade volume between UK and EU is the largest compared to UK with other regions.\n",
    "2. The largest volume of cargo type traded from and to UK is Liquid Bulk and followed by Ro-Ro.\n",
    "3. In the period of brexit discussion to the referendum (2016-2018), trade volume between UK and EU are generally affected\n",
    "4. Ro-Ro and Liquid bulk, as the most traded cargoes between UK and EU are declining during and after the Brexit. However, the container only affected in the year of referendum (2018)\n",
    "\n"
   ]
  }
 ],
 "metadata": {
  "kernelspec": {
   "display_name": "Python 3.10.4 ('TIL6022(new)')",
   "language": "python",
   "name": "python3"
  },
  "language_info": {
   "codemirror_mode": {
    "name": "ipython",
    "version": 3
   },
   "file_extension": ".py",
   "mimetype": "text/x-python",
   "name": "python",
   "nbconvert_exporter": "python",
   "pygments_lexer": "ipython3",
   "version": "3.10.4"
  },
  "orig_nbformat": 4,
  "vscode": {
   "interpreter": {
    "hash": "044f2545a371a93ad6fa0dc4584039e5d592515e28cbde896f0e3b9ec8c44890"
   }
  }
 },
 "nbformat": 4,
 "nbformat_minor": 2
}
